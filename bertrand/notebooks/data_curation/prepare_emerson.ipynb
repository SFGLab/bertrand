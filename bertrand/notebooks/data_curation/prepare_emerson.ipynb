{
 "cells": [
  {
   "cell_type": "code",
   "execution_count": 1,
   "metadata": {},
   "outputs": [],
   "source": [
    "import pandas as pd\n",
    "import os"
   ]
  },
  {
   "cell_type": "code",
   "execution_count": 2,
   "metadata": {},
   "outputs": [],
   "source": [
    "emerson = pd.read_excel(\"../../../data/original/emerson_original.xlsx\", sheet_name=0)"
   ]
  },
  {
   "cell_type": "code",
   "execution_count": 3,
   "metadata": {},
   "outputs": [
    {
     "data": {
      "text/html": [
       "<div>\n",
       "<style scoped>\n",
       "    .dataframe tbody tr th:only-of-type {\n",
       "        vertical-align: middle;\n",
       "    }\n",
       "\n",
       "    .dataframe tbody tr th {\n",
       "        vertical-align: top;\n",
       "    }\n",
       "\n",
       "    .dataframe thead th {\n",
       "        text-align: right;\n",
       "    }\n",
       "</style>\n",
       "<table border=\"1\" class=\"dataframe\">\n",
       "  <thead>\n",
       "    <tr style=\"text-align: right;\">\n",
       "      <th></th>\n",
       "      <th>Reported sequence</th>\n",
       "      <th>Reported         V gene</th>\n",
       "      <th>Reported J gene</th>\n",
       "      <th>Reported HLA restriction</th>\n",
       "      <th>Reported protein (aa)</th>\n",
       "      <th>Reported epitope sequence</th>\n",
       "      <th>epitope ID^</th>\n",
       "      <th>Reference</th>\n",
       "    </tr>\n",
       "  </thead>\n",
       "  <tbody>\n",
       "    <tr>\n",
       "      <th>0</th>\n",
       "      <td>CASSFSTCSANYGYTFG</td>\n",
       "      <td>8-1</td>\n",
       "      <td>1-2</td>\n",
       "      <td>A02</td>\n",
       "      <td>pp65 (aa 495-503)</td>\n",
       "      <td>NLVPMVATV</td>\n",
       "      <td>44920</td>\n",
       "      <td>Arakaki (2010) Biotechnol Bioeng 106(2):311</td>\n",
       "    </tr>\n",
       "    <tr>\n",
       "      <th>1</th>\n",
       "      <td>CAANQREPYEQYF</td>\n",
       "      <td>13S1</td>\n",
       "      <td>2-7</td>\n",
       "      <td>A02</td>\n",
       "      <td>pp65 peptide pool</td>\n",
       "      <td>ND</td>\n",
       "      <td>ND</td>\n",
       "      <td>Babel et al (2009) J Am Soc Nephrol 20:344</td>\n",
       "    </tr>\n",
       "    <tr>\n",
       "      <th>2</th>\n",
       "      <td>CASKQGAGGNTEAFF</td>\n",
       "      <td>14S1</td>\n",
       "      <td>1-1</td>\n",
       "      <td>A02</td>\n",
       "      <td>pp65 peptide pool</td>\n",
       "      <td>pp65 pool</td>\n",
       "      <td>ND</td>\n",
       "      <td>Babel et al (2009) J Am Soc Nephrol 20:344</td>\n",
       "    </tr>\n",
       "    <tr>\n",
       "      <th>3</th>\n",
       "      <td>CASKWGPANPEAFF</td>\n",
       "      <td>14S1</td>\n",
       "      <td>1-1</td>\n",
       "      <td>A02</td>\n",
       "      <td>pp65 peptide pool</td>\n",
       "      <td>pp65 pool</td>\n",
       "      <td>ND</td>\n",
       "      <td>Babel et al (2009) J Am Soc Nephrol 20:344</td>\n",
       "    </tr>\n",
       "    <tr>\n",
       "      <th>4</th>\n",
       "      <td>CASQGTAATNTGELFF</td>\n",
       "      <td>17S1</td>\n",
       "      <td>2-2</td>\n",
       "      <td>A02</td>\n",
       "      <td>pp65 peptide pool</td>\n",
       "      <td>pp65 pool</td>\n",
       "      <td>ND</td>\n",
       "      <td>Babel et al (2009) J Am Soc Nephrol 20:344</td>\n",
       "    </tr>\n",
       "  </tbody>\n",
       "</table>\n",
       "</div>"
      ],
      "text/plain": [
       "   Reported sequence Reported         V gene Reported J gene  \\\n",
       "0  CASSFSTCSANYGYTFG                     8-1             1-2   \n",
       "1      CAANQREPYEQYF                    13S1             2-7   \n",
       "2    CASKQGAGGNTEAFF                    14S1             1-1   \n",
       "3     CASKWGPANPEAFF                    14S1             1-1   \n",
       "4   CASQGTAATNTGELFF                    17S1             2-2   \n",
       "\n",
       "  Reported HLA restriction Reported protein (aa) Reported epitope sequence  \\\n",
       "0                      A02     pp65 (aa 495-503)                 NLVPMVATV   \n",
       "1                      A02     pp65 peptide pool                        ND   \n",
       "2                      A02     pp65 peptide pool                 pp65 pool   \n",
       "3                      A02     pp65 peptide pool                 pp65 pool   \n",
       "4                      A02     pp65 peptide pool                 pp65 pool   \n",
       "\n",
       "  epitope ID^                                    Reference  \n",
       "0       44920  Arakaki (2010) Biotechnol Bioeng 106(2):311  \n",
       "1          ND   Babel et al (2009) J Am Soc Nephrol 20:344  \n",
       "2          ND   Babel et al (2009) J Am Soc Nephrol 20:344  \n",
       "3          ND   Babel et al (2009) J Am Soc Nephrol 20:344  \n",
       "4          ND   Babel et al (2009) J Am Soc Nephrol 20:344  "
      ]
     },
     "execution_count": 3,
     "metadata": {},
     "output_type": "execute_result"
    }
   ],
   "source": [
    "emerson.head(5)"
   ]
  },
  {
   "cell_type": "code",
   "execution_count": 4,
   "metadata": {},
   "outputs": [],
   "source": [
    "column_names = [\"CDR3b\", \"TRBV\", \"TRBJ\", \"HLA_type\", \"peptide_name\", \"peptide_seq\", \"epitope_id\", \"dataset\"]\n",
    "emerson.columns = column_names"
   ]
  },
  {
   "cell_type": "code",
   "execution_count": 5,
   "metadata": {},
   "outputs": [
    {
     "data": {
      "text/plain": [
       "Venturi et al (2008) J Immunol 181(11):7853          168\n",
       "Miconnet et al (2011) J Immunol 186:7039             108\n",
       "Hanley (2015) Sci Transl Med 7(285): 285ra63          86\n",
       "Price et al (2005) JEM 202(10):1349                   73\n",
       "Scheinberg et al (2009) Blood  114 (24):5071          62\n",
       "Wang (2012) Sci Transl Med 4(128): 128ra42            54\n",
       "Koning et al (2014) J Immunol Methods 405:199         51\n",
       "Nguyen (2014) J Immunol 192(11):5039                  46\n",
       "Karenbeek et al (2012) PLoS Pathog 8(9):e1002889      42\n",
       "Janbazian (2012) J Immunol 188(3):1156                38\n",
       "van Bockel et al (2011) J Immunol 186:359             37\n",
       "Trautmann et al (2005) J Immunol 175:6123             31\n",
       "Dziubianau (2013)  Am J Transplant 13(11):2842        25\n",
       "Nakasone (2014) Bone Marrow Transplantation 49:87     25\n",
       "Brennan (2012) J Immunol 188:2742                     22\n",
       "Day et al (2007)  Immunol 179:3203                    21\n",
       "Weekes (1999) J Virol 73(3):2099                      21\n",
       "Brennan (2007) J Virol 81(13):7269                    20\n",
       "Klinger et al (2013) PLOS One 8(9):e74231             17\n",
       "Retiere et al (2000) J Virol 74(9):3948               17\n",
       "Khan (2002) J Immunology 169:1984                     15\n",
       "Wynn et al (2008) Blood 111(8):4283                   12\n",
       "Babel et al (2009) J Am Soc Nephrol 20:344            12\n",
       "Giest (2012) Immunology 135(1):27                     11\n",
       "Iancu et al (2009) J Immunol 183:319                   9\n",
       "Peggs (2002) Blood 99(1):213                           6\n",
       "Khan et al (2002)  Journal Infectious Dis 185:102      6\n",
       "Schub et al (2009) J Immunol 183:6819                  4\n",
       "Heemskerk (2007) Blood 109(1):235                      4\n",
       "Schwele (2012) Am J Transplant 12: 669                 3\n",
       "Hamel (2003) Eur J Immunol 33:760                      3\n",
       "Weekes  et al (2004) J Immunol 173:5843                3\n",
       "Arakaki (2010) Biotechnol Bioeng 106(2):311            1\n",
       "Liang (2010) J Immunol 184:1617                        1\n",
       "Name: dataset, dtype: int64"
      ]
     },
     "execution_count": 5,
     "metadata": {},
     "output_type": "execute_result"
    }
   ],
   "source": [
    "emerson[\"dataset\"].value_counts()"
   ]
  },
  {
   "cell_type": "code",
   "execution_count": 6,
   "metadata": {},
   "outputs": [],
   "source": [
    "emerson['dataset'] = emerson['dataset'].str.split(' ').str[0]\n",
    "emerson[\"dataset\"] = emerson[\"dataset\"].str.replace(\"van\", \"vanBockel\")"
   ]
  },
  {
   "cell_type": "code",
   "execution_count": 7,
   "metadata": {},
   "outputs": [],
   "source": [
    "emerson = emerson[emerson[\"HLA_type\"] != \"ND\"]\n",
    "emerson = emerson[emerson[\"peptide_seq\"] != \"ND\"]\n",
    "emerson = emerson[emerson[\"peptide_seq\"] != \"pp65 pool\"]"
   ]
  },
  {
   "cell_type": "code",
   "execution_count": 8,
   "metadata": {
    "scrolled": true
   },
   "outputs": [
    {
     "data": {
      "text/plain": [
       "44920    545\n",
       "65748    148\n",
       "42013     73\n",
       "28061     67\n",
       "ND        38\n",
       "55170     22\n",
       "69452     12\n",
       "75718      9\n",
       "51089      8\n",
       "13257      6\n",
       "13133      5\n",
       "55169      4\n",
       "74291      4\n",
       "7262       2\n",
       "7950       2\n",
       "5331       1\n",
       "49628      1\n",
       "45461      1\n",
       "37723      1\n",
       "11995      1\n",
       "6849       1\n",
       "Name: epitope_id, dtype: int64"
      ]
     },
     "execution_count": 8,
     "metadata": {},
     "output_type": "execute_result"
    }
   ],
   "source": [
    "emerson[\"epitope_id\"].value_counts()"
   ]
  },
  {
   "cell_type": "code",
   "execution_count": 9,
   "metadata": {},
   "outputs": [],
   "source": [
    "emerson[\"epitope_id\"] = emerson[\"epitope_id\"].astype(str)"
   ]
  },
  {
   "cell_type": "code",
   "execution_count": 10,
   "metadata": {},
   "outputs": [],
   "source": [
    "emerson[\"epitope_id\"] = emerson[\"epitope_id\"].str.replace(\"ND\", \"\")"
   ]
  },
  {
   "cell_type": "code",
   "execution_count": 11,
   "metadata": {
    "scrolled": true
   },
   "outputs": [
    {
     "data": {
      "text/plain": [
       "pp65 (aa 495-503)              545\n",
       "pp65 (aa 417-426)              148\n",
       "pp65 (aa 120-128)               73\n",
       "pp65 (aa 123-131)               67\n",
       "pp65 (aa 341-349)               25\n",
       "pp65 (aa 265-275)               22\n",
       "IE1 (aa 316-324)                12\n",
       "pp65 (aa 188-195)               11\n",
       "pp65 (aa 363–373)                9\n",
       "IE1 (aa 88–96)                   8\n",
       "IE1 (aa 199-207)                 6\n",
       "IE1 (aa 188-210, 199 - 221)      5\n",
       "pp65 (aa 265-274)                4\n",
       "IE1 (aa 315-323)                 4\n",
       "IE1 (aa 279-287)                 2\n",
       "IE1 (aa 375-397)                 1\n",
       "pp65 (aa 245-263)                1\n",
       "IE1 (aa 379-387)                 1\n",
       "pp65 (aa 25-39)                  1\n",
       "pp65 (aa 367-380)                1\n",
       "pp65 (aa 259-273)                1\n",
       "pp65 (aa 41-60)                  1\n",
       "pp65 (aa 511-525)                1\n",
       "pp65 (aa 103-111)                1\n",
       "IE1 (aa 269-288)                 1\n",
       "Name: peptide_name, dtype: int64"
      ]
     },
     "execution_count": 11,
     "metadata": {},
     "output_type": "execute_result"
    }
   ],
   "source": [
    "emerson[\"peptide_name\"].value_counts()"
   ]
  },
  {
   "cell_type": "code",
   "execution_count": 12,
   "metadata": {},
   "outputs": [
    {
     "data": {
      "text/plain": [
       "A02     634\n",
       "B07     174\n",
       "B35      79\n",
       "A24      25\n",
       "B08      14\n",
       "A01       9\n",
       "B18       9\n",
       "DR3       3\n",
       "DQ11      1\n",
       "DR13      1\n",
       "DQ6       1\n",
       "B12       1\n",
       "Name: HLA_type, dtype: int64"
      ]
     },
     "execution_count": 12,
     "metadata": {},
     "output_type": "execute_result"
    }
   ],
   "source": [
    "emerson[\"HLA_type\"].value_counts()"
   ]
  },
  {
   "cell_type": "code",
   "execution_count": 13,
   "metadata": {},
   "outputs": [],
   "source": [
    "emerson[\"MHC_class\"] = \"I\"\n",
    "emerson[\"MHC_class\"][emerson[\"HLA_type\"] == \"DR3\"] = \"II\"\n",
    "emerson[\"MHC_class\"][emerson[\"HLA_type\"] == \"DQ11\"] = \"II\"\n",
    "emerson[\"MHC_class\"][emerson[\"HLA_type\"] == \"DR13\"] = \"II\"\n",
    "emerson[\"MHC_class\"][emerson[\"HLA_type\"] == \"DQ6\"] = \"II\""
   ]
  },
  {
   "cell_type": "code",
   "execution_count": 14,
   "metadata": {},
   "outputs": [
    {
     "data": {
      "text/plain": [
       "array(['A02', 'B35', 'B07', 'B08', 'A01', 'A24', 'B18', 'DR3', 'DQ11',\n",
       "       'DR13', 'DQ6', 'B12'], dtype=object)"
      ]
     },
     "execution_count": 14,
     "metadata": {},
     "output_type": "execute_result"
    }
   ],
   "source": [
    "emerson[\"HLA_type\"].unique()"
   ]
  },
  {
   "cell_type": "code",
   "execution_count": 15,
   "metadata": {
    "scrolled": true
   },
   "outputs": [
    {
     "data": {
      "text/plain": [
       "array(['A02', 'B35', 'B07', 'B08', 'A01', 'A24', 'B18', 'DR3', 'DQ11',\n",
       "       'DR13', 'DQ6', 'B12'], dtype=object)"
      ]
     },
     "execution_count": 15,
     "metadata": {},
     "output_type": "execute_result"
    }
   ],
   "source": [
    "emerson[\"HLA_type\"].unique()"
   ]
  },
  {
   "cell_type": "code",
   "execution_count": 16,
   "metadata": {},
   "outputs": [
    {
     "data": {
      "text/plain": [
       "Venturi      168\n",
       "Miconnet     108\n",
       "Hanley        86\n",
       "Price         73\n",
       "Wang          54\n",
       "Koning        51\n",
       "Nguyen        46\n",
       "Brennan       42\n",
       "Karenbeek     42\n",
       "Janbazian     38\n",
       "vanBockel     37\n",
       "Trautmann     31\n",
       "Nakasone      25\n",
       "Weekes        24\n",
       "Khan          21\n",
       "Day           21\n",
       "Klinger       17\n",
       "Retiere       13\n",
       "Wynn          12\n",
       "Giest         11\n",
       "Iancu          9\n",
       "Peggs          6\n",
       "Schub          4\n",
       "Heemskerk      4\n",
       "Schwele        3\n",
       "Hamel          3\n",
       "Liang          1\n",
       "Arakaki        1\n",
       "Name: dataset, dtype: int64"
      ]
     },
     "execution_count": 16,
     "metadata": {},
     "output_type": "execute_result"
    }
   ],
   "source": [
    "emerson[\"dataset\"].value_counts()"
   ]
  },
  {
   "cell_type": "code",
   "execution_count": 17,
   "metadata": {},
   "outputs": [
    {
     "data": {
      "text/plain": [
       "False    949\n",
       "True       2\n",
       "dtype: int64"
      ]
     },
     "execution_count": 17,
     "metadata": {},
     "output_type": "execute_result"
    }
   ],
   "source": [
    "emerson.duplicated().value_counts()"
   ]
  },
  {
   "cell_type": "code",
   "execution_count": 18,
   "metadata": {},
   "outputs": [],
   "source": [
    "emerson = emerson.drop_duplicates()"
   ]
  },
  {
   "cell_type": "code",
   "execution_count": 19,
   "metadata": {
    "scrolled": true
   },
   "outputs": [
    {
     "data": {
      "text/plain": [
       "array(['pp65 (aa 495-503)', 'pp65 (aa 123-131)', 'pp65 (aa 265-275)',\n",
       "       'pp65 (aa 417-426)', 'pp65 (aa 120-128)', 'IE1 (aa 199-207)',\n",
       "       'IE1 (aa 88–96)', 'pp65 (aa 363–373)', 'IE1 (aa 316-324)',\n",
       "       'pp65 (aa 341-349)', 'IE1 (aa 279-287)',\n",
       "       'IE1 (aa 188-210, 199 - 221)', 'IE1 (aa 315-323)',\n",
       "       'IE1 (aa 379-387)', 'IE1 (aa 375-397)', 'pp65 (aa 245-263)',\n",
       "       'IE1 (aa 269-288)', 'pp65 (aa 25-39)', 'pp65 (aa 367-380)',\n",
       "       'pp65 (aa 259-273)', 'pp65 (aa 41-60)', 'pp65 (aa 511-525)',\n",
       "       'pp65 (aa 265-274)', 'pp65 (aa 103-111)', 'pp65 (aa 188-195)'],\n",
       "      dtype=object)"
      ]
     },
     "execution_count": 19,
     "metadata": {},
     "output_type": "execute_result"
    }
   ],
   "source": [
    "emerson[\"peptide_name\"].unique()"
   ]
  },
  {
   "cell_type": "code",
   "execution_count": 20,
   "metadata": {},
   "outputs": [],
   "source": [
    "emerson[\"protein\"] = emerson['peptide_name'].str.split(' ').str[0]"
   ]
  },
  {
   "cell_type": "code",
   "execution_count": 21,
   "metadata": {},
   "outputs": [],
   "source": [
    "emerson[\"peptide_name\"] = emerson[\"peptide_name\"].astype(str)"
   ]
  },
  {
   "cell_type": "code",
   "execution_count": 22,
   "metadata": {},
   "outputs": [],
   "source": [
    "emerson[\"protein_pos\"] = emerson[\"peptide_name\"].str.slice(start=8)\n",
    "emerson[\"protein_pos\"] = emerson[\"protein_pos\"].str.rstrip(\")\")"
   ]
  },
  {
   "cell_type": "code",
   "execution_count": 23,
   "metadata": {},
   "outputs": [],
   "source": [
    "emerson = emerson.drop(columns=\"peptide_name\")"
   ]
  },
  {
   "cell_type": "code",
   "execution_count": 24,
   "metadata": {},
   "outputs": [],
   "source": [
    "emerson[\"species\"] = \"human\""
   ]
  },
  {
   "cell_type": "code",
   "execution_count": 25,
   "metadata": {},
   "outputs": [],
   "source": [
    "emerson[\"peptide_source\"] = \"CMV\""
   ]
  },
  {
   "cell_type": "code",
   "execution_count": 26,
   "metadata": {},
   "outputs": [
    {
     "data": {
      "text/plain": [
       "array(['Arakaki', 'Brennan', 'Day', 'Giest', 'Hamel', 'Hanley',\n",
       "       'Heemskerk', 'Iancu', 'Janbazian', 'Karenbeek', 'Khan', 'Klinger',\n",
       "       'Koning', 'Liang', 'Miconnet', 'Nakasone', 'Nguyen', 'Peggs',\n",
       "       'Price', 'Retiere', 'Schub', 'Schwele', 'Trautmann', 'vanBockel',\n",
       "       'Venturi', 'Wang', 'Weekes', 'Wynn'], dtype=object)"
      ]
     },
     "execution_count": 26,
     "metadata": {},
     "output_type": "execute_result"
    }
   ],
   "source": [
    "emerson[\"dataset\"].unique()"
   ]
  },
  {
   "cell_type": "code",
   "execution_count": 27,
   "metadata": {},
   "outputs": [],
   "source": [
    "emerson[\"tissue\"] = \"PBMC\""
   ]
  },
  {
   "cell_type": "code",
   "execution_count": 28,
   "metadata": {},
   "outputs": [],
   "source": [
    "emerson[\"experiment_type\"] = \"\""
   ]
  },
  {
   "cell_type": "code",
   "execution_count": 29,
   "metadata": {},
   "outputs": [],
   "source": [
    "emerson[\"dataset\"] = emerson[\"dataset\"].astype(str)"
   ]
  },
  {
   "cell_type": "code",
   "execution_count": 30,
   "metadata": {},
   "outputs": [],
   "source": [
    "emerson[\"experiment_type\"][(emerson[\"dataset\"] == \"Micconet\") | (emerson[\"dataset\"]==\"Hanley\")] = \"pentamer-sort\"\n",
    "emerson[\"experiment_type\"][(emerson[\"dataset\"] == \"Price\") | (emerson[\"dataset\"] == \"Koning\") | (emerson[\"dataset\"] ==\"Nguyen\") | (emerson[\"dataset\"] ==\"Klarenbeek\")|(emerson[\"dataset\"] ==\"Janbazian\")|(emerson[\"dataset\"] ==\"Trautmann\")|(emerson[\"dataset\"] ==\"Day\")|(emerson[\"dataset\"] ==\"Khan\")|(emerson[\"dataset\"] ==\"Giest\")|(emerson[\"dataset\"] ==\"Heemskerk\")|(emerson[\"dataset\"] ==\"Hamel\")] = \"tetramer-sort\"\n",
    "emerson[\"experiment_type\"][(emerson[\"dataset\"] == \"Liang\") | (emerson[\"dataset\"] ==\"vanBockel\")|(emerson[\"dataset\"] ==\"Brennan\")] = \"multimer-sort\"\n",
    "emerson[\"experiment_type\"][emerson[\"dataset\"] == \"Arakaki\"] = \"tetramer-sort, single-cell seq\"\n",
    "emerson[\"experiment_type\"][emerson[\"dataset\"] == \"Nakasone\"] = \"tetramer-sort, single-cell seq\"\n",
    "emerson[\"experiment_type\"][emerson[\"dataset\"] == \"Weekes\"] = \"TCRseq\"\n",
    "emerson[\"experiment_type\"][emerson[\"dataset\"] == \"Klinger\"] = \"pentamer-sort, TCRseq\"\n",
    "emerson[\"experiment_type\"][emerson[\"dataset\"] == \"Retiere\"] = \"TNFa, TCRseq\"\n",
    "emerson[\"experiment_type\"][emerson[\"dataset\"] == \"Wynn\"] = \"IFNy ELISPOT, pentamer-sort\"\n",
    "emerson[\"experiment_type\"][emerson[\"dataset\"] == \"Iancu\"] = \"multimer-sort, TCRseq\"\n",
    "emerson[\"experiment_type\"][emerson[\"dataset\"] == \"Peggs\"] = \"tetramer-sort, TCRseq\"\n",
    "emerson[\"experiment_type\"][emerson[\"dataset\"] == \"Schub\"] = \"multimer-sort, single-cell seq\"\n",
    "emerson[\"experiment_type\"][emerson[\"dataset\"] == \"Schwele\"] = \"IFNy ELISPOT, TCRseq\""
   ]
  },
  {
   "cell_type": "code",
   "execution_count": 31,
   "metadata": {},
   "outputs": [],
   "source": [
    "emerson = emerson.rename(columns={\"species\":\"tcr_source_organism\"})"
   ]
  },
  {
   "cell_type": "code",
   "execution_count": 32,
   "metadata": {},
   "outputs": [],
   "source": [
    "column_names = [\"peptide_seq\", \"HLA_type\", \"CDR3b\", \"TRBV\",\"TRBJ\", \"peptide_source\", \"protein\", \"protein_pos\", \"MHC_class\", \"tcr_source_organism\", \"tissue\", \"experiment_type\", 'dataset']\n",
    "\n",
    "emerson = emerson.reindex(columns=column_names)"
   ]
  },
  {
   "cell_type": "code",
   "execution_count": 33,
   "metadata": {},
   "outputs": [
    {
     "data": {
      "text/html": [
       "<div>\n",
       "<style scoped>\n",
       "    .dataframe tbody tr th:only-of-type {\n",
       "        vertical-align: middle;\n",
       "    }\n",
       "\n",
       "    .dataframe tbody tr th {\n",
       "        vertical-align: top;\n",
       "    }\n",
       "\n",
       "    .dataframe thead th {\n",
       "        text-align: right;\n",
       "    }\n",
       "</style>\n",
       "<table border=\"1\" class=\"dataframe\">\n",
       "  <thead>\n",
       "    <tr style=\"text-align: right;\">\n",
       "      <th></th>\n",
       "      <th>peptide_seq</th>\n",
       "      <th>HLA_type</th>\n",
       "      <th>CDR3b</th>\n",
       "      <th>TRBV</th>\n",
       "      <th>TRBJ</th>\n",
       "      <th>peptide_source</th>\n",
       "      <th>protein</th>\n",
       "      <th>protein_pos</th>\n",
       "      <th>MHC_class</th>\n",
       "      <th>tcr_source_organism</th>\n",
       "      <th>tissue</th>\n",
       "      <th>experiment_type</th>\n",
       "      <th>dataset</th>\n",
       "    </tr>\n",
       "  </thead>\n",
       "  <tbody>\n",
       "    <tr>\n",
       "      <th>0</th>\n",
       "      <td>NLVPMVATV</td>\n",
       "      <td>A02</td>\n",
       "      <td>CASSFSTCSANYGYTFG</td>\n",
       "      <td>8-1</td>\n",
       "      <td>1-2</td>\n",
       "      <td>CMV</td>\n",
       "      <td>pp65</td>\n",
       "      <td>495-503</td>\n",
       "      <td>I</td>\n",
       "      <td>human</td>\n",
       "      <td>PBMC</td>\n",
       "      <td>tetramer-sort, single-cell seq</td>\n",
       "      <td>Arakaki</td>\n",
       "    </tr>\n",
       "    <tr>\n",
       "      <th>13</th>\n",
       "      <td>IPSINVHHY</td>\n",
       "      <td>B35</td>\n",
       "      <td>CASALSTAPNEKLFF</td>\n",
       "      <td>28</td>\n",
       "      <td>1.4</td>\n",
       "      <td>CMV</td>\n",
       "      <td>pp65</td>\n",
       "      <td>123-131</td>\n",
       "      <td>I</td>\n",
       "      <td>human</td>\n",
       "      <td>PBMC</td>\n",
       "      <td>multimer-sort</td>\n",
       "      <td>Brennan</td>\n",
       "    </tr>\n",
       "    <tr>\n",
       "      <th>14</th>\n",
       "      <td>IPSINVHHY</td>\n",
       "      <td>B35</td>\n",
       "      <td>CASSAETGPNEKLFF</td>\n",
       "      <td>28</td>\n",
       "      <td>1.4</td>\n",
       "      <td>CMV</td>\n",
       "      <td>pp65</td>\n",
       "      <td>123-131</td>\n",
       "      <td>I</td>\n",
       "      <td>human</td>\n",
       "      <td>PBMC</td>\n",
       "      <td>multimer-sort</td>\n",
       "      <td>Brennan</td>\n",
       "    </tr>\n",
       "    <tr>\n",
       "      <th>15</th>\n",
       "      <td>IPSINVHHY</td>\n",
       "      <td>B35</td>\n",
       "      <td>CASSASDSPNEKLFF</td>\n",
       "      <td>28</td>\n",
       "      <td>1.4</td>\n",
       "      <td>CMV</td>\n",
       "      <td>pp65</td>\n",
       "      <td>123-131</td>\n",
       "      <td>I</td>\n",
       "      <td>human</td>\n",
       "      <td>PBMC</td>\n",
       "      <td>multimer-sort</td>\n",
       "      <td>Brennan</td>\n",
       "    </tr>\n",
       "    <tr>\n",
       "      <th>16</th>\n",
       "      <td>IPSINVHHY</td>\n",
       "      <td>B35</td>\n",
       "      <td>CASSLASTPNEKLFF</td>\n",
       "      <td>28</td>\n",
       "      <td>1.4</td>\n",
       "      <td>CMV</td>\n",
       "      <td>pp65</td>\n",
       "      <td>123-131</td>\n",
       "      <td>I</td>\n",
       "      <td>human</td>\n",
       "      <td>PBMC</td>\n",
       "      <td>multimer-sort</td>\n",
       "      <td>Brennan</td>\n",
       "    </tr>\n",
       "    <tr>\n",
       "      <th>...</th>\n",
       "      <td>...</td>\n",
       "      <td>...</td>\n",
       "      <td>...</td>\n",
       "      <td>...</td>\n",
       "      <td>...</td>\n",
       "      <td>...</td>\n",
       "      <td>...</td>\n",
       "      <td>...</td>\n",
       "      <td>...</td>\n",
       "      <td>...</td>\n",
       "      <td>...</td>\n",
       "      <td>...</td>\n",
       "      <td>...</td>\n",
       "    </tr>\n",
       "    <tr>\n",
       "      <th>1049</th>\n",
       "      <td>FTPKDVAL</td>\n",
       "      <td>B35</td>\n",
       "      <td>CAWSLASGGTDNEQF</td>\n",
       "      <td>30*05</td>\n",
       "      <td>2-1*01</td>\n",
       "      <td>CMV</td>\n",
       "      <td>pp65</td>\n",
       "      <td>188-195</td>\n",
       "      <td>I</td>\n",
       "      <td>human</td>\n",
       "      <td>PBMC</td>\n",
       "      <td>IFNy ELISPOT, pentamer-sort</td>\n",
       "      <td>Wynn</td>\n",
       "    </tr>\n",
       "    <tr>\n",
       "      <th>1050</th>\n",
       "      <td>FTPKDVAL</td>\n",
       "      <td>B35</td>\n",
       "      <td>CAWSPTGDQPQHF</td>\n",
       "      <td>30*05</td>\n",
       "      <td>1-5*01</td>\n",
       "      <td>CMV</td>\n",
       "      <td>pp65</td>\n",
       "      <td>188-195</td>\n",
       "      <td>I</td>\n",
       "      <td>human</td>\n",
       "      <td>PBMC</td>\n",
       "      <td>IFNy ELISPOT, pentamer-sort</td>\n",
       "      <td>Wynn</td>\n",
       "    </tr>\n",
       "    <tr>\n",
       "      <th>1051</th>\n",
       "      <td>FTPKDVAL</td>\n",
       "      <td>B35</td>\n",
       "      <td>CAWSVAAGILEQFF</td>\n",
       "      <td>30*01</td>\n",
       "      <td>2-1*01</td>\n",
       "      <td>CMV</td>\n",
       "      <td>pp65</td>\n",
       "      <td>188-195</td>\n",
       "      <td>I</td>\n",
       "      <td>human</td>\n",
       "      <td>PBMC</td>\n",
       "      <td>IFNy ELISPOT, pentamer-sort</td>\n",
       "      <td>Wynn</td>\n",
       "    </tr>\n",
       "    <tr>\n",
       "      <th>1052</th>\n",
       "      <td>FTPKDVAL</td>\n",
       "      <td>B35</td>\n",
       "      <td>CAWSVAAGILEQFF</td>\n",
       "      <td>30*05</td>\n",
       "      <td>2-1*01</td>\n",
       "      <td>CMV</td>\n",
       "      <td>pp65</td>\n",
       "      <td>188-195</td>\n",
       "      <td>I</td>\n",
       "      <td>human</td>\n",
       "      <td>PBMC</td>\n",
       "      <td>IFNy ELISPOT, pentamer-sort</td>\n",
       "      <td>Wynn</td>\n",
       "    </tr>\n",
       "    <tr>\n",
       "      <th>1053</th>\n",
       "      <td>FTPKDVAL</td>\n",
       "      <td>B35</td>\n",
       "      <td>CAWSVASGANNEQFF</td>\n",
       "      <td>30*01</td>\n",
       "      <td>2-1*01</td>\n",
       "      <td>CMV</td>\n",
       "      <td>pp65</td>\n",
       "      <td>188-195</td>\n",
       "      <td>I</td>\n",
       "      <td>human</td>\n",
       "      <td>PBMC</td>\n",
       "      <td>IFNy ELISPOT, pentamer-sort</td>\n",
       "      <td>Wynn</td>\n",
       "    </tr>\n",
       "  </tbody>\n",
       "</table>\n",
       "<p>949 rows × 13 columns</p>\n",
       "</div>"
      ],
      "text/plain": [
       "     peptide_seq HLA_type              CDR3b   TRBV    TRBJ peptide_source  \\\n",
       "0      NLVPMVATV      A02  CASSFSTCSANYGYTFG    8-1     1-2            CMV   \n",
       "13     IPSINVHHY      B35    CASALSTAPNEKLFF     28     1.4            CMV   \n",
       "14     IPSINVHHY      B35    CASSAETGPNEKLFF     28     1.4            CMV   \n",
       "15     IPSINVHHY      B35    CASSASDSPNEKLFF     28     1.4            CMV   \n",
       "16     IPSINVHHY      B35    CASSLASTPNEKLFF     28     1.4            CMV   \n",
       "...          ...      ...                ...    ...     ...            ...   \n",
       "1049    FTPKDVAL      B35    CAWSLASGGTDNEQF  30*05  2-1*01            CMV   \n",
       "1050    FTPKDVAL      B35      CAWSPTGDQPQHF  30*05  1-5*01            CMV   \n",
       "1051    FTPKDVAL      B35     CAWSVAAGILEQFF  30*01  2-1*01            CMV   \n",
       "1052    FTPKDVAL      B35     CAWSVAAGILEQFF  30*05  2-1*01            CMV   \n",
       "1053    FTPKDVAL      B35    CAWSVASGANNEQFF  30*01  2-1*01            CMV   \n",
       "\n",
       "     protein protein_pos MHC_class tcr_source_organism tissue  \\\n",
       "0       pp65     495-503         I               human   PBMC   \n",
       "13      pp65     123-131         I               human   PBMC   \n",
       "14      pp65     123-131         I               human   PBMC   \n",
       "15      pp65     123-131         I               human   PBMC   \n",
       "16      pp65     123-131         I               human   PBMC   \n",
       "...      ...         ...       ...                 ...    ...   \n",
       "1049    pp65     188-195         I               human   PBMC   \n",
       "1050    pp65     188-195         I               human   PBMC   \n",
       "1051    pp65     188-195         I               human   PBMC   \n",
       "1052    pp65     188-195         I               human   PBMC   \n",
       "1053    pp65     188-195         I               human   PBMC   \n",
       "\n",
       "                     experiment_type  dataset  \n",
       "0     tetramer-sort, single-cell seq  Arakaki  \n",
       "13                     multimer-sort  Brennan  \n",
       "14                     multimer-sort  Brennan  \n",
       "15                     multimer-sort  Brennan  \n",
       "16                     multimer-sort  Brennan  \n",
       "...                              ...      ...  \n",
       "1049     IFNy ELISPOT, pentamer-sort     Wynn  \n",
       "1050     IFNy ELISPOT, pentamer-sort     Wynn  \n",
       "1051     IFNy ELISPOT, pentamer-sort     Wynn  \n",
       "1052     IFNy ELISPOT, pentamer-sort     Wynn  \n",
       "1053     IFNy ELISPOT, pentamer-sort     Wynn  \n",
       "\n",
       "[949 rows x 13 columns]"
      ]
     },
     "execution_count": 33,
     "metadata": {},
     "output_type": "execute_result"
    }
   ],
   "source": [
    "emerson"
   ]
  },
  {
   "cell_type": "code",
   "execution_count": 34,
   "metadata": {},
   "outputs": [],
   "source": [
    "emerson.to_csv(\"../../../data/processed/emerson_input.csv.gz\", index=False)"
   ]
  }
 ],
 "metadata": {
  "kernelspec": {
   "display_name": "Python 3 (ipykernel)",
   "language": "python",
   "name": "python3"
  },
  "language_info": {
   "codemirror_mode": {
    "name": "ipython",
    "version": 3
   },
   "file_extension": ".py",
   "mimetype": "text/x-python",
   "name": "python",
   "nbconvert_exporter": "python",
   "pygments_lexer": "ipython3",
   "version": "3.10.4"
  }
 },
 "nbformat": 4,
 "nbformat_minor": 4
}
