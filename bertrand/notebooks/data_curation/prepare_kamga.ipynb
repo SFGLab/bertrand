{
 "cells": [
  {
   "cell_type": "code",
   "execution_count": 1,
   "metadata": {},
   "outputs": [],
   "source": [
    "import pandas as pd\n",
    "import os\n",
    "import re"
   ]
  },
  {
   "cell_type": "code",
   "execution_count": 2,
   "metadata": {},
   "outputs": [],
   "source": [
    "kamga_GLC = pd.read_csv(\"../../../data/original/kamga_GLC.csv.gz\")"
   ]
  },
  {
   "cell_type": "code",
   "execution_count": 3,
   "metadata": {},
   "outputs": [
    {
     "data": {
      "text/html": [
       "<div>\n",
       "<style scoped>\n",
       "    .dataframe tbody tr th:only-of-type {\n",
       "        vertical-align: middle;\n",
       "    }\n",
       "\n",
       "    .dataframe tbody tr th {\n",
       "        vertical-align: top;\n",
       "    }\n",
       "\n",
       "    .dataframe thead th {\n",
       "        text-align: right;\n",
       "    }\n",
       "</style>\n",
       "<table border=\"1\" class=\"dataframe\">\n",
       "  <thead>\n",
       "    <tr style=\"text-align: right;\">\n",
       "      <th></th>\n",
       "      <th>Donor ID</th>\n",
       "      <th>CDR3a</th>\n",
       "      <th>CDR3b</th>\n",
       "    </tr>\n",
       "  </thead>\n",
       "  <tbody>\n",
       "    <tr>\n",
       "      <th>0</th>\n",
       "      <td>E1603</td>\n",
       "      <td>AV5CAEDNNARLMF AJ31</td>\n",
       "      <td>BV20CSARDGTGNGYTF BJ1</td>\n",
       "    </tr>\n",
       "    <tr>\n",
       "      <th>1</th>\n",
       "      <td>E1603</td>\n",
       "      <td>AV5CAEDNNARLMF AJ31</td>\n",
       "      <td>BV20CSARDQTGNGYTF BJ1</td>\n",
       "    </tr>\n",
       "    <tr>\n",
       "      <th>2</th>\n",
       "      <td>E1603</td>\n",
       "      <td>AV5CAELDVQKLVS AJ16</td>\n",
       "      <td>BV20CSARDRVGNTIYF BJ1</td>\n",
       "    </tr>\n",
       "    <tr>\n",
       "      <th>3</th>\n",
       "      <td>E1603</td>\n",
       "      <td>AV5CAEDYNARLMF AJ31</td>\n",
       "      <td>BV20CSARDRVGNTIYF BJ1</td>\n",
       "    </tr>\n",
       "    <tr>\n",
       "      <th>4</th>\n",
       "      <td>E1603</td>\n",
       "      <td>AV5CAEDKNARLMF AJ31</td>\n",
       "      <td>BV20CSARDRVGNTIYF BJ1</td>\n",
       "    </tr>\n",
       "  </tbody>\n",
       "</table>\n",
       "</div>"
      ],
      "text/plain": [
       "  Donor ID                   CDR3a                  CDR3b\n",
       "0    E1603   AV5CAEDNNARLMF AJ31    BV20CSARDGTGNGYTF BJ1\n",
       "1    E1603   AV5CAEDNNARLMF AJ31    BV20CSARDQTGNGYTF BJ1\n",
       "2    E1603   AV5CAELDVQKLVS AJ16    BV20CSARDRVGNTIYF BJ1\n",
       "3    E1603   AV5CAEDYNARLMF AJ31    BV20CSARDRVGNTIYF BJ1\n",
       "4    E1603   AV5CAEDKNARLMF AJ31    BV20CSARDRVGNTIYF BJ1"
      ]
     },
     "execution_count": 3,
     "metadata": {},
     "output_type": "execute_result"
    }
   ],
   "source": [
    "kamga_GLC.head()"
   ]
  },
  {
   "cell_type": "code",
   "execution_count": 4,
   "metadata": {},
   "outputs": [
    {
     "name": "stderr",
     "output_type": "stream",
     "text": [
      "/tmp/ipykernel_374587/2192313611.py:1: FutureWarning: The default value of regex will change from True to False in a future version.\n",
      "  kamga_GLC[\"CDR3a\"] = kamga_GLC['CDR3a'].str.replace(r'(AV\\d\\d)', '')\n",
      "/tmp/ipykernel_374587/2192313611.py:2: FutureWarning: The default value of regex will change from True to False in a future version.\n",
      "  kamga_GLC[\"CDR3a\"] = kamga_GLC['CDR3a'].str.replace(r'(AV\\d)', '')\n"
     ]
    }
   ],
   "source": [
    "kamga_GLC[\"CDR3a\"] = kamga_GLC['CDR3a'].str.replace(r'(AV\\d\\d)', '')\n",
    "kamga_GLC[\"CDR3a\"] = kamga_GLC['CDR3a'].str.replace(r'(AV\\d)', '')"
   ]
  },
  {
   "cell_type": "code",
   "execution_count": 5,
   "metadata": {},
   "outputs": [],
   "source": [
    "kamga_GLC[\"CDR3a\"] = kamga_GLC[\"CDR3a\"].str[:-6]"
   ]
  },
  {
   "cell_type": "code",
   "execution_count": 6,
   "metadata": {},
   "outputs": [
    {
     "name": "stderr",
     "output_type": "stream",
     "text": [
      "/tmp/ipykernel_374587/4169752004.py:1: FutureWarning: The default value of regex will change from True to False in a future version.\n",
      "  kamga_GLC[\"CDR3b\"] = kamga_GLC['CDR3b'].str.replace(r'(BV\\d\\d)', '')\n",
      "/tmp/ipykernel_374587/4169752004.py:2: FutureWarning: The default value of regex will change from True to False in a future version.\n",
      "  kamga_GLC[\"CDR3b\"] = kamga_GLC['CDR3b'].str.replace(r'(BV\\d)', '')\n"
     ]
    }
   ],
   "source": [
    "kamga_GLC[\"CDR3b\"] = kamga_GLC['CDR3b'].str.replace(r'(BV\\d\\d)', '')\n",
    "kamga_GLC[\"CDR3b\"] = kamga_GLC['CDR3b'].str.replace(r'(BV\\d)', '')"
   ]
  },
  {
   "cell_type": "code",
   "execution_count": 7,
   "metadata": {},
   "outputs": [],
   "source": [
    "kamga_GLC[\"CDR3b\"] = kamga_GLC[\"CDR3b\"].str[:-4]"
   ]
  },
  {
   "cell_type": "code",
   "execution_count": 8,
   "metadata": {},
   "outputs": [],
   "source": [
    "kamga_GLC[\"CDR3a\"] = kamga_GLC[\"CDR3a\"].str.strip()\n",
    "kamga_GLC[\"CDR3b\"] = kamga_GLC[\"CDR3b\"].str.strip()"
   ]
  },
  {
   "cell_type": "code",
   "execution_count": 9,
   "metadata": {},
   "outputs": [],
   "source": [
    "kamga_GLC[\"peptide_seq\"] = \"GLCTLVAML\"\n",
    "kamga_GLC[\"protein\"] = \"BMLF1\""
   ]
  },
  {
   "cell_type": "code",
   "execution_count": 10,
   "metadata": {},
   "outputs": [],
   "source": [
    "kamga_GLC = kamga_GLC.drop(columns=\"Donor ID\")"
   ]
  },
  {
   "cell_type": "code",
   "execution_count": 11,
   "metadata": {},
   "outputs": [],
   "source": [
    "kamga_YVL = pd.read_csv(\"../../../data/original/kamga_YVL.csv.gz\")"
   ]
  },
  {
   "cell_type": "code",
   "execution_count": 12,
   "metadata": {
    "scrolled": true
   },
   "outputs": [
    {
     "data": {
      "text/html": [
       "<div>\n",
       "<style scoped>\n",
       "    .dataframe tbody tr th:only-of-type {\n",
       "        vertical-align: middle;\n",
       "    }\n",
       "\n",
       "    .dataframe tbody tr th {\n",
       "        vertical-align: top;\n",
       "    }\n",
       "\n",
       "    .dataframe thead th {\n",
       "        text-align: right;\n",
       "    }\n",
       "</style>\n",
       "<table border=\"1\" class=\"dataframe\">\n",
       "  <thead>\n",
       "    <tr style=\"text-align: right;\">\n",
       "      <th></th>\n",
       "      <th>Donor ID</th>\n",
       "      <th>CDR3a</th>\n",
       "      <th>CDR3b</th>\n",
       "    </tr>\n",
       "  </thead>\n",
       "  <tbody>\n",
       "    <tr>\n",
       "      <th>0</th>\n",
       "      <td>E1632</td>\n",
       "      <td>AV8CAVKDTDKLIF AJ34</td>\n",
       "      <td>BV10CASMLPFGDEQYF BJ1</td>\n",
       "    </tr>\n",
       "    <tr>\n",
       "      <th>1</th>\n",
       "      <td>E1632</td>\n",
       "      <td>AV8CAVKDTDKLIF AJ34</td>\n",
       "      <td>BV10CASMLPFGDEQYF BJ2</td>\n",
       "    </tr>\n",
       "    <tr>\n",
       "      <th>2</th>\n",
       "      <td>E1655</td>\n",
       "      <td>AV8CAAPGAGSYQLTF AJ28</td>\n",
       "      <td>BV11CASMRELAGQETQYF BJ2</td>\n",
       "    </tr>\n",
       "    <tr>\n",
       "      <th>3</th>\n",
       "      <td>E1655</td>\n",
       "      <td>AV8CNASGAGSFHFTF AJ28</td>\n",
       "      <td>BV11CASMRELAGQETQYF BJ2</td>\n",
       "    </tr>\n",
       "    <tr>\n",
       "      <th>4</th>\n",
       "      <td>E1603</td>\n",
       "      <td>AV14CAMREGTGNFNKFYF AJ21</td>\n",
       "      <td>BV13CASRQTSGELFF BJ2</td>\n",
       "    </tr>\n",
       "  </tbody>\n",
       "</table>\n",
       "</div>"
      ],
      "text/plain": [
       "  Donor ID                     CDR3a                    CDR3b\n",
       "0    E1632       AV8CAVKDTDKLIF AJ34    BV10CASMLPFGDEQYF BJ1\n",
       "1    E1632       AV8CAVKDTDKLIF AJ34    BV10CASMLPFGDEQYF BJ2\n",
       "2    E1655     AV8CAAPGAGSYQLTF AJ28  BV11CASMRELAGQETQYF BJ2\n",
       "3    E1655     AV8CNASGAGSFHFTF AJ28  BV11CASMRELAGQETQYF BJ2\n",
       "4    E1603  AV14CAMREGTGNFNKFYF AJ21     BV13CASRQTSGELFF BJ2"
      ]
     },
     "execution_count": 12,
     "metadata": {},
     "output_type": "execute_result"
    }
   ],
   "source": [
    "kamga_YVL.head()"
   ]
  },
  {
   "cell_type": "code",
   "execution_count": 13,
   "metadata": {},
   "outputs": [
    {
     "name": "stderr",
     "output_type": "stream",
     "text": [
      "/tmp/ipykernel_374587/1295722271.py:1: FutureWarning: The default value of regex will change from True to False in a future version.\n",
      "  kamga_YVL[\"CDR3a\"] = kamga_YVL['CDR3a'].str.replace(r'(AV\\d\\d)', '')\n",
      "/tmp/ipykernel_374587/1295722271.py:2: FutureWarning: The default value of regex will change from True to False in a future version.\n",
      "  kamga_YVL[\"CDR3a\"] = kamga_YVL['CDR3a'].str.replace(r'(AV\\d)', '')\n"
     ]
    }
   ],
   "source": [
    "kamga_YVL[\"CDR3a\"] = kamga_YVL['CDR3a'].str.replace(r'(AV\\d\\d)', '')\n",
    "kamga_YVL[\"CDR3a\"] = kamga_YVL['CDR3a'].str.replace(r'(AV\\d)', '')"
   ]
  },
  {
   "cell_type": "code",
   "execution_count": 14,
   "metadata": {},
   "outputs": [],
   "source": [
    "kamga_YVL[\"CDR3a\"] = kamga_YVL[\"CDR3a\"].str[:-5]"
   ]
  },
  {
   "cell_type": "code",
   "execution_count": 15,
   "metadata": {},
   "outputs": [
    {
     "name": "stderr",
     "output_type": "stream",
     "text": [
      "/tmp/ipykernel_374587/1059117523.py:1: FutureWarning: The default value of regex will change from True to False in a future version.\n",
      "  kamga_YVL[\"CDR3b\"] = kamga_YVL['CDR3b'].str.replace(r'(BV\\d\\d)', '')\n",
      "/tmp/ipykernel_374587/1059117523.py:2: FutureWarning: The default value of regex will change from True to False in a future version.\n",
      "  kamga_YVL[\"CDR3b\"] = kamga_YVL['CDR3b'].str.replace(r'(BV\\d)', '')\n"
     ]
    }
   ],
   "source": [
    "kamga_YVL[\"CDR3b\"] = kamga_YVL['CDR3b'].str.replace(r'(BV\\d\\d)', '')\n",
    "kamga_YVL[\"CDR3b\"] = kamga_YVL['CDR3b'].str.replace(r'(BV\\d)', '')"
   ]
  },
  {
   "cell_type": "code",
   "execution_count": 16,
   "metadata": {},
   "outputs": [],
   "source": [
    "kamga_YVL[\"CDR3b\"] = kamga_YVL[\"CDR3b\"].str[:-4]"
   ]
  },
  {
   "cell_type": "code",
   "execution_count": 17,
   "metadata": {},
   "outputs": [],
   "source": [
    "kamga_YVL = kamga_YVL.drop(columns=\"Donor ID\")"
   ]
  },
  {
   "cell_type": "code",
   "execution_count": 18,
   "metadata": {},
   "outputs": [],
   "source": [
    "kamga_YVL[\"peptide_seq\"] = \"YVLDHLIVV\"\n",
    "kamga_YVL[\"protein\"] = \"BRLF1\""
   ]
  },
  {
   "cell_type": "code",
   "execution_count": 19,
   "metadata": {},
   "outputs": [],
   "source": [
    "kamga_merged = pd.concat([kamga_GLC, kamga_YVL], axis=0)"
   ]
  },
  {
   "cell_type": "code",
   "execution_count": 20,
   "metadata": {},
   "outputs": [
    {
     "data": {
      "text/html": [
       "<div>\n",
       "<style scoped>\n",
       "    .dataframe tbody tr th:only-of-type {\n",
       "        vertical-align: middle;\n",
       "    }\n",
       "\n",
       "    .dataframe tbody tr th {\n",
       "        vertical-align: top;\n",
       "    }\n",
       "\n",
       "    .dataframe thead th {\n",
       "        text-align: right;\n",
       "    }\n",
       "</style>\n",
       "<table border=\"1\" class=\"dataframe\">\n",
       "  <thead>\n",
       "    <tr style=\"text-align: right;\">\n",
       "      <th></th>\n",
       "      <th>CDR3a</th>\n",
       "      <th>CDR3b</th>\n",
       "      <th>peptide_seq</th>\n",
       "      <th>protein</th>\n",
       "    </tr>\n",
       "  </thead>\n",
       "  <tbody>\n",
       "    <tr>\n",
       "      <th>0</th>\n",
       "      <td>CAEDNNARLMF</td>\n",
       "      <td>CSARDGTGNGYTF</td>\n",
       "      <td>GLCTLVAML</td>\n",
       "      <td>BMLF1</td>\n",
       "    </tr>\n",
       "    <tr>\n",
       "      <th>1</th>\n",
       "      <td>CAEDNNARLMF</td>\n",
       "      <td>CSARDQTGNGYTF</td>\n",
       "      <td>GLCTLVAML</td>\n",
       "      <td>BMLF1</td>\n",
       "    </tr>\n",
       "    <tr>\n",
       "      <th>2</th>\n",
       "      <td>CAELDVQKLVS</td>\n",
       "      <td>CSARDRVGNTIYF</td>\n",
       "      <td>GLCTLVAML</td>\n",
       "      <td>BMLF1</td>\n",
       "    </tr>\n",
       "    <tr>\n",
       "      <th>3</th>\n",
       "      <td>CAEDYNARLMF</td>\n",
       "      <td>CSARDRVGNTIYF</td>\n",
       "      <td>GLCTLVAML</td>\n",
       "      <td>BMLF1</td>\n",
       "    </tr>\n",
       "    <tr>\n",
       "      <th>4</th>\n",
       "      <td>CAEDKNARLMF</td>\n",
       "      <td>CSARDRVGNTIYF</td>\n",
       "      <td>GLCTLVAML</td>\n",
       "      <td>BMLF1</td>\n",
       "    </tr>\n",
       "    <tr>\n",
       "      <th>...</th>\n",
       "      <td>...</td>\n",
       "      <td>...</td>\n",
       "      <td>...</td>\n",
       "      <td>...</td>\n",
       "    </tr>\n",
       "    <tr>\n",
       "      <th>123</th>\n",
       "      <td>CAVKNQAGTALIF</td>\n",
       "      <td>CASSPDPTGYNEQFF</td>\n",
       "      <td>YVLDHLIVV</td>\n",
       "      <td>BRLF1</td>\n",
       "    </tr>\n",
       "    <tr>\n",
       "      <th>124</th>\n",
       "      <td>CAVKNQAGTALIF</td>\n",
       "      <td>CASSQGPTGDTQYF</td>\n",
       "      <td>YVLDHLIVV</td>\n",
       "      <td>BRLF1</td>\n",
       "    </tr>\n",
       "    <tr>\n",
       "      <th>125</th>\n",
       "      <td>CAVSEGTNAGKSTF</td>\n",
       "      <td>CASSYTGRALEAFF</td>\n",
       "      <td>YVLDHLIVV</td>\n",
       "      <td>BRLF1</td>\n",
       "    </tr>\n",
       "    <tr>\n",
       "      <th>126</th>\n",
       "      <td>CAVVTGGFKTI</td>\n",
       "      <td>CASSYTTGSADTQYF</td>\n",
       "      <td>YVLDHLIVV</td>\n",
       "      <td>BRLF1</td>\n",
       "    </tr>\n",
       "    <tr>\n",
       "      <th>127</th>\n",
       "      <td>CVVNRLDNAGNMLTF</td>\n",
       "      <td>CASSVAGTSVETQYF</td>\n",
       "      <td>YVLDHLIVV</td>\n",
       "      <td>BRLF1</td>\n",
       "    </tr>\n",
       "  </tbody>\n",
       "</table>\n",
       "<p>221 rows × 4 columns</p>\n",
       "</div>"
      ],
      "text/plain": [
       "               CDR3a            CDR3b peptide_seq protein\n",
       "0        CAEDNNARLMF    CSARDGTGNGYTF   GLCTLVAML   BMLF1\n",
       "1        CAEDNNARLMF    CSARDQTGNGYTF   GLCTLVAML   BMLF1\n",
       "2        CAELDVQKLVS    CSARDRVGNTIYF   GLCTLVAML   BMLF1\n",
       "3        CAEDYNARLMF    CSARDRVGNTIYF   GLCTLVAML   BMLF1\n",
       "4        CAEDKNARLMF    CSARDRVGNTIYF   GLCTLVAML   BMLF1\n",
       "..               ...              ...         ...     ...\n",
       "123    CAVKNQAGTALIF  CASSPDPTGYNEQFF   YVLDHLIVV   BRLF1\n",
       "124    CAVKNQAGTALIF   CASSQGPTGDTQYF   YVLDHLIVV   BRLF1\n",
       "125   CAVSEGTNAGKSTF   CASSYTGRALEAFF   YVLDHLIVV   BRLF1\n",
       "126      CAVVTGGFKTI  CASSYTTGSADTQYF   YVLDHLIVV   BRLF1\n",
       "127  CVVNRLDNAGNMLTF  CASSVAGTSVETQYF   YVLDHLIVV   BRLF1\n",
       "\n",
       "[221 rows x 4 columns]"
      ]
     },
     "execution_count": 20,
     "metadata": {},
     "output_type": "execute_result"
    }
   ],
   "source": [
    "kamga_merged"
   ]
  },
  {
   "cell_type": "code",
   "execution_count": 21,
   "metadata": {},
   "outputs": [],
   "source": [
    "kamga_merged[\"HLA_type\"] = \"A02:01\"\n",
    "kamga_merged[\"peptide_source\"] = \"EBV\"\n",
    "kamga_merged[\"tcr_source_organism\"] = \"human\"\n",
    "kamga_merged[\"tissue\"] = \"PBMC\"\n",
    "kamga_merged[\"experiment_type\"] = \"tetramer-sort, single-cell seq\"\n",
    "kamga_merged[\"dataset\"] = \"Kamga\""
   ]
  },
  {
   "cell_type": "code",
   "execution_count": 22,
   "metadata": {},
   "outputs": [],
   "source": [
    "kamga_merged = kamga_merged[[\"peptide_seq\", \"HLA_type\", \"CDR3a\", \"CDR3b\", \"peptide_source\", \"protein\", \"tcr_source_organism\", \"tissue\", \"experiment_type\", \"dataset\"]]"
   ]
  },
  {
   "cell_type": "code",
   "execution_count": 23,
   "metadata": {},
   "outputs": [
    {
     "data": {
      "text/html": [
       "<div>\n",
       "<style scoped>\n",
       "    .dataframe tbody tr th:only-of-type {\n",
       "        vertical-align: middle;\n",
       "    }\n",
       "\n",
       "    .dataframe tbody tr th {\n",
       "        vertical-align: top;\n",
       "    }\n",
       "\n",
       "    .dataframe thead th {\n",
       "        text-align: right;\n",
       "    }\n",
       "</style>\n",
       "<table border=\"1\" class=\"dataframe\">\n",
       "  <thead>\n",
       "    <tr style=\"text-align: right;\">\n",
       "      <th></th>\n",
       "      <th>peptide_seq</th>\n",
       "      <th>HLA_type</th>\n",
       "      <th>CDR3a</th>\n",
       "      <th>CDR3b</th>\n",
       "      <th>peptide_source</th>\n",
       "      <th>protein</th>\n",
       "      <th>tcr_source_organism</th>\n",
       "      <th>tissue</th>\n",
       "      <th>experiment_type</th>\n",
       "      <th>dataset</th>\n",
       "    </tr>\n",
       "  </thead>\n",
       "  <tbody>\n",
       "    <tr>\n",
       "      <th>0</th>\n",
       "      <td>GLCTLVAML</td>\n",
       "      <td>A02:01</td>\n",
       "      <td>CAEDNNARLMF</td>\n",
       "      <td>CSARDGTGNGYTF</td>\n",
       "      <td>EBV</td>\n",
       "      <td>BMLF1</td>\n",
       "      <td>human</td>\n",
       "      <td>PBMC</td>\n",
       "      <td>tetramer-sort, single-cell seq</td>\n",
       "      <td>Kamga</td>\n",
       "    </tr>\n",
       "    <tr>\n",
       "      <th>1</th>\n",
       "      <td>GLCTLVAML</td>\n",
       "      <td>A02:01</td>\n",
       "      <td>CAEDNNARLMF</td>\n",
       "      <td>CSARDQTGNGYTF</td>\n",
       "      <td>EBV</td>\n",
       "      <td>BMLF1</td>\n",
       "      <td>human</td>\n",
       "      <td>PBMC</td>\n",
       "      <td>tetramer-sort, single-cell seq</td>\n",
       "      <td>Kamga</td>\n",
       "    </tr>\n",
       "    <tr>\n",
       "      <th>2</th>\n",
       "      <td>GLCTLVAML</td>\n",
       "      <td>A02:01</td>\n",
       "      <td>CAELDVQKLVS</td>\n",
       "      <td>CSARDRVGNTIYF</td>\n",
       "      <td>EBV</td>\n",
       "      <td>BMLF1</td>\n",
       "      <td>human</td>\n",
       "      <td>PBMC</td>\n",
       "      <td>tetramer-sort, single-cell seq</td>\n",
       "      <td>Kamga</td>\n",
       "    </tr>\n",
       "    <tr>\n",
       "      <th>3</th>\n",
       "      <td>GLCTLVAML</td>\n",
       "      <td>A02:01</td>\n",
       "      <td>CAEDYNARLMF</td>\n",
       "      <td>CSARDRVGNTIYF</td>\n",
       "      <td>EBV</td>\n",
       "      <td>BMLF1</td>\n",
       "      <td>human</td>\n",
       "      <td>PBMC</td>\n",
       "      <td>tetramer-sort, single-cell seq</td>\n",
       "      <td>Kamga</td>\n",
       "    </tr>\n",
       "    <tr>\n",
       "      <th>4</th>\n",
       "      <td>GLCTLVAML</td>\n",
       "      <td>A02:01</td>\n",
       "      <td>CAEDKNARLMF</td>\n",
       "      <td>CSARDRVGNTIYF</td>\n",
       "      <td>EBV</td>\n",
       "      <td>BMLF1</td>\n",
       "      <td>human</td>\n",
       "      <td>PBMC</td>\n",
       "      <td>tetramer-sort, single-cell seq</td>\n",
       "      <td>Kamga</td>\n",
       "    </tr>\n",
       "    <tr>\n",
       "      <th>...</th>\n",
       "      <td>...</td>\n",
       "      <td>...</td>\n",
       "      <td>...</td>\n",
       "      <td>...</td>\n",
       "      <td>...</td>\n",
       "      <td>...</td>\n",
       "      <td>...</td>\n",
       "      <td>...</td>\n",
       "      <td>...</td>\n",
       "      <td>...</td>\n",
       "    </tr>\n",
       "    <tr>\n",
       "      <th>123</th>\n",
       "      <td>YVLDHLIVV</td>\n",
       "      <td>A02:01</td>\n",
       "      <td>CAVKNQAGTALIF</td>\n",
       "      <td>CASSPDPTGYNEQFF</td>\n",
       "      <td>EBV</td>\n",
       "      <td>BRLF1</td>\n",
       "      <td>human</td>\n",
       "      <td>PBMC</td>\n",
       "      <td>tetramer-sort, single-cell seq</td>\n",
       "      <td>Kamga</td>\n",
       "    </tr>\n",
       "    <tr>\n",
       "      <th>124</th>\n",
       "      <td>YVLDHLIVV</td>\n",
       "      <td>A02:01</td>\n",
       "      <td>CAVKNQAGTALIF</td>\n",
       "      <td>CASSQGPTGDTQYF</td>\n",
       "      <td>EBV</td>\n",
       "      <td>BRLF1</td>\n",
       "      <td>human</td>\n",
       "      <td>PBMC</td>\n",
       "      <td>tetramer-sort, single-cell seq</td>\n",
       "      <td>Kamga</td>\n",
       "    </tr>\n",
       "    <tr>\n",
       "      <th>125</th>\n",
       "      <td>YVLDHLIVV</td>\n",
       "      <td>A02:01</td>\n",
       "      <td>CAVSEGTNAGKSTF</td>\n",
       "      <td>CASSYTGRALEAFF</td>\n",
       "      <td>EBV</td>\n",
       "      <td>BRLF1</td>\n",
       "      <td>human</td>\n",
       "      <td>PBMC</td>\n",
       "      <td>tetramer-sort, single-cell seq</td>\n",
       "      <td>Kamga</td>\n",
       "    </tr>\n",
       "    <tr>\n",
       "      <th>126</th>\n",
       "      <td>YVLDHLIVV</td>\n",
       "      <td>A02:01</td>\n",
       "      <td>CAVVTGGFKTI</td>\n",
       "      <td>CASSYTTGSADTQYF</td>\n",
       "      <td>EBV</td>\n",
       "      <td>BRLF1</td>\n",
       "      <td>human</td>\n",
       "      <td>PBMC</td>\n",
       "      <td>tetramer-sort, single-cell seq</td>\n",
       "      <td>Kamga</td>\n",
       "    </tr>\n",
       "    <tr>\n",
       "      <th>127</th>\n",
       "      <td>YVLDHLIVV</td>\n",
       "      <td>A02:01</td>\n",
       "      <td>CVVNRLDNAGNMLTF</td>\n",
       "      <td>CASSVAGTSVETQYF</td>\n",
       "      <td>EBV</td>\n",
       "      <td>BRLF1</td>\n",
       "      <td>human</td>\n",
       "      <td>PBMC</td>\n",
       "      <td>tetramer-sort, single-cell seq</td>\n",
       "      <td>Kamga</td>\n",
       "    </tr>\n",
       "  </tbody>\n",
       "</table>\n",
       "<p>221 rows × 10 columns</p>\n",
       "</div>"
      ],
      "text/plain": [
       "    peptide_seq HLA_type            CDR3a            CDR3b peptide_source  \\\n",
       "0     GLCTLVAML   A02:01      CAEDNNARLMF    CSARDGTGNGYTF            EBV   \n",
       "1     GLCTLVAML   A02:01      CAEDNNARLMF    CSARDQTGNGYTF            EBV   \n",
       "2     GLCTLVAML   A02:01      CAELDVQKLVS    CSARDRVGNTIYF            EBV   \n",
       "3     GLCTLVAML   A02:01      CAEDYNARLMF    CSARDRVGNTIYF            EBV   \n",
       "4     GLCTLVAML   A02:01      CAEDKNARLMF    CSARDRVGNTIYF            EBV   \n",
       "..          ...      ...              ...              ...            ...   \n",
       "123   YVLDHLIVV   A02:01    CAVKNQAGTALIF  CASSPDPTGYNEQFF            EBV   \n",
       "124   YVLDHLIVV   A02:01    CAVKNQAGTALIF   CASSQGPTGDTQYF            EBV   \n",
       "125   YVLDHLIVV   A02:01   CAVSEGTNAGKSTF   CASSYTGRALEAFF            EBV   \n",
       "126   YVLDHLIVV   A02:01      CAVVTGGFKTI  CASSYTTGSADTQYF            EBV   \n",
       "127   YVLDHLIVV   A02:01  CVVNRLDNAGNMLTF  CASSVAGTSVETQYF            EBV   \n",
       "\n",
       "    protein tcr_source_organism tissue                 experiment_type dataset  \n",
       "0     BMLF1               human   PBMC  tetramer-sort, single-cell seq   Kamga  \n",
       "1     BMLF1               human   PBMC  tetramer-sort, single-cell seq   Kamga  \n",
       "2     BMLF1               human   PBMC  tetramer-sort, single-cell seq   Kamga  \n",
       "3     BMLF1               human   PBMC  tetramer-sort, single-cell seq   Kamga  \n",
       "4     BMLF1               human   PBMC  tetramer-sort, single-cell seq   Kamga  \n",
       "..      ...                 ...    ...                             ...     ...  \n",
       "123   BRLF1               human   PBMC  tetramer-sort, single-cell seq   Kamga  \n",
       "124   BRLF1               human   PBMC  tetramer-sort, single-cell seq   Kamga  \n",
       "125   BRLF1               human   PBMC  tetramer-sort, single-cell seq   Kamga  \n",
       "126   BRLF1               human   PBMC  tetramer-sort, single-cell seq   Kamga  \n",
       "127   BRLF1               human   PBMC  tetramer-sort, single-cell seq   Kamga  \n",
       "\n",
       "[221 rows x 10 columns]"
      ]
     },
     "execution_count": 23,
     "metadata": {},
     "output_type": "execute_result"
    }
   ],
   "source": [
    "kamga_merged"
   ]
  },
  {
   "cell_type": "code",
   "execution_count": 24,
   "metadata": {},
   "outputs": [],
   "source": [
    "kamga_merged.to_csv(\"../../../data/processed/kamga_input.csv.gz\", index=False)"
   ]
  }
 ],
 "metadata": {
  "kernelspec": {
   "display_name": "Python 3 (ipykernel)",
   "language": "python",
   "name": "python3"
  },
  "language_info": {
   "codemirror_mode": {
    "name": "ipython",
    "version": 3
   },
   "file_extension": ".py",
   "mimetype": "text/x-python",
   "name": "python",
   "nbconvert_exporter": "python",
   "pygments_lexer": "ipython3",
   "version": "3.10.4"
  }
 },
 "nbformat": 4,
 "nbformat_minor": 4
}
