{
 "cells": [
  {
   "cell_type": "code",
   "execution_count": 1,
   "metadata": {},
   "outputs": [],
   "source": [
    "import glob\n",
    "\n",
    "import numpy as np\n",
    "import pandas as pd\n",
    "from Levenshtein import distance\n",
    "from matplotlib import pyplot as plt\n",
    "from scipy.cluster.hierarchy import cut_tree, fcluster, linkage\n",
    "from scipy.spatial.distance import pdist, squareform\n",
    "from tqdm.auto import tqdm"
   ]
  },
  {
   "cell_type": "markdown",
   "metadata": {},
   "source": [
    "# This notebook contains pHLA:TCR curation and EDA\n",
    "1. Prepare data and filter\n",
    "  1. Publications\n",
    "  1. Databases\n",
    "  1. 10x\n",
    "  1. Zhang \n",
    "1. Remove duplicates\n",
    "1. Peptides hierarchical clustering"
   ]
  },
  {
   "cell_type": "markdown",
   "metadata": {},
   "source": [
    "# Prepare and filter"
   ]
  },
  {
   "cell_type": "markdown",
   "metadata": {},
   "source": [
    "## Data from publications (w/o Zhang)"
   ]
  },
  {
   "cell_type": "code",
   "execution_count": 2,
   "metadata": {},
   "outputs": [
    {
     "name": "stdout",
     "output_type": "stream",
     "text": [
      "No dataset column in ../../data/processed/carey_input.csv.gz\n"
     ]
    }
   ],
   "source": [
    "datasets = {}\n",
    "for d in sorted(glob.glob(\"../../data/processed/*input.csv.gz\")):\n",
    "    df = pd.read_csv(d)\n",
    "    # JK: modified -> error earlier\n",
    "    if \"dataset\" in df.columns:\n",
    "        df.loc[:, \"dataset_index\"] = df.dataset + \"_\" + np.arange(len(df)).astype(str)\n",
    "        datasets[df.dataset.iloc[0]] = df\n",
    "    else:\n",
    "        print(\"No dataset column in\", d)  # No dataset column in Carey"
   ]
  },
  {
   "cell_type": "code",
   "execution_count": 3,
   "metadata": {},
   "outputs": [
    {
     "data": {
      "text/plain": [
       "dict_keys(['Attaf', 'Miconnet', 'Cukalac', 'Arakaki', 'gee2018', 'Hakeem', 'huth', 'Kamga', 'Malekzadeh', 'Pogorelyy', 'Soon', 'Takeda'])"
      ]
     },
     "execution_count": 3,
     "metadata": {},
     "output_type": "execute_result"
    }
   ],
   "source": [
    "datasets.keys()"
   ]
  },
  {
   "cell_type": "markdown",
   "metadata": {},
   "source": [
    "### Concat and filter"
   ]
  },
  {
   "cell_type": "code",
   "execution_count": 4,
   "metadata": {},
   "outputs": [],
   "source": [
    "publications = pd.concat(list(datasets.values()))"
   ]
  },
  {
   "cell_type": "code",
   "execution_count": 5,
   "metadata": {},
   "outputs": [],
   "source": [
    "publications.index = np.arange(len(publications))"
   ]
  },
  {
   "cell_type": "code",
   "execution_count": 6,
   "metadata": {},
   "outputs": [
    {
     "name": "stdout",
     "output_type": "stream",
     "text": [
      "9028 observations before filtering\n"
     ]
    }
   ],
   "source": [
    "print(publications.shape[0], \"observations before filtering\")"
   ]
  },
  {
   "cell_type": "code",
   "execution_count": 7,
   "metadata": {},
   "outputs": [
    {
     "data": {
      "text/plain": [
       "Pogorelyy    5968\n",
       "huth         1052\n",
       "Hakeem        324\n",
       "Miconnet      250\n",
       "Kamga         221\n",
       "Price         183\n",
       "Cukalac       176\n",
       "Venturi       168\n",
       "Hanley         86\n",
       "Wang           54\n",
       "Name: dataset, dtype: int64"
      ]
     },
     "execution_count": 7,
     "metadata": {},
     "output_type": "execute_result"
    }
   ],
   "source": [
    "publications.dataset.value_counts().head(10)"
   ]
  },
  {
   "cell_type": "code",
   "execution_count": 8,
   "metadata": {},
   "outputs": [
    {
     "data": {
      "text/plain": [
       "YFV                          5968\n",
       "CMV                          2153\n",
       "EBV                           332\n",
       "HCV                           324\n",
       "InfluenzaA                    176\n",
       "colorectal adenocarcinoma      33\n",
       "lung cancer                    20\n",
       "HEV                            13\n",
       "epithelial cancer               9\n",
       "Name: peptide_source, dtype: int64"
      ]
     },
     "execution_count": 8,
     "metadata": {},
     "output_type": "execute_result"
    }
   ],
   "source": [
    "publications.fillna(\"NA\").peptide_source.value_counts()"
   ]
  },
  {
   "cell_type": "markdown",
   "metadata": {},
   "source": [
    "### Mice TCRs"
   ]
  },
  {
   "cell_type": "code",
   "execution_count": 9,
   "metadata": {},
   "outputs": [
    {
     "data": {
      "text/plain": [
       "human            8852\n",
       "C57BL/6J mice     176\n",
       "Name: tcr_source_organism, dtype: int64"
      ]
     },
     "execution_count": 9,
     "metadata": {},
     "output_type": "execute_result"
    }
   ],
   "source": [
    "publications.tcr_source_organism.fillna(\"NA\").value_counts()"
   ]
  },
  {
   "cell_type": "markdown",
   "metadata": {},
   "source": [
    "### HLA type is NA for mice data"
   ]
  },
  {
   "cell_type": "code",
   "execution_count": 10,
   "metadata": {},
   "outputs": [
    {
     "data": {
      "text/html": [
       "<div>\n",
       "<style scoped>\n",
       "    .dataframe tbody tr th:only-of-type {\n",
       "        vertical-align: middle;\n",
       "    }\n",
       "\n",
       "    .dataframe tbody tr th {\n",
       "        vertical-align: top;\n",
       "    }\n",
       "\n",
       "    .dataframe thead th {\n",
       "        text-align: right;\n",
       "    }\n",
       "</style>\n",
       "<table border=\"1\" class=\"dataframe\">\n",
       "  <thead>\n",
       "    <tr style=\"text-align: right;\">\n",
       "      <th>tcr_source_organism</th>\n",
       "      <th>C57BL/6J mice</th>\n",
       "      <th>human</th>\n",
       "    </tr>\n",
       "    <tr>\n",
       "      <th>HLA_type</th>\n",
       "      <th></th>\n",
       "      <th></th>\n",
       "    </tr>\n",
       "  </thead>\n",
       "  <tbody>\n",
       "    <tr>\n",
       "      <th>False</th>\n",
       "      <td>0</td>\n",
       "      <td>8852</td>\n",
       "    </tr>\n",
       "    <tr>\n",
       "      <th>True</th>\n",
       "      <td>176</td>\n",
       "      <td>0</td>\n",
       "    </tr>\n",
       "  </tbody>\n",
       "</table>\n",
       "</div>"
      ],
      "text/plain": [
       "tcr_source_organism  C57BL/6J mice  human\n",
       "HLA_type                                 \n",
       "False                            0   8852\n",
       "True                           176      0"
      ]
     },
     "execution_count": 10,
     "metadata": {},
     "output_type": "execute_result"
    }
   ],
   "source": [
    "pd.crosstab(publications.HLA_type.isna(), publications.tcr_source_organism)"
   ]
  },
  {
   "cell_type": "markdown",
   "metadata": {},
   "source": [
    "### MHC_type is not NA for mice data"
   ]
  },
  {
   "cell_type": "code",
   "execution_count": 11,
   "metadata": {},
   "outputs": [
    {
     "data": {
      "text/plain": [
       "H-2Db    176\n",
       "Name: MHC_type, dtype: int64"
      ]
     },
     "execution_count": 11,
     "metadata": {},
     "output_type": "execute_result"
    }
   ],
   "source": [
    "publications.MHC_type.value_counts()"
   ]
  },
  {
   "cell_type": "markdown",
   "metadata": {},
   "source": [
    "### Peptides and tissue source"
   ]
  },
  {
   "cell_type": "code",
   "execution_count": 12,
   "metadata": {},
   "outputs": [
    {
     "data": {
      "text/plain": [
       "PBMC           8807\n",
       "spleen          176\n",
       "TIL              42\n",
       "whole blood       3\n",
       "Name: tissue, dtype: int64"
      ]
     },
     "execution_count": 12,
     "metadata": {},
     "output_type": "execute_result"
    }
   ],
   "source": [
    "publications.tissue.value_counts()"
   ]
  },
  {
   "cell_type": "code",
   "execution_count": 13,
   "metadata": {},
   "outputs": [
    {
     "data": {
      "text/plain": [
       "LLWNGPMAV      5968\n",
       "NLVPMVATV       646\n",
       "CRVLCCYVL       435\n",
       "TPRVTGGGAM      354\n",
       "FRCPRRFCF       266\n",
       "RPHERNGFTVL     213\n",
       "GLCTLVAML       159\n",
       "ARMILMTHF       138\n",
       "YVLDHLIVV       128\n",
       "CINGVCWTV       120\n",
       "Name: peptide_seq, dtype: int64"
      ]
     },
     "execution_count": 13,
     "metadata": {},
     "output_type": "execute_result"
    }
   ],
   "source": [
    "publications.peptide_seq.value_counts().head(10)"
   ]
  },
  {
   "cell_type": "code",
   "execution_count": 14,
   "metadata": {},
   "outputs": [
    {
     "data": {
      "text/plain": [
       "(78,)"
      ]
     },
     "execution_count": 14,
     "metadata": {},
     "output_type": "execute_result"
    }
   ],
   "source": [
    "# JK: 75 unique peptides\n",
    "publications.peptide_seq.unique().shape"
   ]
  },
  {
   "cell_type": "markdown",
   "metadata": {},
   "source": [
    "### Normalize MHC names"
   ]
  },
  {
   "cell_type": "code",
   "execution_count": 15,
   "metadata": {},
   "outputs": [],
   "source": [
    "new_hla_type = (\n",
    "    publications.HLA_type.str.replace(\"HLA-\", \"\", regex=False)\n",
    "    .str.replace(\":\", \"\", regex=False)\n",
    "    .str.replace(\"*\", \"\", regex=False)\n",
    ")"
   ]
  },
  {
   "cell_type": "code",
   "execution_count": 16,
   "metadata": {},
   "outputs": [],
   "source": [
    "publications.HLA_type = new_hla_type"
   ]
  },
  {
   "cell_type": "code",
   "execution_count": 17,
   "metadata": {},
   "outputs": [
    {
     "data": {
      "text/plain": [
       "A02         6603\n",
       "C0702        701\n",
       "A0201        434\n",
       "B0702        397\n",
       "B07          174\n",
       "B27          138\n",
       "A2           120\n",
       "B35           79\n",
       "A1            66\n",
       "B0801         45\n",
       "A24           25\n",
       "A2402         20\n",
       "B08           14\n",
       "A01            9\n",
       "B18            9\n",
       "A6801          3\n",
       "B4403          3\n",
       "DR3            3\n",
       "DRB30202       2\n",
       "B12            1\n",
       "DQ6            1\n",
       "DQ11           1\n",
       "DRB11301       1\n",
       "DRB10401       1\n",
       "DPB10201       1\n",
       "DR13           1\n",
       "Name: HLA_type, dtype: int64"
      ]
     },
     "execution_count": 17,
     "metadata": {},
     "output_type": "execute_result"
    }
   ],
   "source": [
    "publications.HLA_type.value_counts()"
   ]
  },
  {
   "cell_type": "markdown",
   "metadata": {},
   "source": [
    "### First filter: \n",
    "1. Human\n",
    "1. MHCI\n",
    "1. CD3Rb is not NA\n",
    "1. CDR3b and peptide contain only standard 20 aa"
   ]
  },
  {
   "cell_type": "code",
   "execution_count": 18,
   "metadata": {},
   "outputs": [],
   "source": [
    "AA_list = [\n",
    "    \"A\",\n",
    "    \"C\",\n",
    "    \"D\",\n",
    "    \"E\",\n",
    "    \"F\",\n",
    "    \"G\",\n",
    "    \"H\",\n",
    "    \"I\",\n",
    "    \"K\",\n",
    "    \"L\",\n",
    "    \"M\",\n",
    "    \"N\",\n",
    "    \"P\",\n",
    "    \"Q\",\n",
    "    \"R\",\n",
    "    \"S\",\n",
    "    \"T\",\n",
    "    \"V\",\n",
    "    \"W\",\n",
    "    \"Y\",\n",
    "]"
   ]
  },
  {
   "cell_type": "code",
   "execution_count": 19,
   "metadata": {},
   "outputs": [
    {
     "data": {
      "text/plain": [
       "True"
      ]
     },
     "execution_count": 19,
     "metadata": {},
     "output_type": "execute_result"
    }
   ],
   "source": [
    "publications.peptide_seq.apply(lambda x: all([xx in AA_list for xx in x]) if not isinstance(x, float) else False).all()"
   ]
  },
  {
   "cell_type": "code",
   "execution_count": 20,
   "metadata": {},
   "outputs": [],
   "source": [
    "publications.CDR3b = publications.CDR3b.str.upper()"
   ]
  },
  {
   "cell_type": "code",
   "execution_count": 21,
   "metadata": {},
   "outputs": [],
   "source": [
    "df_human_mhci_cdr3b = publications[\n",
    "    (publications.tcr_source_organism == \"human\")\n",
    "    & (~publications.HLA_type.fillna(\"NA\").str.startswith(\"D\"))\n",
    "    & (~publications.CDR3b.isna())\n",
    "    & (publications.CDR3b.fillna(\"NA\").apply(lambda x: all([xx in AA_list for xx in x])))\n",
    "    & (\n",
    "        publications.peptide_seq.apply(\n",
    "            lambda x: all([xx in AA_list for xx in x]) if not isinstance(x, float) else False\n",
    "        )\n",
    "    )\n",
    "]"
   ]
  },
  {
   "cell_type": "code",
   "execution_count": 22,
   "metadata": {},
   "outputs": [
    {
     "name": "stdout",
     "output_type": "stream",
     "text": [
      "8745 observations\n"
     ]
    }
   ],
   "source": [
    "print(df_human_mhci_cdr3b.shape[0], \"observations\")"
   ]
  },
  {
   "cell_type": "markdown",
   "metadata": {},
   "source": [
    "### First and last CDR3b anchor positions C and F"
   ]
  },
  {
   "cell_type": "code",
   "execution_count": 23,
   "metadata": {},
   "outputs": [
    {
     "data": {
      "text/plain": [
       "C    8604\n",
       "S      95\n",
       "R      15\n",
       "G       6\n",
       "P       5\n",
       "A       4\n",
       "E       3\n",
       "T       3\n",
       "D       2\n",
       "N       2\n",
       "H       2\n",
       "L       2\n",
       "Q       1\n",
       "I       1\n",
       "Name: CDR3b, dtype: int64"
      ]
     },
     "execution_count": 23,
     "metadata": {},
     "output_type": "execute_result"
    }
   ],
   "source": [
    "df_human_mhci_cdr3b.CDR3b.str[0].value_counts()"
   ]
  },
  {
   "cell_type": "code",
   "execution_count": 24,
   "metadata": {},
   "outputs": [
    {
     "data": {
      "text/plain": [
       "Wang         54\n",
       "Nguyen       44\n",
       "Klinger      16\n",
       "Iancu         9\n",
       "Pogorelyy     7\n",
       "Peggs         6\n",
       "Venturi       2\n",
       "Kamga         2\n",
       "huth          1\n",
       "Name: dataset, dtype: int64"
      ]
     },
     "execution_count": 24,
     "metadata": {},
     "output_type": "execute_result"
    }
   ],
   "source": [
    "df_human_mhci_cdr3b.loc[df_human_mhci_cdr3b.CDR3b.str[0] != \"C\", \"dataset\"].value_counts()"
   ]
  },
  {
   "cell_type": "markdown",
   "metadata": {},
   "source": [
    "### Missing first anchor, looks like garbage"
   ]
  },
  {
   "cell_type": "code",
   "execution_count": 25,
   "metadata": {},
   "outputs": [
    {
     "data": {
      "text/plain": [
       "721     GDSALYFCASTLLGGAGYNEQFFGPGTRLTV\n",
       "940                         SLPPGRGYTEA\n",
       "725     PSQTSVYFCASSYATGASYGYTFGSGTRLTV\n",
       "1342                         SYKTGTALGY\n",
       "967                SLQAGANEQFFGPGTRLTVL\n",
       "1331                         SPVGSFADTQ\n",
       "1333                       SRDTSGRARNTQ\n",
       "1303                          GRGGMIGEQ\n",
       "1297                      RATSREGPNQPQH\n",
       "1335                          SSGALNTEA\n",
       "Name: CDR3b, dtype: object"
      ]
     },
     "execution_count": 25,
     "metadata": {},
     "output_type": "execute_result"
    }
   ],
   "source": [
    "df_human_mhci_cdr3b.loc[df_human_mhci_cdr3b.CDR3b.str[0] != \"C\", \"CDR3b\"].sample(10)"
   ]
  },
  {
   "cell_type": "markdown",
   "metadata": {},
   "source": [
    "### Missing last anchor, looks ok"
   ]
  },
  {
   "cell_type": "code",
   "execution_count": 26,
   "metadata": {},
   "outputs": [
    {
     "data": {
      "text/plain": [
       "1233           CASSSAHYGYT\n",
       "515            CASSSANYGYT\n",
       "6219       CASSKLAGGSYEQYV\n",
       "1140           CANSSANYGYT\n",
       "1229        CASSQADRAVYGYT\n",
       "258            CSTQEGGYGYT\n",
       "607             RLLAGGRSAQ\n",
       "684         CASSYSTAGELFFG\n",
       "1365        CASSPARNTEAFFG\n",
       "495     CASSSHDYRGRRSPLHFG\n",
       "1135       CAGSQEQGPGNQPQH\n",
       "1137           CAGSSAYYGYT\n",
       "1288        CSLKSSGNSSYEQY\n",
       "1235           CASSSANYGYT\n",
       "6337       CASSFDRFLIYEQYV\n",
       "972        CANSYATGIGNYGYT\n",
       "1342            SYKTGTALGY\n",
       "7839            CAPWAYEQYV\n",
       "1314              SEWADTEA\n",
       "Name: CDR3b, dtype: object"
      ]
     },
     "execution_count": 26,
     "metadata": {},
     "output_type": "execute_result"
    }
   ],
   "source": [
    "df_human_mhci_cdr3b.loc[df_human_mhci_cdr3b.CDR3b.str[-1] != \"F\", \"CDR3b\"].sample(19)"
   ]
  },
  {
   "cell_type": "code",
   "execution_count": 27,
   "metadata": {},
   "outputs": [],
   "source": [
    "v1 = (df_human_mhci_cdr3b.CDR3b.str[0] == \"C\").values\n",
    "v2 = (df_human_mhci_cdr3b.CDR3b.str[-1] == \"F\").values"
   ]
  },
  {
   "cell_type": "code",
   "execution_count": 28,
   "metadata": {},
   "outputs": [
    {
     "data": {
      "text/html": [
       "<div>\n",
       "<style scoped>\n",
       "    .dataframe tbody tr th:only-of-type {\n",
       "        vertical-align: middle;\n",
       "    }\n",
       "\n",
       "    .dataframe tbody tr th {\n",
       "        vertical-align: top;\n",
       "    }\n",
       "\n",
       "    .dataframe thead th {\n",
       "        text-align: right;\n",
       "    }\n",
       "</style>\n",
       "<table border=\"1\" class=\"dataframe\">\n",
       "  <thead>\n",
       "    <tr style=\"text-align: right;\">\n",
       "      <th>col_0</th>\n",
       "      <th>False</th>\n",
       "      <th>True</th>\n",
       "    </tr>\n",
       "    <tr>\n",
       "      <th>row_0</th>\n",
       "      <th></th>\n",
       "      <th></th>\n",
       "    </tr>\n",
       "  </thead>\n",
       "  <tbody>\n",
       "    <tr>\n",
       "      <th>False</th>\n",
       "      <td>133</td>\n",
       "      <td>8</td>\n",
       "    </tr>\n",
       "    <tr>\n",
       "      <th>True</th>\n",
       "      <td>501</td>\n",
       "      <td>8103</td>\n",
       "    </tr>\n",
       "  </tbody>\n",
       "</table>\n",
       "</div>"
      ],
      "text/plain": [
       "col_0  False  True\n",
       "row_0             \n",
       "False    133     8\n",
       "True     501  8103"
      ]
     },
     "execution_count": 28,
     "metadata": {},
     "output_type": "execute_result"
    }
   ],
   "source": [
    "pd.crosstab(v1, v2, dropna=False)"
   ]
  },
  {
   "cell_type": "markdown",
   "metadata": {},
   "source": [
    "### Second filter: \n",
    "1. CDR3b[0] == 'C'"
   ]
  },
  {
   "cell_type": "code",
   "execution_count": 29,
   "metadata": {},
   "outputs": [],
   "source": [
    "df_human_mhci_cdr3b_anchors = df_human_mhci_cdr3b[df_human_mhci_cdr3b.CDR3b.str[0] == \"C\"]"
   ]
  },
  {
   "cell_type": "markdown",
   "metadata": {},
   "source": [
    "### Length"
   ]
  },
  {
   "cell_type": "code",
   "execution_count": 30,
   "metadata": {},
   "outputs": [
    {
     "data": {
      "text/plain": [
       "(99.6, '% between CDR3b length 10 and 20')"
      ]
     },
     "execution_count": 30,
     "metadata": {},
     "output_type": "execute_result"
    }
   ],
   "source": [
    "df_human_mhci_cdr3b_anchors.CDR3b.str.len().isin(np.arange(10, 21)).mean().round(\n",
    "    3\n",
    ") * 100, \"% between CDR3b length 10 and 20\""
   ]
  },
  {
   "cell_type": "code",
   "execution_count": 31,
   "metadata": {},
   "outputs": [
    {
     "data": {
      "text/plain": [
       "8       57\n",
       "9     7954\n",
       "10     371\n",
       "11     221\n",
       "12       1\n",
       "Name: peptide_seq, dtype: int64"
      ]
     },
     "execution_count": 31,
     "metadata": {},
     "output_type": "execute_result"
    }
   ],
   "source": [
    "df_human_mhci_cdr3b_anchors.peptide_seq.str.len().value_counts().sort_index()"
   ]
  },
  {
   "cell_type": "code",
   "execution_count": 32,
   "metadata": {},
   "outputs": [],
   "source": [
    "# Only one peptide over 11 AA"
   ]
  },
  {
   "cell_type": "markdown",
   "metadata": {},
   "source": [
    "### Third filter: \n",
    "1. peptide length in [8-11]\n",
    "1. CDR3b length in [10-20]"
   ]
  },
  {
   "cell_type": "code",
   "execution_count": 33,
   "metadata": {},
   "outputs": [],
   "source": [
    "df_human_mhci_cdr3b_anchors_length = df_human_mhci_cdr3b_anchors[\n",
    "    df_human_mhci_cdr3b_anchors.peptide_seq.str.len().isin([8, 9, 10, 11])\n",
    "    & df_human_mhci_cdr3b_anchors.CDR3b.str.len().isin(np.arange(10, 21))\n",
    "]"
   ]
  },
  {
   "cell_type": "code",
   "execution_count": 34,
   "metadata": {},
   "outputs": [
    {
     "data": {
      "text/plain": [
       "(8567, 'observations')"
      ]
     },
     "execution_count": 34,
     "metadata": {},
     "output_type": "execute_result"
    }
   ],
   "source": [
    "df_human_mhci_cdr3b_anchors_length.shape[0], \"observations\""
   ]
  },
  {
   "cell_type": "code",
   "execution_count": 35,
   "metadata": {},
   "outputs": [],
   "source": [
    "# publications_df = df_human_mhci_cdr3b_anchors_length"
   ]
  },
  {
   "cell_type": "code",
   "execution_count": null,
   "metadata": {},
   "outputs": [],
   "source": []
  },
  {
   "cell_type": "markdown",
   "metadata": {},
   "source": [
    "### Combine all filters into a single function\n"
   ]
  },
  {
   "cell_type": "code",
   "execution_count": 36,
   "metadata": {},
   "outputs": [],
   "source": [
    "def filter_tcr(databases):\n",
    "    databases.CDR3b = databases.CDR3b.str.upper()\n",
    "    databases_filtered = databases[\n",
    "        (databases.tcr_source_organism == \"human\")\n",
    "        & (databases.HLA_type.str.contains(\"^(A|B|C)\"))\n",
    "        & (~databases.CDR3b.isna())\n",
    "        & databases.peptide_seq.str.len().isin([8, 9, 10, 11])\n",
    "        & databases.CDR3b.str.len().isin(np.arange(10, 21))\n",
    "        & (databases.CDR3b.str[0] == \"C\")\n",
    "        & (databases.CDR3b.apply(lambda x: all([xx in AA_list for xx in x]) if not isinstance(x, float) else False))\n",
    "        & (\n",
    "            databases.peptide_seq.apply(\n",
    "                lambda x: all([xx in AA_list for xx in x]) if not isinstance(x, float) else False\n",
    "            )\n",
    "        )\n",
    "    ]\n",
    "    databases_filtered.index = np.arange(len(databases_filtered))\n",
    "    return databases_filtered"
   ]
  },
  {
   "cell_type": "code",
   "execution_count": 37,
   "metadata": {},
   "outputs": [
    {
     "name": "stderr",
     "output_type": "stream",
     "text": [
      "<ipython-input-36-38537a903742>:5: UserWarning: This pattern has match groups. To actually get the groups, use str.extract.\n",
      "  & (databases.HLA_type.str.contains(\"^(A|B|C)\"))\n"
     ]
    }
   ],
   "source": [
    "publications_filtered = filter_tcr(publications)"
   ]
  },
  {
   "cell_type": "code",
   "execution_count": 38,
   "metadata": {},
   "outputs": [],
   "source": [
    "publications_df = publications_filtered"
   ]
  },
  {
   "cell_type": "code",
   "execution_count": 39,
   "metadata": {},
   "outputs": [
    {
     "data": {
      "text/plain": [
       "(8567, 8567)"
      ]
     },
     "execution_count": 39,
     "metadata": {},
     "output_type": "execute_result"
    }
   ],
   "source": [
    "len(df_human_mhci_cdr3b_anchors_length), len(publications_filtered)"
   ]
  },
  {
   "cell_type": "code",
   "execution_count": 40,
   "metadata": {},
   "outputs": [
    {
     "name": "stdout",
     "output_type": "stream",
     "text": [
      "8567 observations after filtering\n"
     ]
    }
   ],
   "source": [
    "print(publications_filtered.shape[0], \"observations after filtering\")"
   ]
  },
  {
   "cell_type": "markdown",
   "metadata": {},
   "source": [
    "# Data from TCR databases"
   ]
  },
  {
   "cell_type": "code",
   "execution_count": 41,
   "metadata": {},
   "outputs": [],
   "source": [
    "mcpas = pd.read_csv(\"../../data/processed/mcpas_tcr_final.csv.gz\")\n",
    "mcpas.loc[:, \"dataset\"] = \"McPAS\""
   ]
  },
  {
   "cell_type": "code",
   "execution_count": 42,
   "metadata": {},
   "outputs": [
    {
     "name": "stderr",
     "output_type": "stream",
     "text": [
      "/home/ardigen/miniconda3/envs/keras2/lib/python3.8/site-packages/IPython/core/interactiveshell.py:3418: DtypeWarning: Columns (2,7,9) have mixed types.Specify dtype option on import or set low_memory=False.\n",
      "  exec(code_obj, self.user_global_ns, self.user_ns)\n"
     ]
    }
   ],
   "source": [
    "vdjdb = pd.read_csv(\"../../data/processed/vdj_final.csv.gz\")\n",
    "vdjdb.loc[:, \"dataset\"] = \"VDJdb\""
   ]
  },
  {
   "cell_type": "code",
   "execution_count": 43,
   "metadata": {},
   "outputs": [],
   "source": [
    "tbadb = pd.read_csv(\"../../data/processed/tba_final.csv.gz\")\n",
    "tbadb.loc[:, \"dataset\"] = \"TBAdb\""
   ]
  },
  {
   "cell_type": "markdown",
   "metadata": {},
   "source": [
    "### 10x data in VDJdb is questionable. They report ~15k binders, but I've found ~11k following the instructions in the manual. \n",
    "See https://pages.10xgenomics.com/rs/446-PBO-704/images/10x_AN047_IP_A_New_Way_of_Exploring_Immunity_Digital.pdf\n"
   ]
  },
  {
   "cell_type": "code",
   "execution_count": 44,
   "metadata": {},
   "outputs": [],
   "source": [
    "vdj_tenx = vdjdb[vdjdb.tcr_reference == vdjdb.tcr_reference.value_counts().index[0]]"
   ]
  },
  {
   "cell_type": "code",
   "execution_count": 45,
   "metadata": {},
   "outputs": [
    {
     "data": {
      "text/plain": [
       "(34486, 20)"
      ]
     },
     "execution_count": 45,
     "metadata": {},
     "output_type": "execute_result"
    }
   ],
   "source": [
    "vdj_tenx.shape"
   ]
  },
  {
   "cell_type": "code",
   "execution_count": 46,
   "metadata": {},
   "outputs": [
    {
     "data": {
      "text/plain": [
       "(15507,)"
      ]
     },
     "execution_count": 46,
     "metadata": {},
     "output_type": "execute_result"
    }
   ],
   "source": [
    "vdj_tenx.CDR3b.unique().shape"
   ]
  },
  {
   "cell_type": "markdown",
   "metadata": {},
   "source": [
    "### Save the vdj_tenx for later analysis and remove it from the vdjdb dataframe"
   ]
  },
  {
   "cell_type": "code",
   "execution_count": 47,
   "metadata": {},
   "outputs": [],
   "source": [
    "vdjdb = vdjdb[vdjdb.tcr_reference != vdjdb.tcr_reference.value_counts().index[0]]"
   ]
  },
  {
   "cell_type": "code",
   "execution_count": 48,
   "metadata": {},
   "outputs": [
    {
     "data": {
      "text/plain": [
       "(24352, 20)"
      ]
     },
     "execution_count": 48,
     "metadata": {},
     "output_type": "execute_result"
    }
   ],
   "source": [
    "vdjdb.shape"
   ]
  },
  {
   "cell_type": "code",
   "execution_count": 49,
   "metadata": {},
   "outputs": [
    {
     "data": {
      "text/html": [
       "<div>\n",
       "<style scoped>\n",
       "    .dataframe tbody tr th:only-of-type {\n",
       "        vertical-align: middle;\n",
       "    }\n",
       "\n",
       "    .dataframe tbody tr th {\n",
       "        vertical-align: top;\n",
       "    }\n",
       "\n",
       "    .dataframe thead th {\n",
       "        text-align: right;\n",
       "    }\n",
       "</style>\n",
       "<table border=\"1\" class=\"dataframe\">\n",
       "  <thead>\n",
       "    <tr style=\"text-align: right;\">\n",
       "      <th></th>\n",
       "      <th>peptide_seq</th>\n",
       "      <th>HLA_type</th>\n",
       "      <th>CDR3a</th>\n",
       "      <th>CDR3b</th>\n",
       "      <th>peptide_source</th>\n",
       "      <th>peptide_gene</th>\n",
       "      <th>MHC_class</th>\n",
       "      <th>TRAV</th>\n",
       "      <th>TRBV</th>\n",
       "      <th>TRAJ</th>\n",
       "      <th>TRBJ</th>\n",
       "      <th>tcr_source_organism</th>\n",
       "      <th>tissue</th>\n",
       "      <th>experiment_type</th>\n",
       "      <th>single_cell</th>\n",
       "      <th>sequencing</th>\n",
       "      <th>tcr_reference</th>\n",
       "      <th>vdj_CDR3fix</th>\n",
       "      <th>vdj_score</th>\n",
       "      <th>dataset</th>\n",
       "    </tr>\n",
       "  </thead>\n",
       "  <tbody>\n",
       "    <tr>\n",
       "      <th>28995</th>\n",
       "      <td>GPGHKARVL</td>\n",
       "      <td>B07:02</td>\n",
       "      <td>NaN</td>\n",
       "      <td>CATRSTDTQYF</td>\n",
       "      <td>HIV-1</td>\n",
       "      <td>Gag</td>\n",
       "      <td>I</td>\n",
       "      <td>NaN</td>\n",
       "      <td>15*01</td>\n",
       "      <td>NaN</td>\n",
       "      <td>2-3*01</td>\n",
       "      <td>human</td>\n",
       "      <td>PBMC</td>\n",
       "      <td>multimer-sort</td>\n",
       "      <td>NaN</td>\n",
       "      <td>sanger</td>\n",
       "      <td>PMID:21555537</td>\n",
       "      <td>{\"cdr3\": \"CATRSTDTQYF\", \"cdr3_old\": \"CATRSTDTQ...</td>\n",
       "      <td>1</td>\n",
       "      <td>VDJdb</td>\n",
       "    </tr>\n",
       "    <tr>\n",
       "      <th>26952</th>\n",
       "      <td>CINGVCWTV</td>\n",
       "      <td>A02</td>\n",
       "      <td>NaN</td>\n",
       "      <td>CASTSQSELFF</td>\n",
       "      <td>HCV</td>\n",
       "      <td>NS3</td>\n",
       "      <td>I</td>\n",
       "      <td>NaN</td>\n",
       "      <td>6-1*01</td>\n",
       "      <td>NaN</td>\n",
       "      <td>1-4*01</td>\n",
       "      <td>human</td>\n",
       "      <td>PBMC</td>\n",
       "      <td>tetramer-sort</td>\n",
       "      <td>NaN</td>\n",
       "      <td>amplicon-seq</td>\n",
       "      <td>PMID:28146579</td>\n",
       "      <td>{\"cdr3\": \"CASTSQSELFF\", \"cdr3_old\": \"CASTSQSEL...</td>\n",
       "      <td>1</td>\n",
       "      <td>VDJdb</td>\n",
       "    </tr>\n",
       "    <tr>\n",
       "      <th>29359</th>\n",
       "      <td>MLNIPSINV</td>\n",
       "      <td>A02</td>\n",
       "      <td>NaN</td>\n",
       "      <td>CAWSVASTGLNYEQYF</td>\n",
       "      <td>CMV</td>\n",
       "      <td>pp65</td>\n",
       "      <td>I</td>\n",
       "      <td>NaN</td>\n",
       "      <td>30*01</td>\n",
       "      <td>NaN</td>\n",
       "      <td>2-7*01</td>\n",
       "      <td>human</td>\n",
       "      <td>NaN</td>\n",
       "      <td>tetramer-sort</td>\n",
       "      <td>NaN</td>\n",
       "      <td>sanger</td>\n",
       "      <td>PMID:25925682</td>\n",
       "      <td>{\"cdr3\": \"CAWSVASTGLNYEQYF\", \"cdr3_old\": \"CAWS...</td>\n",
       "      <td>1</td>\n",
       "      <td>VDJdb</td>\n",
       "    </tr>\n",
       "  </tbody>\n",
       "</table>\n",
       "</div>"
      ],
      "text/plain": [
       "      peptide_seq HLA_type CDR3a             CDR3b peptide_source  \\\n",
       "28995   GPGHKARVL   B07:02   NaN       CATRSTDTQYF          HIV-1   \n",
       "26952   CINGVCWTV      A02   NaN       CASTSQSELFF            HCV   \n",
       "29359   MLNIPSINV      A02   NaN  CAWSVASTGLNYEQYF            CMV   \n",
       "\n",
       "      peptide_gene MHC_class TRAV    TRBV TRAJ    TRBJ tcr_source_organism  \\\n",
       "28995          Gag         I  NaN   15*01  NaN  2-3*01               human   \n",
       "26952          NS3         I  NaN  6-1*01  NaN  1-4*01               human   \n",
       "29359         pp65         I  NaN   30*01  NaN  2-7*01               human   \n",
       "\n",
       "      tissue experiment_type single_cell    sequencing  tcr_reference  \\\n",
       "28995   PBMC   multimer-sort         NaN        sanger  PMID:21555537   \n",
       "26952   PBMC   tetramer-sort         NaN  amplicon-seq  PMID:28146579   \n",
       "29359    NaN   tetramer-sort         NaN        sanger  PMID:25925682   \n",
       "\n",
       "                                             vdj_CDR3fix  vdj_score dataset  \n",
       "28995  {\"cdr3\": \"CATRSTDTQYF\", \"cdr3_old\": \"CATRSTDTQ...          1   VDJdb  \n",
       "26952  {\"cdr3\": \"CASTSQSELFF\", \"cdr3_old\": \"CASTSQSEL...          1   VDJdb  \n",
       "29359  {\"cdr3\": \"CAWSVASTGLNYEQYF\", \"cdr3_old\": \"CAWS...          1   VDJdb  "
      ]
     },
     "execution_count": 49,
     "metadata": {},
     "output_type": "execute_result"
    }
   ],
   "source": [
    "vdjdb.sample(3)"
   ]
  },
  {
   "cell_type": "code",
   "execution_count": 50,
   "metadata": {},
   "outputs": [
    {
     "data": {
      "text/plain": [
       "LPRRSGAAGA    2142\n",
       "GILGFVFTL     1791\n",
       "GLCTLVAML      980\n",
       "NLVPMVATV      814\n",
       "SSYRRPVGI      588\n",
       "Name: peptide_seq, dtype: int64"
      ]
     },
     "execution_count": 50,
     "metadata": {},
     "output_type": "execute_result"
    }
   ],
   "source": [
    "mcpas.peptide_seq.value_counts().head(5)"
   ]
  },
  {
   "cell_type": "code",
   "execution_count": 51,
   "metadata": {},
   "outputs": [
    {
     "data": {
      "text/html": [
       "<div>\n",
       "<style scoped>\n",
       "    .dataframe tbody tr th:only-of-type {\n",
       "        vertical-align: middle;\n",
       "    }\n",
       "\n",
       "    .dataframe tbody tr th {\n",
       "        vertical-align: top;\n",
       "    }\n",
       "\n",
       "    .dataframe thead th {\n",
       "        text-align: right;\n",
       "    }\n",
       "</style>\n",
       "<table border=\"1\" class=\"dataframe\">\n",
       "  <thead>\n",
       "    <tr style=\"text-align: right;\">\n",
       "      <th></th>\n",
       "      <th>peptide_seq</th>\n",
       "      <th>HLA_type</th>\n",
       "      <th>CDR3a</th>\n",
       "      <th>CDR3b</th>\n",
       "      <th>peptide_source</th>\n",
       "      <th>MHC_class</th>\n",
       "      <th>TRAV</th>\n",
       "      <th>TRBV</th>\n",
       "      <th>TRAJ</th>\n",
       "      <th>TRBJ</th>\n",
       "      <th>...</th>\n",
       "      <th>single_cell</th>\n",
       "      <th>mcpas_ngs</th>\n",
       "      <th>tissue</th>\n",
       "      <th>category</th>\n",
       "      <th>mcpas_mouse_strain</th>\n",
       "      <th>tcr_reference</th>\n",
       "      <th>additional_study_details</th>\n",
       "      <th>mcpas_reconstructed_j_annotation</th>\n",
       "      <th>mcpas_remarks</th>\n",
       "      <th>dataset</th>\n",
       "    </tr>\n",
       "  </thead>\n",
       "  <tbody>\n",
       "    <tr>\n",
       "      <th>3526</th>\n",
       "      <td>ASNENMETM</td>\n",
       "      <td>H-2Kb</td>\n",
       "      <td>CAMRGNSGTYQRF</td>\n",
       "      <td>CASSGGANTGQLYF</td>\n",
       "      <td>Influenza</td>\n",
       "      <td>I</td>\n",
       "      <td>16D/DV11:02</td>\n",
       "      <td>13-1</td>\n",
       "      <td>1-01</td>\n",
       "      <td>2-2:01</td>\n",
       "      <td>...</td>\n",
       "      <td>yes</td>\n",
       "      <td>yes</td>\n",
       "      <td>Bronchoalveolar</td>\n",
       "      <td>pathogens</td>\n",
       "      <td>C57/BL6</td>\n",
       "      <td>PMID:28636592</td>\n",
       "      <td>NaN</td>\n",
       "      <td>no</td>\n",
       "      <td>NaN</td>\n",
       "      <td>McPAS</td>\n",
       "    </tr>\n",
       "    <tr>\n",
       "      <th>4203</th>\n",
       "      <td>SSPPMFRV</td>\n",
       "      <td>H-2Kb</td>\n",
       "      <td>CAASMGNYNVLYF</td>\n",
       "      <td>CASSPDWGGYAEQFF</td>\n",
       "      <td>mCMV</td>\n",
       "      <td>I</td>\n",
       "      <td>7-2:02</td>\n",
       "      <td>4-01</td>\n",
       "      <td>2-01</td>\n",
       "      <td>2-1:01</td>\n",
       "      <td>...</td>\n",
       "      <td>yes</td>\n",
       "      <td>yes</td>\n",
       "      <td>Spleen</td>\n",
       "      <td>pathogens</td>\n",
       "      <td>C57/BL6</td>\n",
       "      <td>PMID:28636592</td>\n",
       "      <td>NaN</td>\n",
       "      <td>no</td>\n",
       "      <td>NaN</td>\n",
       "      <td>McPAS</td>\n",
       "    </tr>\n",
       "    <tr>\n",
       "      <th>11568</th>\n",
       "      <td>RPHERNGFTVL</td>\n",
       "      <td>B07:02</td>\n",
       "      <td>NaN</td>\n",
       "      <td>CATGTGDSNQPQHF</td>\n",
       "      <td>Cytomegalovirus (CMV)</td>\n",
       "      <td>I</td>\n",
       "      <td>NaN</td>\n",
       "      <td>10-3</td>\n",
       "      <td>NaN</td>\n",
       "      <td>1-5</td>\n",
       "      <td>...</td>\n",
       "      <td>no</td>\n",
       "      <td>yes</td>\n",
       "      <td>PBMC</td>\n",
       "      <td>pathogens</td>\n",
       "      <td>NaN</td>\n",
       "      <td>PMID:30587531</td>\n",
       "      <td>NaN</td>\n",
       "      <td>NaN</td>\n",
       "      <td>NaN</td>\n",
       "      <td>McPAS</td>\n",
       "    </tr>\n",
       "  </tbody>\n",
       "</table>\n",
       "<p>3 rows × 29 columns</p>\n",
       "</div>"
      ],
      "text/plain": [
       "       peptide_seq HLA_type          CDR3a            CDR3b  \\\n",
       "3526     ASNENMETM    H-2Kb  CAMRGNSGTYQRF   CASSGGANTGQLYF   \n",
       "4203      SSPPMFRV    H-2Kb  CAASMGNYNVLYF  CASSPDWGGYAEQFF   \n",
       "11568  RPHERNGFTVL   B07:02            NaN   CATGTGDSNQPQHF   \n",
       "\n",
       "              peptide_source MHC_class         TRAV  TRBV  TRAJ    TRBJ  ...  \\\n",
       "3526               Influenza         I  16D/DV11:02  13-1  1-01  2-2:01  ...   \n",
       "4203                    mCMV         I       7-2:02  4-01  2-01  2-1:01  ...   \n",
       "11568  Cytomegalovirus (CMV)         I          NaN  10-3   NaN     1-5  ...   \n",
       "\n",
       "      single_cell mcpas_ngs           tissue   category mcpas_mouse_strain  \\\n",
       "3526          yes       yes  Bronchoalveolar  pathogens            C57/BL6   \n",
       "4203          yes       yes           Spleen  pathogens            C57/BL6   \n",
       "11568          no       yes             PBMC  pathogens                NaN   \n",
       "\n",
       "       tcr_reference additional_study_details  \\\n",
       "3526   PMID:28636592                      NaN   \n",
       "4203   PMID:28636592                      NaN   \n",
       "11568  PMID:30587531                      NaN   \n",
       "\n",
       "      mcpas_reconstructed_j_annotation mcpas_remarks dataset  \n",
       "3526                                no           NaN   McPAS  \n",
       "4203                                no           NaN   McPAS  \n",
       "11568                              NaN           NaN   McPAS  \n",
       "\n",
       "[3 rows x 29 columns]"
      ]
     },
     "execution_count": 51,
     "metadata": {},
     "output_type": "execute_result"
    }
   ],
   "source": [
    "mcpas.sample(3)"
   ]
  },
  {
   "cell_type": "markdown",
   "metadata": {},
   "source": [
    "### Concat VDJdb, McPAS and TBAdb and filter"
   ]
  },
  {
   "cell_type": "code",
   "execution_count": 52,
   "metadata": {},
   "outputs": [],
   "source": [
    "databases = pd.concat([mcpas, vdjdb, tbadb])"
   ]
  },
  {
   "cell_type": "code",
   "execution_count": 53,
   "metadata": {},
   "outputs": [
    {
     "data": {
      "text/plain": [
       "False    39322\n",
       "True      6190\n",
       "Name: CDR3b, dtype: int64"
      ]
     },
     "execution_count": 53,
     "metadata": {},
     "output_type": "execute_result"
    }
   ],
   "source": [
    "databases.CDR3b.isna().value_counts()"
   ]
  },
  {
   "cell_type": "markdown",
   "metadata": {},
   "source": [
    "**Fix HLA types**"
   ]
  },
  {
   "cell_type": "code",
   "execution_count": 54,
   "metadata": {},
   "outputs": [
    {
     "data": {
      "text/plain": [
       "A02          14952\n",
       "A02:01        6942\n",
       "H-2Kb         2895\n",
       "H-2Db         2580\n",
       "A2            2296\n",
       "B7            2177\n",
       "Mamu-A01      1337\n",
       "B07:02        1192\n",
       "B42:01         942\n",
       "DRA01          723\n",
       "C07:02         701\n",
       "DRA01:01       647\n",
       "A01:01         541\n",
       "A24:02         527\n",
       "B08:01         501\n",
       "DRB104-01      477\n",
       "B27:05         466\n",
       "A11:01         430\n",
       "B08            424\n",
       "H-2b           362\n",
       "B57:01         358\n",
       "DRA101         334\n",
       "B35:01         314\n",
       "A1             305\n",
       "B27            217\n",
       "A68:01         215\n",
       "DR5            202\n",
       "A-A01:01       201\n",
       "DQ8            151\n",
       "DR15           150\n",
       "DQ2            149\n",
       "DR11           143\n",
       "B57:03         133\n",
       "B57            120\n",
       "H-2Kd          117\n",
       "B44             79\n",
       "B35:08          76\n",
       "A03:01          67\n",
       "A11             62\n",
       "DR1             60\n",
       "DRB104:01       55\n",
       "B07             51\n",
       "B44:03:08       49\n",
       "A02:01:48       47\n",
       "A03             42\n",
       "A-B08:01        42\n",
       "B15             41\n",
       "B81:01          40\n",
       "A01             36\n",
       "B51:01          36\n",
       "Name: HLA_type, dtype: int64"
      ]
     },
     "execution_count": 54,
     "metadata": {},
     "output_type": "execute_result"
    }
   ],
   "source": [
    "databases.HLA_type.value_counts().head(50)"
   ]
  },
  {
   "cell_type": "code",
   "execution_count": 55,
   "metadata": {},
   "outputs": [],
   "source": [
    "databases.HLA_type = (\n",
    "    databases.HLA_type.str.replace(\"HLA-\", \"\", regex=False)\n",
    "    .str.replace(\":\", \"\", regex=False)\n",
    "    .str.replace(\"*\", \"\", regex=False,)\n",
    "    .str.replace(\"A-\", \"\", regex=False)\n",
    ")"
   ]
  },
  {
   "cell_type": "code",
   "execution_count": 56,
   "metadata": {},
   "outputs": [
    {
     "data": {
      "text/plain": [
       "VDJdb    4987\n",
       "McPAS    2935\n",
       "Name: dataset, dtype: int64"
      ]
     },
     "execution_count": 56,
     "metadata": {},
     "output_type": "execute_result"
    }
   ],
   "source": [
    "databases[databases.HLA_type.str.contains(\"-\")].dataset.value_counts()"
   ]
  },
  {
   "cell_type": "code",
   "execution_count": 57,
   "metadata": {},
   "outputs": [
    {
     "data": {
      "text/plain": [
       "A2    2296\n",
       "B7    2177\n",
       "A1     305\n",
       "B8       3\n",
       "Name: HLA_type, dtype: int64"
      ]
     },
     "execution_count": 57,
     "metadata": {},
     "output_type": "execute_result"
    }
   ],
   "source": [
    "databases.HLA_type[databases.HLA_type.str.len() == 2].value_counts()"
   ]
  },
  {
   "cell_type": "code",
   "execution_count": 58,
   "metadata": {},
   "outputs": [],
   "source": [
    "databases.HLA_type = (\n",
    "    databases.HLA_type.replace(\"B7\", \"B07\").replace(\"A1\", \"A01\").replace(\"A2\", \"A02\").replace(\"B8\", \"B08\")\n",
    ")"
   ]
  },
  {
   "cell_type": "code",
   "execution_count": 59,
   "metadata": {},
   "outputs": [
    {
     "data": {
      "text/plain": [
       "A02          17248\n",
       "A0201         6961\n",
       "H-2Kb         2895\n",
       "H-2Db         2580\n",
       "B07           2228\n",
       "Mamu-A01      1337\n",
       "B0702         1192\n",
       "B4201          942\n",
       "A0101          742\n",
       "DRA01          723\n",
       "C0702          701\n",
       "DRA0101        647\n",
       "B0801          543\n",
       "A2402          527\n",
       "DRB104-01      477\n",
       "B2705          466\n",
       "B08            447\n",
       "A1101          430\n",
       "H-2b           362\n",
       "B5701          358\n",
       "A01            341\n",
       "DRA101         334\n",
       "B3501          314\n",
       "B27            217\n",
       "A6801          215\n",
       "DR5            202\n",
       "DQ8            151\n",
       "DR15           150\n",
       "DQ2            149\n",
       "DR11           143\n",
       "B5703          133\n",
       "B57            120\n",
       "H-2Kd          117\n",
       "B44             79\n",
       "B3508           76\n",
       "A0301           67\n",
       "A11             62\n",
       "DR1             60\n",
       "DRB10401        55\n",
       "B440308         49\n",
       "A020148         47\n",
       "A03             42\n",
       "B15             41\n",
       "B8101           40\n",
       "B5101           36\n",
       "DRB1            32\n",
       "DPB10201        28\n",
       "H-2bxH-2z       25\n",
       "H-2u            21\n",
       "DQA10501        21\n",
       "Name: HLA_type, dtype: int64"
      ]
     },
     "execution_count": 59,
     "metadata": {},
     "output_type": "execute_result"
    }
   ],
   "source": [
    "databases.HLA_type.value_counts().head(50)"
   ]
  },
  {
   "cell_type": "code",
   "execution_count": 60,
   "metadata": {},
   "outputs": [
    {
     "data": {
      "text/plain": [
       "(45512, 35)"
      ]
     },
     "execution_count": 60,
     "metadata": {},
     "output_type": "execute_result"
    }
   ],
   "source": [
    "databases.shape"
   ]
  },
  {
   "cell_type": "code",
   "execution_count": 61,
   "metadata": {},
   "outputs": [
    {
     "data": {
      "text/plain": [
       "human    42866\n",
       "mouse     2602\n",
       "Name: tcr_source_organism, dtype: int64"
      ]
     },
     "execution_count": 61,
     "metadata": {},
     "output_type": "execute_result"
    }
   ],
   "source": [
    "# Source organism\n",
    "databases.tcr_source_organism.value_counts()"
   ]
  },
  {
   "cell_type": "code",
   "execution_count": 62,
   "metadata": {},
   "outputs": [
    {
     "name": "stderr",
     "output_type": "stream",
     "text": [
      "<ipython-input-62-8bde32569ecf>:1: UserWarning: This pattern has match groups. To actually get the groups, use str.extract.\n",
      "  databases.HLA_type.str.contains(\"^(A|B|C)\").value_counts()\n"
     ]
    },
    {
     "data": {
      "text/plain": [
       "True     34808\n",
       "False    10704\n",
       "Name: HLA_type, dtype: int64"
      ]
     },
     "execution_count": 62,
     "metadata": {},
     "output_type": "execute_result"
    }
   ],
   "source": [
    "databases.HLA_type.str.contains(\"^(A|B|C)\").value_counts()"
   ]
  },
  {
   "cell_type": "code",
   "execution_count": 63,
   "metadata": {},
   "outputs": [
    {
     "data": {
      "text/plain": [
       "(45512, 'obs before filtering')"
      ]
     },
     "execution_count": 63,
     "metadata": {},
     "output_type": "execute_result"
    }
   ],
   "source": [
    "databases.shape[0], \"obs before filtering\""
   ]
  },
  {
   "cell_type": "code",
   "execution_count": 64,
   "metadata": {},
   "outputs": [],
   "source": [
    "databases.CDR3b = databases.CDR3b.str.upper()"
   ]
  },
  {
   "cell_type": "markdown",
   "metadata": {},
   "source": [
    "**First filter:**\n",
    "1. Human\n",
    "1. Valid HLA\n",
    "1. Has CDR3b"
   ]
  },
  {
   "cell_type": "code",
   "execution_count": 65,
   "metadata": {},
   "outputs": [
    {
     "name": "stderr",
     "output_type": "stream",
     "text": [
      "<ipython-input-65-f4f44979661b>:3: UserWarning: This pattern has match groups. To actually get the groups, use str.extract.\n",
      "  & (databases.HLA_type.str.contains(\"^(A|B|C)\"))\n"
     ]
    }
   ],
   "source": [
    "databases_filtered = databases[\n",
    "    (databases.tcr_source_organism == \"human\")\n",
    "    & (databases.HLA_type.str.contains(\"^(A|B|C)\"))\n",
    "    & (~databases.CDR3b.isna())\n",
    "    & (databases.CDR3b.fillna(\"NA\").apply(lambda x: all([xx in AA_list for xx in x])))\n",
    "    & (databases.peptide_seq.apply(lambda x: all([xx in AA_list for xx in x]) if not isinstance(x, float) else False))\n",
    "]"
   ]
  },
  {
   "cell_type": "markdown",
   "metadata": {},
   "source": [
    "### Anchor positions"
   ]
  },
  {
   "cell_type": "code",
   "execution_count": 66,
   "metadata": {},
   "outputs": [
    {
     "data": {
      "text/plain": [
       "C    30411\n",
       "G        4\n",
       "R        3\n",
       "W        3\n",
       "K        1\n",
       "L        1\n",
       "M        1\n",
       "Name: CDR3b, dtype: int64"
      ]
     },
     "execution_count": 66,
     "metadata": {},
     "output_type": "execute_result"
    }
   ],
   "source": [
    "databases_filtered.CDR3b.str[0].value_counts()"
   ]
  },
  {
   "cell_type": "code",
   "execution_count": 67,
   "metadata": {},
   "outputs": [
    {
     "data": {
      "text/plain": [
       "F    30339\n",
       "Y       27\n",
       "T       22\n",
       "L       15\n",
       "V        6\n",
       "S        5\n",
       "C        3\n",
       "H        2\n",
       "W        2\n",
       "A        1\n",
       "I        1\n",
       "G        1\n",
       "Name: CDR3b, dtype: int64"
      ]
     },
     "execution_count": 67,
     "metadata": {},
     "output_type": "execute_result"
    }
   ],
   "source": [
    "databases_filtered.CDR3b.str[-1].value_counts()"
   ]
  },
  {
   "cell_type": "markdown",
   "metadata": {},
   "source": [
    "**Second filter:** \n",
    "1. CDR3b[0] == 'C'"
   ]
  },
  {
   "cell_type": "code",
   "execution_count": 68,
   "metadata": {},
   "outputs": [
    {
     "data": {
      "text/plain": [
       "5689           CASSQSPGGTQYL\n",
       "5934         CASSQDFRGGYEQYS\n",
       "447            CASSPDRARDGYT\n",
       "5892            CAWSRGAVEQFL\n",
       "2507         CASSPRDRDFNYGYT\n",
       "428               CASSGQGGYT\n",
       "2502            CASSPIQGSEQY\n",
       "9172         CASSQDGGTSGGGQI\n",
       "5446        CASSWSGGGARDTQDV\n",
       "1426    CAISERAIRGTSGLTDTQYL\n",
       "Name: CDR3b, dtype: object"
      ]
     },
     "execution_count": 68,
     "metadata": {},
     "output_type": "execute_result"
    }
   ],
   "source": [
    "databases_filtered.loc[databases_filtered.CDR3b.str[-1] != \"F\", \"CDR3b\"].sample(10)"
   ]
  },
  {
   "cell_type": "code",
   "execution_count": 69,
   "metadata": {},
   "outputs": [],
   "source": [
    "databases_filtered = databases_filtered[databases_filtered.CDR3b.str[0] == \"C\"]"
   ]
  },
  {
   "cell_type": "code",
   "execution_count": 70,
   "metadata": {},
   "outputs": [
    {
     "data": {
      "text/plain": [
       "(30411, 35)"
      ]
     },
     "execution_count": 70,
     "metadata": {},
     "output_type": "execute_result"
    }
   ],
   "source": [
    "databases_filtered.shape"
   ]
  },
  {
   "cell_type": "code",
   "execution_count": 71,
   "metadata": {},
   "outputs": [
    {
     "data": {
      "text/plain": [
       "8       870\n",
       "9     22490\n",
       "10     5878\n",
       "11      988\n",
       "12      122\n",
       "13       17\n",
       "15       14\n",
       "20       32\n",
       "Name: peptide_seq, dtype: int64"
      ]
     },
     "execution_count": 71,
     "metadata": {},
     "output_type": "execute_result"
    }
   ],
   "source": [
    "databases_filtered.peptide_seq.str.len().value_counts().sort_index()"
   ]
  },
  {
   "cell_type": "code",
   "execution_count": 72,
   "metadata": {},
   "outputs": [
    {
     "data": {
      "text/plain": [
       "99.53635197790274"
      ]
     },
     "execution_count": 72,
     "metadata": {},
     "output_type": "execute_result"
    }
   ],
   "source": [
    "databases_filtered.CDR3b.str.len().isin(np.arange(10, 21)).mean() * 100"
   ]
  },
  {
   "cell_type": "markdown",
   "metadata": {},
   "source": [
    "**Third filter:** \n",
    "1. peptide length in [8-11]\n",
    "1. CDR3b length in [10-20]"
   ]
  },
  {
   "cell_type": "code",
   "execution_count": 73,
   "metadata": {},
   "outputs": [],
   "source": [
    "databases_filtered = databases_filtered[\n",
    "    databases_filtered.peptide_seq.str.len().isin([8, 9, 10, 11])\n",
    "    & databases_filtered.CDR3b.str.len().isin(np.arange(10, 21))\n",
    "]"
   ]
  },
  {
   "cell_type": "code",
   "execution_count": 74,
   "metadata": {},
   "outputs": [],
   "source": [
    "databases_filtered.index = np.arange(len(databases_filtered))"
   ]
  },
  {
   "cell_type": "code",
   "execution_count": 75,
   "metadata": {},
   "outputs": [
    {
     "data": {
      "text/plain": [
       "(18842, 'unique CDR3b')"
      ]
     },
     "execution_count": 75,
     "metadata": {},
     "output_type": "execute_result"
    }
   ],
   "source": [
    "databases_filtered.CDR3b.unique().shape[0], \"unique CDR3b\""
   ]
  },
  {
   "cell_type": "code",
   "execution_count": 76,
   "metadata": {},
   "outputs": [
    {
     "data": {
      "text/plain": [
       "CASSIRSSYEQYF    134\n",
       "CASSIRSAYEQYF     69\n",
       "CASSQSPGGTQYF     44\n",
       "CASSVRSSYEQYF     37\n",
       "CASSSANYGYTF      32\n",
       "Name: CDR3b, dtype: int64"
      ]
     },
     "execution_count": 76,
     "metadata": {},
     "output_type": "execute_result"
    }
   ],
   "source": [
    "databases_filtered.CDR3b.value_counts().head(5)"
   ]
  },
  {
   "cell_type": "markdown",
   "metadata": {},
   "source": [
    "**The filtering above was exploratory and was intended to demonstrate what we filtered out. \n",
    "The filtering function is used below in order to have a consistent filtering procedure.**"
   ]
  },
  {
   "cell_type": "code",
   "execution_count": 77,
   "metadata": {},
   "outputs": [
    {
     "name": "stderr",
     "output_type": "stream",
     "text": [
      "<ipython-input-36-38537a903742>:5: UserWarning: This pattern has match groups. To actually get the groups, use str.extract.\n",
      "  & (databases.HLA_type.str.contains(\"^(A|B|C)\"))\n"
     ]
    }
   ],
   "source": [
    "databases_filtered_2 = filter_tcr(databases)\n",
    "databases_df = databases_filtered_2"
   ]
  },
  {
   "cell_type": "code",
   "execution_count": 78,
   "metadata": {},
   "outputs": [
    {
     "name": "stdout",
     "output_type": "stream",
     "text": [
      "Databases obs before filtering 45512\n"
     ]
    }
   ],
   "source": [
    "print(\"Databases obs before filtering\", len(databases))"
   ]
  },
  {
   "cell_type": "code",
   "execution_count": 79,
   "metadata": {},
   "outputs": [
    {
     "name": "stdout",
     "output_type": "stream",
     "text": [
      "Databases obs after filtering 30085\n"
     ]
    }
   ],
   "source": [
    "print(\"Databases obs after filtering\", len(databases_df))"
   ]
  },
  {
   "cell_type": "code",
   "execution_count": 80,
   "metadata": {},
   "outputs": [
    {
     "name": "stderr",
     "output_type": "stream",
     "text": [
      "<ipython-input-36-38537a903742>:5: UserWarning: This pattern has match groups. To actually get the groups, use str.extract.\n",
      "  & (databases.HLA_type.str.contains(\"^(A|B|C)\"))\n"
     ]
    },
    {
     "name": "stdout",
     "output_type": "stream",
     "text": [
      "Databases obs after filtering 30085\n"
     ]
    }
   ],
   "source": [
    "databases.CDR3b = databases.CDR3b.str.upper()\n",
    "\n",
    "databases_filtered_2_b = filter_tcr(databases)\n",
    "databases_df_b = databases_filtered_2_b\n",
    "\n",
    "print(\"Databases obs after filtering\", len(databases_df_b))"
   ]
  },
  {
   "cell_type": "code",
   "execution_count": 81,
   "metadata": {},
   "outputs": [
    {
     "data": {
      "text/plain": [
       "CAVSGNYAQGLTF      82\n",
       "CAVSANYAQGLTF      76\n",
       "CAVSDNYAQGLTF      66\n",
       "CAGGGSQGNLIF       52\n",
       "CAGAGGGSQGNLIF     41\n",
       "                   ..\n",
       "CAMRGEEGSQGNLIF     1\n",
       "CAVNSYYNQGGKLIF     1\n",
       "CAVQDLQTSGSRLTF     1\n",
       "CAVQSLETSGSRLTF     1\n",
       "CIVRVWDAGNNF        1\n",
       "Name: CDR3a, Length: 5342, dtype: int64"
      ]
     },
     "execution_count": 81,
     "metadata": {},
     "output_type": "execute_result"
    }
   ],
   "source": [
    "databases.CDR3a.value_counts()"
   ]
  },
  {
   "cell_type": "code",
   "execution_count": 82,
   "metadata": {},
   "outputs": [
    {
     "data": {
      "text/plain": [
       "False    45510\n",
       "True         2\n",
       "dtype: int64"
      ]
     },
     "execution_count": 82,
     "metadata": {},
     "output_type": "execute_result"
    }
   ],
   "source": [
    "# JK: Probably a bugged annotation in 2 cases\n",
    "(databases.CDR3a == databases.CDR3b).value_counts()"
   ]
  },
  {
   "cell_type": "markdown",
   "metadata": {},
   "source": [
    "## Compare duplicates in publications and databases\n"
   ]
  },
  {
   "cell_type": "code",
   "execution_count": 83,
   "metadata": {},
   "outputs": [],
   "source": [
    "def make_id(databases_filtered):\n",
    "    \"\"\"\n",
    "    return pd.Series with unique observation identifier: peptide_HLA_CDR3b\n",
    "    \"\"\"\n",
    "    return databases_filtered.peptide_seq + \"_\" + databases_filtered.HLA_type + \"_\" + databases_filtered.CDR3b"
   ]
  },
  {
   "cell_type": "code",
   "execution_count": 84,
   "metadata": {},
   "outputs": [
    {
     "name": "stderr",
     "output_type": "stream",
     "text": [
      "/home/ardigen/miniconda3/envs/keras2/lib/python3.8/site-packages/pandas/core/indexing.py:1667: SettingWithCopyWarning: \n",
      "A value is trying to be set on a copy of a slice from a DataFrame.\n",
      "Try using .loc[row_indexer,col_indexer] = value instead\n",
      "\n",
      "See the caveats in the documentation: https://pandas.pydata.org/pandas-docs/stable/user_guide/indexing.html#returning-a-view-versus-a-copy\n",
      "  self.obj[key] = value\n"
     ]
    }
   ],
   "source": [
    "publications_df.loc[:, \"id\"] = make_id(publications_df)"
   ]
  },
  {
   "cell_type": "code",
   "execution_count": 85,
   "metadata": {},
   "outputs": [],
   "source": [
    "databases_df.loc[:, \"id\"] = make_id(databases_df)"
   ]
  },
  {
   "cell_type": "code",
   "execution_count": 86,
   "metadata": {},
   "outputs": [
    {
     "data": {
      "text/plain": [
       "(27769, 'total unique observations in publications and databases')"
      ]
     },
     "execution_count": 86,
     "metadata": {},
     "output_type": "execute_result"
    }
   ],
   "source": [
    "len(\n",
    "    np.unique(np.concatenate([publications_df.id, databases_df.id]))\n",
    "), \"total unique observations in publications and databases\""
   ]
  },
  {
   "cell_type": "code",
   "execution_count": 87,
   "metadata": {},
   "outputs": [],
   "source": [
    "pub_ind_db = publications_df.id.isin(databases_df.id)"
   ]
  },
  {
   "cell_type": "code",
   "execution_count": 88,
   "metadata": {},
   "outputs": [
    {
     "data": {
      "text/html": [
       "<div>\n",
       "<style scoped>\n",
       "    .dataframe tbody tr th:only-of-type {\n",
       "        vertical-align: middle;\n",
       "    }\n",
       "\n",
       "    .dataframe tbody tr th {\n",
       "        vertical-align: top;\n",
       "    }\n",
       "\n",
       "    .dataframe thead th {\n",
       "        text-align: right;\n",
       "    }\n",
       "</style>\n",
       "<table border=\"1\" class=\"dataframe\">\n",
       "  <thead>\n",
       "    <tr style=\"text-align: right;\">\n",
       "      <th>id</th>\n",
       "      <th>False</th>\n",
       "      <th>True</th>\n",
       "    </tr>\n",
       "    <tr>\n",
       "      <th>dataset</th>\n",
       "      <th></th>\n",
       "      <th></th>\n",
       "    </tr>\n",
       "  </thead>\n",
       "  <tbody>\n",
       "    <tr>\n",
       "      <th>Arakaki</th>\n",
       "      <td>1</td>\n",
       "      <td>0</td>\n",
       "    </tr>\n",
       "    <tr>\n",
       "      <th>Brennan</th>\n",
       "      <td>42</td>\n",
       "      <td>0</td>\n",
       "    </tr>\n",
       "    <tr>\n",
       "      <th>Cohen</th>\n",
       "      <td>0</td>\n",
       "      <td>1</td>\n",
       "    </tr>\n",
       "    <tr>\n",
       "      <th>Day</th>\n",
       "      <td>21</td>\n",
       "      <td>0</td>\n",
       "    </tr>\n",
       "    <tr>\n",
       "      <th>Giest</th>\n",
       "      <td>0</td>\n",
       "      <td>10</td>\n",
       "    </tr>\n",
       "    <tr>\n",
       "      <th>Hakeem</th>\n",
       "      <td>186</td>\n",
       "      <td>138</td>\n",
       "    </tr>\n",
       "    <tr>\n",
       "      <th>Hamel</th>\n",
       "      <td>3</td>\n",
       "      <td>0</td>\n",
       "    </tr>\n",
       "    <tr>\n",
       "      <th>Hanley</th>\n",
       "      <td>1</td>\n",
       "      <td>85</td>\n",
       "    </tr>\n",
       "    <tr>\n",
       "      <th>Heemskerk</th>\n",
       "      <td>4</td>\n",
       "      <td>0</td>\n",
       "    </tr>\n",
       "    <tr>\n",
       "      <th>Iancu</th>\n",
       "      <td>1</td>\n",
       "      <td>2</td>\n",
       "    </tr>\n",
       "    <tr>\n",
       "      <th>Janbazian</th>\n",
       "      <td>38</td>\n",
       "      <td>0</td>\n",
       "    </tr>\n",
       "    <tr>\n",
       "      <th>Kamga</th>\n",
       "      <td>175</td>\n",
       "      <td>42</td>\n",
       "    </tr>\n",
       "    <tr>\n",
       "      <th>Karenbeek</th>\n",
       "      <td>42</td>\n",
       "      <td>0</td>\n",
       "    </tr>\n",
       "    <tr>\n",
       "      <th>Khan</th>\n",
       "      <td>20</td>\n",
       "      <td>0</td>\n",
       "    </tr>\n",
       "    <tr>\n",
       "      <th>Klinger</th>\n",
       "      <td>0</td>\n",
       "      <td>1</td>\n",
       "    </tr>\n",
       "    <tr>\n",
       "      <th>Koning</th>\n",
       "      <td>46</td>\n",
       "      <td>4</td>\n",
       "    </tr>\n",
       "    <tr>\n",
       "      <th>Liang</th>\n",
       "      <td>1</td>\n",
       "      <td>0</td>\n",
       "    </tr>\n",
       "    <tr>\n",
       "      <th>Lim</th>\n",
       "      <td>0</td>\n",
       "      <td>1</td>\n",
       "    </tr>\n",
       "    <tr>\n",
       "      <th>Malekzadeh</th>\n",
       "      <td>4</td>\n",
       "      <td>0</td>\n",
       "    </tr>\n",
       "    <tr>\n",
       "      <th>Miconnet</th>\n",
       "      <td>104</td>\n",
       "      <td>146</td>\n",
       "    </tr>\n",
       "    <tr>\n",
       "      <th>Miles</th>\n",
       "      <td>0</td>\n",
       "      <td>1</td>\n",
       "    </tr>\n",
       "    <tr>\n",
       "      <th>Nakasone</th>\n",
       "      <td>25</td>\n",
       "      <td>0</td>\n",
       "    </tr>\n",
       "    <tr>\n",
       "      <th>Pogorelyy</th>\n",
       "      <td>5858</td>\n",
       "      <td>3</td>\n",
       "    </tr>\n",
       "    <tr>\n",
       "      <th>Price</th>\n",
       "      <td>138</td>\n",
       "      <td>45</td>\n",
       "    </tr>\n",
       "    <tr>\n",
       "      <th>Retiere</th>\n",
       "      <td>6</td>\n",
       "      <td>6</td>\n",
       "    </tr>\n",
       "    <tr>\n",
       "      <th>Schub</th>\n",
       "      <td>4</td>\n",
       "      <td>0</td>\n",
       "    </tr>\n",
       "    <tr>\n",
       "      <th>Soon</th>\n",
       "      <td>6</td>\n",
       "      <td>0</td>\n",
       "    </tr>\n",
       "    <tr>\n",
       "      <th>Takeda</th>\n",
       "      <td>20</td>\n",
       "      <td>0</td>\n",
       "    </tr>\n",
       "    <tr>\n",
       "      <th>Trautmann</th>\n",
       "      <td>26</td>\n",
       "      <td>5</td>\n",
       "    </tr>\n",
       "    <tr>\n",
       "      <th>Venturi</th>\n",
       "      <td>162</td>\n",
       "      <td>3</td>\n",
       "    </tr>\n",
       "    <tr>\n",
       "      <th>Weekes</th>\n",
       "      <td>21</td>\n",
       "      <td>0</td>\n",
       "    </tr>\n",
       "    <tr>\n",
       "      <th>Wynn</th>\n",
       "      <td>11</td>\n",
       "      <td>0</td>\n",
       "    </tr>\n",
       "    <tr>\n",
       "      <th>gee2018</th>\n",
       "      <td>33</td>\n",
       "      <td>0</td>\n",
       "    </tr>\n",
       "    <tr>\n",
       "      <th>huth</th>\n",
       "      <td>0</td>\n",
       "      <td>1039</td>\n",
       "    </tr>\n",
       "    <tr>\n",
       "      <th>vanBockel</th>\n",
       "      <td>33</td>\n",
       "      <td>3</td>\n",
       "    </tr>\n",
       "  </tbody>\n",
       "</table>\n",
       "</div>"
      ],
      "text/plain": [
       "id          False  True\n",
       "dataset                \n",
       "Arakaki         1     0\n",
       "Brennan        42     0\n",
       "Cohen           0     1\n",
       "Day            21     0\n",
       "Giest           0    10\n",
       "Hakeem        186   138\n",
       "Hamel           3     0\n",
       "Hanley          1    85\n",
       "Heemskerk       4     0\n",
       "Iancu           1     2\n",
       "Janbazian      38     0\n",
       "Kamga         175    42\n",
       "Karenbeek      42     0\n",
       "Khan           20     0\n",
       "Klinger         0     1\n",
       "Koning         46     4\n",
       "Liang           1     0\n",
       "Lim             0     1\n",
       "Malekzadeh      4     0\n",
       "Miconnet      104   146\n",
       "Miles           0     1\n",
       "Nakasone       25     0\n",
       "Pogorelyy    5858     3\n",
       "Price         138    45\n",
       "Retiere         6     6\n",
       "Schub           4     0\n",
       "Soon            6     0\n",
       "Takeda         20     0\n",
       "Trautmann      26     5\n",
       "Venturi       162     3\n",
       "Weekes         21     0\n",
       "Wynn           11     0\n",
       "gee2018        33     0\n",
       "huth            0  1039\n",
       "vanBockel      33     3"
      ]
     },
     "execution_count": 88,
     "metadata": {},
     "output_type": "execute_result"
    }
   ],
   "source": [
    "# Co-occurence of CDR3b in publications and databases\n",
    "pd.crosstab(publications_df.dataset, pub_ind_db)"
   ]
  },
  {
   "cell_type": "markdown",
   "metadata": {},
   "source": [
    "## 10x"
   ]
  },
  {
   "cell_type": "code",
   "execution_count": 89,
   "metadata": {},
   "outputs": [],
   "source": [
    "def load_regeneron_10x(dataset_path, special_cases_path, threshold):\n",
    "    \n",
    "    dataset = pd.read_csv(dataset_path)\n",
    "    dataset = dataset[dataset['Donor']!='Donor V']\n",
    "    dataset = dataset.groupby(['pMHC', 'alpha_cdr3', 'beta_cdr3'])['normalized dex. Sig.'].median()\n",
    "    dataset = dataset.reset_index()\n",
    "    dataset = dataset[['pMHC', 'beta_cdr3', 'alpha_cdr3', 'normalized dex. Sig.']]\n",
    "    \n",
    "    dataset['HLA_type'] = dataset['pMHC'].apply(lambda x: x.split('_')[0]).str.replace('\\*', '')\n",
    "    dataset['peptide'] = dataset['pMHC'].apply(lambda x: x.split('_')[1])\n",
    "    dataset['origin'] = dataset['pMHC'].apply(lambda x: 'Cancer' if 'Cancer' in x else 'Others')\n",
    "    dataset['CDR3a'] = dataset['alpha_cdr3']\n",
    "    dataset['CDR3b'] = dataset['beta_cdr3']\n",
    "    dataset['value'] = dataset['normalized dex. Sig.']>threshold\n",
    "    dataset = dataset[['peptide', 'HLA_type', 'CDR3a', 'CDR3b', 'value', 'origin']]\n",
    "    \n",
    "    maits_inkts = pd.read_csv(special_cases_path)        \n",
    "    maits_inkts_mask = ~np.isin(dataset['CDR3a'], maits_inkts)\n",
    "    dataset = dataset[maits_inkts_mask]\n",
    "        \n",
    "    return dataset"
   ]
  },
  {
   "cell_type": "code",
   "execution_count": 90,
   "metadata": {},
   "outputs": [
    {
     "name": "stderr",
     "output_type": "stream",
     "text": [
      "<ipython-input-89-dec600aa593b>:9: FutureWarning: The default value of regex will change from True to False in a future version.\n",
      "  dataset['HLA_type'] = dataset['pMHC'].apply(lambda x: x.split('_')[0]).str.replace('\\*', '')\n"
     ]
    }
   ],
   "source": [
    "tenx = load_regeneron_10x('../../data/original/10x_regeneron.csv.gz',\n",
    "                          '../../data/original/maits_inkts.csv.gz', 0)"
   ]
  },
  {
   "cell_type": "code",
   "execution_count": 91,
   "metadata": {},
   "outputs": [],
   "source": [
    "tenx = tenx[tenx.value]"
   ]
  },
  {
   "cell_type": "code",
   "execution_count": 92,
   "metadata": {},
   "outputs": [
    {
     "data": {
      "text/html": [
       "<div>\n",
       "<style scoped>\n",
       "    .dataframe tbody tr th:only-of-type {\n",
       "        vertical-align: middle;\n",
       "    }\n",
       "\n",
       "    .dataframe tbody tr th {\n",
       "        vertical-align: top;\n",
       "    }\n",
       "\n",
       "    .dataframe thead th {\n",
       "        text-align: right;\n",
       "    }\n",
       "</style>\n",
       "<table border=\"1\" class=\"dataframe\">\n",
       "  <thead>\n",
       "    <tr style=\"text-align: right;\">\n",
       "      <th></th>\n",
       "      <th>peptide</th>\n",
       "      <th>HLA_type</th>\n",
       "      <th>CDR3a</th>\n",
       "      <th>CDR3b</th>\n",
       "      <th>value</th>\n",
       "      <th>origin</th>\n",
       "    </tr>\n",
       "  </thead>\n",
       "  <tbody>\n",
       "    <tr>\n",
       "      <th>0</th>\n",
       "      <td>ELAGIGILTV</td>\n",
       "      <td>A0201</td>\n",
       "      <td>CAADNARLMF</td>\n",
       "      <td>CASSIASLLAGGTDTQYF</td>\n",
       "      <td>True</td>\n",
       "      <td>Cancer</td>\n",
       "    </tr>\n",
       "    <tr>\n",
       "      <th>1</th>\n",
       "      <td>ELAGIGILTV</td>\n",
       "      <td>A0201</td>\n",
       "      <td>CAAGAGSYQLTF</td>\n",
       "      <td>CASSQGQGQPQHF</td>\n",
       "      <td>True</td>\n",
       "      <td>Cancer</td>\n",
       "    </tr>\n",
       "    <tr>\n",
       "      <th>2</th>\n",
       "      <td>ELAGIGILTV</td>\n",
       "      <td>A0201</td>\n",
       "      <td>CAANAGNMLTF</td>\n",
       "      <td>CASSLGGGTEAFF</td>\n",
       "      <td>True</td>\n",
       "      <td>Cancer</td>\n",
       "    </tr>\n",
       "  </tbody>\n",
       "</table>\n",
       "</div>"
      ],
      "text/plain": [
       "      peptide HLA_type         CDR3a               CDR3b  value  origin\n",
       "0  ELAGIGILTV    A0201    CAADNARLMF  CASSIASLLAGGTDTQYF   True  Cancer\n",
       "1  ELAGIGILTV    A0201  CAAGAGSYQLTF       CASSQGQGQPQHF   True  Cancer\n",
       "2  ELAGIGILTV    A0201   CAANAGNMLTF       CASSLGGGTEAFF   True  Cancer"
      ]
     },
     "execution_count": 92,
     "metadata": {},
     "output_type": "execute_result"
    }
   ],
   "source": [
    "tenx.head(3)"
   ]
  },
  {
   "cell_type": "code",
   "execution_count": 93,
   "metadata": {},
   "outputs": [
    {
     "data": {
      "text/plain": [
       "(4515, 6)"
      ]
     },
     "execution_count": 93,
     "metadata": {},
     "output_type": "execute_result"
    }
   ],
   "source": [
    "tenx.shape"
   ]
  },
  {
   "cell_type": "code",
   "execution_count": 94,
   "metadata": {},
   "outputs": [],
   "source": [
    "# Extract VDJ peptide infor for every peptide in 10x dataset from vdj\n",
    "vdj_peptide_info = vdj_tenx.groupby(\"peptide_seq\")[\n",
    "    [\n",
    "        \"peptide_gene\",\n",
    "        \"peptide_source\",\n",
    "        \"MHC_class\",\n",
    "        \"experiment_type\",\n",
    "        \"single_cell\",\n",
    "        \"tcr_reference\",\n",
    "        \"tcr_source_organism\",\n",
    "    ]\n",
    "].agg(\"first\")"
   ]
  },
  {
   "cell_type": "code",
   "execution_count": 95,
   "metadata": {},
   "outputs": [
    {
     "data": {
      "text/html": [
       "<div>\n",
       "<style scoped>\n",
       "    .dataframe tbody tr th:only-of-type {\n",
       "        vertical-align: middle;\n",
       "    }\n",
       "\n",
       "    .dataframe tbody tr th {\n",
       "        vertical-align: top;\n",
       "    }\n",
       "\n",
       "    .dataframe thead th {\n",
       "        text-align: right;\n",
       "    }\n",
       "</style>\n",
       "<table border=\"1\" class=\"dataframe\">\n",
       "  <thead>\n",
       "    <tr style=\"text-align: right;\">\n",
       "      <th></th>\n",
       "      <th>peptide_gene</th>\n",
       "      <th>peptide_source</th>\n",
       "      <th>MHC_class</th>\n",
       "      <th>experiment_type</th>\n",
       "      <th>single_cell</th>\n",
       "      <th>tcr_reference</th>\n",
       "      <th>tcr_source_organism</th>\n",
       "    </tr>\n",
       "    <tr>\n",
       "      <th>peptide_seq</th>\n",
       "      <th></th>\n",
       "      <th></th>\n",
       "      <th></th>\n",
       "      <th></th>\n",
       "      <th></th>\n",
       "      <th></th>\n",
       "      <th></th>\n",
       "    </tr>\n",
       "  </thead>\n",
       "  <tbody>\n",
       "    <tr>\n",
       "      <th>AVFDRKSDAK</th>\n",
       "      <td>EBNA4</td>\n",
       "      <td>EBV</td>\n",
       "      <td>I</td>\n",
       "      <td>dextramer-sort</td>\n",
       "      <td>yes</td>\n",
       "      <td>https://www.10xgenomics.com/resources/applicat...</td>\n",
       "      <td>human</td>\n",
       "    </tr>\n",
       "    <tr>\n",
       "      <th>AYAQKIFKI</th>\n",
       "      <td>IE1</td>\n",
       "      <td>CMV</td>\n",
       "      <td>I</td>\n",
       "      <td>dextramer-sort</td>\n",
       "      <td>yes</td>\n",
       "      <td>https://www.10xgenomics.com/resources/applicat...</td>\n",
       "      <td>human</td>\n",
       "    </tr>\n",
       "    <tr>\n",
       "      <th>CLLGTYTQDV</th>\n",
       "      <td>KanJ</td>\n",
       "      <td>StreptomycesKanamyceticus</td>\n",
       "      <td>I</td>\n",
       "      <td>dextramer-sort</td>\n",
       "      <td>yes</td>\n",
       "      <td>https://www.10xgenomics.com/resources/applicat...</td>\n",
       "      <td>human</td>\n",
       "    </tr>\n",
       "    <tr>\n",
       "      <th>CLLWSFQTSA</th>\n",
       "      <td>TYR</td>\n",
       "      <td>HomoSapiens</td>\n",
       "      <td>I</td>\n",
       "      <td>dextramer-sort</td>\n",
       "      <td>yes</td>\n",
       "      <td>https://www.10xgenomics.com/resources/applicat...</td>\n",
       "      <td>human</td>\n",
       "    </tr>\n",
       "    <tr>\n",
       "      <th>CYTWNQMNL</th>\n",
       "      <td>WT1</td>\n",
       "      <td>HomoSapiens</td>\n",
       "      <td>I</td>\n",
       "      <td>dextramer-sort</td>\n",
       "      <td>yes</td>\n",
       "      <td>https://www.10xgenomics.com/resources/applicat...</td>\n",
       "      <td>human</td>\n",
       "    </tr>\n",
       "  </tbody>\n",
       "</table>\n",
       "</div>"
      ],
      "text/plain": [
       "            peptide_gene             peptide_source MHC_class experiment_type  \\\n",
       "peptide_seq                                                                     \n",
       "AVFDRKSDAK         EBNA4                        EBV         I  dextramer-sort   \n",
       "AYAQKIFKI            IE1                        CMV         I  dextramer-sort   \n",
       "CLLGTYTQDV          KanJ  StreptomycesKanamyceticus         I  dextramer-sort   \n",
       "CLLWSFQTSA           TYR                HomoSapiens         I  dextramer-sort   \n",
       "CYTWNQMNL            WT1                HomoSapiens         I  dextramer-sort   \n",
       "\n",
       "            single_cell                                      tcr_reference  \\\n",
       "peptide_seq                                                                  \n",
       "AVFDRKSDAK          yes  https://www.10xgenomics.com/resources/applicat...   \n",
       "AYAQKIFKI           yes  https://www.10xgenomics.com/resources/applicat...   \n",
       "CLLGTYTQDV          yes  https://www.10xgenomics.com/resources/applicat...   \n",
       "CLLWSFQTSA          yes  https://www.10xgenomics.com/resources/applicat...   \n",
       "CYTWNQMNL           yes  https://www.10xgenomics.com/resources/applicat...   \n",
       "\n",
       "            tcr_source_organism  \n",
       "peptide_seq                      \n",
       "AVFDRKSDAK                human  \n",
       "AYAQKIFKI                 human  \n",
       "CLLGTYTQDV                human  \n",
       "CLLWSFQTSA                human  \n",
       "CYTWNQMNL                 human  "
      ]
     },
     "execution_count": 95,
     "metadata": {},
     "output_type": "execute_result"
    }
   ],
   "source": [
    "vdj_peptide_info.head()"
   ]
  },
  {
   "cell_type": "code",
   "execution_count": 96,
   "metadata": {},
   "outputs": [],
   "source": [
    "tenx.origin = tenx.origin.map({\n",
    "    'Others': 'viral',\n",
    "    'Cancer': 'Homo Sapiens'\n",
    "})"
   ]
  },
  {
   "cell_type": "code",
   "execution_count": 97,
   "metadata": {},
   "outputs": [],
   "source": [
    "tenx = tenx.rename(columns={\n",
    "    'peptide': 'peptide_seq',\n",
    "})"
   ]
  },
  {
   "cell_type": "code",
   "execution_count": 98,
   "metadata": {},
   "outputs": [],
   "source": [
    "tenx_meta = vdj_peptide_info.reindex(tenx.peptide_seq)\n",
    "tenx_meta.index = tenx.index"
   ]
  },
  {
   "cell_type": "code",
   "execution_count": 99,
   "metadata": {},
   "outputs": [],
   "source": [
    "mask = tenx_meta.tcr_source_organism.isna()"
   ]
  },
  {
   "cell_type": "code",
   "execution_count": 100,
   "metadata": {},
   "outputs": [
    {
     "data": {
      "text/plain": [
       "0"
      ]
     },
     "execution_count": 100,
     "metadata": {},
     "output_type": "execute_result"
    }
   ],
   "source": [
    "mask.sum()"
   ]
  },
  {
   "cell_type": "code",
   "execution_count": 101,
   "metadata": {},
   "outputs": [],
   "source": [
    "m = tenx.peptide_seq == 'CLGGLLTMV'"
   ]
  },
  {
   "cell_type": "code",
   "execution_count": 102,
   "metadata": {},
   "outputs": [],
   "source": [
    "tenx_meta.loc[m, 'peptide_source'] =  'EBV'\n",
    "\n",
    "tenx_meta.loc[m, 'MHC_class'] =  'I'\n",
    "tenx_meta.loc[m, 'experiment_type'] =  'dextramer-sort'\n",
    "tenx_meta.loc[m, 'single_cell'] =  'dextramer-sort'\n",
    "tenx_meta.loc[m, 'tcr_reference'] =  vdj_peptide_info.tcr_reference.iloc[0]\n",
    "tenx_meta.loc[:, 'tcr_source_organism'] =  'human'"
   ]
  },
  {
   "cell_type": "code",
   "execution_count": 103,
   "metadata": {},
   "outputs": [
    {
     "data": {
      "text/plain": [
       "False"
      ]
     },
     "execution_count": 103,
     "metadata": {},
     "output_type": "execute_result"
    }
   ],
   "source": [
    "tenx_meta.tcr_source_organism.isna().any()"
   ]
  },
  {
   "cell_type": "code",
   "execution_count": 104,
   "metadata": {},
   "outputs": [],
   "source": [
    "tenx_full = pd.concat([tenx, tenx_meta], axis=1)"
   ]
  },
  {
   "cell_type": "code",
   "execution_count": 105,
   "metadata": {},
   "outputs": [
    {
     "data": {
      "text/plain": [
       "CMV            2599\n",
       "InfluenzaA      844\n",
       "EBV             793\n",
       "HomoSapiens     241\n",
       "HTLV-1           16\n",
       "HIV-1            16\n",
       "HPV               6\n",
       "Name: peptide_source, dtype: int64"
      ]
     },
     "execution_count": 105,
     "metadata": {},
     "output_type": "execute_result"
    }
   ],
   "source": [
    "tenx_full.peptide_source.fillna('NA').value_counts()"
   ]
  },
  {
   "cell_type": "code",
   "execution_count": 106,
   "metadata": {},
   "outputs": [],
   "source": [
    "tenx_full.loc[:, 'id'] = make_id(tenx)"
   ]
  },
  {
   "cell_type": "code",
   "execution_count": 107,
   "metadata": {},
   "outputs": [
    {
     "data": {
      "text/html": [
       "<div>\n",
       "<style scoped>\n",
       "    .dataframe tbody tr th:only-of-type {\n",
       "        vertical-align: middle;\n",
       "    }\n",
       "\n",
       "    .dataframe tbody tr th {\n",
       "        vertical-align: top;\n",
       "    }\n",
       "\n",
       "    .dataframe thead th {\n",
       "        text-align: right;\n",
       "    }\n",
       "</style>\n",
       "<table border=\"1\" class=\"dataframe\">\n",
       "  <thead>\n",
       "    <tr style=\"text-align: right;\">\n",
       "      <th></th>\n",
       "      <th>peptide_seq</th>\n",
       "      <th>HLA_type</th>\n",
       "      <th>CDR3a</th>\n",
       "      <th>CDR3b</th>\n",
       "      <th>value</th>\n",
       "      <th>origin</th>\n",
       "      <th>peptide_gene</th>\n",
       "      <th>peptide_source</th>\n",
       "      <th>MHC_class</th>\n",
       "      <th>experiment_type</th>\n",
       "      <th>single_cell</th>\n",
       "      <th>tcr_reference</th>\n",
       "      <th>tcr_source_organism</th>\n",
       "      <th>id</th>\n",
       "    </tr>\n",
       "  </thead>\n",
       "  <tbody>\n",
       "    <tr>\n",
       "      <th>0</th>\n",
       "      <td>ELAGIGILTV</td>\n",
       "      <td>A0201</td>\n",
       "      <td>CAADNARLMF</td>\n",
       "      <td>CASSIASLLAGGTDTQYF</td>\n",
       "      <td>True</td>\n",
       "      <td>Homo Sapiens</td>\n",
       "      <td>MLANA</td>\n",
       "      <td>HomoSapiens</td>\n",
       "      <td>I</td>\n",
       "      <td>dextramer-sort</td>\n",
       "      <td>yes</td>\n",
       "      <td>https://www.10xgenomics.com/resources/applicat...</td>\n",
       "      <td>human</td>\n",
       "      <td>ELAGIGILTV_A0201_CASSIASLLAGGTDTQYF</td>\n",
       "    </tr>\n",
       "    <tr>\n",
       "      <th>1</th>\n",
       "      <td>ELAGIGILTV</td>\n",
       "      <td>A0201</td>\n",
       "      <td>CAAGAGSYQLTF</td>\n",
       "      <td>CASSQGQGQPQHF</td>\n",
       "      <td>True</td>\n",
       "      <td>Homo Sapiens</td>\n",
       "      <td>MLANA</td>\n",
       "      <td>HomoSapiens</td>\n",
       "      <td>I</td>\n",
       "      <td>dextramer-sort</td>\n",
       "      <td>yes</td>\n",
       "      <td>https://www.10xgenomics.com/resources/applicat...</td>\n",
       "      <td>human</td>\n",
       "      <td>ELAGIGILTV_A0201_CASSQGQGQPQHF</td>\n",
       "    </tr>\n",
       "    <tr>\n",
       "      <th>2</th>\n",
       "      <td>ELAGIGILTV</td>\n",
       "      <td>A0201</td>\n",
       "      <td>CAANAGNMLTF</td>\n",
       "      <td>CASSLGGGTEAFF</td>\n",
       "      <td>True</td>\n",
       "      <td>Homo Sapiens</td>\n",
       "      <td>MLANA</td>\n",
       "      <td>HomoSapiens</td>\n",
       "      <td>I</td>\n",
       "      <td>dextramer-sort</td>\n",
       "      <td>yes</td>\n",
       "      <td>https://www.10xgenomics.com/resources/applicat...</td>\n",
       "      <td>human</td>\n",
       "      <td>ELAGIGILTV_A0201_CASSLGGGTEAFF</td>\n",
       "    </tr>\n",
       "  </tbody>\n",
       "</table>\n",
       "</div>"
      ],
      "text/plain": [
       "  peptide_seq HLA_type         CDR3a               CDR3b  value        origin  \\\n",
       "0  ELAGIGILTV    A0201    CAADNARLMF  CASSIASLLAGGTDTQYF   True  Homo Sapiens   \n",
       "1  ELAGIGILTV    A0201  CAAGAGSYQLTF       CASSQGQGQPQHF   True  Homo Sapiens   \n",
       "2  ELAGIGILTV    A0201   CAANAGNMLTF       CASSLGGGTEAFF   True  Homo Sapiens   \n",
       "\n",
       "  peptide_gene peptide_source MHC_class experiment_type single_cell  \\\n",
       "0        MLANA    HomoSapiens         I  dextramer-sort         yes   \n",
       "1        MLANA    HomoSapiens         I  dextramer-sort         yes   \n",
       "2        MLANA    HomoSapiens         I  dextramer-sort         yes   \n",
       "\n",
       "                                       tcr_reference tcr_source_organism  \\\n",
       "0  https://www.10xgenomics.com/resources/applicat...               human   \n",
       "1  https://www.10xgenomics.com/resources/applicat...               human   \n",
       "2  https://www.10xgenomics.com/resources/applicat...               human   \n",
       "\n",
       "                                    id  \n",
       "0  ELAGIGILTV_A0201_CASSIASLLAGGTDTQYF  \n",
       "1       ELAGIGILTV_A0201_CASSQGQGQPQHF  \n",
       "2       ELAGIGILTV_A0201_CASSLGGGTEAFF  "
      ]
     },
     "execution_count": 107,
     "metadata": {},
     "output_type": "execute_result"
    }
   ],
   "source": [
    "tenx_full.head(3)"
   ]
  },
  {
   "cell_type": "code",
   "execution_count": 108,
   "metadata": {},
   "outputs": [
    {
     "data": {
      "text/plain": [
       "(3826,)"
      ]
     },
     "execution_count": 108,
     "metadata": {},
     "output_type": "execute_result"
    }
   ],
   "source": [
    "tenx_full['id'].unique().shape"
   ]
  },
  {
   "cell_type": "code",
   "execution_count": 109,
   "metadata": {},
   "outputs": [],
   "source": [
    "def join_unique(x):\n",
    "    x = [str(xx) for xx in x]\n",
    "    return '|'.join(list(sorted(set(x.astype(str)))))\n",
    "\n",
    "tenx_grouped = tenx_full.groupby(\"id\").agg(\n",
    "            {\n",
    "                \"CDR3b\": \"first\",\n",
    "                \"CDR3a\": lambda x: '|'.join(sorted(set(x))),\n",
    "                \"peptide_seq\": \"first\",\n",
    "                \"HLA_type\": \"first\",\n",
    "                'tcr_source_organism': 'first',\n",
    "                'tcr_reference': 'first',\n",
    "                'origin': 'first',\n",
    "                'peptide_gene': 'first',\n",
    "                'peptide_source': 'first', \n",
    "                'single_cell': 'first',\n",
    "                'MHC_class': 'first',\n",
    "                \n",
    "            }\n",
    "        )\n",
    "tenx_grouped = tenx_grouped.reset_index()\n",
    "tenx_grouped.loc[:, \"dataset\"] = \"10x\""
   ]
  },
  {
   "cell_type": "code",
   "execution_count": null,
   "metadata": {},
   "outputs": [],
   "source": []
  },
  {
   "cell_type": "code",
   "execution_count": 110,
   "metadata": {},
   "outputs": [
    {
     "data": {
      "image/png": "[encoded data removed]",
      "text/plain": [
       "<Figure size 1152x648 with 1 Axes>"
      ]
     },
     "metadata": {
      "needs_background": "light"
     },
     "output_type": "display_data"
    }
   ],
   "source": [
    "v = tenx_full[\"peptide_seq\"].value_counts()\n",
    "\n",
    "v = v[np.sort(v.index)]\n",
    "\n",
    "plt.bar(np.arange(len(v)), v)\n",
    "plt.gca().set_yscale(\"log\")\n",
    "plt.xticks(np.arange(len(v)), v.index, rotation=90)\n",
    "plt.gcf().set_size_inches(16, 9)\n",
    "plt.title(\"10x\\nBinders distribution by peptide\", fontsize=16)\n",
    "plt.show()"
   ]
  },
  {
   "cell_type": "code",
   "execution_count": 111,
   "metadata": {},
   "outputs": [],
   "source": [
    "tenx_grouped.loc[:, \"dataset_index\"] = \"10x_\" + pd.Series(np.arange(len(tenx_grouped)).astype(str), index=tenx_grouped.index)"
   ]
  },
  {
   "cell_type": "code",
   "execution_count": 112,
   "metadata": {},
   "outputs": [],
   "source": [
    "tenx_grouped.loc[:, \"id\"] = make_id(tenx_grouped)"
   ]
  },
  {
   "cell_type": "code",
   "execution_count": 113,
   "metadata": {},
   "outputs": [
    {
     "name": "stderr",
     "output_type": "stream",
     "text": [
      "<ipython-input-36-38537a903742>:5: UserWarning: This pattern has match groups. To actually get the groups, use str.extract.\n",
      "  & (databases.HLA_type.str.contains(\"^(A|B|C)\"))\n"
     ]
    }
   ],
   "source": [
    "tenx_filtered = filter_tcr(tenx_grouped)"
   ]
  },
  {
   "cell_type": "code",
   "execution_count": 114,
   "metadata": {},
   "outputs": [
    {
     "name": "stdout",
     "output_type": "stream",
     "text": [
      "3826 obs before filtering\n"
     ]
    }
   ],
   "source": [
    "print(len(tenx_grouped), \"obs before filtering\")"
   ]
  },
  {
   "cell_type": "code",
   "execution_count": 115,
   "metadata": {},
   "outputs": [
    {
     "name": "stdout",
     "output_type": "stream",
     "text": [
      "3813 obs after filtering\n"
     ]
    }
   ],
   "source": [
    "print(len(tenx_filtered), \"obs after filtering\")"
   ]
  },
  {
   "cell_type": "code",
   "execution_count": 116,
   "metadata": {},
   "outputs": [
    {
     "data": {
      "text/plain": [
       "7     1\n",
       "8     1\n",
       "9     3\n",
       "21    6\n",
       "22    2\n",
       "Name: CDR3b, dtype: int64"
      ]
     },
     "execution_count": 116,
     "metadata": {},
     "output_type": "execute_result"
    }
   ],
   "source": [
    "# Reason for filtering - len(CDR3b) not between 10 and 20\n",
    "tenx_grouped[~tenx_grouped.dataset_index.isin(tenx_filtered.dataset_index)].CDR3b.str.len().value_counts().sort_index()"
   ]
  },
  {
   "cell_type": "markdown",
   "metadata": {},
   "source": [
    "### Split 10x dataset into viral and cancer parts"
   ]
  },
  {
   "cell_type": "code",
   "execution_count": 117,
   "metadata": {},
   "outputs": [],
   "source": [
    "tenx_viral = tenx_filtered[tenx_filtered.peptide_source != \"HomoSapiens\"]\n",
    "tenx_cancer = tenx_filtered[tenx_filtered.peptide_source == \"HomoSapiens\"]"
   ]
  },
  {
   "cell_type": "code",
   "execution_count": 118,
   "metadata": {},
   "outputs": [
    {
     "name": "stderr",
     "output_type": "stream",
     "text": [
      "/home/ardigen/miniconda3/envs/keras2/lib/python3.8/site-packages/pandas/core/generic.py:5516: SettingWithCopyWarning: \n",
      "A value is trying to be set on a copy of a slice from a DataFrame.\n",
      "Try using .loc[row_indexer,col_indexer] = value instead\n",
      "\n",
      "See the caveats in the documentation: https://pandas.pydata.org/pandas-docs/stable/user_guide/indexing.html#returning-a-view-versus-a-copy\n",
      "  self[name] = value\n"
     ]
    }
   ],
   "source": [
    "tenx_cancer.dataset = \"10x_cancer\"\n",
    "tenx_viral.dataset = \"10x_viral\""
   ]
  },
  {
   "cell_type": "code",
   "execution_count": 119,
   "metadata": {},
   "outputs": [],
   "source": [
    "tenx_cancer.index = np.arange(len(tenx_cancer))\n",
    "tenx_viral.index = np.arange(len(tenx_viral))"
   ]
  },
  {
   "cell_type": "code",
   "execution_count": 120,
   "metadata": {},
   "outputs": [
    {
     "data": {
      "text/plain": [
       "(239, 14)"
      ]
     },
     "execution_count": 120,
     "metadata": {},
     "output_type": "execute_result"
    }
   ],
   "source": [
    "tenx_cancer.shape"
   ]
  },
  {
   "cell_type": "markdown",
   "metadata": {},
   "source": [
    "\n",
    "\n",
    "## Zhang"
   ]
  },
  {
   "cell_type": "code",
   "execution_count": 121,
   "metadata": {},
   "outputs": [],
   "source": [
    "zhang = pd.read_csv(\"../../data/processed/zhang/zhang_input.csv.gz\")"
   ]
  },
  {
   "cell_type": "code",
   "execution_count": 122,
   "metadata": {},
   "outputs": [
    {
     "data": {
      "text/plain": [
       "A02:01    1360\n",
       "Name: HLA_type, dtype: int64"
      ]
     },
     "execution_count": 122,
     "metadata": {},
     "output_type": "execute_result"
    }
   ],
   "source": [
    "zhang.HLA_type.value_counts()"
   ]
  },
  {
   "cell_type": "code",
   "execution_count": 123,
   "metadata": {},
   "outputs": [],
   "source": [
    "zhang.HLA_type = zhang.HLA_type.str.replace(\":\", \"\")"
   ]
  },
  {
   "cell_type": "markdown",
   "metadata": {},
   "source": [
    "***After discussion with Paulina, the peptide source for unknown peptides \n",
    "was established to be TAA (gene name is available in the metadata)***"
   ]
  },
  {
   "cell_type": "code",
   "execution_count": 124,
   "metadata": {},
   "outputs": [],
   "source": [
    "zhang.peptide_source = zhang.peptide_source.fillna(\"TAA\")"
   ]
  },
  {
   "cell_type": "code",
   "execution_count": 125,
   "metadata": {},
   "outputs": [],
   "source": [
    "zhang.loc[:, \"dataset_index\"] = \"zhang2018_\" + pd.Series(np.arange(len(zhang)).astype(str), index=zhang.index)"
   ]
  },
  {
   "cell_type": "code",
   "execution_count": 126,
   "metadata": {},
   "outputs": [
    {
     "name": "stderr",
     "output_type": "stream",
     "text": [
      "<ipython-input-36-38537a903742>:5: UserWarning: This pattern has match groups. To actually get the groups, use str.extract.\n",
      "  & (databases.HLA_type.str.contains(\"^(A|B|C)\"))\n"
     ]
    }
   ],
   "source": [
    "zhang_filtered = filter_tcr(zhang)"
   ]
  },
  {
   "cell_type": "code",
   "execution_count": 127,
   "metadata": {},
   "outputs": [
    {
     "name": "stderr",
     "output_type": "stream",
     "text": [
      "/home/ardigen/miniconda3/envs/keras2/lib/python3.8/site-packages/pandas/core/indexing.py:1667: SettingWithCopyWarning: \n",
      "A value is trying to be set on a copy of a slice from a DataFrame.\n",
      "Try using .loc[row_indexer,col_indexer] = value instead\n",
      "\n",
      "See the caveats in the documentation: https://pandas.pydata.org/pandas-docs/stable/user_guide/indexing.html#returning-a-view-versus-a-copy\n",
      "  self.obj[key] = value\n"
     ]
    }
   ],
   "source": [
    "zhang_filtered.loc[:, \"id\"] = make_id(zhang_filtered)"
   ]
  },
  {
   "cell_type": "code",
   "execution_count": 128,
   "metadata": {},
   "outputs": [
    {
     "name": "stdout",
     "output_type": "stream",
     "text": [
      "1360 obs before filtering\n"
     ]
    }
   ],
   "source": [
    "print(len(zhang), \"obs before filtering\")"
   ]
  },
  {
   "cell_type": "code",
   "execution_count": 129,
   "metadata": {},
   "outputs": [
    {
     "name": "stdout",
     "output_type": "stream",
     "text": [
      "1093 obs after filtering\n"
     ]
    }
   ],
   "source": [
    "print(len(zhang_filtered), \"obs after filtering\")"
   ]
  },
  {
   "cell_type": "markdown",
   "metadata": {},
   "source": [
    "### Analyze what has been filtered out and why"
   ]
  },
  {
   "cell_type": "code",
   "execution_count": 130,
   "metadata": {},
   "outputs": [],
   "source": [
    "zhang_removed = zhang.loc[~zhang.dataset_index.isin(zhang_filtered.dataset_index)]"
   ]
  },
  {
   "cell_type": "markdown",
   "metadata": {},
   "source": [
    "**258 observations removed due to missing CDR3b**"
   ]
  },
  {
   "cell_type": "code",
   "execution_count": 131,
   "metadata": {},
   "outputs": [
    {
     "data": {
      "text/plain": [
       "True     258\n",
       "False      9\n",
       "Name: CDR3b, dtype: int64"
      ]
     },
     "execution_count": 131,
     "metadata": {},
     "output_type": "execute_result"
    }
   ],
   "source": [
    "zhang_removed.CDR3b.isna().value_counts()"
   ]
  },
  {
   "cell_type": "markdown",
   "metadata": {},
   "source": [
    "**9 observations are filtered due to other reasons**\n",
    "1. no peptide sequence\n",
    "2. too short CDR3b"
   ]
  },
  {
   "cell_type": "code",
   "execution_count": 132,
   "metadata": {},
   "outputs": [
    {
     "data": {
      "text/html": [
       "<div>\n",
       "<style scoped>\n",
       "    .dataframe tbody tr th:only-of-type {\n",
       "        vertical-align: middle;\n",
       "    }\n",
       "\n",
       "    .dataframe tbody tr th {\n",
       "        vertical-align: top;\n",
       "    }\n",
       "\n",
       "    .dataframe thead th {\n",
       "        text-align: right;\n",
       "    }\n",
       "</style>\n",
       "<table border=\"1\" class=\"dataframe\">\n",
       "  <thead>\n",
       "    <tr style=\"text-align: right;\">\n",
       "      <th></th>\n",
       "      <th>peptide_seq</th>\n",
       "      <th>HLA_type</th>\n",
       "      <th>CDR3a</th>\n",
       "      <th>CDR3b</th>\n",
       "      <th>peptide_name</th>\n",
       "      <th>wildtype</th>\n",
       "      <th>peptide_rank</th>\n",
       "      <th>peptide_source</th>\n",
       "      <th>peptide_reference</th>\n",
       "      <th>TRAV</th>\n",
       "      <th>TRBV</th>\n",
       "      <th>tcr_source_organism</th>\n",
       "      <th>cell_name</th>\n",
       "      <th>sorted_population</th>\n",
       "      <th>experiment_type</th>\n",
       "      <th>tetramer_fluorescence</th>\n",
       "      <th>no_experiment</th>\n",
       "      <th>dataset</th>\n",
       "      <th>dataset_index</th>\n",
       "    </tr>\n",
       "  </thead>\n",
       "  <tbody>\n",
       "    <tr>\n",
       "      <th>110</th>\n",
       "      <td>KLSEGDLLA</td>\n",
       "      <td>A0201</td>\n",
       "      <td>NaN</td>\n",
       "      <td>CASDEKLFF</td>\n",
       "      <td>PD5-KLS</td>\n",
       "      <td>NaN</td>\n",
       "      <td>rank_1</td>\n",
       "      <td>TAA</td>\n",
       "      <td>NaN</td>\n",
       "      <td>NaN</td>\n",
       "      <td>6-1*01</td>\n",
       "      <td>human</td>\n",
       "      <td>BE11</td>\n",
       "      <td>Non-Naïve Endogenous</td>\n",
       "      <td>tetramer staining</td>\n",
       "      <td>PE</td>\n",
       "      <td>1</td>\n",
       "      <td>zhang2018</td>\n",
       "      <td>zhang2018_110</td>\n",
       "    </tr>\n",
       "    <tr>\n",
       "      <th>177</th>\n",
       "      <td>MLNIPSINV</td>\n",
       "      <td>A0201</td>\n",
       "      <td>CAVGMDSSYKLIF</td>\n",
       "      <td>CASNQPQHF</td>\n",
       "      <td>CMV-MLN</td>\n",
       "      <td>NaN</td>\n",
       "      <td>rank_1</td>\n",
       "      <td>virus</td>\n",
       "      <td>NaN</td>\n",
       "      <td>8-3</td>\n",
       "      <td>6-1</td>\n",
       "      <td>human</td>\n",
       "      <td>UE2</td>\n",
       "      <td>Foreign_Naive</td>\n",
       "      <td>tetramer staining</td>\n",
       "      <td>APC</td>\n",
       "      <td>2</td>\n",
       "      <td>zhang2018</td>\n",
       "      <td>zhang2018_177</td>\n",
       "    </tr>\n",
       "    <tr>\n",
       "      <th>344</th>\n",
       "      <td>MLNIPSINV</td>\n",
       "      <td>A0201</td>\n",
       "      <td>CVVSAMGGGNKLTF</td>\n",
       "      <td>CASNQPQHF</td>\n",
       "      <td>CMV-MLN</td>\n",
       "      <td>NaN</td>\n",
       "      <td>rank_1</td>\n",
       "      <td>virus</td>\n",
       "      <td>NaN</td>\n",
       "      <td>10</td>\n",
       "      <td>6-1</td>\n",
       "      <td>human</td>\n",
       "      <td>UE2</td>\n",
       "      <td>Foreign_Naive</td>\n",
       "      <td>tetramer staining</td>\n",
       "      <td>APC</td>\n",
       "      <td>2</td>\n",
       "      <td>zhang2018</td>\n",
       "      <td>zhang2018_344</td>\n",
       "    </tr>\n",
       "    <tr>\n",
       "      <th>430</th>\n",
       "      <td>NaN</td>\n",
       "      <td>A0201</td>\n",
       "      <td>CVVSPYNQGGKLIF</td>\n",
       "      <td>CASSLDIGDQPQHF</td>\n",
       "      <td>NaN</td>\n",
       "      <td>NaN</td>\n",
       "      <td>rank_1</td>\n",
       "      <td>TAA</td>\n",
       "      <td>NaN</td>\n",
       "      <td>12-1*01</td>\n",
       "      <td>7-9*01</td>\n",
       "      <td>human</td>\n",
       "      <td>CH6</td>\n",
       "      <td>Neo+WT+</td>\n",
       "      <td>tetramer staining</td>\n",
       "      <td>APC</td>\n",
       "      <td>3</td>\n",
       "      <td>zhang2018</td>\n",
       "      <td>zhang2018_430</td>\n",
       "    </tr>\n",
       "    <tr>\n",
       "      <th>431</th>\n",
       "      <td>NaN</td>\n",
       "      <td>A0201</td>\n",
       "      <td>CAYYGGGATNKLIF</td>\n",
       "      <td>CASSLGSGTQYF</td>\n",
       "      <td>NaN</td>\n",
       "      <td>NaN</td>\n",
       "      <td>rank_2</td>\n",
       "      <td>TAA</td>\n",
       "      <td>NaN</td>\n",
       "      <td>38-2/DV8*01</td>\n",
       "      <td>13*01</td>\n",
       "      <td>human</td>\n",
       "      <td>BF12</td>\n",
       "      <td>Neo+WT+</td>\n",
       "      <td>tetramer staining</td>\n",
       "      <td>APC</td>\n",
       "      <td>3</td>\n",
       "      <td>zhang2018</td>\n",
       "      <td>zhang2018_431</td>\n",
       "    </tr>\n",
       "    <tr>\n",
       "      <th>432</th>\n",
       "      <td>NaN</td>\n",
       "      <td>A0201</td>\n",
       "      <td>CAMREGNTGGFKTIF</td>\n",
       "      <td>CASSAGGDTEAFF</td>\n",
       "      <td>NaN</td>\n",
       "      <td>NaN</td>\n",
       "      <td>rank_3</td>\n",
       "      <td>TAA</td>\n",
       "      <td>NaN</td>\n",
       "      <td>14/DV4*01</td>\n",
       "      <td>9*01</td>\n",
       "      <td>human</td>\n",
       "      <td>BC8</td>\n",
       "      <td>Neo+WT+</td>\n",
       "      <td>tetramer staining</td>\n",
       "      <td>APC</td>\n",
       "      <td>3</td>\n",
       "      <td>zhang2018</td>\n",
       "      <td>zhang2018_432</td>\n",
       "    </tr>\n",
       "    <tr>\n",
       "      <th>760</th>\n",
       "      <td>FLTVFSHFM</td>\n",
       "      <td>A0201</td>\n",
       "      <td>CAVNSNYQLIW</td>\n",
       "      <td>CSGDAFF</td>\n",
       "      <td>PIGN-FLT_P7H</td>\n",
       "      <td>no</td>\n",
       "      <td>rank_1</td>\n",
       "      <td>NSCLC</td>\n",
       "      <td>Rizvi</td>\n",
       "      <td>12-2*01</td>\n",
       "      <td>20-1*01</td>\n",
       "      <td>human</td>\n",
       "      <td>JA5</td>\n",
       "      <td>Neo+WT-</td>\n",
       "      <td>tetramer staining</td>\n",
       "      <td>PE</td>\n",
       "      <td>5</td>\n",
       "      <td>zhang2018</td>\n",
       "      <td>zhang2018_760</td>\n",
       "    </tr>\n",
       "    <tr>\n",
       "      <th>871</th>\n",
       "      <td>RLGPYLEFL</td>\n",
       "      <td>A0201</td>\n",
       "      <td>CAYTSNDMRF</td>\n",
       "      <td>RASSPRTGGEQYF</td>\n",
       "      <td>ITIH6-RLG</td>\n",
       "      <td>yes</td>\n",
       "      <td>rank_1</td>\n",
       "      <td>NSCLC</td>\n",
       "      <td>Rizvi</td>\n",
       "      <td>38-2/DV8*01</td>\n",
       "      <td>7-4*01</td>\n",
       "      <td>human</td>\n",
       "      <td>MB5</td>\n",
       "      <td>Neo-WT+</td>\n",
       "      <td>tetramer staining</td>\n",
       "      <td>APC</td>\n",
       "      <td>5</td>\n",
       "      <td>zhang2018</td>\n",
       "      <td>zhang2018_871</td>\n",
       "    </tr>\n",
       "    <tr>\n",
       "      <th>973</th>\n",
       "      <td>SLDLTTSPV</td>\n",
       "      <td>A0201</td>\n",
       "      <td>NaN</td>\n",
       "      <td>RASSFTAPGLQYNEQFF</td>\n",
       "      <td>GOLGA3-SLD_P4L</td>\n",
       "      <td>no</td>\n",
       "      <td>rank_1</td>\n",
       "      <td>SKCM</td>\n",
       "      <td>Strønen</td>\n",
       "      <td>NaN</td>\n",
       "      <td>7-3*01</td>\n",
       "      <td>human</td>\n",
       "      <td>KG6</td>\n",
       "      <td>Neo+WT-</td>\n",
       "      <td>tetramer staining</td>\n",
       "      <td>PE</td>\n",
       "      <td>5</td>\n",
       "      <td>zhang2018</td>\n",
       "      <td>zhang2018_973</td>\n",
       "    </tr>\n",
       "  </tbody>\n",
       "</table>\n",
       "</div>"
      ],
      "text/plain": [
       "    peptide_seq HLA_type            CDR3a              CDR3b    peptide_name  \\\n",
       "110   KLSEGDLLA    A0201              NaN          CASDEKLFF         PD5-KLS   \n",
       "177   MLNIPSINV    A0201    CAVGMDSSYKLIF          CASNQPQHF         CMV-MLN   \n",
       "344   MLNIPSINV    A0201   CVVSAMGGGNKLTF          CASNQPQHF         CMV-MLN   \n",
       "430         NaN    A0201   CVVSPYNQGGKLIF     CASSLDIGDQPQHF             NaN   \n",
       "431         NaN    A0201   CAYYGGGATNKLIF       CASSLGSGTQYF             NaN   \n",
       "432         NaN    A0201  CAMREGNTGGFKTIF      CASSAGGDTEAFF             NaN   \n",
       "760   FLTVFSHFM    A0201      CAVNSNYQLIW            CSGDAFF    PIGN-FLT_P7H   \n",
       "871   RLGPYLEFL    A0201       CAYTSNDMRF      RASSPRTGGEQYF       ITIH6-RLG   \n",
       "973   SLDLTTSPV    A0201              NaN  RASSFTAPGLQYNEQFF  GOLGA3-SLD_P4L   \n",
       "\n",
       "    wildtype peptide_rank peptide_source peptide_reference         TRAV  \\\n",
       "110      NaN       rank_1            TAA               NaN          NaN   \n",
       "177      NaN       rank_1          virus               NaN          8-3   \n",
       "344      NaN       rank_1          virus               NaN           10   \n",
       "430      NaN       rank_1            TAA               NaN      12-1*01   \n",
       "431      NaN       rank_2            TAA               NaN  38-2/DV8*01   \n",
       "432      NaN       rank_3            TAA               NaN    14/DV4*01   \n",
       "760       no       rank_1          NSCLC             Rizvi      12-2*01   \n",
       "871      yes       rank_1          NSCLC             Rizvi  38-2/DV8*01   \n",
       "973       no       rank_1           SKCM           Strønen          NaN   \n",
       "\n",
       "        TRBV tcr_source_organism cell_name     sorted_population  \\\n",
       "110   6-1*01               human      BE11  Non-Naïve Endogenous   \n",
       "177      6-1               human       UE2         Foreign_Naive   \n",
       "344      6-1               human       UE2         Foreign_Naive   \n",
       "430   7-9*01               human       CH6               Neo+WT+   \n",
       "431    13*01               human      BF12               Neo+WT+   \n",
       "432     9*01               human       BC8               Neo+WT+   \n",
       "760  20-1*01               human       JA5               Neo+WT-   \n",
       "871   7-4*01               human       MB5               Neo-WT+   \n",
       "973   7-3*01               human       KG6               Neo+WT-   \n",
       "\n",
       "       experiment_type tetramer_fluorescence  no_experiment    dataset  \\\n",
       "110  tetramer staining                    PE              1  zhang2018   \n",
       "177  tetramer staining                   APC              2  zhang2018   \n",
       "344  tetramer staining                   APC              2  zhang2018   \n",
       "430  tetramer staining                   APC              3  zhang2018   \n",
       "431  tetramer staining                   APC              3  zhang2018   \n",
       "432  tetramer staining                   APC              3  zhang2018   \n",
       "760  tetramer staining                    PE              5  zhang2018   \n",
       "871  tetramer staining                   APC              5  zhang2018   \n",
       "973  tetramer staining                    PE              5  zhang2018   \n",
       "\n",
       "     dataset_index  \n",
       "110  zhang2018_110  \n",
       "177  zhang2018_177  \n",
       "344  zhang2018_344  \n",
       "430  zhang2018_430  \n",
       "431  zhang2018_431  \n",
       "432  zhang2018_432  \n",
       "760  zhang2018_760  \n",
       "871  zhang2018_871  \n",
       "973  zhang2018_973  "
      ]
     },
     "execution_count": 132,
     "metadata": {},
     "output_type": "execute_result"
    }
   ],
   "source": [
    "zhang_removed[~zhang_removed.CDR3b.isna()]"
   ]
  },
  {
   "cell_type": "markdown",
   "metadata": {},
   "source": [
    "# Concat and remove duplicates"
   ]
  },
  {
   "cell_type": "code",
   "execution_count": 133,
   "metadata": {},
   "outputs": [],
   "source": [
    "# tenx_viral = tenx_viral"
   ]
  },
  {
   "cell_type": "code",
   "execution_count": 134,
   "metadata": {},
   "outputs": [],
   "source": [
    "df_all = pd.concat([publications_df, databases_df, tenx_cancer, tenx_viral, zhang_filtered], axis=0)"
   ]
  },
  {
   "cell_type": "code",
   "execution_count": 135,
   "metadata": {},
   "outputs": [],
   "source": [
    "df_all.loc[:, \"phla\"] = df_all.peptide_seq + \"_\" + df_all.HLA_type"
   ]
  },
  {
   "cell_type": "code",
   "execution_count": 136,
   "metadata": {},
   "outputs": [],
   "source": [
    "vc = df_all.dataset.value_counts()"
   ]
  },
  {
   "cell_type": "markdown",
   "metadata": {},
   "source": [
    "**When removing duplicates, I retain only one row for every group of observations with identicaltical ids (peptide_HLA_CDR3b)**\n",
    "\n",
    "**`priority_list` determines which observation is retained for every duplicate group.**\n",
    "1. Zhang and 10x,\n",
    "1. medium sized datasets, (100 - 1000 observations),\n",
    "1. databases (over 1000 observations),\n",
    "1. small datasets (less than 100 observations),\n",
    "\n",
    "\n",
    "10x and Zhang are on the top of the list because of the high quality of the experiments and because 10x_cancer and Zhang are also test sets. Medium datasets are prioritized above databases because they provide large fairly homogenous subsets of observations; the authors often publish slightly different data than what we find in databases later. Databases are prioritized over small datasets because there is some homogeneity provided by the curation process of the database. \n"
   ]
  },
  {
   "cell_type": "code",
   "execution_count": 137,
   "metadata": {},
   "outputs": [
    {
     "data": {
      "text/plain": [
       "0.25334037375453416"
      ]
     },
     "execution_count": 137,
     "metadata": {},
     "output_type": "execute_result"
    }
   ],
   "source": [
    "# JK: 24% of duplicates\n",
    "df_all.id.duplicated().sum() / len(df_all)"
   ]
  },
  {
   "cell_type": "code",
   "execution_count": 138,
   "metadata": {},
   "outputs": [
    {
     "data": {
      "text/plain": [
       "GILGFVFTL_A0201_CASSIRSSYEQYF       99\n",
       "GILGFVFTL_A0201_CASSIRSAYEQYF       50\n",
       "GILGFVFTL_A02_CASSIRSSYEQYF         37\n",
       "GILGFVFTL_A0201_CASSVRSSYEQYF       32\n",
       "NLVPMVATV_A02_CASSQTQLWETQYF        26\n",
       "GLCTLVAML_A0201_CASSQSPGGTQYF       26\n",
       "GLCTLVAML_A0201_CSARDRTGNGYTF       24\n",
       "NLVPMVATV_A0201_CASSSANYGYTF        23\n",
       "GLCTLVAML_A0201_CSARDGTGNGYTF       22\n",
       "GLCTLVAML_A02_CASSQSPGGTQYF         22\n",
       "GILGFVFTL_A0201_CASSIRASYEQYF       22\n",
       "RPRGEVRFL_B0702_CASSVWGTDTQYF       21\n",
       "GILGFVFTL_A0201_CASSSRSSYEQYF       21\n",
       "GLCTLVAML_A0201_CSVGTGGTNEKLFF      21\n",
       "GILGFVFTL_A02_CASSIRSAYEQYF         20\n",
       "GLCTLVAML_A0201_CSARDRVGNTIYF       19\n",
       "GILGFVFTL_A0201_CASSIRSTGELFF       19\n",
       "GILGFVFTL_A0201_CASSTRSSYEQYF       19\n",
       "GLCTLVAML_A0201_CSARDSTGNGYTF       18\n",
       "RPRGEVRFL_B0702_CATRIGWGTDTQYF      18\n",
       "LLWNGPMAV_A0201_CASTPGQALNEQYF      17\n",
       "GILGFVFTL_A0201_CASSGRSTDTQYF       17\n",
       "GILGFVFTL_A0201_CASSTRSTDTQYF       17\n",
       "GILGFVFTL_A0201_CASSIGVYGYTF        16\n",
       "NLVPMVATV_A02_CASSLAPGATNEKLFF      16\n",
       "NLVPMVATV_A02_CASSSVNEQFF           16\n",
       "GLCTLVAML_A02_CSVGTGGTNEKLFF        14\n",
       "GILGFVFTL_A0201_CASSIRSTDTQYF       14\n",
       "NLVPMVATV_A0201_CASSLAPGATNEKLFF    13\n",
       "NLVPMVATV_A0201_CASSLEGYTEAFF       13\n",
       "Name: id, dtype: int64"
      ]
     },
     "execution_count": 138,
     "metadata": {},
     "output_type": "execute_result"
    }
   ],
   "source": [
    "df_all.id.value_counts().head(30)"
   ]
  },
  {
   "cell_type": "code",
   "execution_count": 139,
   "metadata": {},
   "outputs": [
    {
     "data": {
      "text/plain": [
       "Pogorelyy    5861\n",
       "huth         1039\n",
       "Hakeem        324\n",
       "Miconnet      250\n",
       "Kamga         217\n",
       "Name: dataset, dtype: int64"
      ]
     },
     "execution_count": 139,
     "metadata": {},
     "output_type": "execute_result"
    }
   ],
   "source": [
    "publications_df.dataset.value_counts().head()"
   ]
  },
  {
   "cell_type": "code",
   "execution_count": 140,
   "metadata": {},
   "outputs": [],
   "source": [
    "priority_list = (\n",
    "    [\"zhang2018\", \"10x_cancer\", \"10x_viral\"]\n",
    "    + list(vc.index[(vc >= 100) & (vc < 1000)])\n",
    "    + list(vc.index[vc >= 1000][::-1])\n",
    "    + list(vc.index[vc < 100])\n",
    ")"
   ]
  },
  {
   "cell_type": "markdown",
   "metadata": {},
   "source": [
    "**Duplicates are dropped from `priority_list` because the zhang and 10x are contained twice due to being large datasets themselves.**"
   ]
  },
  {
   "cell_type": "code",
   "execution_count": 141,
   "metadata": {},
   "outputs": [],
   "source": [
    "priority_list = list(pd.Series(priority_list).drop_duplicates())"
   ]
  },
  {
   "cell_type": "code",
   "execution_count": 142,
   "metadata": {},
   "outputs": [
    {
     "data": {
      "text/plain": [
       "array(['Miconnet', 'Price', 'Venturi', 'Lim', 'Iancu', 'Cohen', 'Miles',\n",
       "       'Arakaki', 'Brennan', 'Day', 'Giest', 'Hamel', 'Hanley',\n",
       "       'Heemskerk', 'Janbazian', 'Karenbeek', 'Khan', 'Klinger', 'Koning',\n",
       "       'Liang', 'Nakasone', 'Retiere', 'Schub', 'Trautmann', 'vanBockel',\n",
       "       'Weekes', 'Wynn', 'gee2018', 'Hakeem', 'huth', 'Kamga',\n",
       "       'Malekzadeh', 'Pogorelyy', 'Soon', 'Takeda', 'McPAS', 'VDJdb',\n",
       "       'TBAdb', '10x_cancer', '10x_viral', 'zhang2018'], dtype=object)"
      ]
     },
     "execution_count": 142,
     "metadata": {},
     "output_type": "execute_result"
    }
   ],
   "source": [
    "df_all.dataset.unique()"
   ]
  },
  {
   "cell_type": "code",
   "execution_count": 143,
   "metadata": {},
   "outputs": [
    {
     "data": {
      "text/plain": [
       "0"
      ]
     },
     "execution_count": 143,
     "metadata": {},
     "output_type": "execute_result"
    }
   ],
   "source": [
    "df_all.dataset.isna().sum()"
   ]
  },
  {
   "cell_type": "code",
   "execution_count": 144,
   "metadata": {},
   "outputs": [
    {
     "data": {
      "text/plain": [
       "array([], dtype='<U10')"
      ]
     },
     "execution_count": 144,
     "metadata": {},
     "output_type": "execute_result"
    }
   ],
   "source": [
    "np.setdiff1d(np.array(priority_list), df_all.dataset.unique())"
   ]
  },
  {
   "cell_type": "code",
   "execution_count": 145,
   "metadata": {},
   "outputs": [],
   "source": [
    "# Just to make sure we don't miss anything\n",
    "assert set(df_all.dataset.unique()) == set(priority_list)"
   ]
  },
  {
   "cell_type": "code",
   "execution_count": 146,
   "metadata": {},
   "outputs": [
    {
     "data": {
      "text/plain": [
       "['zhang2018',\n",
       " '10x_cancer',\n",
       " '10x_viral',\n",
       " 'Hakeem',\n",
       " 'Miconnet',\n",
       " 'Kamga',\n",
       " 'Price',\n",
       " 'Venturi',\n",
       " 'huth',\n",
       " 'TBAdb',\n",
       " 'Pogorelyy',\n",
       " 'McPAS',\n",
       " 'VDJdb',\n",
       " 'Hanley',\n",
       " 'Koning']"
      ]
     },
     "execution_count": 146,
     "metadata": {},
     "output_type": "execute_result"
    }
   ],
   "source": [
    "priority_list[:15]"
   ]
  },
  {
   "cell_type": "code",
   "execution_count": 147,
   "metadata": {},
   "outputs": [],
   "source": [
    "# Medium datasets first, then databases, then small ones"
   ]
  },
  {
   "cell_type": "code",
   "execution_count": 148,
   "metadata": {},
   "outputs": [
    {
     "data": {
      "text/plain": [
       "zhang2018      1093\n",
       "10x_cancer      239\n",
       "10x_viral      3574\n",
       "Hakeem          324\n",
       "Miconnet        250\n",
       "Kamga           217\n",
       "Price           183\n",
       "Venturi         165\n",
       "huth           1039\n",
       "TBAdb          5852\n",
       "Pogorelyy      5861\n",
       "McPAS          8482\n",
       "VDJdb         15751\n",
       "Hanley           86\n",
       "Koning           50\n",
       "Karenbeek        42\n",
       "Brennan          42\n",
       "Janbazian        38\n",
       "vanBockel        36\n",
       "gee2018          33\n",
       "Trautmann        31\n",
       "Nakasone         25\n",
       "Day              21\n",
       "Weekes           21\n",
       "Takeda           20\n",
       "Name: dataset, dtype: int64"
      ]
     },
     "execution_count": 148,
     "metadata": {},
     "output_type": "execute_result"
    }
   ],
   "source": [
    "vc.loc[priority_list].head(25)"
   ]
  },
  {
   "cell_type": "code",
   "execution_count": 149,
   "metadata": {},
   "outputs": [],
   "source": [
    "def prioritize_db(phlatcr_df):\n",
    "    this_priority_list = np.intersect1d(phlatcr_df.dataset, priority_list)\n",
    "    for p in this_priority_list:\n",
    "        mask = phlatcr_df.dataset == p\n",
    "        if mask.any():\n",
    "            return phlatcr_df[mask].iloc[0]\n",
    "    return phlatcr_df.iloc[0]"
   ]
  },
  {
   "cell_type": "code",
   "execution_count": 150,
   "metadata": {},
   "outputs": [
    {
     "data": {
      "text/html": [
       "<div>\n",
       "<style scoped>\n",
       "    .dataframe tbody tr th:only-of-type {\n",
       "        vertical-align: middle;\n",
       "    }\n",
       "\n",
       "    .dataframe tbody tr th {\n",
       "        vertical-align: top;\n",
       "    }\n",
       "\n",
       "    .dataframe thead th {\n",
       "        text-align: right;\n",
       "    }\n",
       "</style>\n",
       "<table border=\"1\" class=\"dataframe\">\n",
       "  <thead>\n",
       "    <tr style=\"text-align: right;\">\n",
       "      <th></th>\n",
       "      <th>peptide_seq</th>\n",
       "      <th>HLA_type</th>\n",
       "      <th>CDR3a</th>\n",
       "      <th>TRAJ</th>\n",
       "      <th>TRAV</th>\n",
       "      <th>peptide_source</th>\n",
       "      <th>tcr_source_organism</th>\n",
       "      <th>tissue</th>\n",
       "      <th>experiment_type</th>\n",
       "      <th>dataset</th>\n",
       "      <th>...</th>\n",
       "      <th>origin</th>\n",
       "      <th>peptide_name</th>\n",
       "      <th>wildtype</th>\n",
       "      <th>peptide_rank</th>\n",
       "      <th>peptide_reference</th>\n",
       "      <th>cell_name</th>\n",
       "      <th>sorted_population</th>\n",
       "      <th>tetramer_fluorescence</th>\n",
       "      <th>no_experiment</th>\n",
       "      <th>phla</th>\n",
       "    </tr>\n",
       "  </thead>\n",
       "  <tbody>\n",
       "    <tr>\n",
       "      <th>24065</th>\n",
       "      <td>YLQPRTFLL</td>\n",
       "      <td>A02</td>\n",
       "      <td>NaN</td>\n",
       "      <td>NaN</td>\n",
       "      <td>NaN</td>\n",
       "      <td>SARS-CoV-2</td>\n",
       "      <td>human</td>\n",
       "      <td>TCL</td>\n",
       "      <td>cultured-T-cells,tetramer-sort</td>\n",
       "      <td>VDJdb</td>\n",
       "      <td>...</td>\n",
       "      <td>NaN</td>\n",
       "      <td>NaN</td>\n",
       "      <td>NaN</td>\n",
       "      <td>NaN</td>\n",
       "      <td>NaN</td>\n",
       "      <td>NaN</td>\n",
       "      <td>NaN</td>\n",
       "      <td>NaN</td>\n",
       "      <td>NaN</td>\n",
       "      <td>YLQPRTFLL_A02</td>\n",
       "    </tr>\n",
       "    <tr>\n",
       "      <th>7759</th>\n",
       "      <td>LLWNGPMAV</td>\n",
       "      <td>A02</td>\n",
       "      <td>NaN</td>\n",
       "      <td>NaN</td>\n",
       "      <td>NaN</td>\n",
       "      <td>YFV</td>\n",
       "      <td>human</td>\n",
       "      <td>PBMC</td>\n",
       "      <td>dextramer-sort, TCRb seq</td>\n",
       "      <td>Pogorelyy</td>\n",
       "      <td>...</td>\n",
       "      <td>NaN</td>\n",
       "      <td>NaN</td>\n",
       "      <td>NaN</td>\n",
       "      <td>NaN</td>\n",
       "      <td>NaN</td>\n",
       "      <td>NaN</td>\n",
       "      <td>NaN</td>\n",
       "      <td>NaN</td>\n",
       "      <td>NaN</td>\n",
       "      <td>LLWNGPMAV_A02</td>\n",
       "    </tr>\n",
       "    <tr>\n",
       "      <th>7315</th>\n",
       "      <td>FRCPRRFCF</td>\n",
       "      <td>C0702</td>\n",
       "      <td>NaN</td>\n",
       "      <td>NaN</td>\n",
       "      <td>NaN</td>\n",
       "      <td>Cytomegalovirus (CMV)</td>\n",
       "      <td>human</td>\n",
       "      <td>PBMC</td>\n",
       "      <td>pMHC tetramers</td>\n",
       "      <td>McPAS</td>\n",
       "      <td>...</td>\n",
       "      <td>NaN</td>\n",
       "      <td>NaN</td>\n",
       "      <td>NaN</td>\n",
       "      <td>NaN</td>\n",
       "      <td>NaN</td>\n",
       "      <td>NaN</td>\n",
       "      <td>NaN</td>\n",
       "      <td>NaN</td>\n",
       "      <td>NaN</td>\n",
       "      <td>FRCPRRFCF_C0702</td>\n",
       "    </tr>\n",
       "  </tbody>\n",
       "</table>\n",
       "<p>3 rows × 52 columns</p>\n",
       "</div>"
      ],
      "text/plain": [
       "      peptide_seq HLA_type CDR3a TRAJ TRAV         peptide_source  \\\n",
       "24065   YLQPRTFLL      A02   NaN  NaN  NaN             SARS-CoV-2   \n",
       "7759    LLWNGPMAV      A02   NaN  NaN  NaN                    YFV   \n",
       "7315    FRCPRRFCF    C0702   NaN  NaN  NaN  Cytomegalovirus (CMV)   \n",
       "\n",
       "      tcr_source_organism tissue                 experiment_type    dataset  \\\n",
       "24065               human    TCL  cultured-T-cells,tetramer-sort      VDJdb   \n",
       "7759                human   PBMC        dextramer-sort, TCRb seq  Pogorelyy   \n",
       "7315                human   PBMC                  pMHC tetramers      McPAS   \n",
       "\n",
       "       ... origin peptide_name wildtype peptide_rank peptide_reference  \\\n",
       "24065  ...    NaN          NaN      NaN          NaN               NaN   \n",
       "7759   ...    NaN          NaN      NaN          NaN               NaN   \n",
       "7315   ...    NaN          NaN      NaN          NaN               NaN   \n",
       "\n",
       "      cell_name sorted_population tetramer_fluorescence  no_experiment  \\\n",
       "24065       NaN               NaN                   NaN            NaN   \n",
       "7759        NaN               NaN                   NaN            NaN   \n",
       "7315        NaN               NaN                   NaN            NaN   \n",
       "\n",
       "                  phla  \n",
       "24065    YLQPRTFLL_A02  \n",
       "7759     LLWNGPMAV_A02  \n",
       "7315   FRCPRRFCF_C0702  \n",
       "\n",
       "[3 rows x 52 columns]"
      ]
     },
     "execution_count": 150,
     "metadata": {},
     "output_type": "execute_result"
    }
   ],
   "source": [
    "df_all.sample(3)"
   ]
  },
  {
   "cell_type": "code",
   "execution_count": 151,
   "metadata": {},
   "outputs": [
    {
     "data": {
      "text/plain": [
       "CMV                                   14319\n",
       "YFV                                    6270\n",
       "InfluenzaA                             4140\n",
       "Influenza                              3641\n",
       "EBV                                    2788\n",
       "Cytomegalovirus (CMV)                  2150\n",
       "HomoSapiens                            1788\n",
       "HIV-1                                  1773\n",
       "Human immunodeficiency virus (HIV)     1359\n",
       "Epstein Barr virus (EBV)               1037\n",
       "HCV                                     829\n",
       "NSCLC                                   409\n",
       "HTLV-1                                  355\n",
       "SARS-CoV-2                              344\n",
       "Melanoma                                339\n",
       "SKCM                                    251\n",
       "Yellow fever virus                      248\n",
       "YellowFeverVirus                        247\n",
       "Hepatitis C virus                       190\n",
       "TAA                                     174\n",
       "DENV1                                   165\n",
       "DENV3/4                                 158\n",
       "virus                                   131\n",
       "Herpes simplex virus 2 (HSV2)           114\n",
       "melanoma                                 78\n",
       "DENV2                                    60\n",
       "CLL                                      50\n",
       "HSV-2                                    40\n",
       "colorectal adenocarcinoma                33\n",
       "lung cancer                              20\n",
       "Diabetes Type 1                          20\n",
       "Hepatitis E virus infection (cHEV)        7\n",
       "HEV                                       6\n",
       "Acute myeloid leukaemia                   6\n",
       "HPV                                       6\n",
       "Acute myeloid leukemia                    6\n",
       "epithelial cancer                         4\n",
       "SaccharomycesCerevisiae                   1\n",
       "Alzheimer's disease                       1\n",
       "HTLV-1 (Chronic                           1\n",
       "Name: peptide_source, dtype: int64"
      ]
     },
     "execution_count": 151,
     "metadata": {},
     "output_type": "execute_result"
    }
   ],
   "source": [
    "df_all.peptide_source.value_counts()"
   ]
  },
  {
   "cell_type": "code",
   "execution_count": 152,
   "metadata": {},
   "outputs": [
    {
     "data": {
      "text/plain": [
       "(43558, 52)"
      ]
     },
     "execution_count": 152,
     "metadata": {},
     "output_type": "execute_result"
    }
   ],
   "source": [
    "df_all.shape"
   ]
  },
  {
   "cell_type": "code",
   "execution_count": 153,
   "metadata": {},
   "outputs": [],
   "source": [
    "df_unique = df_all.groupby(\"id\").apply(prioritize_db)"
   ]
  },
  {
   "cell_type": "code",
   "execution_count": 154,
   "metadata": {},
   "outputs": [
    {
     "data": {
      "text/plain": [
       "(43558, 52)"
      ]
     },
     "execution_count": 154,
     "metadata": {},
     "output_type": "execute_result"
    }
   ],
   "source": [
    "df_all.shape"
   ]
  },
  {
   "cell_type": "code",
   "execution_count": 155,
   "metadata": {},
   "outputs": [
    {
     "data": {
      "text/plain": [
       "(32523, 52)"
      ]
     },
     "execution_count": 155,
     "metadata": {},
     "output_type": "execute_result"
    }
   ],
   "source": [
    "df_unique.shape"
   ]
  },
  {
   "cell_type": "code",
   "execution_count": 156,
   "metadata": {},
   "outputs": [
    {
     "data": {
      "text/plain": [
       "VDJdb         8699\n",
       "McPAS         7799\n",
       "Pogorelyy     5623\n",
       "TBAdb         4360\n",
       "10x_viral     3574\n",
       "zhang2018     1046\n",
       "10x_cancer     239\n",
       "Miconnet       171\n",
       "Kamga          161\n",
       "Price          142\n",
       "Name: dataset, dtype: int64"
      ]
     },
     "execution_count": 156,
     "metadata": {},
     "output_type": "execute_result"
    }
   ],
   "source": [
    "df_unique.dataset.value_counts().head(10)"
   ]
  },
  {
   "cell_type": "code",
   "execution_count": 157,
   "metadata": {},
   "outputs": [
    {
     "data": {
      "image/png": "[encoded data removed]",
      "text/plain": [
       "<Figure size 576x288 with 1 Axes>"
      ]
     },
     "metadata": {
      "needs_background": "light"
     },
     "output_type": "display_data"
    }
   ],
   "source": [
    "vc = df_unique.HLA_type.value_counts().head(30)\n",
    "plt.bar(vc.index, vc)\n",
    "plt.xticks(np.arange(len(vc)), vc.index, rotation=90)\n",
    "plt.gca().set_yscale(\"log\")\n",
    "plt.gcf().set_size_inches(8, 4)\n",
    "# plt.gca().set_yticks([10, 100, 1000])\n",
    "plt.title(\"HLA type distribution\")\n",
    "plt.show()"
   ]
  },
  {
   "cell_type": "code",
   "execution_count": 158,
   "metadata": {},
   "outputs": [
    {
     "data": {
      "image/png": "[encoded data removed]",
      "text/plain": [
       "<Figure size 576x288 with 1 Axes>"
      ]
     },
     "metadata": {
      "needs_background": "light"
     },
     "output_type": "display_data"
    }
   ],
   "source": [
    "vc = df_unique.HLA_type.str[:3].value_counts().head(30)\n",
    "plt.bar(vc.index, vc)\n",
    "plt.xticks(np.arange(len(vc)), vc.index, rotation=90)\n",
    "plt.gca().set_yscale(\"log\")\n",
    "plt.gcf().set_size_inches(8, 4)\n",
    "# plt.gca().set_yticks([10, 100, 1000])\n",
    "plt.title(\"HLA type (first resolution) distribution\")\n",
    "plt.show()"
   ]
  },
  {
   "cell_type": "code",
   "execution_count": 159,
   "metadata": {},
   "outputs": [
    {
     "data": {
      "image/png": "[encoded data removed]",
      "text/plain": [
       "<Figure size 432x288 with 1 Axes>"
      ]
     },
     "metadata": {
      "needs_background": "light"
     },
     "output_type": "display_data"
    }
   ],
   "source": [
    "vc = df_unique.peptide_seq.value_counts().head(30)\n",
    "\n",
    "vc = vc[\n",
    "    vc > 10\n",
    "] \n",
    "\n",
    "plt.bar(vc.index, vc)\n",
    "plt.xticks(np.arange(len(vc)), vc.index, rotation=90)\n",
    "plt.title(\"Observations per peptide\")\n",
    "plt.show()"
   ]
  },
  {
   "cell_type": "code",
   "execution_count": 160,
   "metadata": {},
   "outputs": [
    {
     "data": {
      "text/plain": [
       "LLWNGPMAV     6070\n",
       "NLVPMVATV     5025\n",
       "GILGFVFTL     4092\n",
       "KLGGALQAK     2431\n",
       "LPRRSGAAGA    2294\n",
       "GLCTLVAML     1750\n",
       "ELAGIGILTV    1289\n",
       "TPRVTGGGAM     547\n",
       "RAKFKQLL       518\n",
       "VTEHDTLLY      472\n",
       "Name: peptide_seq, dtype: int64"
      ]
     },
     "execution_count": 160,
     "metadata": {},
     "output_type": "execute_result"
    }
   ],
   "source": [
    "df_unique.peptide_seq.value_counts().head(10)"
   ]
  },
  {
   "cell_type": "code",
   "execution_count": 161,
   "metadata": {},
   "outputs": [
    {
     "data": {
      "text/plain": [
       "(32523, 52)"
      ]
     },
     "execution_count": 161,
     "metadata": {},
     "output_type": "execute_result"
    }
   ],
   "source": [
    "df_unique.shape"
   ]
  },
  {
   "cell_type": "code",
   "execution_count": 162,
   "metadata": {},
   "outputs": [
    {
     "data": {
      "text/plain": [
       "array(['HomoSapiens', 'Melanoma', 'virus', 'SKCM', 'NSCLC',\n",
       "       'Acute myeloid leukemia', 'TAA', 'HCV', 'Hepatitis C virus',\n",
       "       'Epstein Barr virus (EBV)', 'EBV', 'CMV', 'Cytomegalovirus (CMV)',\n",
       "       'InfluenzaA', 'Influenza', 'Human immunodeficiency virus (HIV)',\n",
       "       'HIV-1', 'colorectal adenocarcinoma', 'SARS-CoV-2', 'melanoma',\n",
       "       'DENV2', 'DENV3/4', 'DENV1', 'epithelial cancer', 'HTLV-1', 'YFV',\n",
       "       'Yellow fever virus', 'HEV', 'Hepatitis E virus infection (cHEV)',\n",
       "       'HPV', 'SaccharomycesCerevisiae', 'lung cancer',\n",
       "       \"Alzheimer's disease\", 'Herpes simplex virus 2 (HSV2)', 'HSV-2',\n",
       "       'HTLV-1 (Chronic', 'Diabetes Type 1', 'CLL'], dtype=object)"
      ]
     },
     "execution_count": 162,
     "metadata": {},
     "output_type": "execute_result"
    }
   ],
   "source": [
    "df_unique.peptide_source.unique()"
   ]
  },
  {
   "cell_type": "code",
   "execution_count": 163,
   "metadata": {},
   "outputs": [
    {
     "data": {
      "text/plain": [
       "CMV                                   8002\n",
       "YFV                                   5850\n",
       "Influenza                             3327\n",
       "InfluenzaA                            3113\n",
       "Cytomegalovirus (CMV)                 2091\n",
       "EBV                                   2061\n",
       "HomoSapiens                           1769\n",
       "HIV-1                                 1430\n",
       "Epstein Barr virus (EBV)               898\n",
       "Human immunodeficiency virus (HIV)     799\n",
       "HCV                                    502\n",
       "NSCLC                                  407\n",
       "Melanoma                               334\n",
       "SARS-CoV-2                             333\n",
       "SKCM                                   247\n",
       "HTLV-1                                 179\n",
       "Yellow fever virus                     178\n",
       "DENV1                                  165\n",
       "TAA                                    159\n",
       "DENV3/4                                158\n",
       "virus                                  107\n",
       "Hepatitis C virus                       85\n",
       "melanoma                                77\n",
       "DENV2                                   60\n",
       "CLL                                     49\n",
       "colorectal adenocarcinoma               33\n",
       "Herpes simplex virus 2 (HSV2)           30\n",
       "lung cancer                             18\n",
       "Diabetes Type 1                         16\n",
       "HSV-2                                   15\n",
       "Acute myeloid leukemia                   6\n",
       "HEV                                      6\n",
       "Hepatitis E virus infection (cHEV)       6\n",
       "HPV                                      6\n",
       "epithelial cancer                        4\n",
       "SaccharomycesCerevisiae                  1\n",
       "Alzheimer's disease                      1\n",
       "HTLV-1 (Chronic                          1\n",
       "Name: peptide_source, dtype: int64"
      ]
     },
     "execution_count": 163,
     "metadata": {},
     "output_type": "execute_result"
    }
   ],
   "source": [
    "df_unique.peptide_source.value_counts()"
   ]
  },
  {
   "cell_type": "code",
   "execution_count": 164,
   "metadata": {},
   "outputs": [],
   "source": [
    "cancer_mask = df_unique.peptide_source.isin(\n",
    "    [\n",
    "        \"HomoSapiens\",\n",
    "        \"Melanoma\",\n",
    "        \"colorectal adenocarcinoma\",\n",
    "        \"lung cancer\",\n",
    "        \"epithelial cancer\",\n",
    "        \"Acute myeloid leukemia\",\n",
    "        \"NSCLC\",\n",
    "        \"SKCM\",\n",
    "        \"melanoma\",\n",
    "        \"CLL\",\n",
    "        \"TAA\",\n",
    "    ]\n",
    ")"
   ]
  },
  {
   "cell_type": "code",
   "execution_count": 165,
   "metadata": {},
   "outputs": [
    {
     "data": {
      "text/plain": [
       "CMV                                   8002\n",
       "YFV                                   5850\n",
       "Influenza                             3327\n",
       "InfluenzaA                            3113\n",
       "Cytomegalovirus (CMV)                 2091\n",
       "EBV                                   2061\n",
       "HIV-1                                 1430\n",
       "Epstein Barr virus (EBV)               898\n",
       "Human immunodeficiency virus (HIV)     799\n",
       "HCV                                    502\n",
       "SARS-CoV-2                             333\n",
       "HTLV-1                                 179\n",
       "Yellow fever virus                     178\n",
       "DENV1                                  165\n",
       "DENV3/4                                158\n",
       "virus                                  107\n",
       "Hepatitis C virus                       85\n",
       "DENV2                                   60\n",
       "Herpes simplex virus 2 (HSV2)           30\n",
       "Diabetes Type 1                         16\n",
       "HSV-2                                   15\n",
       "HEV                                      6\n",
       "Hepatitis E virus infection (cHEV)       6\n",
       "HPV                                      6\n",
       "SaccharomycesCerevisiae                  1\n",
       "Alzheimer's disease                      1\n",
       "HTLV-1 (Chronic                          1\n",
       "Name: peptide_source, dtype: int64"
      ]
     },
     "execution_count": 165,
     "metadata": {},
     "output_type": "execute_result"
    }
   ],
   "source": [
    "df_unique[~cancer_mask].peptide_source.value_counts()"
   ]
  },
  {
   "cell_type": "code",
   "execution_count": 166,
   "metadata": {},
   "outputs": [
    {
     "data": {
      "text/plain": [
       "Unknown                      1769\n",
       "Melanoma                      411\n",
       "NSCLC                         407\n",
       "SKCM                          247\n",
       "TAA                           159\n",
       "CLL                            49\n",
       "colorectal adenocarcinoma      33\n",
       "lung cancer                    18\n",
       "Acute myeloid leukemia          6\n",
       "epithelial cancer               4\n",
       "Name: peptide_source, dtype: int64"
      ]
     },
     "execution_count": 166,
     "metadata": {},
     "output_type": "execute_result"
    }
   ],
   "source": [
    "df_unique[cancer_mask].peptide_source.str.replace(\"HomoSapiens\", \"Unknown\").str.replace(\n",
    "    \"melanoma\", \"Melanoma\"\n",
    ").value_counts()"
   ]
  },
  {
   "cell_type": "code",
   "execution_count": 167,
   "metadata": {},
   "outputs": [
    {
     "data": {
      "text/plain": [
       "False    29420\n",
       "True      3103\n",
       "Name: peptide_source, dtype: int64"
      ]
     },
     "execution_count": 167,
     "metadata": {},
     "output_type": "execute_result"
    }
   ],
   "source": [
    "cancer_mask.value_counts()"
   ]
  },
  {
   "cell_type": "code",
   "execution_count": 168,
   "metadata": {},
   "outputs": [],
   "source": [
    "df_unique.loc[:, \"is_cancer\"] = cancer_mask"
   ]
  },
  {
   "cell_type": "code",
   "execution_count": 169,
   "metadata": {},
   "outputs": [
    {
     "data": {
      "text/plain": [
       "0.09540940257663807"
      ]
     },
     "execution_count": 169,
     "metadata": {},
     "output_type": "execute_result"
    }
   ],
   "source": [
    "cancer_mask.mean()"
   ]
  },
  {
   "cell_type": "code",
   "execution_count": 170,
   "metadata": {},
   "outputs": [],
   "source": [
    "t = pd.crosstab(df_unique.dataset, cancer_mask)"
   ]
  },
  {
   "cell_type": "code",
   "execution_count": 171,
   "metadata": {},
   "outputs": [
    {
     "data": {
      "text/html": [
       "<div>\n",
       "<style scoped>\n",
       "    .dataframe tbody tr th:only-of-type {\n",
       "        vertical-align: middle;\n",
       "    }\n",
       "\n",
       "    .dataframe tbody tr th {\n",
       "        vertical-align: top;\n",
       "    }\n",
       "\n",
       "    .dataframe thead th {\n",
       "        text-align: right;\n",
       "    }\n",
       "</style>\n",
       "<table border=\"1\" class=\"dataframe\">\n",
       "  <thead>\n",
       "    <tr style=\"text-align: right;\">\n",
       "      <th>peptide_source</th>\n",
       "      <th>False</th>\n",
       "      <th>True</th>\n",
       "    </tr>\n",
       "    <tr>\n",
       "      <th>dataset</th>\n",
       "      <th></th>\n",
       "      <th></th>\n",
       "    </tr>\n",
       "  </thead>\n",
       "  <tbody>\n",
       "    <tr>\n",
       "      <th>10x_cancer</th>\n",
       "      <td>0</td>\n",
       "      <td>239</td>\n",
       "    </tr>\n",
       "    <tr>\n",
       "      <th>10x_viral</th>\n",
       "      <td>3574</td>\n",
       "      <td>0</td>\n",
       "    </tr>\n",
       "    <tr>\n",
       "      <th>Arakaki</th>\n",
       "      <td>1</td>\n",
       "      <td>0</td>\n",
       "    </tr>\n",
       "    <tr>\n",
       "      <th>Brennan</th>\n",
       "      <td>42</td>\n",
       "      <td>0</td>\n",
       "    </tr>\n",
       "    <tr>\n",
       "      <th>Cohen</th>\n",
       "      <td>1</td>\n",
       "      <td>0</td>\n",
       "    </tr>\n",
       "    <tr>\n",
       "      <th>Day</th>\n",
       "      <td>21</td>\n",
       "      <td>0</td>\n",
       "    </tr>\n",
       "    <tr>\n",
       "      <th>Giest</th>\n",
       "      <td>10</td>\n",
       "      <td>0</td>\n",
       "    </tr>\n",
       "    <tr>\n",
       "      <th>Hakeem</th>\n",
       "      <td>135</td>\n",
       "      <td>0</td>\n",
       "    </tr>\n",
       "    <tr>\n",
       "      <th>Hamel</th>\n",
       "      <td>3</td>\n",
       "      <td>0</td>\n",
       "    </tr>\n",
       "    <tr>\n",
       "      <th>Hanley</th>\n",
       "      <td>86</td>\n",
       "      <td>0</td>\n",
       "    </tr>\n",
       "    <tr>\n",
       "      <th>Heemskerk</th>\n",
       "      <td>4</td>\n",
       "      <td>0</td>\n",
       "    </tr>\n",
       "    <tr>\n",
       "      <th>Iancu</th>\n",
       "      <td>3</td>\n",
       "      <td>0</td>\n",
       "    </tr>\n",
       "    <tr>\n",
       "      <th>Janbazian</th>\n",
       "      <td>38</td>\n",
       "      <td>0</td>\n",
       "    </tr>\n",
       "    <tr>\n",
       "      <th>Kamga</th>\n",
       "      <td>161</td>\n",
       "      <td>0</td>\n",
       "    </tr>\n",
       "    <tr>\n",
       "      <th>Karenbeek</th>\n",
       "      <td>40</td>\n",
       "      <td>0</td>\n",
       "    </tr>\n",
       "    <tr>\n",
       "      <th>Khan</th>\n",
       "      <td>20</td>\n",
       "      <td>0</td>\n",
       "    </tr>\n",
       "    <tr>\n",
       "      <th>Klinger</th>\n",
       "      <td>1</td>\n",
       "      <td>0</td>\n",
       "    </tr>\n",
       "    <tr>\n",
       "      <th>Koning</th>\n",
       "      <td>50</td>\n",
       "      <td>0</td>\n",
       "    </tr>\n",
       "    <tr>\n",
       "      <th>Liang</th>\n",
       "      <td>1</td>\n",
       "      <td>0</td>\n",
       "    </tr>\n",
       "    <tr>\n",
       "      <th>Lim</th>\n",
       "      <td>1</td>\n",
       "      <td>0</td>\n",
       "    </tr>\n",
       "    <tr>\n",
       "      <th>Malekzadeh</th>\n",
       "      <td>0</td>\n",
       "      <td>4</td>\n",
       "    </tr>\n",
       "    <tr>\n",
       "      <th>McPAS</th>\n",
       "      <td>7459</td>\n",
       "      <td>340</td>\n",
       "    </tr>\n",
       "    <tr>\n",
       "      <th>Miconnet</th>\n",
       "      <td>171</td>\n",
       "      <td>0</td>\n",
       "    </tr>\n",
       "    <tr>\n",
       "      <th>Nakasone</th>\n",
       "      <td>25</td>\n",
       "      <td>0</td>\n",
       "    </tr>\n",
       "    <tr>\n",
       "      <th>Pogorelyy</th>\n",
       "      <td>5623</td>\n",
       "      <td>0</td>\n",
       "    </tr>\n",
       "    <tr>\n",
       "      <th>Price</th>\n",
       "      <td>142</td>\n",
       "      <td>0</td>\n",
       "    </tr>\n",
       "    <tr>\n",
       "      <th>Retiere</th>\n",
       "      <td>12</td>\n",
       "      <td>0</td>\n",
       "    </tr>\n",
       "    <tr>\n",
       "      <th>Schub</th>\n",
       "      <td>3</td>\n",
       "      <td>0</td>\n",
       "    </tr>\n",
       "    <tr>\n",
       "      <th>Soon</th>\n",
       "      <td>6</td>\n",
       "      <td>0</td>\n",
       "    </tr>\n",
       "    <tr>\n",
       "      <th>TBAdb</th>\n",
       "      <td>4360</td>\n",
       "      <td>0</td>\n",
       "    </tr>\n",
       "    <tr>\n",
       "      <th>Takeda</th>\n",
       "      <td>0</td>\n",
       "      <td>18</td>\n",
       "    </tr>\n",
       "    <tr>\n",
       "      <th>Trautmann</th>\n",
       "      <td>25</td>\n",
       "      <td>0</td>\n",
       "    </tr>\n",
       "    <tr>\n",
       "      <th>VDJdb</th>\n",
       "      <td>7169</td>\n",
       "      <td>1530</td>\n",
       "    </tr>\n",
       "    <tr>\n",
       "      <th>Venturi</th>\n",
       "      <td>93</td>\n",
       "      <td>0</td>\n",
       "    </tr>\n",
       "    <tr>\n",
       "      <th>Weekes</th>\n",
       "      <td>16</td>\n",
       "      <td>0</td>\n",
       "    </tr>\n",
       "    <tr>\n",
       "      <th>Wynn</th>\n",
       "      <td>10</td>\n",
       "      <td>0</td>\n",
       "    </tr>\n",
       "    <tr>\n",
       "      <th>gee2018</th>\n",
       "      <td>0</td>\n",
       "      <td>33</td>\n",
       "    </tr>\n",
       "    <tr>\n",
       "      <th>vanBockel</th>\n",
       "      <td>7</td>\n",
       "      <td>0</td>\n",
       "    </tr>\n",
       "    <tr>\n",
       "      <th>zhang2018</th>\n",
       "      <td>107</td>\n",
       "      <td>939</td>\n",
       "    </tr>\n",
       "  </tbody>\n",
       "</table>\n",
       "</div>"
      ],
      "text/plain": [
       "peptide_source  False  True\n",
       "dataset                    \n",
       "10x_cancer          0   239\n",
       "10x_viral        3574     0\n",
       "Arakaki             1     0\n",
       "Brennan            42     0\n",
       "Cohen               1     0\n",
       "Day                21     0\n",
       "Giest              10     0\n",
       "Hakeem            135     0\n",
       "Hamel               3     0\n",
       "Hanley             86     0\n",
       "Heemskerk           4     0\n",
       "Iancu               3     0\n",
       "Janbazian          38     0\n",
       "Kamga             161     0\n",
       "Karenbeek          40     0\n",
       "Khan               20     0\n",
       "Klinger             1     0\n",
       "Koning             50     0\n",
       "Liang               1     0\n",
       "Lim                 1     0\n",
       "Malekzadeh          0     4\n",
       "McPAS            7459   340\n",
       "Miconnet          171     0\n",
       "Nakasone           25     0\n",
       "Pogorelyy        5623     0\n",
       "Price             142     0\n",
       "Retiere            12     0\n",
       "Schub               3     0\n",
       "Soon                6     0\n",
       "TBAdb            4360     0\n",
       "Takeda              0    18\n",
       "Trautmann          25     0\n",
       "VDJdb            7169  1530\n",
       "Venturi            93     0\n",
       "Weekes             16     0\n",
       "Wynn               10     0\n",
       "gee2018             0    33\n",
       "vanBockel           7     0\n",
       "zhang2018         107   939"
      ]
     },
     "execution_count": 171,
     "metadata": {},
     "output_type": "execute_result"
    }
   ],
   "source": [
    "t"
   ]
  },
  {
   "cell_type": "code",
   "execution_count": 172,
   "metadata": {},
   "outputs": [
    {
     "data": {
      "text/plain": [
       "pMHC tetramers                                                                                                      7558\n",
       "dextramer-sort, TCRb seq                                                                                            5623\n",
       "tetramer-sort                                                                                                       5189\n",
       "antigen-specific ex vivo proliferation                                                                              3821\n",
       "antigen-loaded-targets,dextramer-sort                                                                               1816\n",
       "tetramer staining                                                                                                   1046\n",
       "multimer-sort                                                                                                        474\n",
       "cultured-T-cells,tetramer-sort                                                                                       355\n",
       "in vitro simulation with peptide                                                                                     233\n",
       "Multiple PCR,selection of antigen- specific t cells using peptide-mhc multimers                                      228\n",
       "dextramer-sort,cultured-T-cells                                                                                      195\n",
       "tetramer-sort, single-cell seq                                                                                       187\n",
       "selection of antigen- specific t cells using peptide-mhc multimers                                                   164\n",
       "pentamer-sort                                                                                                        161\n",
       "cultured-T-cells                                                                                                     138\n",
       "tetramer-sort, ICS, TCR repertoire seq                                                                               135\n",
       "Tetramer-sort                                                                                                        128\n",
       "antigen-loaded-targets, tetramer-sort,antigen-loaded-targets, tetramer-sort                                          100\n",
       "restimulation                                                                                                         79\n",
       "SMART,antigen-specific ex vivo proliferation,selection of antigen- specific t cells using peptide-mhc multimers       68\n",
       "tetramer                                                                                                              67\n",
       "streptamer-sort,direct,antigen-coated-targets                                                                         65\n",
       "tetramer-sort,beads                                                                                                   51\n",
       "tetramer-sort,mixcr                                                                                                   49\n",
       "cultured-T-cells,beads,tetramer-sort                                                                                  43\n",
       "dextramer-sort                                                                                                        36\n",
       "single-cell, TCRseq                                                                                                   33\n",
       "antigen-loaded-targets,cultured-T-cells                                                                               33\n",
       "anchored RT-PCR,selection of antigen- specific t cells using peptide-mhc multimers                                    25\n",
       "tetramer-sort,antigen-loaded-targets                                                                                  24\n",
       "Name: experiment_type, dtype: int64"
      ]
     },
     "execution_count": 172,
     "metadata": {},
     "output_type": "execute_result"
    }
   ],
   "source": [
    "df_unique.experiment_type.value_counts().head(30)"
   ]
  },
  {
   "cell_type": "markdown",
   "metadata": {},
   "source": [
    "## Peptide hierarchical clustering using Levenstein distance"
   ]
  },
  {
   "cell_type": "markdown",
   "metadata": {},
   "source": [
    "**Peptides are linked into a single cluster if the Levenstein (edit) distance is <= 3**\n"
   ]
  },
  {
   "cell_type": "code",
   "execution_count": 173,
   "metadata": {},
   "outputs": [
    {
     "data": {
      "text/plain": [
       "TMSFSHLFYL                                           TMSFSHLFYL\n",
       "VQYLGMFPV                                   VQYLGMFPV_VQYLGMLPV\n",
       "KMDYFSGQL     GMDYHNGHL_KMDYFSGQL_LMDMHNGQL_LMDYWQGQL_TMDFYQGQL\n",
       "TMETIDWKV                                             TMETIDWKV\n",
       "KLSELHAYI                                   KLSELHAYI_KLSELHTYI\n",
       "dtype: object"
      ]
     },
     "execution_count": 173,
     "metadata": {},
     "output_type": "execute_result"
    },
    {
     "data": {
      "image/png": "[encoded data removed]",
      "text/plain": [
       "<Figure size 432x288 with 1 Axes>"
      ]
     },
     "metadata": {
      "needs_background": "light"
     },
     "output_type": "display_data"
    }
   ],
   "source": [
    "peptides = df_unique.peptide_seq.unique()\n",
    "peptides_array = peptides.reshape(-1, 1)\n",
    "dm = pdist(peptides_array, metric=lambda x, y: distance(x[0], y[0]))\n",
    "plt.hist(dm)\n",
    "link = linkage(dm, method=\"single\", metric=\"precomputed\")\n",
    "clusters = fcluster(link, t=3, criterion=\"distance\")\n",
    "peptide_cluster = pd.Series(clusters, index=peptides)\n",
    "\n",
    "\n",
    "cluster_name = {}\n",
    "for key, group_df in peptide_cluster.groupby(peptide_cluster):\n",
    "    name = \"_\".join(sorted(group_df.index))\n",
    "    cluster_name[key] = name\n",
    "\n",
    "peptide_to_cluster = peptide_cluster.map(cluster_name)\n",
    "\n",
    "peptide_to_cluster.sample(5)"
   ]
  },
  {
   "cell_type": "code",
   "execution_count": 174,
   "metadata": {},
   "outputs": [
    {
     "data": {
      "text/plain": [
       "NLVPMVATV                                                        9732\n",
       "LLWNGPMAV                                                        6809\n",
       "GILGFVFTL                                                        5434\n",
       "KLGGALQAK                                                        2431\n",
       "GLCTLVAML                                                        2321\n",
       "LPRRSGAAGA                                                       2294\n",
       "AAGIGILTV_ALGIGILTV_EAAGIGILTV_ELAGIGILTV_ELAGIGLTV_LLLGIGILV    1822\n",
       "TPRVTGGGAM                                                        856\n",
       "CRVLCCYVL                                                         848\n",
       "VTEHDTLLY                                                         682\n",
       "RAKFKQLL                                                          639\n",
       "KRWIILGLNK_KRWIIMGLNK                                             608\n",
       "FRCPRRFCF                                                         532\n",
       "KAFSPEVIPMF_RAFSPEVIPMF                                           470\n",
       "RPHERNGFTV_RPHERNGFTVL                                            450\n",
       "GTSGSPIIDK_GTSGSPIINR_GTSGSPIVNR                                  383\n",
       "ATDALMTGY                                                         350\n",
       "YLQPRTFLL                                                         315\n",
       "SFHSLHLLF                                                         314\n",
       "CINGVCWTV_CVNGSCFTV                                               283\n",
       "dtype: int64"
      ]
     },
     "execution_count": 174,
     "metadata": {},
     "output_type": "execute_result"
    }
   ],
   "source": [
    "peptide_to_cluster.loc[df_all.peptide_seq].value_counts().head(20)"
   ]
  },
  {
   "cell_type": "code",
   "execution_count": 175,
   "metadata": {},
   "outputs": [
    {
     "data": {
      "text/plain": [
       "(267, 400)"
      ]
     },
     "execution_count": 175,
     "metadata": {},
     "output_type": "execute_result"
    }
   ],
   "source": [
    "len(set(clusters)), len(peptides)"
   ]
  },
  {
   "cell_type": "code",
   "execution_count": 176,
   "metadata": {},
   "outputs": [],
   "source": [
    "df_all.loc[:, \"peptide_cluster\"] = peptide_to_cluster.loc[df_all.peptide_seq].values"
   ]
  },
  {
   "cell_type": "code",
   "execution_count": 177,
   "metadata": {},
   "outputs": [],
   "source": [
    "df_unique.loc[:, \"peptide_cluster\"] = peptide_to_cluster.loc[df_unique.peptide_seq].values"
   ]
  },
  {
   "cell_type": "code",
   "execution_count": 178,
   "metadata": {},
   "outputs": [],
   "source": [
    "df_all.to_csv(\"../../data/phla_tcr_all.csv.gz\", index=False)"
   ]
  },
  {
   "cell_type": "code",
   "execution_count": 179,
   "metadata": {},
   "outputs": [],
   "source": [
    "df_unique.to_csv(\"../../data/phla_tcr_unique.csv.gz\", index=False)"
   ]
  },
  {
   "cell_type": "code",
   "execution_count": 180,
   "metadata": {},
   "outputs": [
    {
     "data": {
      "text/plain": [
       "(43558, 53)"
      ]
     },
     "execution_count": 180,
     "metadata": {},
     "output_type": "execute_result"
    }
   ],
   "source": [
    "df_all.shape"
   ]
  },
  {
   "cell_type": "code",
   "execution_count": 181,
   "metadata": {},
   "outputs": [
    {
     "data": {
      "text/plain": [
       "(32523, 54)"
      ]
     },
     "execution_count": 181,
     "metadata": {},
     "output_type": "execute_result"
    }
   ],
   "source": [
    "df_unique.shape"
   ]
  }
 ],
 "metadata": {
  "kernelspec": {
   "display_name": "phla_tcr",
   "language": "python",
   "name": "phla_tcr"
  },
  "language_info": {
   "codemirror_mode": {
    "name": "ipython",
    "version": 3
   },
   "file_extension": ".py",
   "mimetype": "text/x-python",
   "name": "python",
   "nbconvert_exporter": "python",
   "pygments_lexer": "ipython3",
   "version": "3.8.0"
  }
 },
 "nbformat": 4,
 "nbformat_minor": 4
}
