{
 "cells": [
  {
   "cell_type": "code",
   "execution_count": 1,
   "metadata": {},
   "outputs": [],
   "source": [
    "import numpy as np\n",
    "import pandas as pd"
   ]
  },
  {
   "cell_type": "code",
   "execution_count": 2,
   "metadata": {},
   "outputs": [],
   "source": [
    "SR1 = pd.read_csv(\"../../../data/original/hakeem_SR_SR1_A2_NS3-1073.csv.gz\")\n",
    "SR2 = pd.read_csv(\"../../../data/original/hakeem_SR_SR2_B27_NS5B-2841.csv.gz\")\n",
    "SR3 = pd.read_csv(\"../../../data/original/hakeem_SR_SR3_B27_NS5B-2841.csv.gz\")\n",
    "CI2 = pd.read_csv(\"../../../data/original/hakeem_SR_CI2_A2_NS3-1073.csv.gz\")\n",
    "CI3 = pd.read_csv(\"../../../data/original/hakeem_SR_CI3_A1_NS3_1436.csv.gz\")"
   ]
  },
  {
   "cell_type": "markdown",
   "metadata": {},
   "source": [
    "SR1"
   ]
  },
  {
   "cell_type": "code",
   "execution_count": 3,
   "metadata": {
    "scrolled": true
   },
   "outputs": [
    {
     "data": {
      "text/html": [
       "<div>\n",
       "<style scoped>\n",
       "    .dataframe tbody tr th:only-of-type {\n",
       "        vertical-align: middle;\n",
       "    }\n",
       "\n",
       "    .dataframe tbody tr th {\n",
       "        vertical-align: top;\n",
       "    }\n",
       "\n",
       "    .dataframe thead th {\n",
       "        text-align: right;\n",
       "    }\n",
       "</style>\n",
       "<table border=\"1\" class=\"dataframe\">\n",
       "  <thead>\n",
       "    <tr style=\"text-align: right;\">\n",
       "      <th></th>\n",
       "      <th>TRBV</th>\n",
       "      <th>CDR3</th>\n",
       "      <th>TRBJ</th>\n",
       "      <th>Freq. (%)</th>\n",
       "      <th>Count</th>\n",
       "    </tr>\n",
       "  </thead>\n",
       "  <tbody>\n",
       "    <tr>\n",
       "      <th>34</th>\n",
       "      <td>20</td>\n",
       "      <td>CSAPGPGVSVEKLFF</td>\n",
       "      <td>01-04</td>\n",
       "      <td>2.50</td>\n",
       "      <td>1660</td>\n",
       "    </tr>\n",
       "    <tr>\n",
       "      <th>39</th>\n",
       "      <td>04-03</td>\n",
       "      <td>CASSQEQGAPGELFF</td>\n",
       "      <td>02-02</td>\n",
       "      <td>1.77</td>\n",
       "      <td>1174</td>\n",
       "    </tr>\n",
       "    <tr>\n",
       "      <th>23</th>\n",
       "      <td>06-01</td>\n",
       "      <td>CASSDPLAGGNEQYF</td>\n",
       "      <td>02-07</td>\n",
       "      <td>11.68</td>\n",
       "      <td>7771</td>\n",
       "    </tr>\n",
       "    <tr>\n",
       "      <th>72</th>\n",
       "      <td>14-01</td>\n",
       "      <td>CASSRGPDTEAFF</td>\n",
       "      <td>01-01</td>\n",
       "      <td>1.69</td>\n",
       "      <td>8569</td>\n",
       "    </tr>\n",
       "    <tr>\n",
       "      <th>10</th>\n",
       "      <td>12</td>\n",
       "      <td>CASSLSGTGELFF</td>\n",
       "      <td>02-02</td>\n",
       "      <td>2.66</td>\n",
       "      <td>1769</td>\n",
       "    </tr>\n",
       "  </tbody>\n",
       "</table>\n",
       "</div>"
      ],
      "text/plain": [
       "     TRBV             CDR3   TRBJ  Freq. (%)  Count\n",
       "34     20  CSAPGPGVSVEKLFF  01-04       2.50   1660\n",
       "39  04-03  CASSQEQGAPGELFF  02-02       1.77   1174\n",
       "23  06-01  CASSDPLAGGNEQYF  02-07      11.68   7771\n",
       "72  14-01    CASSRGPDTEAFF  01-01       1.69   8569\n",
       "10     12    CASSLSGTGELFF  02-02       2.66   1769"
      ]
     },
     "execution_count": 3,
     "metadata": {},
     "output_type": "execute_result"
    }
   ],
   "source": [
    "SR1.sample(5)"
   ]
  },
  {
   "cell_type": "code",
   "execution_count": 4,
   "metadata": {},
   "outputs": [],
   "source": [
    "SR1[\"Patient\"] = \"SR1\"\n",
    "SR1[\"HLA\"] = \"A2\"\n",
    "SR1[\"Peptide\"] = \"CINGVCWTV\""
   ]
  },
  {
   "cell_type": "code",
   "execution_count": 5,
   "metadata": {},
   "outputs": [],
   "source": [
    "SR1 = SR1[[\"TRBV\", \"CDR3\", \"TRBJ\", \"Patient\", \"HLA\", \"Peptide\"]]"
   ]
  },
  {
   "cell_type": "markdown",
   "metadata": {},
   "source": [
    "SR2"
   ]
  },
  {
   "cell_type": "code",
   "execution_count": 6,
   "metadata": {},
   "outputs": [
    {
     "data": {
      "text/html": [
       "<div>\n",
       "<style scoped>\n",
       "    .dataframe tbody tr th:only-of-type {\n",
       "        vertical-align: middle;\n",
       "    }\n",
       "\n",
       "    .dataframe tbody tr th {\n",
       "        vertical-align: top;\n",
       "    }\n",
       "\n",
       "    .dataframe thead th {\n",
       "        text-align: right;\n",
       "    }\n",
       "</style>\n",
       "<table border=\"1\" class=\"dataframe\">\n",
       "  <thead>\n",
       "    <tr style=\"text-align: right;\">\n",
       "      <th></th>\n",
       "      <th>TRBV</th>\n",
       "      <th>CDR3</th>\n",
       "      <th>TRBJ</th>\n",
       "      <th>Freq. (%)</th>\n",
       "      <th>Count</th>\n",
       "    </tr>\n",
       "  </thead>\n",
       "  <tbody>\n",
       "    <tr>\n",
       "      <th>12</th>\n",
       "      <td>6</td>\n",
       "      <td>CASALRGANVLTF</td>\n",
       "      <td>02-06</td>\n",
       "      <td>1.07</td>\n",
       "      <td>404</td>\n",
       "    </tr>\n",
       "    <tr>\n",
       "      <th>9</th>\n",
       "      <td>6</td>\n",
       "      <td>CASSIDKLNTEAFF</td>\n",
       "      <td>01-01</td>\n",
       "      <td>1.22</td>\n",
       "      <td>464</td>\n",
       "    </tr>\n",
       "    <tr>\n",
       "      <th>19</th>\n",
       "      <td>10-02</td>\n",
       "      <td>CASSDAYNEKLFF</td>\n",
       "      <td>01-04</td>\n",
       "      <td>1.02</td>\n",
       "      <td>625</td>\n",
       "    </tr>\n",
       "    <tr>\n",
       "      <th>11</th>\n",
       "      <td>04-01</td>\n",
       "      <td>CASSQVHLGQSTLNTEAFF</td>\n",
       "      <td>01-01</td>\n",
       "      <td>1.12</td>\n",
       "      <td>425</td>\n",
       "    </tr>\n",
       "    <tr>\n",
       "      <th>14</th>\n",
       "      <td>19-01</td>\n",
       "      <td>CASSTKQGWYEQYF</td>\n",
       "      <td>02-07</td>\n",
       "      <td>81.88</td>\n",
       "      <td>68836</td>\n",
       "    </tr>\n",
       "  </tbody>\n",
       "</table>\n",
       "</div>"
      ],
      "text/plain": [
       "     TRBV                 CDR3   TRBJ  Freq. (%)  Count\n",
       "12      6        CASALRGANVLTF  02-06       1.07    404\n",
       "9       6       CASSIDKLNTEAFF  01-01       1.22    464\n",
       "19  10-02        CASSDAYNEKLFF  01-04       1.02    625\n",
       "11  04-01  CASSQVHLGQSTLNTEAFF  01-01       1.12    425\n",
       "14  19-01       CASSTKQGWYEQYF  02-07      81.88  68836"
      ]
     },
     "execution_count": 6,
     "metadata": {},
     "output_type": "execute_result"
    }
   ],
   "source": [
    "SR2.sample(5)"
   ]
  },
  {
   "cell_type": "code",
   "execution_count": 7,
   "metadata": {},
   "outputs": [],
   "source": [
    "SR2[\"Patient\"] = \"SR2\"\n",
    "SR2[\"HLA\"] = \"B27\"\n",
    "SR2[\"Peptide\"] = \"ARMILMTHF\""
   ]
  },
  {
   "cell_type": "code",
   "execution_count": 8,
   "metadata": {},
   "outputs": [],
   "source": [
    "SR2 = SR2[[\"TRBV\", \"CDR3\", \"TRBJ\", \"Patient\", \"HLA\", \"Peptide\"]]"
   ]
  },
  {
   "cell_type": "markdown",
   "metadata": {},
   "source": [
    "SR3"
   ]
  },
  {
   "cell_type": "code",
   "execution_count": 9,
   "metadata": {
    "scrolled": true
   },
   "outputs": [
    {
     "data": {
      "text/html": [
       "<div>\n",
       "<style scoped>\n",
       "    .dataframe tbody tr th:only-of-type {\n",
       "        vertical-align: middle;\n",
       "    }\n",
       "\n",
       "    .dataframe tbody tr th {\n",
       "        vertical-align: top;\n",
       "    }\n",
       "\n",
       "    .dataframe thead th {\n",
       "        text-align: right;\n",
       "    }\n",
       "</style>\n",
       "<table border=\"1\" class=\"dataframe\">\n",
       "  <thead>\n",
       "    <tr style=\"text-align: right;\">\n",
       "      <th></th>\n",
       "      <th>TRBV</th>\n",
       "      <th>CDR3</th>\n",
       "      <th>TRBJ</th>\n",
       "      <th>Freq. (%)</th>\n",
       "      <th>Count</th>\n",
       "    </tr>\n",
       "  </thead>\n",
       "  <tbody>\n",
       "    <tr>\n",
       "      <th>68</th>\n",
       "      <td>05-01</td>\n",
       "      <td>CASSPGTTNTGELFF</td>\n",
       "      <td>02-02</td>\n",
       "      <td>1.36</td>\n",
       "      <td>1251</td>\n",
       "    </tr>\n",
       "    <tr>\n",
       "      <th>3</th>\n",
       "      <td>NaN</td>\n",
       "      <td>CASSIVGHMNTEAFF</td>\n",
       "      <td>01-01</td>\n",
       "      <td>6.06</td>\n",
       "      <td>10549</td>\n",
       "    </tr>\n",
       "    <tr>\n",
       "      <th>7</th>\n",
       "      <td>NaN</td>\n",
       "      <td>CASSIVGHLNTEAFF</td>\n",
       "      <td>01-01</td>\n",
       "      <td>3.87</td>\n",
       "      <td>6737</td>\n",
       "    </tr>\n",
       "    <tr>\n",
       "      <th>51</th>\n",
       "      <td>04-03</td>\n",
       "      <td>CASSRARGSTEVREQFF</td>\n",
       "      <td>02-01</td>\n",
       "      <td>1.17</td>\n",
       "      <td>1427</td>\n",
       "    </tr>\n",
       "    <tr>\n",
       "      <th>58</th>\n",
       "      <td>19-01</td>\n",
       "      <td>CASSIVGHLNTEAFF</td>\n",
       "      <td>01-01</td>\n",
       "      <td>4.23</td>\n",
       "      <td>3898</td>\n",
       "    </tr>\n",
       "  </tbody>\n",
       "</table>\n",
       "</div>"
      ],
      "text/plain": [
       "     TRBV               CDR3   TRBJ  Freq. (%)  Count\n",
       "68  05-01    CASSPGTTNTGELFF  02-02       1.36   1251\n",
       "3     NaN    CASSIVGHMNTEAFF  01-01       6.06  10549\n",
       "7     NaN    CASSIVGHLNTEAFF  01-01       3.87   6737\n",
       "51  04-03  CASSRARGSTEVREQFF  02-01       1.17   1427\n",
       "58  19-01    CASSIVGHLNTEAFF  01-01       4.23   3898"
      ]
     },
     "execution_count": 9,
     "metadata": {},
     "output_type": "execute_result"
    }
   ],
   "source": [
    "SR3.sample(5)"
   ]
  },
  {
   "cell_type": "code",
   "execution_count": 10,
   "metadata": {},
   "outputs": [],
   "source": [
    "SR3[\"Patient\"] = \"SR3\"\n",
    "SR3[\"HLA\"] = \"B27\"\n",
    "SR3[\"Peptide\"] = \"ARMILMTHF\""
   ]
  },
  {
   "cell_type": "code",
   "execution_count": 11,
   "metadata": {},
   "outputs": [],
   "source": [
    "SR3 = SR3[[\"CDR3\", \"TRBJ\", \"Patient\", \"HLA\", \"Peptide\"]]"
   ]
  },
  {
   "cell_type": "markdown",
   "metadata": {},
   "source": [
    "CI2"
   ]
  },
  {
   "cell_type": "code",
   "execution_count": 12,
   "metadata": {
    "scrolled": true
   },
   "outputs": [
    {
     "data": {
      "text/html": [
       "<div>\n",
       "<style scoped>\n",
       "    .dataframe tbody tr th:only-of-type {\n",
       "        vertical-align: middle;\n",
       "    }\n",
       "\n",
       "    .dataframe tbody tr th {\n",
       "        vertical-align: top;\n",
       "    }\n",
       "\n",
       "    .dataframe thead th {\n",
       "        text-align: right;\n",
       "    }\n",
       "</style>\n",
       "<table border=\"1\" class=\"dataframe\">\n",
       "  <thead>\n",
       "    <tr style=\"text-align: right;\">\n",
       "      <th></th>\n",
       "      <th>TRBV</th>\n",
       "      <th>CDR3</th>\n",
       "      <th>TRBJ</th>\n",
       "      <th>Freq. (%)</th>\n",
       "      <th>Count</th>\n",
       "    </tr>\n",
       "  </thead>\n",
       "  <tbody>\n",
       "    <tr>\n",
       "      <th>41</th>\n",
       "      <td>02-01</td>\n",
       "      <td>CASRDVVGRLSSYNEQFF</td>\n",
       "      <td>02-01</td>\n",
       "      <td>1.22</td>\n",
       "      <td>3123</td>\n",
       "    </tr>\n",
       "    <tr>\n",
       "      <th>11</th>\n",
       "      <td>04-02</td>\n",
       "      <td>CASSQQGEKLFF</td>\n",
       "      <td>01-04</td>\n",
       "      <td>1.24</td>\n",
       "      <td>3912</td>\n",
       "    </tr>\n",
       "    <tr>\n",
       "      <th>15</th>\n",
       "      <td>05-04</td>\n",
       "      <td>CASSLPQGRYMNTEAFF</td>\n",
       "      <td>01-01</td>\n",
       "      <td>1.04</td>\n",
       "      <td>3286</td>\n",
       "    </tr>\n",
       "    <tr>\n",
       "      <th>21</th>\n",
       "      <td>07-09</td>\n",
       "      <td>CASLEEDTGELFF</td>\n",
       "      <td>02-02</td>\n",
       "      <td>2.68</td>\n",
       "      <td>12479</td>\n",
       "    </tr>\n",
       "    <tr>\n",
       "      <th>24</th>\n",
       "      <td>24</td>\n",
       "      <td>CANRDRGRDEQFF</td>\n",
       "      <td>02-01</td>\n",
       "      <td>1.31</td>\n",
       "      <td>6083</td>\n",
       "    </tr>\n",
       "  </tbody>\n",
       "</table>\n",
       "</div>"
      ],
      "text/plain": [
       "     TRBV                CDR3   TRBJ  Freq. (%)  Count\n",
       "41  02-01  CASRDVVGRLSSYNEQFF  02-01       1.22   3123\n",
       "11  04-02        CASSQQGEKLFF  01-04       1.24   3912\n",
       "15  05-04   CASSLPQGRYMNTEAFF  01-01       1.04   3286\n",
       "21  07-09       CASLEEDTGELFF  02-02       2.68  12479\n",
       "24     24       CANRDRGRDEQFF  02-01       1.31   6083"
      ]
     },
     "execution_count": 12,
     "metadata": {},
     "output_type": "execute_result"
    }
   ],
   "source": [
    "CI2.sample(5)"
   ]
  },
  {
   "cell_type": "code",
   "execution_count": 13,
   "metadata": {},
   "outputs": [],
   "source": [
    "CI2[\"Patient\"] = \"CI2\"\n",
    "CI2[\"HLA\"] = \"A2\"\n",
    "CI2[\"Peptide\"] = \"CINGVCWTV\""
   ]
  },
  {
   "cell_type": "code",
   "execution_count": 14,
   "metadata": {},
   "outputs": [],
   "source": [
    "CI2 = CI2[[\"TRBV\", \"CDR3\", \"TRBJ\", \"Patient\", \"HLA\", \"Peptide\"]]"
   ]
  },
  {
   "cell_type": "markdown",
   "metadata": {},
   "source": [
    "CI3"
   ]
  },
  {
   "cell_type": "code",
   "execution_count": 15,
   "metadata": {
    "scrolled": true
   },
   "outputs": [
    {
     "data": {
      "text/html": [
       "<div>\n",
       "<style scoped>\n",
       "    .dataframe tbody tr th:only-of-type {\n",
       "        vertical-align: middle;\n",
       "    }\n",
       "\n",
       "    .dataframe tbody tr th {\n",
       "        vertical-align: top;\n",
       "    }\n",
       "\n",
       "    .dataframe thead th {\n",
       "        text-align: right;\n",
       "    }\n",
       "</style>\n",
       "<table border=\"1\" class=\"dataframe\">\n",
       "  <thead>\n",
       "    <tr style=\"text-align: right;\">\n",
       "      <th></th>\n",
       "      <th>TRBV</th>\n",
       "      <th>CDR3</th>\n",
       "      <th>TRBJ</th>\n",
       "      <th>Freq. (%)</th>\n",
       "      <th>Count</th>\n",
       "    </tr>\n",
       "  </thead>\n",
       "  <tbody>\n",
       "    <tr>\n",
       "      <th>37</th>\n",
       "      <td>09-01</td>\n",
       "      <td>CASSPASSSFYEQYF</td>\n",
       "      <td>02-07</td>\n",
       "      <td>1.58</td>\n",
       "      <td>631</td>\n",
       "    </tr>\n",
       "    <tr>\n",
       "      <th>4</th>\n",
       "      <td>10-03</td>\n",
       "      <td>CAISESPQSYEQYF</td>\n",
       "      <td>02-07</td>\n",
       "      <td>2.30</td>\n",
       "      <td>1077</td>\n",
       "    </tr>\n",
       "    <tr>\n",
       "      <th>7</th>\n",
       "      <td>05-01</td>\n",
       "      <td>CASRGDTFYEQYF</td>\n",
       "      <td>02-07</td>\n",
       "      <td>2.17</td>\n",
       "      <td>1019</td>\n",
       "    </tr>\n",
       "    <tr>\n",
       "      <th>61</th>\n",
       "      <td>09-01</td>\n",
       "      <td>CASSPASSSFYEQYF</td>\n",
       "      <td>02-07</td>\n",
       "      <td>1.35</td>\n",
       "      <td>390</td>\n",
       "    </tr>\n",
       "    <tr>\n",
       "      <th>52</th>\n",
       "      <td>19-01</td>\n",
       "      <td>CASSIRDIGNQPQHF</td>\n",
       "      <td>01-05</td>\n",
       "      <td>2.31</td>\n",
       "      <td>668</td>\n",
       "    </tr>\n",
       "  </tbody>\n",
       "</table>\n",
       "</div>"
      ],
      "text/plain": [
       "     TRBV             CDR3   TRBJ  Freq. (%)  Count\n",
       "37  09-01  CASSPASSSFYEQYF  02-07       1.58    631\n",
       "4   10-03   CAISESPQSYEQYF  02-07       2.30   1077\n",
       "7   05-01    CASRGDTFYEQYF  02-07       2.17   1019\n",
       "61  09-01  CASSPASSSFYEQYF  02-07       1.35    390\n",
       "52  19-01  CASSIRDIGNQPQHF  01-05       2.31    668"
      ]
     },
     "execution_count": 15,
     "metadata": {},
     "output_type": "execute_result"
    }
   ],
   "source": [
    "CI3.sample(5)"
   ]
  },
  {
   "cell_type": "code",
   "execution_count": 16,
   "metadata": {},
   "outputs": [],
   "source": [
    "CI3[\"Patient\"] = \"CI3\"\n",
    "CI3[\"HLA\"] = \"A1\"\n",
    "CI3[\"Peptide\"] = \"ATDALMTGY\""
   ]
  },
  {
   "cell_type": "code",
   "execution_count": 17,
   "metadata": {},
   "outputs": [],
   "source": [
    "CI3 = CI3[[\"TRBV\", \"CDR3\", \"TRBJ\", \"Patient\", \"HLA\", \"Peptide\"]]"
   ]
  },
  {
   "cell_type": "code",
   "execution_count": 18,
   "metadata": {},
   "outputs": [],
   "source": [
    "result = pd.concat([SR1, SR2, SR3, CI2, CI3])"
   ]
  },
  {
   "cell_type": "code",
   "execution_count": 19,
   "metadata": {
    "scrolled": true
   },
   "outputs": [
    {
     "data": {
      "text/html": [
       "<div>\n",
       "<style scoped>\n",
       "    .dataframe tbody tr th:only-of-type {\n",
       "        vertical-align: middle;\n",
       "    }\n",
       "\n",
       "    .dataframe tbody tr th {\n",
       "        vertical-align: top;\n",
       "    }\n",
       "\n",
       "    .dataframe thead th {\n",
       "        text-align: right;\n",
       "    }\n",
       "</style>\n",
       "<table border=\"1\" class=\"dataframe\">\n",
       "  <thead>\n",
       "    <tr style=\"text-align: right;\">\n",
       "      <th></th>\n",
       "      <th>TRBV</th>\n",
       "      <th>CDR3</th>\n",
       "      <th>TRBJ</th>\n",
       "      <th>Patient</th>\n",
       "      <th>HLA</th>\n",
       "      <th>Peptide</th>\n",
       "    </tr>\n",
       "  </thead>\n",
       "  <tbody>\n",
       "    <tr>\n",
       "      <th>0</th>\n",
       "      <td>06-01</td>\n",
       "      <td>CASSDPLAGGNEQYF</td>\n",
       "      <td>02-07</td>\n",
       "      <td>SR1</td>\n",
       "      <td>A2</td>\n",
       "      <td>CINGVCWTV</td>\n",
       "    </tr>\n",
       "    <tr>\n",
       "      <th>1</th>\n",
       "      <td>20</td>\n",
       "      <td>CSAWTGSATEAFF</td>\n",
       "      <td>01-01</td>\n",
       "      <td>SR1</td>\n",
       "      <td>A2</td>\n",
       "      <td>CINGVCWTV</td>\n",
       "    </tr>\n",
       "    <tr>\n",
       "      <th>2</th>\n",
       "      <td>06-01</td>\n",
       "      <td>CASSEVVTAFSYEQYF</td>\n",
       "      <td>02-07</td>\n",
       "      <td>SR1</td>\n",
       "      <td>A2</td>\n",
       "      <td>CINGVCWTV</td>\n",
       "    </tr>\n",
       "    <tr>\n",
       "      <th>3</th>\n",
       "      <td>07-09</td>\n",
       "      <td>CASISSNQPQHF</td>\n",
       "      <td>01-05</td>\n",
       "      <td>SR1</td>\n",
       "      <td>A2</td>\n",
       "      <td>CINGVCWTV</td>\n",
       "    </tr>\n",
       "    <tr>\n",
       "      <th>4</th>\n",
       "      <td>04-02</td>\n",
       "      <td>CASSQLLAGGSYEQYF</td>\n",
       "      <td>02-07</td>\n",
       "      <td>SR1</td>\n",
       "      <td>A2</td>\n",
       "      <td>CINGVCWTV</td>\n",
       "    </tr>\n",
       "    <tr>\n",
       "      <th>...</th>\n",
       "      <td>...</td>\n",
       "      <td>...</td>\n",
       "      <td>...</td>\n",
       "      <td>...</td>\n",
       "      <td>...</td>\n",
       "      <td>...</td>\n",
       "    </tr>\n",
       "    <tr>\n",
       "      <th>61</th>\n",
       "      <td>09-01</td>\n",
       "      <td>CASSPASSSFYEQYF</td>\n",
       "      <td>02-07</td>\n",
       "      <td>CI3</td>\n",
       "      <td>A1</td>\n",
       "      <td>ATDALMTGY</td>\n",
       "    </tr>\n",
       "    <tr>\n",
       "      <th>62</th>\n",
       "      <td>10-03</td>\n",
       "      <td>CAISESAVGYNEQFF</td>\n",
       "      <td>02-01</td>\n",
       "      <td>CI3</td>\n",
       "      <td>A1</td>\n",
       "      <td>ATDALMTGY</td>\n",
       "    </tr>\n",
       "    <tr>\n",
       "      <th>63</th>\n",
       "      <td>06-01</td>\n",
       "      <td>CASSDTGTHIYEQYF</td>\n",
       "      <td>02-07</td>\n",
       "      <td>CI3</td>\n",
       "      <td>A1</td>\n",
       "      <td>ATDALMTGY</td>\n",
       "    </tr>\n",
       "    <tr>\n",
       "      <th>64</th>\n",
       "      <td>07-03</td>\n",
       "      <td>CASSSAPGQLETQYF</td>\n",
       "      <td>02-05</td>\n",
       "      <td>CI3</td>\n",
       "      <td>A1</td>\n",
       "      <td>ATDALMTGY</td>\n",
       "    </tr>\n",
       "    <tr>\n",
       "      <th>65</th>\n",
       "      <td>04-01</td>\n",
       "      <td>CASSQEGSDNQPQHF</td>\n",
       "      <td>01-05</td>\n",
       "      <td>CI3</td>\n",
       "      <td>A1</td>\n",
       "      <td>ATDALMTGY</td>\n",
       "    </tr>\n",
       "  </tbody>\n",
       "</table>\n",
       "<p>324 rows × 6 columns</p>\n",
       "</div>"
      ],
      "text/plain": [
       "     TRBV              CDR3   TRBJ Patient HLA    Peptide\n",
       "0   06-01   CASSDPLAGGNEQYF  02-07     SR1  A2  CINGVCWTV\n",
       "1      20     CSAWTGSATEAFF  01-01     SR1  A2  CINGVCWTV\n",
       "2   06-01  CASSEVVTAFSYEQYF  02-07     SR1  A2  CINGVCWTV\n",
       "3   07-09      CASISSNQPQHF  01-05     SR1  A2  CINGVCWTV\n",
       "4   04-02  CASSQLLAGGSYEQYF  02-07     SR1  A2  CINGVCWTV\n",
       "..    ...               ...    ...     ...  ..        ...\n",
       "61  09-01   CASSPASSSFYEQYF  02-07     CI3  A1  ATDALMTGY\n",
       "62  10-03   CAISESAVGYNEQFF  02-01     CI3  A1  ATDALMTGY\n",
       "63  06-01   CASSDTGTHIYEQYF  02-07     CI3  A1  ATDALMTGY\n",
       "64  07-03   CASSSAPGQLETQYF  02-05     CI3  A1  ATDALMTGY\n",
       "65  04-01   CASSQEGSDNQPQHF  01-05     CI3  A1  ATDALMTGY\n",
       "\n",
       "[324 rows x 6 columns]"
      ]
     },
     "execution_count": 19,
     "metadata": {},
     "output_type": "execute_result"
    }
   ],
   "source": [
    "result"
   ]
  },
  {
   "cell_type": "code",
   "execution_count": 20,
   "metadata": {},
   "outputs": [],
   "source": [
    "result = result.rename(columns={\"Peptide\":\"peptide_seq\", \"HLA\":\"HLA_type\", \"Patient\": \"patient\", \"CDR3\":\"CDR3b\"})"
   ]
  },
  {
   "cell_type": "code",
   "execution_count": 21,
   "metadata": {},
   "outputs": [],
   "source": [
    "result[\"peptide_source\"] = \"HCV\"\n",
    "result[\"dataset\"] = \"Hakeem\"\n",
    "result[\"tcr_source_organism\"] = \"human\"\n",
    "result[\"tissue\"] = \"PBMC\"\n",
    "result[\"MHC_class\"] = \"I\"\n",
    "result[\"experiment_type\"] = \"tetramer-sort, ICS, TCR repertoire seq\""
   ]
  },
  {
   "cell_type": "code",
   "execution_count": 22,
   "metadata": {},
   "outputs": [],
   "source": [
    "columns = [\"peptide_seq\", \"HLA_type\", \"CDR3b\", \"TRBV\", \"TRBJ\", \"peptide_source\", \"tcr_source_organism\", \"tissue\", \"MHC_class\", \"experiment_type\", \"dataset\"]\n",
    "\n",
    "result = result.reindex(columns=columns)"
   ]
  },
  {
   "cell_type": "code",
   "execution_count": 23,
   "metadata": {},
   "outputs": [],
   "source": [
    "result.to_csv(\"../../../data/processed/hakeem_input.csv.gz\", index=False)"
   ]
  }
 ],
 "metadata": {
  "kernelspec": {
   "display_name": "Python 3 (ipykernel)",
   "language": "python",
   "name": "python3"
  },
  "language_info": {
   "codemirror_mode": {
    "name": "ipython",
    "version": 3
   },
   "file_extension": ".py",
   "mimetype": "text/x-python",
   "name": "python",
   "nbconvert_exporter": "python",
   "pygments_lexer": "ipython3",
   "version": "3.10.4"
  }
 },
 "nbformat": 4,
 "nbformat_minor": 4
}
