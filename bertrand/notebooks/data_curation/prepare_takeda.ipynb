{
 "cells": [
  {
   "cell_type": "code",
   "execution_count": 1,
   "metadata": {},
   "outputs": [],
   "source": [
    "import pandas as pd\n",
    "import os"
   ]
  },
  {
   "cell_type": "code",
   "execution_count": 2,
   "metadata": {},
   "outputs": [],
   "source": [
    "takeda = pd.read_csv(\"../../../data/original/takeda_original.csv.gz\")"
   ]
  },
  {
   "cell_type": "code",
   "execution_count": 3,
   "metadata": {
    "scrolled": true
   },
   "outputs": [
    {
     "data": {
      "text/html": [
       "<div>\n",
       "<style scoped>\n",
       "    .dataframe tbody tr th:only-of-type {\n",
       "        vertical-align: middle;\n",
       "    }\n",
       "\n",
       "    .dataframe tbody tr th {\n",
       "        vertical-align: top;\n",
       "    }\n",
       "\n",
       "    .dataframe thead th {\n",
       "        text-align: right;\n",
       "    }\n",
       "</style>\n",
       "<table border=\"1\" class=\"dataframe\">\n",
       "  <thead>\n",
       "    <tr style=\"text-align: right;\">\n",
       "      <th></th>\n",
       "      <th>peptide_seq</th>\n",
       "      <th>TRAV</th>\n",
       "      <th>TRAJ</th>\n",
       "      <th>CDR3a</th>\n",
       "      <th>TRBV</th>\n",
       "      <th>TRBJ</th>\n",
       "      <th>CDR3b</th>\n",
       "      <th>patient</th>\n",
       "    </tr>\n",
       "  </thead>\n",
       "  <tbody>\n",
       "    <tr>\n",
       "      <th>0</th>\n",
       "      <td>URLC10</td>\n",
       "      <td>TRAV19</td>\n",
       "      <td>TRAJ49</td>\n",
       "      <td>CALSEPHKAGNQFYF</td>\n",
       "      <td>TRBV9</td>\n",
       "      <td>TRBJ2-7</td>\n",
       "      <td>CASSVGENEQYF</td>\n",
       "      <td>10</td>\n",
       "    </tr>\n",
       "    <tr>\n",
       "      <th>1</th>\n",
       "      <td>URLC10</td>\n",
       "      <td>TRAV19</td>\n",
       "      <td>TRAJ49</td>\n",
       "      <td>CALSGGYNKLIF</td>\n",
       "      <td>TRBV9</td>\n",
       "      <td>TRBJ2-2</td>\n",
       "      <td>CASSVDGRTGGMTGELFF</td>\n",
       "      <td>10</td>\n",
       "    </tr>\n",
       "    <tr>\n",
       "      <th>2</th>\n",
       "      <td>URLC10</td>\n",
       "      <td>TRAV13-2</td>\n",
       "      <td>TRAJ16</td>\n",
       "      <td>CADPDGQKLLF</td>\n",
       "      <td>TRBV7-9</td>\n",
       "      <td>TRBJ1-2</td>\n",
       "      <td>CASSHGVEYGYTF</td>\n",
       "      <td>10</td>\n",
       "    </tr>\n",
       "    <tr>\n",
       "      <th>3</th>\n",
       "      <td>CDCA1</td>\n",
       "      <td>TRAV8-6</td>\n",
       "      <td>TRAJ43</td>\n",
       "      <td>CAVSYNNNDMRF</td>\n",
       "      <td>TRBV5-6</td>\n",
       "      <td>TRBJ2-7</td>\n",
       "      <td>CASSSYYEQYF</td>\n",
       "      <td>10</td>\n",
       "    </tr>\n",
       "    <tr>\n",
       "      <th>4</th>\n",
       "      <td>CDCA1</td>\n",
       "      <td>TRAV8-6</td>\n",
       "      <td>TRAJ11</td>\n",
       "      <td>CASGYSTLTF</td>\n",
       "      <td>TRBV7-9</td>\n",
       "      <td>TRBJ2-5</td>\n",
       "      <td>CASSSAGAQETQYF</td>\n",
       "      <td>10</td>\n",
       "    </tr>\n",
       "  </tbody>\n",
       "</table>\n",
       "</div>"
      ],
      "text/plain": [
       "  peptide_seq      TRAV    TRAJ            CDR3a     TRBV     TRBJ  \\\n",
       "0      URLC10    TRAV19  TRAJ49  CALSEPHKAGNQFYF    TRBV9  TRBJ2-7   \n",
       "1      URLC10    TRAV19  TRAJ49     CALSGGYNKLIF    TRBV9  TRBJ2-2   \n",
       "2      URLC10  TRAV13-2  TRAJ16      CADPDGQKLLF  TRBV7-9  TRBJ1-2   \n",
       "3       CDCA1   TRAV8-6  TRAJ43     CAVSYNNNDMRF  TRBV5-6  TRBJ2-7   \n",
       "4       CDCA1   TRAV8-6  TRAJ11       CASGYSTLTF  TRBV7-9  TRBJ2-5   \n",
       "\n",
       "                CDR3b  patient  \n",
       "0        CASSVGENEQYF       10  \n",
       "1  CASSVDGRTGGMTGELFF       10  \n",
       "2       CASSHGVEYGYTF       10  \n",
       "3         CASSSYYEQYF       10  \n",
       "4      CASSSAGAQETQYF       10  "
      ]
     },
     "execution_count": 3,
     "metadata": {},
     "output_type": "execute_result"
    }
   ],
   "source": [
    "takeda.head()"
   ]
  },
  {
   "cell_type": "code",
   "execution_count": 4,
   "metadata": {},
   "outputs": [
    {
     "name": "stderr",
     "output_type": "stream",
     "text": [
      "/tmp/ipykernel_375480/2630390366.py:1: SettingWithCopyWarning: \n",
      "A value is trying to be set on a copy of a slice from a DataFrame\n",
      "\n",
      "See the caveats in the documentation: https://pandas.pydata.org/pandas-docs/stable/user_guide/indexing.html#returning-a-view-versus-a-copy\n",
      "  takeda[\"peptide_seq\"][takeda[\"peptide_seq\"] == \"CMV\"] = \"QYDPVAALF\"\n",
      "/tmp/ipykernel_375480/2630390366.py:2: SettingWithCopyWarning: \n",
      "A value is trying to be set on a copy of a slice from a DataFrame\n",
      "\n",
      "See the caveats in the documentation: https://pandas.pydata.org/pandas-docs/stable/user_guide/indexing.html#returning-a-view-versus-a-copy\n",
      "  takeda[\"peptide_seq\"][takeda[\"peptide_seq\"] == \"CDCA1\"] = \"VYGIRLEHF\"\n",
      "/tmp/ipykernel_375480/2630390366.py:3: SettingWithCopyWarning: \n",
      "A value is trying to be set on a copy of a slice from a DataFrame\n",
      "\n",
      "See the caveats in the documentation: https://pandas.pydata.org/pandas-docs/stable/user_guide/indexing.html#returning-a-view-versus-a-copy\n",
      "  takeda[\"peptide_seq\"][takeda[\"peptide_seq\"] == \"URLC10\"] = \"RYCNLEGPPI\"\n"
     ]
    }
   ],
   "source": [
    "takeda[\"peptide_seq\"][takeda[\"peptide_seq\"] == \"CMV\"] = \"QYDPVAALF\"\n",
    "takeda[\"peptide_seq\"][takeda[\"peptide_seq\"] == \"CDCA1\"] = \"VYGIRLEHF\"\n",
    "takeda[\"peptide_seq\"][takeda[\"peptide_seq\"] == \"URLC10\"] = \"RYCNLEGPPI\""
   ]
  },
  {
   "cell_type": "code",
   "execution_count": 5,
   "metadata": {},
   "outputs": [],
   "source": [
    "takeda[\"TRAV\"] = takeda[\"TRAV\"].str.replace(\"TRAV\", \"\")\n",
    "takeda[\"TRBV\"] = takeda[\"TRBV\"].str.replace(\"TRBV\", \"\")\n",
    "takeda[\"TRAJ\"] = takeda[\"TRAJ\"].str.replace(\"TRAJ\", \"\")\n",
    "takeda[\"TRBJ\"] = takeda[\"TRBJ\"].str.replace(\"TRBJ\", \"\")"
   ]
  },
  {
   "cell_type": "code",
   "execution_count": 6,
   "metadata": {},
   "outputs": [],
   "source": [
    "takeda[\"tissue\"] = \"PBMC\"\n",
    "takeda[\"peptide_source\"] = \"lung cancer\"\n",
    "takeda[\"experiment_type\"] = \"multimer-sort, TCR repertoire seq\"\n",
    "takeda[\"HLA_type\"] = \"A24:02\"\n",
    "takeda[\"tcr_source_organism\"] = \"human\"\n",
    "takeda[\"dataset\"] = \"Takeda\""
   ]
  },
  {
   "cell_type": "code",
   "execution_count": 7,
   "metadata": {},
   "outputs": [],
   "source": [
    "takeda = takeda[[\"peptide_seq\", \"HLA_type\", \"CDR3a\", \"CDR3b\", \"TRAV\", \"TRAJ\", \"TRBV\", \"TRBJ\", \"peptide_source\", \"tcr_source_organism\", \"tissue\", \"experiment_type\", \"dataset\"]]"
   ]
  },
  {
   "cell_type": "code",
   "execution_count": 8,
   "metadata": {},
   "outputs": [
    {
     "data": {
      "text/plain": [
       "20"
      ]
     },
     "execution_count": 8,
     "metadata": {},
     "output_type": "execute_result"
    }
   ],
   "source": [
    "len(takeda)"
   ]
  },
  {
   "cell_type": "code",
   "execution_count": 9,
   "metadata": {},
   "outputs": [],
   "source": [
    "takeda.to_csv(\"../../../data/processed/takeda_input.csv.gz\", index=False)"
   ]
  }
 ],
 "metadata": {
  "kernelspec": {
   "display_name": "Python 3 (ipykernel)",
   "language": "python",
   "name": "python3"
  },
  "language_info": {
   "codemirror_mode": {
    "name": "ipython",
    "version": 3
   },
   "file_extension": ".py",
   "mimetype": "text/x-python",
   "name": "python",
   "nbconvert_exporter": "python",
   "pygments_lexer": "ipython3",
   "version": "3.10.4"
  }
 },
 "nbformat": 4,
 "nbformat_minor": 4
}
