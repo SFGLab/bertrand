{
 "cells": [
  {
   "cell_type": "code",
   "execution_count": 1,
   "metadata": {},
   "outputs": [],
   "source": [
    "import pandas as pd\n",
    "import os "
   ]
  },
  {
   "cell_type": "code",
   "execution_count": 2,
   "metadata": {},
   "outputs": [],
   "source": [
    "britanova = pd.read_csv(\"../../../data/original/britanova_original.csv.gz\")"
   ]
  },
  {
   "cell_type": "code",
   "execution_count": 3,
   "metadata": {},
   "outputs": [
    {
     "data": {
      "text/html": [
       "<div>\n",
       "<style scoped>\n",
       "    .dataframe tbody tr th:only-of-type {\n",
       "        vertical-align: middle;\n",
       "    }\n",
       "\n",
       "    .dataframe tbody tr th {\n",
       "        vertical-align: top;\n",
       "    }\n",
       "\n",
       "    .dataframe thead th {\n",
       "        text-align: right;\n",
       "    }\n",
       "</style>\n",
       "<table border=\"1\" class=\"dataframe\">\n",
       "  <thead>\n",
       "    <tr style=\"text-align: right;\">\n",
       "      <th></th>\n",
       "      <th>#cdr3aa</th>\n",
       "      <th>v-gene</th>\n",
       "      <th>j-gene</th>\n",
       "      <th>MHC</th>\n",
       "      <th>virus</th>\n",
       "      <th>antigen_seq</th>\n",
       "      <th>antigen_name</th>\n",
       "      <th>method</th>\n",
       "      <th>ref</th>\n",
       "    </tr>\n",
       "  </thead>\n",
       "  <tbody>\n",
       "    <tr>\n",
       "      <th>0</th>\n",
       "      <td>CAGSLSWGGFYNEQFF</td>\n",
       "      <td>TRBV2</td>\n",
       "      <td>TRBJ2-1</td>\n",
       "      <td>HLA-B*0702</td>\n",
       "      <td>CMV</td>\n",
       "      <td>TPRVTGGGAM</td>\n",
       "      <td>CMVpp65 417-426</td>\n",
       "      <td>restimulation</td>\n",
       "      <td>(1)</td>\n",
       "    </tr>\n",
       "    <tr>\n",
       "      <th>1</th>\n",
       "      <td>CASNTGGANTDTQYF</td>\n",
       "      <td>TRBV1</td>\n",
       "      <td>TRBJ2-3</td>\n",
       "      <td>HLA-B*0702</td>\n",
       "      <td>CMV</td>\n",
       "      <td>TPRVTGGGAM</td>\n",
       "      <td>CMVpp65 417-426</td>\n",
       "      <td>restimulation</td>\n",
       "      <td>(1)</td>\n",
       "    </tr>\n",
       "    <tr>\n",
       "      <th>2</th>\n",
       "      <td>CASPLIEETIPYEQYF</td>\n",
       "      <td>TRBV2*02</td>\n",
       "      <td>TRBJ2-7</td>\n",
       "      <td>HLA-B*0702</td>\n",
       "      <td>CMV</td>\n",
       "      <td>TPRVTGGGAM</td>\n",
       "      <td>CMVpp65 417-426</td>\n",
       "      <td>restimulation</td>\n",
       "      <td>(1)</td>\n",
       "    </tr>\n",
       "    <tr>\n",
       "      <th>3</th>\n",
       "      <td>CASRLGAAGSQPQHF</td>\n",
       "      <td>TRBV1</td>\n",
       "      <td>TRBJ1-5</td>\n",
       "      <td>HLA-B*0702</td>\n",
       "      <td>CMV</td>\n",
       "      <td>TPRVTGGGAM</td>\n",
       "      <td>CMVpp65 417-426</td>\n",
       "      <td>restimulation</td>\n",
       "      <td>(1)</td>\n",
       "    </tr>\n",
       "    <tr>\n",
       "      <th>4</th>\n",
       "      <td>CASRLGPGQPYEQYF</td>\n",
       "      <td>TRBV1</td>\n",
       "      <td>TRBJ2-7</td>\n",
       "      <td>HLA-B*0702</td>\n",
       "      <td>CMV</td>\n",
       "      <td>TPRVTGGGAM</td>\n",
       "      <td>CMVpp65 417-426</td>\n",
       "      <td>restimulation</td>\n",
       "      <td>(1)</td>\n",
       "    </tr>\n",
       "  </tbody>\n",
       "</table>\n",
       "</div>"
      ],
      "text/plain": [
       "            #cdr3aa    v-gene   j-gene         MHC virus antigen_seq  \\\n",
       "0  CAGSLSWGGFYNEQFF     TRBV2  TRBJ2-1  HLA-B*0702   CMV  TPRVTGGGAM   \n",
       "1   CASNTGGANTDTQYF     TRBV1  TRBJ2-3  HLA-B*0702   CMV  TPRVTGGGAM   \n",
       "2  CASPLIEETIPYEQYF  TRBV2*02  TRBJ2-7  HLA-B*0702   CMV  TPRVTGGGAM   \n",
       "3   CASRLGAAGSQPQHF     TRBV1  TRBJ1-5  HLA-B*0702   CMV  TPRVTGGGAM   \n",
       "4   CASRLGPGQPYEQYF     TRBV1  TRBJ2-7  HLA-B*0702   CMV  TPRVTGGGAM   \n",
       "\n",
       "      antigen_name         method  ref  \n",
       "0  CMVpp65 417-426  restimulation  (1)  \n",
       "1  CMVpp65 417-426  restimulation  (1)  \n",
       "2  CMVpp65 417-426  restimulation  (1)  \n",
       "3  CMVpp65 417-426  restimulation  (1)  \n",
       "4  CMVpp65 417-426  restimulation  (1)  "
      ]
     },
     "execution_count": 3,
     "metadata": {},
     "output_type": "execute_result"
    }
   ],
   "source": [
    "britanova.head()"
   ]
  },
  {
   "cell_type": "code",
   "execution_count": 4,
   "metadata": {},
   "outputs": [],
   "source": [
    "britanova.columns = [\"CDR3b\", \"TRBV\", \"TRBJ\", \"HLA_type\", \"peptide_source\", \"peptide_seq\", \"protein\", \"experiment_type\", \"dataset\"]"
   ]
  },
  {
   "cell_type": "code",
   "execution_count": 5,
   "metadata": {},
   "outputs": [
    {
     "name": "stderr",
     "output_type": "stream",
     "text": [
      "/tmp/ipykernel_372844/2261329834.py:5: FutureWarning: The default value of regex will change from True to False in a future version. In addition, single character regular expressions will *not* be treated as literal strings when regex=True.\n",
      "  britanova[\"HLA_type\"] = britanova[\"HLA_type\"].str.replace(\"*\", \"\")\n"
     ]
    }
   ],
   "source": [
    "britanova[\"TRBV\"] = britanova[\"TRBV\"].str.replace(\"TRBV\", \"\")\n",
    "britanova[\"TRBJ\"] = britanova[\"TRBJ\"].str.replace(\"TRBJ\", \"\")\n",
    "britanova[\"HLA_type\"] = britanova[\"HLA_type\"].str.replace(\"HLA-\", \"\")\n",
    "britanova[\"HLA_type\"] = britanova[\"HLA_type\"].str.replace(\"HLA \", \"\")\n",
    "britanova[\"HLA_type\"] = britanova[\"HLA_type\"].str.replace(\"*\", \"\")"
   ]
  },
  {
   "cell_type": "code",
   "execution_count": 6,
   "metadata": {},
   "outputs": [
    {
     "data": {
      "text/plain": [
       "array(['(1)', '(2)', '(3)', '(4)', '(5)', '(6)', '(7)'], dtype=object)"
      ]
     },
     "execution_count": 6,
     "metadata": {},
     "output_type": "execute_result"
    }
   ],
   "source": [
    "britanova[\"dataset\"].unique()"
   ]
  },
  {
   "cell_type": "code",
   "execution_count": 7,
   "metadata": {},
   "outputs": [],
   "source": [
    "britanova[\"dataset\"].loc[(britanova['dataset'] == \"(1)\")] = \"Miconnet\"\n",
    "britanova[\"dataset\"].loc[(britanova['dataset'] == \"(2)\")] = \"Price\"\n",
    "britanova[\"dataset\"].loc[(britanova['dataset'] == \"(3)\")] = \"Venturi\"\n",
    "britanova[\"dataset\"].loc[(britanova['dataset'] == \"(4)\")] = \"Lim\"\n",
    "britanova[\"dataset\"].loc[(britanova['dataset'] == \"(5)\")] = \"Iancu\"\n",
    "britanova[\"dataset\"].loc[(britanova['dataset'] == \"(6)\")] = \"Cohen\"\n",
    "britanova[\"dataset\"].loc[(britanova['dataset'] == \"(7)\")] = \"Miles\""
   ]
  },
  {
   "cell_type": "code",
   "execution_count": 8,
   "metadata": {
    "scrolled": true
   },
   "outputs": [
    {
     "data": {
      "text/plain": [
       "restimulation    159\n",
       "tetramer          96\n",
       "multimer           4\n",
       ".                  2\n",
       "Name: experiment_type, dtype: int64"
      ]
     },
     "execution_count": 8,
     "metadata": {},
     "output_type": "execute_result"
    }
   ],
   "source": [
    "britanova[\"experiment_type\"].value_counts()"
   ]
  },
  {
   "cell_type": "code",
   "execution_count": 9,
   "metadata": {},
   "outputs": [
    {
     "data": {
      "text/plain": [
       "CMVpp65 495-503       103\n",
       "EBV BMLF1 259-267      66\n",
       "CMVpp65 417-426        46\n",
       "EBV BZFL1 190-197      41\n",
       "EBV EBNA3A 339-347      3\n",
       "tetramer                1\n",
       "Name: protein, dtype: int64"
      ]
     },
     "execution_count": 9,
     "metadata": {},
     "output_type": "execute_result"
    }
   ],
   "source": [
    "britanova[\"protein\"].value_counts()"
   ]
  },
  {
   "cell_type": "code",
   "execution_count": 10,
   "metadata": {},
   "outputs": [
    {
     "data": {
      "text/plain": [
       "NLVPMVATV     103\n",
       "GLCTLVAML      66\n",
       "TPRVTGGGAM     46\n",
       "RAKFKQLL       41\n",
       "FLRGRAYGL       4\n",
       "EENLLDFVRF      1\n",
       "Name: peptide_seq, dtype: int64"
      ]
     },
     "execution_count": 10,
     "metadata": {},
     "output_type": "execute_result"
    }
   ],
   "source": [
    "britanova[\"peptide_seq\"].value_counts()"
   ]
  },
  {
   "cell_type": "code",
   "execution_count": 11,
   "metadata": {
    "scrolled": true
   },
   "outputs": [
    {
     "data": {
      "text/plain": [
       "CMV    149\n",
       "EBV    112\n",
       "Name: peptide_source, dtype: int64"
      ]
     },
     "execution_count": 11,
     "metadata": {},
     "output_type": "execute_result"
    }
   ],
   "source": [
    "britanova[\"peptide_source\"].value_counts()"
   ]
  },
  {
   "cell_type": "code",
   "execution_count": 12,
   "metadata": {},
   "outputs": [
    {
     "data": {
      "text/plain": [
       "A0201    166\n",
       "B0702     46\n",
       "B0801     45\n",
       "A02        3\n",
       "B4405      1\n",
       "Name: HLA_type, dtype: int64"
      ]
     },
     "execution_count": 12,
     "metadata": {},
     "output_type": "execute_result"
    }
   ],
   "source": [
    "britanova[\"HLA_type\"].value_counts()"
   ]
  },
  {
   "cell_type": "code",
   "execution_count": 13,
   "metadata": {},
   "outputs": [
    {
     "data": {
      "text/plain": [
       "2-1       56\n",
       "1-2       43\n",
       "2-7       41\n",
       "1-1       33\n",
       "2-2       19\n",
       "2-3       16\n",
       "1-5       14\n",
       "2-5       11\n",
       "1-4       10\n",
       "1-3        8\n",
       "1-6        3\n",
       "1-6*02     2\n",
       "           2\n",
       "1-6*?      1\n",
       "2-6*01     1\n",
       "2-4        1\n",
       "Name: TRBJ, dtype: int64"
      ]
     },
     "execution_count": 13,
     "metadata": {},
     "output_type": "execute_result"
    }
   ],
   "source": [
    "britanova[\"TRBJ\"].value_counts()"
   ]
  },
  {
   "cell_type": "code",
   "execution_count": 14,
   "metadata": {},
   "outputs": [
    {
     "data": {
      "text/plain": [
       "1        93\n",
       "2        48\n",
       "20-1     16\n",
       "27       13\n",
       "29-1     13\n",
       "2*02     12\n",
       "6-5      12\n",
       "12-4     11\n",
       ".        10\n",
       "7-8       5\n",
       "7-6       3\n",
       "4-1       3\n",
       "5-1       2\n",
       "18        2\n",
       "6-2/3     2\n",
       "28        2\n",
       "30        2\n",
       "9         2\n",
       "13        2\n",
       "6-1       1\n",
       "3-1       1\n",
       "6         1\n",
       "15        1\n",
       "7-9       1\n",
       "7-2       1\n",
       "10-2      1\n",
       "25-1      1\n",
       "Name: TRBV, dtype: int64"
      ]
     },
     "execution_count": 14,
     "metadata": {},
     "output_type": "execute_result"
    }
   ],
   "source": [
    "britanova[\"TRBV\"].value_counts()"
   ]
  },
  {
   "cell_type": "code",
   "execution_count": 15,
   "metadata": {},
   "outputs": [
    {
     "data": {
      "text/plain": [
       "CAGSLSWGGFYNEQFF    1\n",
       "CSGGQGEGEQFF        1\n",
       "CSGGQGGGEQFF        1\n",
       "CSSGTGDGGEQFF       1\n",
       "CSTGQGPYEQYF        1\n",
       "                   ..\n",
       "CANSYATGIGNYGYT     1\n",
       "CASHYGGSSYEQY       1\n",
       "CASNPSGGYTGELF      1\n",
       "CASSALGGGGTGELF     1\n",
       "CSVPFEGGTLETQY      1\n",
       "Name: CDR3b, Length: 261, dtype: int64"
      ]
     },
     "execution_count": 15,
     "metadata": {},
     "output_type": "execute_result"
    }
   ],
   "source": [
    "britanova[\"CDR3b\"].value_counts()"
   ]
  },
  {
   "cell_type": "code",
   "execution_count": 16,
   "metadata": {},
   "outputs": [
    {
     "name": "stderr",
     "output_type": "stream",
     "text": [
      "/tmp/ipykernel_372844/3102266767.py:1: FutureWarning: The default value of regex will change from True to False in a future version. In addition, single character regular expressions will *not* be treated as literal strings when regex=True.\n",
      "  britanova[\"experiment_type\"] = britanova[\"experiment_type\"].str.replace(\".\", \"\")\n"
     ]
    }
   ],
   "source": [
    "britanova[\"experiment_type\"] = britanova[\"experiment_type\"].str.replace(\".\", \"\")"
   ]
  },
  {
   "cell_type": "code",
   "execution_count": 17,
   "metadata": {},
   "outputs": [],
   "source": [
    "britanova = britanova[britanova[\"protein\"] != \"tetramer\"]"
   ]
  },
  {
   "cell_type": "code",
   "execution_count": 18,
   "metadata": {},
   "outputs": [
    {
     "name": "stderr",
     "output_type": "stream",
     "text": [
      "/tmp/ipykernel_372844/3586120736.py:1: FutureWarning: The default value of regex will change from True to False in a future version. In addition, single character regular expressions will *not* be treated as literal strings when regex=True.\n",
      "  britanova[\"TRBV\"] = britanova[\"TRBV\"].str.replace(\".\", \"\")\n"
     ]
    }
   ],
   "source": [
    "britanova[\"TRBV\"] = britanova[\"TRBV\"].str.replace(\".\", \"\")"
   ]
  },
  {
   "cell_type": "code",
   "execution_count": 19,
   "metadata": {},
   "outputs": [
    {
     "data": {
      "text/plain": [
       "False    260\n",
       "dtype: int64"
      ]
     },
     "execution_count": 19,
     "metadata": {},
     "output_type": "execute_result"
    }
   ],
   "source": [
    "britanova.duplicated().value_counts()"
   ]
  },
  {
   "cell_type": "code",
   "execution_count": 20,
   "metadata": {},
   "outputs": [],
   "source": [
    "britanova[\"protein\"] = britanova[\"protein\"].str[4:10]"
   ]
  },
  {
   "cell_type": "code",
   "execution_count": 21,
   "metadata": {},
   "outputs": [],
   "source": [
    "britanova[\"protein\"] = britanova[\"protein\"].str.strip()"
   ]
  },
  {
   "cell_type": "code",
   "execution_count": 22,
   "metadata": {},
   "outputs": [],
   "source": [
    "britanova[\"protein\"] = britanova[\"protein\"].str.replace(\" 49\", \"\")\n",
    "britanova[\"protein\"] = britanova[\"protein\"].str.replace(\" 41\", \"\")"
   ]
  },
  {
   "cell_type": "code",
   "execution_count": 23,
   "metadata": {},
   "outputs": [
    {
     "data": {
      "text/html": [
       "<div>\n",
       "<style scoped>\n",
       "    .dataframe tbody tr th:only-of-type {\n",
       "        vertical-align: middle;\n",
       "    }\n",
       "\n",
       "    .dataframe tbody tr th {\n",
       "        vertical-align: top;\n",
       "    }\n",
       "\n",
       "    .dataframe thead th {\n",
       "        text-align: right;\n",
       "    }\n",
       "</style>\n",
       "<table border=\"1\" class=\"dataframe\">\n",
       "  <thead>\n",
       "    <tr style=\"text-align: right;\">\n",
       "      <th></th>\n",
       "      <th>CDR3b</th>\n",
       "      <th>TRBV</th>\n",
       "      <th>TRBJ</th>\n",
       "      <th>HLA_type</th>\n",
       "      <th>peptide_source</th>\n",
       "      <th>peptide_seq</th>\n",
       "      <th>protein</th>\n",
       "      <th>experiment_type</th>\n",
       "      <th>dataset</th>\n",
       "    </tr>\n",
       "  </thead>\n",
       "  <tbody>\n",
       "    <tr>\n",
       "      <th>0</th>\n",
       "      <td>CAGSLSWGGFYNEQFF</td>\n",
       "      <td>2</td>\n",
       "      <td>2-1</td>\n",
       "      <td>B0702</td>\n",
       "      <td>CMV</td>\n",
       "      <td>TPRVTGGGAM</td>\n",
       "      <td>p65</td>\n",
       "      <td>restimulation</td>\n",
       "      <td>Miconnet</td>\n",
       "    </tr>\n",
       "    <tr>\n",
       "      <th>1</th>\n",
       "      <td>CASNTGGANTDTQYF</td>\n",
       "      <td>1</td>\n",
       "      <td>2-3</td>\n",
       "      <td>B0702</td>\n",
       "      <td>CMV</td>\n",
       "      <td>TPRVTGGGAM</td>\n",
       "      <td>p65</td>\n",
       "      <td>restimulation</td>\n",
       "      <td>Miconnet</td>\n",
       "    </tr>\n",
       "    <tr>\n",
       "      <th>2</th>\n",
       "      <td>CASPLIEETIPYEQYF</td>\n",
       "      <td>2*02</td>\n",
       "      <td>2-7</td>\n",
       "      <td>B0702</td>\n",
       "      <td>CMV</td>\n",
       "      <td>TPRVTGGGAM</td>\n",
       "      <td>p65</td>\n",
       "      <td>restimulation</td>\n",
       "      <td>Miconnet</td>\n",
       "    </tr>\n",
       "    <tr>\n",
       "      <th>3</th>\n",
       "      <td>CASRLGAAGSQPQHF</td>\n",
       "      <td>1</td>\n",
       "      <td>1-5</td>\n",
       "      <td>B0702</td>\n",
       "      <td>CMV</td>\n",
       "      <td>TPRVTGGGAM</td>\n",
       "      <td>p65</td>\n",
       "      <td>restimulation</td>\n",
       "      <td>Miconnet</td>\n",
       "    </tr>\n",
       "    <tr>\n",
       "      <th>4</th>\n",
       "      <td>CASRLGPGQPYEQYF</td>\n",
       "      <td>1</td>\n",
       "      <td>2-7</td>\n",
       "      <td>B0702</td>\n",
       "      <td>CMV</td>\n",
       "      <td>TPRVTGGGAM</td>\n",
       "      <td>p65</td>\n",
       "      <td>restimulation</td>\n",
       "      <td>Miconnet</td>\n",
       "    </tr>\n",
       "    <tr>\n",
       "      <th>...</th>\n",
       "      <td>...</td>\n",
       "      <td>...</td>\n",
       "      <td>...</td>\n",
       "      <td>...</td>\n",
       "      <td>...</td>\n",
       "      <td>...</td>\n",
       "      <td>...</td>\n",
       "      <td>...</td>\n",
       "      <td>...</td>\n",
       "    </tr>\n",
       "    <tr>\n",
       "      <th>256</th>\n",
       "      <td>CSTQEGGYGYT</td>\n",
       "      <td>29-1</td>\n",
       "      <td>1-2</td>\n",
       "      <td>A0201</td>\n",
       "      <td>EBV</td>\n",
       "      <td>GLCTLVAML</td>\n",
       "      <td>BMLF1</td>\n",
       "      <td>tetramer</td>\n",
       "      <td>Price</td>\n",
       "    </tr>\n",
       "    <tr>\n",
       "      <th>257</th>\n",
       "      <td>CSVEDQRKTKNIQY</td>\n",
       "      <td>29-1</td>\n",
       "      <td>2-4</td>\n",
       "      <td>A0201</td>\n",
       "      <td>EBV</td>\n",
       "      <td>GLCTLVAML</td>\n",
       "      <td>BMLF1</td>\n",
       "      <td>tetramer</td>\n",
       "      <td>Price</td>\n",
       "    </tr>\n",
       "    <tr>\n",
       "      <th>258</th>\n",
       "      <td>CSVGTGGTNEKLF</td>\n",
       "      <td>29-1</td>\n",
       "      <td>1-4</td>\n",
       "      <td>A0201</td>\n",
       "      <td>EBV</td>\n",
       "      <td>GLCTLVAML</td>\n",
       "      <td>BMLF1</td>\n",
       "      <td>tetramer</td>\n",
       "      <td>Price</td>\n",
       "    </tr>\n",
       "    <tr>\n",
       "      <th>259</th>\n",
       "      <td>CSVPFEGGTLETQH</td>\n",
       "      <td>29-1</td>\n",
       "      <td>2-5</td>\n",
       "      <td>A0201</td>\n",
       "      <td>EBV</td>\n",
       "      <td>GLCTLVAML</td>\n",
       "      <td>BMLF1</td>\n",
       "      <td>tetramer</td>\n",
       "      <td>Price</td>\n",
       "    </tr>\n",
       "    <tr>\n",
       "      <th>260</th>\n",
       "      <td>CSVPFEGGTLETQY</td>\n",
       "      <td>29-1</td>\n",
       "      <td>2-5</td>\n",
       "      <td>A0201</td>\n",
       "      <td>EBV</td>\n",
       "      <td>GLCTLVAML</td>\n",
       "      <td>BMLF1</td>\n",
       "      <td>tetramer</td>\n",
       "      <td>Price</td>\n",
       "    </tr>\n",
       "  </tbody>\n",
       "</table>\n",
       "<p>260 rows × 9 columns</p>\n",
       "</div>"
      ],
      "text/plain": [
       "                CDR3b  TRBV TRBJ HLA_type peptide_source peptide_seq protein  \\\n",
       "0    CAGSLSWGGFYNEQFF     2  2-1    B0702            CMV  TPRVTGGGAM     p65   \n",
       "1     CASNTGGANTDTQYF     1  2-3    B0702            CMV  TPRVTGGGAM     p65   \n",
       "2    CASPLIEETIPYEQYF  2*02  2-7    B0702            CMV  TPRVTGGGAM     p65   \n",
       "3     CASRLGAAGSQPQHF     1  1-5    B0702            CMV  TPRVTGGGAM     p65   \n",
       "4     CASRLGPGQPYEQYF     1  2-7    B0702            CMV  TPRVTGGGAM     p65   \n",
       "..                ...   ...  ...      ...            ...         ...     ...   \n",
       "256       CSTQEGGYGYT  29-1  1-2    A0201            EBV   GLCTLVAML   BMLF1   \n",
       "257    CSVEDQRKTKNIQY  29-1  2-4    A0201            EBV   GLCTLVAML   BMLF1   \n",
       "258     CSVGTGGTNEKLF  29-1  1-4    A0201            EBV   GLCTLVAML   BMLF1   \n",
       "259    CSVPFEGGTLETQH  29-1  2-5    A0201            EBV   GLCTLVAML   BMLF1   \n",
       "260    CSVPFEGGTLETQY  29-1  2-5    A0201            EBV   GLCTLVAML   BMLF1   \n",
       "\n",
       "    experiment_type   dataset  \n",
       "0     restimulation  Miconnet  \n",
       "1     restimulation  Miconnet  \n",
       "2     restimulation  Miconnet  \n",
       "3     restimulation  Miconnet  \n",
       "4     restimulation  Miconnet  \n",
       "..              ...       ...  \n",
       "256        tetramer     Price  \n",
       "257        tetramer     Price  \n",
       "258        tetramer     Price  \n",
       "259        tetramer     Price  \n",
       "260        tetramer     Price  \n",
       "\n",
       "[260 rows x 9 columns]"
      ]
     },
     "execution_count": 23,
     "metadata": {},
     "output_type": "execute_result"
    }
   ],
   "source": [
    "britanova"
   ]
  },
  {
   "cell_type": "code",
   "execution_count": 24,
   "metadata": {},
   "outputs": [],
   "source": [
    "britanova[\"tcr_source_organism\"] = \"human\"\n",
    "britanova[\"tissue\"] = \"PBMC\""
   ]
  },
  {
   "cell_type": "code",
   "execution_count": 25,
   "metadata": {},
   "outputs": [],
   "source": [
    "britanova = britanova[[\"peptide_seq\", \"HLA_type\", \"CDR3b\",\"TRBV\", \"TRBJ\", \"peptide_source\", \"protein\", \"tcr_source_organism\", \"tissue\", \"experiment_type\", \"dataset\"]]"
   ]
  },
  {
   "cell_type": "code",
   "execution_count": 26,
   "metadata": {},
   "outputs": [],
   "source": [
    "britanova.to_csv(\"../../../data/processed/britanova_input.csv.gz\", index=False)"
   ]
  },
  {
   "cell_type": "code",
   "execution_count": null,
   "metadata": {},
   "outputs": [],
   "source": []
  }
 ],
 "metadata": {
  "kernelspec": {
   "display_name": "Python 3 (ipykernel)",
   "language": "python",
   "name": "python3"
  },
  "language_info": {
   "codemirror_mode": {
    "name": "ipython",
    "version": 3
   },
   "file_extension": ".py",
   "mimetype": "text/x-python",
   "name": "python",
   "nbconvert_exporter": "python",
   "pygments_lexer": "ipython3",
   "version": "3.10.4"
  }
 },
 "nbformat": 4,
 "nbformat_minor": 4
}
