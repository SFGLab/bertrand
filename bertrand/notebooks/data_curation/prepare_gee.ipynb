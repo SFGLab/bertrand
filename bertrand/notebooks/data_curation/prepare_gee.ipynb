{
 "cells": [
  {
   "cell_type": "code",
   "execution_count": 1,
   "metadata": {},
   "outputs": [],
   "source": [
    "import pandas as pd\n",
    "import os"
   ]
  },
  {
   "cell_type": "code",
   "execution_count": 2,
   "metadata": {},
   "outputs": [],
   "source": [
    "gee = pd.read_csv(\"../../../data/original/gee_original.csv.gz\")"
   ]
  },
  {
   "cell_type": "code",
   "execution_count": 3,
   "metadata": {
    "scrolled": true
   },
   "outputs": [
    {
     "data": {
      "text/html": [
       "<div>\n",
       "<style scoped>\n",
       "    .dataframe tbody tr th:only-of-type {\n",
       "        vertical-align: middle;\n",
       "    }\n",
       "\n",
       "    .dataframe tbody tr th {\n",
       "        vertical-align: top;\n",
       "    }\n",
       "\n",
       "    .dataframe thead th {\n",
       "        text-align: right;\n",
       "    }\n",
       "</style>\n",
       "<table border=\"1\" class=\"dataframe\">\n",
       "  <thead>\n",
       "    <tr style=\"text-align: right;\">\n",
       "      <th></th>\n",
       "      <th>TCR_name</th>\n",
       "      <th>Va</th>\n",
       "      <th>CDR3a</th>\n",
       "      <th>Ja</th>\n",
       "      <th>Vb</th>\n",
       "      <th>CDR3b</th>\n",
       "      <th>Jb</th>\n",
       "      <th>HLA</th>\n",
       "      <th>Peptide</th>\n",
       "    </tr>\n",
       "  </thead>\n",
       "  <tbody>\n",
       "    <tr>\n",
       "      <th>11</th>\n",
       "      <td>2A</td>\n",
       "      <td>TRAV19</td>\n",
       "      <td>CALSEARGGATNKLIF</td>\n",
       "      <td>TRAJ32</td>\n",
       "      <td>TRBV10-1</td>\n",
       "      <td>CASSRDTVNTEAFF</td>\n",
       "      <td>TRBJ1-1</td>\n",
       "      <td>A*02:01</td>\n",
       "      <td>LMDYWQGQL</td>\n",
       "    </tr>\n",
       "    <tr>\n",
       "      <th>25</th>\n",
       "      <td>4B</td>\n",
       "      <td>TRAV19</td>\n",
       "      <td>CALSSRGSTLGRLYF</td>\n",
       "      <td>TRAJ18</td>\n",
       "      <td>TRBV1103</td>\n",
       "      <td>CASSPSGLAGSNLGNEQFF</td>\n",
       "      <td>TRBJ2-1</td>\n",
       "      <td>A*02:01</td>\n",
       "      <td>EMMLFDWKV</td>\n",
       "    </tr>\n",
       "    <tr>\n",
       "      <th>10</th>\n",
       "      <td>2A</td>\n",
       "      <td>TRAV19</td>\n",
       "      <td>CALSEARGGATNKLIF</td>\n",
       "      <td>TRAJ32</td>\n",
       "      <td>TRBV10-1</td>\n",
       "      <td>CASSRDTVNTEAFF</td>\n",
       "      <td>TRBJ1-1</td>\n",
       "      <td>A*02:01</td>\n",
       "      <td>SMDWFQGQM</td>\n",
       "    </tr>\n",
       "    <tr>\n",
       "      <th>8</th>\n",
       "      <td>2A</td>\n",
       "      <td>TRAV19</td>\n",
       "      <td>CALSEARGGATNKLIF</td>\n",
       "      <td>TRAJ32</td>\n",
       "      <td>TRBV10-1</td>\n",
       "      <td>CASSRDTVNTEAFF</td>\n",
       "      <td>TRBJ1-1</td>\n",
       "      <td>A*02:01</td>\n",
       "      <td>GMDYHNGHL</td>\n",
       "    </tr>\n",
       "    <tr>\n",
       "      <th>7</th>\n",
       "      <td>2A</td>\n",
       "      <td>TRAV19</td>\n",
       "      <td>CALSEARGGATNKLIF</td>\n",
       "      <td>TRAJ32</td>\n",
       "      <td>TRBV10-1</td>\n",
       "      <td>CASSRDTVNTEAFF</td>\n",
       "      <td>TRBJ1-1</td>\n",
       "      <td>A*02:01</td>\n",
       "      <td>RMDYNNMQM</td>\n",
       "    </tr>\n",
       "  </tbody>\n",
       "</table>\n",
       "</div>"
      ],
      "text/plain": [
       "   TCR_name      Va             CDR3a      Ja        Vb                CDR3b  \\\n",
       "11       2A  TRAV19  CALSEARGGATNKLIF  TRAJ32  TRBV10-1       CASSRDTVNTEAFF   \n",
       "25       4B  TRAV19   CALSSRGSTLGRLYF  TRAJ18  TRBV1103  CASSPSGLAGSNLGNEQFF   \n",
       "10       2A  TRAV19  CALSEARGGATNKLIF  TRAJ32  TRBV10-1       CASSRDTVNTEAFF   \n",
       "8        2A  TRAV19  CALSEARGGATNKLIF  TRAJ32  TRBV10-1       CASSRDTVNTEAFF   \n",
       "7        2A  TRAV19  CALSEARGGATNKLIF  TRAJ32  TRBV10-1       CASSRDTVNTEAFF   \n",
       "\n",
       "         Jb      HLA    Peptide  \n",
       "11  TRBJ1-1  A*02:01  LMDYWQGQL  \n",
       "25  TRBJ2-1  A*02:01  EMMLFDWKV  \n",
       "10  TRBJ1-1  A*02:01  SMDWFQGQM  \n",
       "8   TRBJ1-1  A*02:01  GMDYHNGHL  \n",
       "7   TRBJ1-1  A*02:01  RMDYNNMQM  "
      ]
     },
     "execution_count": 3,
     "metadata": {},
     "output_type": "execute_result"
    }
   ],
   "source": [
    "gee.sample(5)"
   ]
  },
  {
   "cell_type": "code",
   "execution_count": 4,
   "metadata": {},
   "outputs": [
    {
     "data": {
      "text/plain": [
       "Index(['TCR_name', 'Va', 'CDR3a', 'Ja', 'Vb', 'CDR3b', 'Jb', 'HLA', 'Peptide'], dtype='object')"
      ]
     },
     "execution_count": 4,
     "metadata": {},
     "output_type": "execute_result"
    }
   ],
   "source": [
    "gee.columns"
   ]
  },
  {
   "cell_type": "code",
   "execution_count": 5,
   "metadata": {},
   "outputs": [],
   "source": [
    "gee = gee.rename(columns={'Va':\"TRAV\", \"Ja\":\"TRAJ\", 'Vb':\"TRBV\", \"Jb\":\"TRBJ\", \"HLA\": \"HLA_type\", \"Peptide\":\"peptide_seq\"})"
   ]
  },
  {
   "cell_type": "code",
   "execution_count": 6,
   "metadata": {},
   "outputs": [
    {
     "name": "stderr",
     "output_type": "stream",
     "text": [
      "/tmp/ipykernel_374008/3958328749.py:1: FutureWarning: The default value of regex will change from True to False in a future version. In addition, single character regular expressions will *not* be treated as literal strings when regex=True.\n",
      "  gee[\"HLA_type\"] = gee[\"HLA_type\"].str.replace(\"*\",\"\")\n"
     ]
    }
   ],
   "source": [
    "gee[\"HLA_type\"] = gee[\"HLA_type\"].str.replace(\"*\",\"\")"
   ]
  },
  {
   "cell_type": "code",
   "execution_count": 7,
   "metadata": {},
   "outputs": [
    {
     "data": {
      "text/plain": [
       "array(['SMGVTYEM', 'YMGVSYEM', 'YMGVVYEM', 'KMGVTYEM', 'FMGVTYEM',\n",
       "       'LMDMHNGQL', 'RLDAMNGQL', 'RMDYNNMQM', 'GMDYHNGHL', 'KMDYFSGQL',\n",
       "       'SMDWFQGQM', 'LMDYWQGQL', 'NMMWFQGQL', 'VLDLFQGQL', 'MMDFFNAQM',\n",
       "       'TMDFYQGQL', 'RMEQVDWTV', 'KLEFMDWRL', 'WLDNFELCL', 'TLEYMDWLV',\n",
       "       'EMMLFDWKV', 'KLEQLDWTV', 'TMETIDWKV', 'TLEELDWCL', 'LLEDLDWDV',\n",
       "       'VLEEVDWLI', 'NMEYMTWDV', 'NVEYYDIKL'], dtype=object)"
      ]
     },
     "execution_count": 7,
     "metadata": {},
     "output_type": "execute_result"
    }
   ],
   "source": [
    "gee[\"peptide_seq\"].unique()"
   ]
  },
  {
   "cell_type": "code",
   "execution_count": 8,
   "metadata": {},
   "outputs": [
    {
     "data": {
      "text/plain": [
       "array(['CALSEAGMDSNYQLIW', 'CALSEARGGATNKLIF', 'CALSSRGSTLGRLYF'],\n",
       "      dtype=object)"
      ]
     },
     "execution_count": 8,
     "metadata": {},
     "output_type": "execute_result"
    }
   ],
   "source": [
    "gee[\"CDR3a\"].unique()"
   ]
  },
  {
   "cell_type": "code",
   "execution_count": 9,
   "metadata": {},
   "outputs": [
    {
     "data": {
      "text/plain": [
       "array(['CASSLVNGLGYTF', 'CASSRDTVNTEAFF', 'CASSRDFVSNEQYF',\n",
       "       'CASSPSGLAGSNLGNEQFF'], dtype=object)"
      ]
     },
     "execution_count": 9,
     "metadata": {},
     "output_type": "execute_result"
    }
   ],
   "source": [
    "gee[\"CDR3b\"].unique()"
   ]
  },
  {
   "cell_type": "code",
   "execution_count": 10,
   "metadata": {},
   "outputs": [],
   "source": [
    "gee[\"TRAV\"] = gee[\"TRAV\"].str.replace(\"TRAV\", \"\")\n",
    "gee[\"TRBV\"] = gee[\"TRBV\"].str.replace(\"TRBV\", \"\")\n",
    "gee[\"TRAJ\"] = gee[\"TRAJ\"].str.replace(\"TRAJ\", \"\")\n",
    "gee[\"TRBJ\"] = gee[\"TRBJ\"].str.replace(\"TRBJ\", \"\")"
   ]
  },
  {
   "cell_type": "code",
   "execution_count": 11,
   "metadata": {},
   "outputs": [
    {
     "data": {
      "text/html": [
       "<div>\n",
       "<style scoped>\n",
       "    .dataframe tbody tr th:only-of-type {\n",
       "        vertical-align: middle;\n",
       "    }\n",
       "\n",
       "    .dataframe tbody tr th {\n",
       "        vertical-align: top;\n",
       "    }\n",
       "\n",
       "    .dataframe thead th {\n",
       "        text-align: right;\n",
       "    }\n",
       "</style>\n",
       "<table border=\"1\" class=\"dataframe\">\n",
       "  <thead>\n",
       "    <tr style=\"text-align: right;\">\n",
       "      <th></th>\n",
       "      <th>TCR_name</th>\n",
       "      <th>TRAV</th>\n",
       "      <th>CDR3a</th>\n",
       "      <th>TRAJ</th>\n",
       "      <th>TRBV</th>\n",
       "      <th>CDR3b</th>\n",
       "      <th>TRBJ</th>\n",
       "      <th>HLA_type</th>\n",
       "      <th>peptide_seq</th>\n",
       "    </tr>\n",
       "  </thead>\n",
       "  <tbody>\n",
       "    <tr>\n",
       "      <th>26</th>\n",
       "      <td>4B</td>\n",
       "      <td>19</td>\n",
       "      <td>CALSSRGSTLGRLYF</td>\n",
       "      <td>18</td>\n",
       "      <td>1103</td>\n",
       "      <td>CASSPSGLAGSNLGNEQFF</td>\n",
       "      <td>2-1</td>\n",
       "      <td>A02:01</td>\n",
       "      <td>KLEQLDWTV</td>\n",
       "    </tr>\n",
       "    <tr>\n",
       "      <th>21</th>\n",
       "      <td>4B</td>\n",
       "      <td>19</td>\n",
       "      <td>CALSSRGSTLGRLYF</td>\n",
       "      <td>18</td>\n",
       "      <td>1103</td>\n",
       "      <td>CASSPSGLAGSNLGNEQFF</td>\n",
       "      <td>2-1</td>\n",
       "      <td>A02:01</td>\n",
       "      <td>RMEQVDWTV</td>\n",
       "    </tr>\n",
       "    <tr>\n",
       "      <th>18</th>\n",
       "      <td>3B</td>\n",
       "      <td>19</td>\n",
       "      <td>CALSEARGGATNKLIF</td>\n",
       "      <td>32</td>\n",
       "      <td>10-1</td>\n",
       "      <td>CASSRDFVSNEQYF</td>\n",
       "      <td>2-7</td>\n",
       "      <td>A02:01</td>\n",
       "      <td>LMDYWQGQL</td>\n",
       "    </tr>\n",
       "    <tr>\n",
       "      <th>23</th>\n",
       "      <td>4B</td>\n",
       "      <td>19</td>\n",
       "      <td>CALSSRGSTLGRLYF</td>\n",
       "      <td>18</td>\n",
       "      <td>1103</td>\n",
       "      <td>CASSPSGLAGSNLGNEQFF</td>\n",
       "      <td>2-1</td>\n",
       "      <td>A02:01</td>\n",
       "      <td>WLDNFELCL</td>\n",
       "    </tr>\n",
       "    <tr>\n",
       "      <th>1</th>\n",
       "      <td>1A</td>\n",
       "      <td>19</td>\n",
       "      <td>CALSEAGMDSNYQLIW</td>\n",
       "      <td>33</td>\n",
       "      <td>7-9</td>\n",
       "      <td>CASSLVNGLGYTF</td>\n",
       "      <td>1-2</td>\n",
       "      <td>A02:01</td>\n",
       "      <td>YMGVSYEM</td>\n",
       "    </tr>\n",
       "  </tbody>\n",
       "</table>\n",
       "</div>"
      ],
      "text/plain": [
       "   TCR_name TRAV             CDR3a TRAJ  TRBV                CDR3b TRBJ  \\\n",
       "26       4B   19   CALSSRGSTLGRLYF   18  1103  CASSPSGLAGSNLGNEQFF  2-1   \n",
       "21       4B   19   CALSSRGSTLGRLYF   18  1103  CASSPSGLAGSNLGNEQFF  2-1   \n",
       "18       3B   19  CALSEARGGATNKLIF   32  10-1       CASSRDFVSNEQYF  2-7   \n",
       "23       4B   19   CALSSRGSTLGRLYF   18  1103  CASSPSGLAGSNLGNEQFF  2-1   \n",
       "1        1A   19  CALSEAGMDSNYQLIW   33   7-9        CASSLVNGLGYTF  1-2   \n",
       "\n",
       "   HLA_type peptide_seq  \n",
       "26   A02:01   KLEQLDWTV  \n",
       "21   A02:01   RMEQVDWTV  \n",
       "18   A02:01   LMDYWQGQL  \n",
       "23   A02:01   WLDNFELCL  \n",
       "1    A02:01    YMGVSYEM  "
      ]
     },
     "execution_count": 11,
     "metadata": {},
     "output_type": "execute_result"
    }
   ],
   "source": [
    "gee.sample(5)"
   ]
  },
  {
   "cell_type": "code",
   "execution_count": 12,
   "metadata": {},
   "outputs": [],
   "source": [
    "gee[\"tcr_source_organism\"] = \"human\"\n",
    "gee[\"experiment_type\"] = \"single-cell, TCRseq\"\n",
    "gee[\"tissue\"] = \"TIL\"\n",
    "gee[\"peptide_source\"] = \"colorectal adenocarcinoma\"\n",
    "gee[\"MHC_class\"] = \"I\"\n",
    "gee[\"dataset\"] = \"gee2018\""
   ]
  },
  {
   "cell_type": "code",
   "execution_count": 13,
   "metadata": {
    "scrolled": true
   },
   "outputs": [
    {
     "data": {
      "text/plain": [
       "Index(['TCR_name', 'TRAV', 'CDR3a', 'TRAJ', 'TRBV', 'CDR3b', 'TRBJ',\n",
       "       'HLA_type', 'peptide_seq', 'tcr_source_organism', 'experiment_type',\n",
       "       'tissue', 'peptide_source', 'MHC_class', 'dataset'],\n",
       "      dtype='object')"
      ]
     },
     "execution_count": 13,
     "metadata": {},
     "output_type": "execute_result"
    }
   ],
   "source": [
    "gee.columns"
   ]
  },
  {
   "cell_type": "code",
   "execution_count": 14,
   "metadata": {},
   "outputs": [],
   "source": [
    "columns = [\"peptide_seq\", \"HLA_type\", \"CDR3a\", \"CDR3b\", \"TRAV\", \"TRAJ\", \"TRBV\", \"TRAJ\", \"peptide_source\", \"tcr_source_organism\", \"tissue\", \"MHC_class\", \"TCR_name\", \"experiment_type\", \"dataset\"]\n",
    "\n",
    "gee = gee.reindex(columns=columns)"
   ]
  },
  {
   "cell_type": "code",
   "execution_count": 15,
   "metadata": {},
   "outputs": [
    {
     "data": {
      "text/plain": [
       "33"
      ]
     },
     "execution_count": 15,
     "metadata": {},
     "output_type": "execute_result"
    }
   ],
   "source": [
    "len(gee)"
   ]
  },
  {
   "cell_type": "code",
   "execution_count": 16,
   "metadata": {},
   "outputs": [],
   "source": [
    "gee.to_csv(\"../../../data/processed/gee_input.csv.gz\", index= False)"
   ]
  }
 ],
 "metadata": {
  "kernelspec": {
   "display_name": "Python 3 (ipykernel)",
   "language": "python",
   "name": "python3"
  },
  "language_info": {
   "codemirror_mode": {
    "name": "ipython",
    "version": 3
   },
   "file_extension": ".py",
   "mimetype": "text/x-python",
   "name": "python",
   "nbconvert_exporter": "python",
   "pygments_lexer": "ipython3",
   "version": "3.10.4"
  }
 },
 "nbformat": 4,
 "nbformat_minor": 4
}
