{
 "cells": [
  {
   "cell_type": "code",
   "execution_count": 1,
   "id": "grave-eclipse",
   "metadata": {},
   "outputs": [],
   "source": [
    "%load_ext autoreload\n",
    "%autoreload 2"
   ]
  },
  {
   "cell_type": "code",
   "execution_count": 2,
   "id": "streaming-redhead",
   "metadata": {},
   "outputs": [],
   "source": [
    "import logging\n",
    "\n",
    "logger = logging.getLogger()\n",
    "logger.setLevel(logging.INFO)"
   ]
  },
  {
   "cell_type": "code",
   "execution_count": 3,
   "id": "appropriate-arizona",
   "metadata": {},
   "outputs": [],
   "source": [
    "import glob\n",
    "import itertools\n",
    "import os\n",
    "import sys\n",
    "\n",
    "import numpy as np\n",
    "import pandas as pd\n",
    "from matplotlib import pyplot as plt\n",
    "from tqdm.auto import tqdm"
   ]
  },
  {
   "cell_type": "code",
   "execution_count": 4,
   "id": "union-frontier",
   "metadata": {},
   "outputs": [],
   "source": [
    "sys.path.append(\"../..\")"
   ]
  },
  {
   "cell_type": "code",
   "execution_count": 13,
   "id": "roman-transport",
   "metadata": {},
   "outputs": [],
   "source": [
    "from bertrand.model.tokenization import AA_list\n",
    "from bertrand.negative_decoys.basic_filtering import basic_filtering as basic_filtering_bertrand\n",
    "from bertrand.negative_decoys.basic_filtering import (\n",
    "    read_positives_and_group_by_tcr,\n",
    "    read_reference_tcrs,\n",
    ")"
   ]
  },
  {
   "cell_type": "code",
   "execution_count": 6,
   "id": "incorporated-cache",
   "metadata": {},
   "outputs": [],
   "source": [
    "# df_pos = read_positives_and_group_by_tcr('../../data/phla_tcr_all.csv.gz')"
   ]
  },
  {
   "cell_type": "code",
   "execution_count": 7,
   "id": "refined-brief",
   "metadata": {},
   "outputs": [
    {
     "name": "stderr",
     "output_type": "stream",
     "text": [
      "INFO:root:Reading binders from ../../data/phla_tcr_unique.csv.gz\n",
      "INFO:root:32523 observations, 29329 unique CDR3b sequences\n"
     ]
    }
   ],
   "source": [
    "df_pos = read_positives_and_group_by_tcr(\"../../data/phla_tcr_unique.csv.gz\")"
   ]
  },
  {
   "cell_type": "code",
   "execution_count": null,
   "id": "looking-english",
   "metadata": {},
   "outputs": [],
   "source": []
  },
  {
   "cell_type": "code",
   "execution_count": 15,
   "id": "purple-surfing",
   "metadata": {},
   "outputs": [
    {
     "name": "stderr",
     "output_type": "stream",
     "text": [
      "INFO:root:Reading reference TCRs from ../../data/oakes_tcr_repertoires/\n"
     ]
    }
   ],
   "source": [
    "ref_tcrs_oakes = read_reference_tcrs(\"../../data/oakes_tcr_repertoires/\")"
   ]
  },
  {
   "cell_type": "code",
   "execution_count": 16,
   "id": "specialized-sacrifice",
   "metadata": {},
   "outputs": [
    {
     "data": {
      "text/plain": [
       "(574382,)"
      ]
     },
     "execution_count": 16,
     "metadata": {},
     "output_type": "execute_result"
    }
   ],
   "source": [
    "ref_tcrs_oakes.shape"
   ]
  },
  {
   "cell_type": "code",
   "execution_count": 17,
   "id": "extensive-laser",
   "metadata": {},
   "outputs": [
    {
     "data": {
      "text/plain": [
       "(521753,)"
      ]
     },
     "execution_count": 17,
     "metadata": {},
     "output_type": "execute_result"
    }
   ],
   "source": [
    "ref_tcrs_oakes.unique().shape"
   ]
  },
  {
   "cell_type": "code",
   "execution_count": 19,
   "id": "embedded-italian",
   "metadata": {},
   "outputs": [],
   "source": [
    "ref_tcrs_oakes = ref_tcrs_oakes.drop_duplicates()"
   ]
  },
  {
   "cell_type": "code",
   "execution_count": 20,
   "id": "smoking-admission",
   "metadata": {},
   "outputs": [
    {
     "data": {
      "text/plain": [
       "(521753,)"
      ]
     },
     "execution_count": 20,
     "metadata": {},
     "output_type": "execute_result"
    }
   ],
   "source": [
    "ref_tcrs_oakes.shape"
   ]
  },
  {
   "cell_type": "code",
   "execution_count": 22,
   "id": "comprehensive-guard",
   "metadata": {},
   "outputs": [
    {
     "data": {
      "text/plain": [
       "'[ACDEFGHIKLMNPQRSTVWY]+'"
      ]
     },
     "execution_count": 22,
     "metadata": {},
     "output_type": "execute_result"
    }
   ],
   "source": [
    "regex = f\"[{''.join(AA_list)}]+\"\n",
    "regex"
   ]
  },
  {
   "cell_type": "code",
   "execution_count": 27,
   "id": "conditional-indianapolis",
   "metadata": {},
   "outputs": [],
   "source": [
    "def basic_filtering(cdrs):\n",
    "    return cdrs[\n",
    "        (~cdrs.isin(df_pos.CDR3b))\n",
    "        & (~cdrs.isin(ref_tcrs_oakes))\n",
    "        & (cdrs.str.len().isin(range(10, 21)))\n",
    "        & (cdrs.str[0] == \"C\")\n",
    "        & cdrs.str.fullmatch(regex)\n",
    "    ]"
   ]
  },
  {
   "cell_type": "code",
   "execution_count": 28,
   "id": "reduced-intelligence",
   "metadata": {},
   "outputs": [
    {
     "data": {
      "text/plain": [
       "(521753,)"
      ]
     },
     "execution_count": 28,
     "metadata": {},
     "output_type": "execute_result"
    }
   ],
   "source": [
    "ref_tcrs_oakes.shape"
   ]
  },
  {
   "cell_type": "code",
   "execution_count": 25,
   "id": "positive-jackson",
   "metadata": {},
   "outputs": [],
   "source": [
    "# ref_tcrs_oakes = basic_filtering(ref_tcrs_oakes)\n",
    "# ref_tcrs_oakes.shape"
   ]
  },
  {
   "cell_type": "code",
   "execution_count": 19,
   "id": "growing-classification",
   "metadata": {},
   "outputs": [],
   "source": [
    "# cellranger_base_dir = '/mnt/storage2/immuno/DATA/single-cell-TCR-generation-datasets/output/cellranger'\n",
    "\n",
    "# cdrs = []\n",
    "# for vdj_annot_fn in glob.glob(os.path.join(cellranger_base_dir, '*/outs/all_contig_annotations.csv')):\n",
    "#     df = pd.read_csv(vdj_annot_fn)\n",
    "#     # df_cdr3b = df[(df.chain == 'TRB') & df.high_confidence & df.is_cell & df.full_length & df.productive]\n",
    "#     df_cdr3b = df[(df.chain == 'TRB')]\n",
    "#     cdrs.append(df_cdr3b.cdr3)\n",
    "\n",
    "# cdrs = pd.concat(cdrs).reset_index(drop=True)\n",
    "\n",
    "# len(cdrs)\n",
    "\n",
    "# cdrs.unique().shape"
   ]
  },
  {
   "cell_type": "code",
   "execution_count": 46,
   "id": "unlikely-rendering",
   "metadata": {
    "scrolled": true
   },
   "outputs": [
    {
     "data": {
      "application/vnd.jupyter.widget-view+json": {
       "model_id": "9cf5b7e2bc36411ca24b83c6162d1e10",
       "version_major": 2,
       "version_minor": 0
      },
      "text/plain": [
       "  0%|          | 0/85 [00:00<?, ?it/s]"
      ]
     },
     "metadata": {},
     "output_type": "display_data"
    },
    {
     "name": "stdout",
     "output_type": "stream",
     "text": [
      "HIP12091.tsv\n",
      "156171 TCRs\n",
      "125686 productive TCRs\n",
      "117809 unique CDR3\n",
      "105226 OK CDR3\n",
      "HIP13939.tsv\n",
      "267205 TCRs\n",
      "215599 productive TCRs\n",
      "198202 unique CDR3\n",
      "178163 OK CDR3\n",
      "HIP00169.tsv\n",
      "115919 TCRs\n",
      "96254 productive TCRs\n",
      "92241 unique CDR3\n",
      "83611 OK CDR3\n",
      "HIP17454.tsv\n",
      "290510 TCRs\n",
      "235586 productive TCRs\n",
      "215496 unique CDR3\n",
      "194606 OK CDR3\n",
      "HIP13294.tsv\n",
      "279929 TCRs\n",
      "226852 productive TCRs\n",
      "206768 unique CDR3\n",
      "185363 OK CDR3\n",
      "HIP13376.tsv\n",
      "411273 TCRs\n",
      "336283 productive TCRs\n",
      "304086 unique CDR3\n",
      "277112 OK CDR3\n",
      "HIP13978.tsv\n",
      "274167 TCRs\n",
      "222845 productive TCRs\n",
      "203193 unique CDR3\n",
      "183459 OK CDR3\n",
      "HIP14124.tsv\n",
      "365844 TCRs\n",
      "293251 productive TCRs\n",
      "263246 unique CDR3\n",
      "238686 OK CDR3\n",
      "HIP11857.tsv\n",
      "269182 TCRs\n",
      "211661 productive TCRs\n",
      "196416 unique CDR3\n",
      "177572 OK CDR3\n",
      "HIP14494.tsv\n",
      "460895 TCRs\n",
      "358202 productive TCRs\n",
      "321522 unique CDR3\n",
      "293065 OK CDR3\n",
      "HIP09789.tsv\n",
      "388638 TCRs\n",
      "311965 productive TCRs\n",
      "282898 unique CDR3\n",
      "256356 OK CDR3\n",
      "HIP17534.tsv\n",
      "338037 TCRs\n",
      "277348 productive TCRs\n",
      "253007 unique CDR3\n",
      "230018 OK CDR3\n",
      "HIP13961.tsv\n",
      "165100 TCRs\n",
      "135870 productive TCRs\n",
      "126865 unique CDR3\n",
      "112974 OK CDR3\n",
      "HIP09253.tsv\n",
      "330239 TCRs\n",
      "268264 productive TCRs\n",
      "243731 unique CDR3\n",
      "220528 OK CDR3\n",
      "HIP14218.tsv\n"
     ]
    },
    {
     "name": "stderr",
     "output_type": "stream",
     "text": [
      "<ipython-input-46-8b8fb8beb4f2>:8: DtypeWarning: Columns (24) have mixed types. Specify dtype option on import or set low_memory=False.\n",
      "  df = pd.read_csv(archive.open(filename),  sep='\\t')\n"
     ]
    },
    {
     "name": "stdout",
     "output_type": "stream",
     "text": [
      "341828 TCRs\n",
      "271346 productive TCRs\n",
      "247884 unique CDR3\n",
      "224314 OK CDR3\n",
      "HIP13860.tsv\n",
      "215255 TCRs\n",
      "174791 productive TCRs\n",
      "164057 unique CDR3\n",
      "146149 OK CDR3\n",
      "HIP13427.tsv\n",
      "567651 TCRs\n",
      "469064 productive TCRs\n",
      "414186 unique CDR3\n",
      "376348 OK CDR3\n",
      "HIP03597.tsv\n",
      "313900 TCRs\n",
      "262458 productive TCRs\n",
      "238065 unique CDR3\n",
      "215788 OK CDR3\n",
      "HIP00777.tsv\n"
     ]
    },
    {
     "name": "stderr",
     "output_type": "stream",
     "text": [
      "<ipython-input-46-8b8fb8beb4f2>:8: DtypeWarning: Columns (9) have mixed types. Specify dtype option on import or set low_memory=False.\n",
      "  df = pd.read_csv(archive.open(filename),  sep='\\t')\n"
     ]
    },
    {
     "name": "stdout",
     "output_type": "stream",
     "text": [
      "327902 TCRs\n",
      "264257 productive TCRs\n",
      "239862 unique CDR3\n",
      "216337 OK CDR3\n",
      "HIP03807.tsv\n",
      "221593 TCRs\n",
      "178523 productive TCRs\n",
      "165252 unique CDR3\n",
      "148996 OK CDR3\n",
      "HIP02024.tsv\n",
      "347237 TCRs\n",
      "284997 productive TCRs\n",
      "258929 unique CDR3\n",
      "236271 OK CDR3\n",
      "HIP05841.tsv\n",
      "307028 TCRs\n",
      "251074 productive TCRs\n",
      "230514 unique CDR3\n",
      "208130 OK CDR3\n",
      "HIP01384.tsv\n",
      "142144 TCRs\n",
      "114165 productive TCRs\n",
      "103811 unique CDR3\n",
      "92253 OK CDR3\n",
      "HIP13962.tsv\n",
      "68798 TCRs\n",
      "55739 productive TCRs\n",
      "52387 unique CDR3\n",
      "46426 OK CDR3\n",
      "HIP00934.tsv\n",
      "281766 TCRs\n",
      "228180 productive TCRs\n",
      "211536 unique CDR3\n",
      "190252 OK CDR3\n",
      "HIP11649.tsv\n",
      "244737 TCRs\n",
      "195889 productive TCRs\n",
      "178473 unique CDR3\n",
      "160312 OK CDR3\n",
      "HIP14227.tsv\n",
      "341036 TCRs\n",
      "274677 productive TCRs\n",
      "248617 unique CDR3\n",
      "225309 OK CDR3\n",
      "HIP13306.tsv\n",
      "224639 TCRs\n",
      "182914 productive TCRs\n",
      "165169 unique CDR3\n",
      "148740 OK CDR3\n",
      "HIP13920.tsv\n"
     ]
    },
    {
     "name": "stderr",
     "output_type": "stream",
     "text": [
      "<ipython-input-46-8b8fb8beb4f2>:8: DtypeWarning: Columns (9) have mixed types. Specify dtype option on import or set low_memory=False.\n",
      "  df = pd.read_csv(archive.open(filename),  sep='\\t')\n"
     ]
    },
    {
     "name": "stdout",
     "output_type": "stream",
     "text": [
      "254114 TCRs\n",
      "201451 productive TCRs\n",
      "184033 unique CDR3\n",
      "166263 OK CDR3\n",
      "HIP03111.tsv\n",
      "222097 TCRs\n",
      "178912 productive TCRs\n",
      "155382 unique CDR3\n",
      "139016 OK CDR3\n",
      "HIP01197.tsv\n",
      "313976 TCRs\n",
      "257073 productive TCRs\n",
      "235181 unique CDR3\n",
      "212973 OK CDR3\n",
      "HIP13319.tsv\n",
      "126631 TCRs\n",
      "103577 productive TCRs\n",
      "98616 unique CDR3\n",
      "86954 OK CDR3\n",
      "HIP10602.tsv\n",
      "268860 TCRs\n",
      "227978 productive TCRs\n",
      "210206 unique CDR3\n",
      "190803 OK CDR3\n",
      "HIP14148.tsv\n",
      "239707 TCRs\n",
      "191205 productive TCRs\n",
      "179056 unique CDR3\n",
      "162362 OK CDR3\n",
      "HIP14844.tsv\n",
      "112515 TCRs\n",
      "94269 productive TCRs\n",
      "88476 unique CDR3\n",
      "78548 OK CDR3\n",
      "HIP02947.tsv\n",
      "424493 TCRs\n",
      "344691 productive TCRs\n",
      "320126 unique CDR3\n",
      "290984 OK CDR3\n",
      "HIP08816.tsv\n",
      "235120 TCRs\n",
      "190384 productive TCRs\n",
      "176811 unique CDR3\n",
      "161946 OK CDR3\n",
      "HIP14036.tsv\n",
      "252635 TCRs\n",
      "208825 productive TCRs\n",
      "193211 unique CDR3\n",
      "172972 OK CDR3\n",
      "HIP01805.tsv\n",
      "358816 TCRs\n",
      "284167 productive TCRs\n",
      "258890 unique CDR3\n",
      "233965 OK CDR3\n",
      "HIP17440.tsv\n",
      "358634 TCRs\n",
      "289697 productive TCRs\n",
      "265556 unique CDR3\n",
      "241829 OK CDR3\n",
      "HIP14009.tsv\n",
      "197832 TCRs\n",
      "158549 productive TCRs\n",
      "144059 unique CDR3\n",
      "129650 OK CDR3\n",
      "HIP08339.tsv\n",
      "242389 TCRs\n",
      "204847 productive TCRs\n",
      "190721 unique CDR3\n",
      "172531 OK CDR3\n",
      "HIP13176.tsv\n",
      "351298 TCRs\n",
      "295267 productive TCRs\n",
      "271472 unique CDR3\n",
      "246875 OK CDR3\n",
      "HIP11717.tsv\n",
      "152504 TCRs\n",
      "123514 productive TCRs\n",
      "115000 unique CDR3\n",
      "101881 OK CDR3\n",
      "HIP03591.tsv\n",
      "96490 TCRs\n",
      "77018 productive TCRs\n",
      "72520 unique CDR3\n",
      "64148 OK CDR3\n",
      "HIP04545.tsv\n",
      "208964 TCRs\n",
      "168546 productive TCRs\n",
      "156372 unique CDR3\n",
      "140803 OK CDR3\n",
      "HIP13774.tsv\n",
      "157770 TCRs\n",
      "129146 productive TCRs\n",
      "121242 unique CDR3\n",
      "108615 OK CDR3\n",
      "HIP01836.tsv\n",
      "244410 TCRs\n",
      "196699 productive TCRs\n",
      "182931 unique CDR3\n",
      "164652 OK CDR3\n",
      "HIP10694.tsv\n",
      "74993 TCRs\n",
      "62588 productive TCRs\n",
      "59964 unique CDR3\n",
      "53215 OK CDR3\n",
      "HIP13754.tsv\n",
      "313263 TCRs\n",
      "250556 productive TCRs\n",
      "229070 unique CDR3\n",
      "206111 OK CDR3\n",
      "HIP12097.tsv\n",
      "263472 TCRs\n",
      "206868 productive TCRs\n",
      "189032 unique CDR3\n",
      "169820 OK CDR3\n",
      "HIP04532.tsv\n",
      "366931 TCRs\n",
      "292826 productive TCRs\n",
      "265649 unique CDR3\n",
      "240954 OK CDR3\n",
      "HIP17837.tsv\n",
      "273493 TCRs\n",
      "227995 productive TCRs\n",
      "209515 unique CDR3\n",
      "187651 OK CDR3\n",
      "HIP12123.tsv\n",
      "231011 TCRs\n",
      "190448 productive TCRs\n",
      "174071 unique CDR3\n",
      "155935 OK CDR3\n",
      "HIP12527.tsv\n",
      "217318 TCRs\n",
      "176548 productive TCRs\n",
      "164263 unique CDR3\n",
      "146795 OK CDR3\n",
      "HIP10787.tsv\n",
      "173545 TCRs\n",
      "144631 productive TCRs\n",
      "135604 unique CDR3\n",
      "121165 OK CDR3\n",
      "HIP14234.tsv\n",
      "193396 TCRs\n",
      "156542 productive TCRs\n",
      "145515 unique CDR3\n",
      "130041 OK CDR3\n",
      "HIP12143.tsv\n",
      "249931 TCRs\n",
      "210735 productive TCRs\n",
      "192265 unique CDR3\n",
      "173328 OK CDR3\n",
      "HIP01798.tsv\n",
      "270501 TCRs\n",
      "216872 productive TCRs\n",
      "198642 unique CDR3\n",
      "179272 OK CDR3\n",
      "HIP14196.tsv\n",
      "179975 TCRs\n",
      "143732 productive TCRs\n",
      "136225 unique CDR3\n",
      "121851 OK CDR3\n",
      "HIP09097.tsv\n",
      "149375 TCRs\n",
      "126375 productive TCRs\n",
      "116836 unique CDR3\n",
      "104265 OK CDR3\n",
      "HIP00769.tsv\n",
      "238171 TCRs\n",
      "201602 productive TCRs\n",
      "185654 unique CDR3\n",
      "167279 OK CDR3\n",
      "HIP10639.tsv\n",
      "256585 TCRs\n",
      "211763 productive TCRs\n",
      "195097 unique CDR3\n",
      "175385 OK CDR3\n",
      "HIP00707.tsv\n",
      "210822 TCRs\n",
      "172096 productive TCRs\n",
      "160293 unique CDR3\n",
      "144516 OK CDR3\n",
      "HIP13291.tsv\n",
      "348635 TCRs\n",
      "280504 productive TCRs\n",
      "261060 unique CDR3\n",
      "235817 OK CDR3\n",
      "HIP09190.tsv\n",
      "193137 TCRs\n",
      "158220 productive TCRs\n",
      "147779 unique CDR3\n",
      "131612 OK CDR3\n",
      "HIP00761.tsv\n",
      "184580 TCRs\n",
      "150833 productive TCRs\n",
      "137838 unique CDR3\n",
      "123964 OK CDR3\n",
      "HIP03495.tsv\n",
      "271746 TCRs\n",
      "228744 productive TCRs\n",
      "210748 unique CDR3\n",
      "189246 OK CDR3\n",
      "HIP14184.tsv\n",
      "155810 TCRs\n",
      "126972 productive TCRs\n",
      "119390 unique CDR3\n",
      "106503 OK CDR3\n",
      "HIP13233.tsv\n",
      "265991 TCRs\n",
      "218181 productive TCRs\n",
      "201540 unique CDR3\n",
      "180926 OK CDR3\n",
      "HIP14020.tsv\n",
      "217290 TCRs\n",
      "179872 productive TCRs\n",
      "168406 unique CDR3\n",
      "150755 OK CDR3\n",
      "HIP02805.tsv\n",
      "287833 TCRs\n",
      "228915 productive TCRs\n",
      "207798 unique CDR3\n",
      "187146 OK CDR3\n",
      "HIP03004.tsv\n",
      "314312 TCRs\n",
      "256511 productive TCRs\n",
      "233155 unique CDR3\n",
      "212027 OK CDR3\n",
      "HIP13497.tsv\n",
      "215789 TCRs\n",
      "182846 productive TCRs\n",
      "168962 unique CDR3\n",
      "153225 OK CDR3\n",
      "HIP17449.tsv\n",
      "297058 TCRs\n",
      "235678 productive TCRs\n",
      "214433 unique CDR3\n",
      "191679 OK CDR3\n",
      "HIP14043.tsv\n",
      "266990 TCRs\n",
      "215991 productive TCRs\n",
      "198442 unique CDR3\n",
      "178559 OK CDR3\n",
      "HIP01313.tsv\n",
      "249686 TCRs\n",
      "200604 productive TCRs\n",
      "184613 unique CDR3\n",
      "166726 OK CDR3\n",
      "HIP13370.tsv\n",
      "306301 TCRs\n",
      "232996 productive TCRs\n",
      "209205 unique CDR3\n",
      "188212 OK CDR3\n",
      "HIP13511.tsv\n",
      "292766 TCRs\n",
      "239108 productive TCRs\n",
      "218637 unique CDR3\n",
      "196749 OK CDR3\n",
      "HIP13933.tsv\n",
      "145693 TCRs\n",
      "114115 productive TCRs\n",
      "105241 unique CDR3\n",
      "93390 OK CDR3\n",
      "HIP14153.tsv\n",
      "265999 TCRs\n",
      "217147 productive TCRs\n",
      "200377 unique CDR3\n",
      "181957 OK CDR3\n",
      "HIP13265.tsv\n",
      "445329 TCRs\n",
      "354237 productive TCRs\n",
      "314855 unique CDR3\n",
      "286044 OK CDR3\n",
      "HIP13661.tsv\n",
      "205900 TCRs\n",
      "174866 productive TCRs\n",
      "164880 unique CDR3\n",
      "147517 OK CDR3\n",
      "HIP05455.tsv\n",
      "172754 TCRs\n",
      "144951 productive TCRs\n",
      "137436 unique CDR3\n",
      "123240 OK CDR3\n",
      "HIP01298.tsv\n",
      "279329 TCRs\n",
      "225656 productive TCRs\n",
      "203188 unique CDR3\n",
      "182587 OK CDR3\n"
     ]
    }
   ],
   "source": [
    "import zipfile\n",
    "\n",
    "with zipfile.ZipFile(\n",
    "    \"../../data/dean_tcr_repertoires/dean/hip-samples-tsv.zip\", mode=\"r\"\n",
    ") as archive:\n",
    "    filenames = [f.filename for f in archive.filelist if f.filename.endswith(\"tsv\")]\n",
    "\n",
    "    tcr_list = []\n",
    "    for filename in tqdm(filenames[:85]):\n",
    "        print(filename)\n",
    "        df = pd.read_csv(archive.open(filename), sep=\"\\t\")\n",
    "        print(f\"{len(df)} TCRs\")\n",
    "        df = df[(df.sequenceStatus == \"In\") & (df.cloneResolved == \"VDJ\")]\n",
    "        print(f\"{len(df)} productive TCRs\")\n",
    "        cdrs = df.aminoAcid.dropna().drop_duplicates().reset_index(drop=True)\n",
    "        print(f\"{len(cdrs)} unique CDR3\")\n",
    "\n",
    "        cdrs = basic_filtering(cdrs)\n",
    "        print(f\"{len(cdrs)} OK CDR3\")\n",
    "        tcr_list.append(cdrs)\n",
    "\n",
    "#     cdrs =\n",
    "#     dfs[filename] = df"
   ]
  },
  {
   "cell_type": "code",
   "execution_count": 37,
   "id": "hired-polymer",
   "metadata": {},
   "outputs": [
    {
     "data": {
      "text/plain": [
       "0.15384615384615385"
      ]
     },
     "execution_count": 37,
     "metadata": {},
     "output_type": "execute_result"
    }
   ],
   "source": [
    "2 / 13"
   ]
  },
  {
   "cell_type": "code",
   "execution_count": 47,
   "id": "fitting-activity",
   "metadata": {},
   "outputs": [],
   "source": [
    "all_tcrs = pd.concat(tcr_list)"
   ]
  },
  {
   "cell_type": "code",
   "execution_count": 48,
   "id": "facial-mother",
   "metadata": {},
   "outputs": [
    {
     "data": {
      "text/plain": [
       "(14725598,)"
      ]
     },
     "execution_count": 48,
     "metadata": {},
     "output_type": "execute_result"
    }
   ],
   "source": [
    "all_tcrs.shape"
   ]
  },
  {
   "cell_type": "code",
   "execution_count": 49,
   "id": "final-protocol",
   "metadata": {},
   "outputs": [
    {
     "data": {
      "text/plain": [
       "CASSLQGGNTEAFF       76\n",
       "CASSPDRDYGYTF        76\n",
       "CASSLGQGGETQYF       75\n",
       "CASSRQGSNQPQHF       75\n",
       "CASSLTGYGYTF         74\n",
       "                     ..\n",
       "CASSLQNGPGFF          1\n",
       "CASSAPAGGFSTDTQYF     1\n",
       "CASRIYRGDTEAFF        1\n",
       "CASSRDRGFGNYEQYF      1\n",
       "CATGAYNEQSF           1\n",
       "Name: aminoAcid, Length: 11407093, dtype: int64"
      ]
     },
     "execution_count": 49,
     "metadata": {},
     "output_type": "execute_result"
    }
   ],
   "source": [
    "all_tcrs.value_counts()"
   ]
  },
  {
   "cell_type": "code",
   "execution_count": 50,
   "id": "legitimate-dating",
   "metadata": {},
   "outputs": [],
   "source": [
    "unique_tcrs = all_tcrs.drop_duplicates()"
   ]
  },
  {
   "cell_type": "code",
   "execution_count": 51,
   "id": "unusual-lottery",
   "metadata": {},
   "outputs": [
    {
     "data": {
      "text/plain": [
       "(11407093,)"
      ]
     },
     "execution_count": 51,
     "metadata": {},
     "output_type": "execute_result"
    }
   ],
   "source": [
    "unique_tcrs.shape"
   ]
  },
  {
   "cell_type": "code",
   "execution_count": 54,
   "id": "frank-pregnancy",
   "metadata": {},
   "outputs": [
    {
     "data": {
      "image/png": "[encoded data removed]",
      "text/plain": [
       "<Figure size 640x480 with 1 Axes>"
      ]
     },
     "metadata": {},
     "output_type": "display_data"
    }
   ],
   "source": [
    "ax = plt.gca()\n",
    "unique_tcrs.str.len().hist(ax=ax, density=True, alpha=0.5, label=\"reference (Dean)\")\n",
    "ref_tcrs_oakes.str.len().hist(ax=ax, density=True, alpha=0.5, label=\"reference (Oakes)\")\n",
    "df_pos.CDR3b.str.len().hist(ax=ax, density=True, alpha=0.5, label=\"binders\")\n",
    "plt.legend()\n",
    "plt.show()"
   ]
  },
  {
   "cell_type": "code",
   "execution_count": null,
   "id": "electronic-lawsuit",
   "metadata": {},
   "outputs": [],
   "source": []
  },
  {
   "cell_type": "code",
   "execution_count": 47,
   "id": "plain-reply",
   "metadata": {},
   "outputs": [],
   "source": [
    "def downsample_length(dataset, frac=1):\n",
    "\n",
    "    pos = dataset[dataset.y == 1]\n",
    "    neg = dataset[dataset.y == 0]\n",
    "\n",
    "    pos_count = pos.CDR3b.str.len().value_counts().sort_index()\n",
    "    neg_count = neg.CDR3b.str.len().value_counts().sort_index()\n",
    "\n",
    "    ratio = pos_count / neg_count\n",
    "    max_ratio = ratio.max()\n",
    "\n",
    "    to_remove = round((neg_count * (max_ratio - ratio)) / max_ratio).astype(int)\n",
    "    to_sample = neg_count - to_remove\n",
    "\n",
    "    neg_samples = []\n",
    "    for length, n_to_sample in to_sample.iteritems():\n",
    "        neg_sample = neg[neg.CDR3b.str.len() == length].sample(\n",
    "            int(n_to_sample * frac), random_state=42\n",
    "        )\n",
    "        neg_samples.append(neg_sample)\n",
    "    dataset_downsampled = pd.concat([pos] + neg_samples)\n",
    "    return dataset_downsampled"
   ]
  },
  {
   "cell_type": "code",
   "execution_count": 52,
   "id": "operational-management",
   "metadata": {},
   "outputs": [
    {
     "data": {
      "text/plain": [
       "(11407093,)"
      ]
     },
     "execution_count": 52,
     "metadata": {},
     "output_type": "execute_result"
    }
   ],
   "source": [
    "unique_tcrs.shape"
   ]
  },
  {
   "cell_type": "code",
   "execution_count": 56,
   "id": "thousand-north",
   "metadata": {},
   "outputs": [
    {
     "name": "stderr",
     "output_type": "stream",
     "text": [
      "INFO:root:Basic filtering: started with 11407093 reference TCRs, 11407093 after filtering\n"
     ]
    }
   ],
   "source": [
    "ref_tcrs_dean = basic_filtering_bertrand(unique_tcrs, df_pos)"
   ]
  },
  {
   "cell_type": "code",
   "execution_count": 57,
   "id": "usual-nightmare",
   "metadata": {},
   "outputs": [],
   "source": [
    "ref_tcrs_dean = ref_tcrs_dean.rename(columns={\"CDR3b\": \"junction_aa\"}).drop(columns=\"y\")"
   ]
  },
  {
   "cell_type": "code",
   "execution_count": 58,
   "id": "demanding-villa",
   "metadata": {},
   "outputs": [
    {
     "data": {
      "text/html": [
       "<div>\n",
       "<style scoped>\n",
       "    .dataframe tbody tr th:only-of-type {\n",
       "        vertical-align: middle;\n",
       "    }\n",
       "\n",
       "    .dataframe tbody tr th {\n",
       "        vertical-align: top;\n",
       "    }\n",
       "\n",
       "    .dataframe thead th {\n",
       "        text-align: right;\n",
       "    }\n",
       "</style>\n",
       "<table border=\"1\" class=\"dataframe\">\n",
       "  <thead>\n",
       "    <tr style=\"text-align: right;\">\n",
       "      <th></th>\n",
       "      <th>junction_aa</th>\n",
       "    </tr>\n",
       "  </thead>\n",
       "  <tbody>\n",
       "    <tr>\n",
       "      <th>1915758</th>\n",
       "      <td>CASSLADLGGLEQYF</td>\n",
       "    </tr>\n",
       "    <tr>\n",
       "      <th>453050</th>\n",
       "      <td>CASRYGGSSDTQYF</td>\n",
       "    </tr>\n",
       "    <tr>\n",
       "      <th>2007832</th>\n",
       "      <td>CASSTAGPPQFWAGTDTQYF</td>\n",
       "    </tr>\n",
       "    <tr>\n",
       "      <th>7020283</th>\n",
       "      <td>CASSFVRLEQFF</td>\n",
       "    </tr>\n",
       "    <tr>\n",
       "      <th>4305700</th>\n",
       "      <td>CASSEAQGAEETQYF</td>\n",
       "    </tr>\n",
       "  </tbody>\n",
       "</table>\n",
       "</div>"
      ],
      "text/plain": [
       "                  junction_aa\n",
       "1915758       CASSLADLGGLEQYF\n",
       "453050         CASRYGGSSDTQYF\n",
       "2007832  CASSTAGPPQFWAGTDTQYF\n",
       "7020283          CASSFVRLEQFF\n",
       "4305700       CASSEAQGAEETQYF"
      ]
     },
     "execution_count": 58,
     "metadata": {},
     "output_type": "execute_result"
    }
   ],
   "source": [
    "ref_tcrs_dean.sample(5)"
   ]
  },
  {
   "cell_type": "code",
   "execution_count": 61,
   "id": "suited-hudson",
   "metadata": {},
   "outputs": [],
   "source": [
    "ref_tcrs_dean.to_csv(\"../../data/dean_tcr_repertoires/dean_downsampled_11M.csv.gz\")"
   ]
  },
  {
   "cell_type": "code",
   "execution_count": 62,
   "id": "collectible-buying",
   "metadata": {},
   "outputs": [],
   "source": [
    "d = pd.read_csv('../../data/presented_peptides.csv.gz', index_col=0)"
   ]
  },
  {
   "cell_type": "code",
   "execution_count": 63,
   "id": "certain-female",
   "metadata": {},
   "outputs": [
    {
     "data": {
      "text/html": [
       "<div>\n",
       "<style scoped>\n",
       "    .dataframe tbody tr th:only-of-type {\n",
       "        vertical-align: middle;\n",
       "    }\n",
       "\n",
       "    .dataframe tbody tr th {\n",
       "        vertical-align: top;\n",
       "    }\n",
       "\n",
       "    .dataframe thead th {\n",
       "        text-align: right;\n",
       "    }\n",
       "</style>\n",
       "<table border=\"1\" class=\"dataframe\">\n",
       "  <thead>\n",
       "    <tr style=\"text-align: right;\">\n",
       "      <th></th>\n",
       "      <th>HLA_type</th>\n",
       "      <th>Peptide2</th>\n",
       "      <th>is_presented</th>\n",
       "    </tr>\n",
       "  </thead>\n",
       "  <tbody>\n",
       "    <tr>\n",
       "      <th>abelin_pos_1</th>\n",
       "      <td>A02:01</td>\n",
       "      <td>KLWEMDNMLI</td>\n",
       "      <td>1</td>\n",
       "    </tr>\n",
       "    <tr>\n",
       "      <th>abelin_pos_2</th>\n",
       "      <td>A02:03</td>\n",
       "      <td>KLYDIDVAKV</td>\n",
       "      <td>1</td>\n",
       "    </tr>\n",
       "    <tr>\n",
       "      <th>abelin_pos_4</th>\n",
       "      <td>A02:07</td>\n",
       "      <td>QVDDLKAKL</td>\n",
       "      <td>1</td>\n",
       "    </tr>\n",
       "    <tr>\n",
       "      <th>abelin_pos_6</th>\n",
       "      <td>A24:02</td>\n",
       "      <td>AYVHMVTHF</td>\n",
       "      <td>1</td>\n",
       "    </tr>\n",
       "    <tr>\n",
       "      <th>abelin_pos_10</th>\n",
       "      <td>B35:01</td>\n",
       "      <td>LPDEIYHVY</td>\n",
       "      <td>1</td>\n",
       "    </tr>\n",
       "  </tbody>\n",
       "</table>\n",
       "</div>"
      ],
      "text/plain": [
       "              HLA_type    Peptide2  is_presented\n",
       "abelin_pos_1    A02:01  KLWEMDNMLI             1\n",
       "abelin_pos_2    A02:03  KLYDIDVAKV             1\n",
       "abelin_pos_4    A02:07   QVDDLKAKL             1\n",
       "abelin_pos_6    A24:02   AYVHMVTHF             1\n",
       "abelin_pos_10   B35:01   LPDEIYHVY             1"
      ]
     },
     "execution_count": 63,
     "metadata": {},
     "output_type": "execute_result"
    }
   ],
   "source": [
    "d.head()"
   ]
  },
  {
   "cell_type": "code",
   "execution_count": 1,
   "id": "serious-morning",
   "metadata": {},
   "outputs": [],
   "source": [
    "import pandas as pd"
   ]
  },
  {
   "cell_type": "code",
   "execution_count": 2,
   "id": "integral-publication",
   "metadata": {},
   "outputs": [],
   "source": [
    "df = pd.read_csv('../../data/dean_tcr_repertoires/dean_downsampled_11M.csv.gz')"
   ]
  },
  {
   "cell_type": "code",
   "execution_count": 3,
   "id": "compound-princess",
   "metadata": {},
   "outputs": [
    {
     "data": {
      "text/plain": [
       "(11407093, 2)"
      ]
     },
     "execution_count": 3,
     "metadata": {},
     "output_type": "execute_result"
    }
   ],
   "source": [
    "df.shape"
   ]
  },
  {
   "cell_type": "code",
   "execution_count": 4,
   "id": "colored-northern",
   "metadata": {},
   "outputs": [],
   "source": [
    "df2 = pd.read_csv('/mnt/storage2/olek/bertrand-rep3/pretraining/mlm_train.csv.gz')\n"
   ]
  },
  {
   "cell_type": "code",
   "execution_count": 5,
   "id": "inappropriate-zealand",
   "metadata": {},
   "outputs": [
    {
     "data": {
      "text/plain": [
       "(9125674, 4)"
      ]
     },
     "execution_count": 5,
     "metadata": {},
     "output_type": "execute_result"
    }
   ],
   "source": [
    "df2.shape"
   ]
  },
  {
   "cell_type": "code",
   "execution_count": 6,
   "id": "little-scholarship",
   "metadata": {},
   "outputs": [],
   "source": [
    "df3 = pd.read_csv('/mnt/storage2/olek/bertrand-rep3/pretraining/mlm_val.csv.gz')"
   ]
  },
  {
   "cell_type": "code",
   "execution_count": 7,
   "id": "cutting-queensland",
   "metadata": {},
   "outputs": [
    {
     "data": {
      "text/plain": [
       "(2281419, 4)"
      ]
     },
     "execution_count": 7,
     "metadata": {},
     "output_type": "execute_result"
    }
   ],
   "source": [
    "df3.shape"
   ]
  },
  {
   "cell_type": "code",
   "execution_count": null,
   "id": "indonesian-haiti",
   "metadata": {},
   "outputs": [],
   "source": []
  }
 ],
 "metadata": {
  "kernelspec": {
   "display_name": "doktor_trans",
   "language": "python",
   "name": "doktor_trans"
  },
  "language_info": {
   "codemirror_mode": {
    "name": "ipython",
    "version": 3
   },
   "file_extension": ".py",
   "mimetype": "text/x-python",
   "name": "python",
   "nbconvert_exporter": "python",
   "pygments_lexer": "ipython3",
   "version": "3.8.0"
  }
 },
 "nbformat": 4,
 "nbformat_minor": 5
}
