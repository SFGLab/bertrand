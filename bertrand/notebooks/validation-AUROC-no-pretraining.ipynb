{
 "cells": [
  {
   "cell_type": "code",
   "execution_count": 1,
   "id": "reserved-luther",
   "metadata": {},
   "outputs": [],
   "source": [
    "import pandas as pd\n",
    "import numpy as np\n",
    "\n",
    "from matplotlib import pyplot as plt\n",
    "import seaborn as sns\n",
    "from collections import defaultdict"
   ]
  },
  {
   "cell_type": "code",
   "execution_count": 1,
   "id": "willing-legislation",
   "metadata": {
    "tags": []
   },
   "outputs": [],
   "source": [
    "import sys\n",
    "import os\n",
    "from glob import glob"
   ]
  },
  {
   "cell_type": "code",
   "execution_count": 2,
   "id": "outside-lingerie",
   "metadata": {
    "tags": []
   },
   "outputs": [],
   "source": [
    "sys.path.append('../../')"
   ]
  },
  {
   "cell_type": "code",
   "execution_count": 3,
   "id": "ultimate-quick",
   "metadata": {
    "tags": []
   },
   "outputs": [],
   "source": [
    "from bertrand.training.evaluate import get_epochs_to_step, PeptideTCRDataset, metrics_per_epoch, aggregate_metrics_per_epoch"
   ]
  },
  {
   "cell_type": "code",
   "execution_count": 4,
   "id": "controlled-karma",
   "metadata": {
    "tags": []
   },
   "outputs": [],
   "source": [
    "def get_test_metric_per_epoch(model_dir, dataset):\n",
    "    cv_seed = int(os.path.split(model_dir)[-1].replace(\"cv_seed=\", \"\"))\n",
    "    epochs_to_step = get_epochs_to_step(model_dir)\n",
    "\n",
    "    val_test_dataset = PeptideTCRDataset(dataset, cv_seed, \"val+test\")\n",
    "    # cancer_dataset = PeptideTCRDataset(dataset, cv_seed, \"cancer\")\n",
    "\n",
    "    pred_fn = os.path.join(model_dir, \"predictions.pkl\")\n",
    "    pred_list = pd.read_pickle(pred_fn)\n",
    "\n",
    "    # rocs_val = metrics_per_epoch(pred_list, val_test_dataset, subset=\"val\")\n",
    "    # weighted_average_val, average_val, std_val = aggregate_metrics_per_epoch(rocs_val)\n",
    "\n",
    "    rocs_test = metrics_per_epoch(pred_list, val_test_dataset, subset=\"test\")\n",
    "    weighted_average_test, average_test, std_test = aggregate_metrics_per_epoch(\n",
    "        rocs_test\n",
    "    )\n",
    "    return weighted_average_test"
   ]
  },
  {
   "cell_type": "code",
   "execution_count": 6,
   "id": "tight-staff",
   "metadata": {},
   "outputs": [],
   "source": [
    "bertrand_results_per_epoch = defaultdict(list)"
   ]
  },
  {
   "cell_type": "code",
   "execution_count": 30,
   "id": "iraqi-homework",
   "metadata": {},
   "outputs": [],
   "source": [
    "results_dirs = {\n",
    "    'baseline': '/mnt/storage2/olek/bertrand-rep3/training-nomlm/',\n",
    "    'pretrained': '/mnt/storage2/olek/bertrand-rep3/training-dean/'\n",
    "}"
   ]
  },
  {
   "cell_type": "code",
   "execution_count": 31,
   "id": "cubic-infrastructure",
   "metadata": {},
   "outputs": [],
   "source": [
    "datasets_dir = '../../results/negative_decoys/datasets/'\n"
   ]
  },
  {
   "cell_type": "code",
   "execution_count": 32,
   "id": "possible-layout",
   "metadata": {},
   "outputs": [
    {
     "name": "stdout",
     "output_type": "stream",
     "text": [
      "bertrand-gdrive       bertrand-paper  bertrand-rep2  encodings\n",
      "bertrand-outputs.zip  bertrand-rep1   bertrand-rep3\n"
     ]
    }
   ],
   "source": [
    "!ls /mnt/storage2/olek"
   ]
  },
  {
   "cell_type": "code",
   "execution_count": 11,
   "id": "covered-johns",
   "metadata": {
    "scrolled": true
   },
   "outputs": [
    {
     "name": "stdout",
     "output_type": "stream",
     "text": [
      "dataset_42\n",
      "baseline\n",
      "/mnt/storage2/olek/bertrand-rep3/training-nomlm/dataset_42/cv_seed=42\n",
      "/mnt/storage2/olek/bertrand-rep3/training-nomlm/dataset_42/cv_seed=43\n",
      "/mnt/storage2/olek/bertrand-rep3/training-nomlm/dataset_42/cv_seed=44\n",
      "/mnt/storage2/olek/bertrand-rep3/training-nomlm/dataset_42/cv_seed=45\n",
      "/mnt/storage2/olek/bertrand-rep3/training-nomlm/dataset_42/cv_seed=46\n",
      "/mnt/storage2/olek/bertrand-rep3/training-nomlm/dataset_42/cv_seed=47\n",
      "/mnt/storage2/olek/bertrand-rep3/training-nomlm/dataset_42/cv_seed=48\n",
      "/mnt/storage2/olek/bertrand-rep3/training-nomlm/dataset_42/cv_seed=49\n",
      "/mnt/storage2/olek/bertrand-rep3/training-nomlm/dataset_42/cv_seed=50\n",
      "/mnt/storage2/olek/bertrand-rep3/training-nomlm/dataset_42/cv_seed=51\n",
      "/mnt/storage2/olek/bertrand-rep3/training-nomlm/dataset_42/cv_seed=52\n",
      "/mnt/storage2/olek/bertrand-rep3/training-nomlm/dataset_42/cv_seed=53\n",
      "/mnt/storage2/olek/bertrand-rep3/training-nomlm/dataset_42/cv_seed=54\n",
      "/mnt/storage2/olek/bertrand-rep3/training-nomlm/dataset_42/cv_seed=55\n",
      "/mnt/storage2/olek/bertrand-rep3/training-nomlm/dataset_42/cv_seed=56\n",
      "/mnt/storage2/olek/bertrand-rep3/training-nomlm/dataset_42/cv_seed=57\n",
      "/mnt/storage2/olek/bertrand-rep3/training-nomlm/dataset_42/cv_seed=58\n",
      "/mnt/storage2/olek/bertrand-rep3/training-nomlm/dataset_42/cv_seed=59\n",
      "/mnt/storage2/olek/bertrand-rep3/training-nomlm/dataset_42/cv_seed=60\n",
      "/mnt/storage2/olek/bertrand-rep3/training-nomlm/dataset_42/cv_seed=61\n",
      "/mnt/storage2/olek/bertrand-rep3/training-nomlm/dataset_42/cv_seed=62\n",
      "pretrained\n",
      "/mnt/storage2/olek/bertrand-rep3/training-dean/dataset_42/cv_seed=42\n",
      "/mnt/storage2/olek/bertrand-rep3/training-dean/dataset_42/cv_seed=43\n",
      "/mnt/storage2/olek/bertrand-rep3/training-dean/dataset_42/cv_seed=44\n",
      "/mnt/storage2/olek/bertrand-rep3/training-dean/dataset_42/cv_seed=45\n",
      "/mnt/storage2/olek/bertrand-rep3/training-dean/dataset_42/cv_seed=46\n",
      "/mnt/storage2/olek/bertrand-rep3/training-dean/dataset_42/cv_seed=47\n",
      "/mnt/storage2/olek/bertrand-rep3/training-dean/dataset_42/cv_seed=48\n",
      "/mnt/storage2/olek/bertrand-rep3/training-dean/dataset_42/cv_seed=49\n",
      "/mnt/storage2/olek/bertrand-rep3/training-dean/dataset_42/cv_seed=50\n",
      "/mnt/storage2/olek/bertrand-rep3/training-dean/dataset_42/cv_seed=51\n",
      "/mnt/storage2/olek/bertrand-rep3/training-dean/dataset_42/cv_seed=52\n",
      "/mnt/storage2/olek/bertrand-rep3/training-dean/dataset_42/cv_seed=53\n",
      "/mnt/storage2/olek/bertrand-rep3/training-dean/dataset_42/cv_seed=54\n",
      "/mnt/storage2/olek/bertrand-rep3/training-dean/dataset_42/cv_seed=55\n",
      "/mnt/storage2/olek/bertrand-rep3/training-dean/dataset_42/cv_seed=56\n",
      "/mnt/storage2/olek/bertrand-rep3/training-dean/dataset_42/cv_seed=57\n",
      "/mnt/storage2/olek/bertrand-rep3/training-dean/dataset_42/cv_seed=58\n",
      "/mnt/storage2/olek/bertrand-rep3/training-dean/dataset_42/cv_seed=59\n",
      "/mnt/storage2/olek/bertrand-rep3/training-dean/dataset_42/cv_seed=60\n",
      "/mnt/storage2/olek/bertrand-rep3/training-dean/dataset_42/cv_seed=61\n",
      "/mnt/storage2/olek/bertrand-rep3/training-dean/dataset_42/cv_seed=62\n",
      "dataset_43\n",
      "baseline\n",
      "/mnt/storage2/olek/bertrand-rep3/training-nomlm/dataset_43/cv_seed=42\n",
      "/mnt/storage2/olek/bertrand-rep3/training-nomlm/dataset_43/cv_seed=43\n",
      "/mnt/storage2/olek/bertrand-rep3/training-nomlm/dataset_43/cv_seed=44\n",
      "/mnt/storage2/olek/bertrand-rep3/training-nomlm/dataset_43/cv_seed=45\n",
      "/mnt/storage2/olek/bertrand-rep3/training-nomlm/dataset_43/cv_seed=46\n",
      "/mnt/storage2/olek/bertrand-rep3/training-nomlm/dataset_43/cv_seed=47\n",
      "/mnt/storage2/olek/bertrand-rep3/training-nomlm/dataset_43/cv_seed=48\n",
      "/mnt/storage2/olek/bertrand-rep3/training-nomlm/dataset_43/cv_seed=49\n",
      "/mnt/storage2/olek/bertrand-rep3/training-nomlm/dataset_43/cv_seed=50\n",
      "/mnt/storage2/olek/bertrand-rep3/training-nomlm/dataset_43/cv_seed=51\n",
      "/mnt/storage2/olek/bertrand-rep3/training-nomlm/dataset_43/cv_seed=52\n",
      "/mnt/storage2/olek/bertrand-rep3/training-nomlm/dataset_43/cv_seed=53\n",
      "/mnt/storage2/olek/bertrand-rep3/training-nomlm/dataset_43/cv_seed=54\n",
      "/mnt/storage2/olek/bertrand-rep3/training-nomlm/dataset_43/cv_seed=55\n",
      "/mnt/storage2/olek/bertrand-rep3/training-nomlm/dataset_43/cv_seed=56\n",
      "/mnt/storage2/olek/bertrand-rep3/training-nomlm/dataset_43/cv_seed=57\n",
      "/mnt/storage2/olek/bertrand-rep3/training-nomlm/dataset_43/cv_seed=58\n",
      "/mnt/storage2/olek/bertrand-rep3/training-nomlm/dataset_43/cv_seed=59\n",
      "/mnt/storage2/olek/bertrand-rep3/training-nomlm/dataset_43/cv_seed=60\n",
      "/mnt/storage2/olek/bertrand-rep3/training-nomlm/dataset_43/cv_seed=61\n",
      "/mnt/storage2/olek/bertrand-rep3/training-nomlm/dataset_43/cv_seed=62\n",
      "pretrained\n",
      "/mnt/storage2/olek/bertrand-rep3/training-dean/dataset_43/cv_seed=42\n",
      "/mnt/storage2/olek/bertrand-rep3/training-dean/dataset_43/cv_seed=43\n",
      "/mnt/storage2/olek/bertrand-rep3/training-dean/dataset_43/cv_seed=44\n",
      "/mnt/storage2/olek/bertrand-rep3/training-dean/dataset_43/cv_seed=45\n",
      "/mnt/storage2/olek/bertrand-rep3/training-dean/dataset_43/cv_seed=46\n",
      "/mnt/storage2/olek/bertrand-rep3/training-dean/dataset_43/cv_seed=47\n",
      "/mnt/storage2/olek/bertrand-rep3/training-dean/dataset_43/cv_seed=48\n",
      "/mnt/storage2/olek/bertrand-rep3/training-dean/dataset_43/cv_seed=49\n",
      "/mnt/storage2/olek/bertrand-rep3/training-dean/dataset_43/cv_seed=50\n",
      "/mnt/storage2/olek/bertrand-rep3/training-dean/dataset_43/cv_seed=51\n",
      "/mnt/storage2/olek/bertrand-rep3/training-dean/dataset_43/cv_seed=52\n",
      "/mnt/storage2/olek/bertrand-rep3/training-dean/dataset_43/cv_seed=53\n",
      "/mnt/storage2/olek/bertrand-rep3/training-dean/dataset_43/cv_seed=54\n",
      "/mnt/storage2/olek/bertrand-rep3/training-dean/dataset_43/cv_seed=55\n",
      "/mnt/storage2/olek/bertrand-rep3/training-dean/dataset_43/cv_seed=56\n",
      "/mnt/storage2/olek/bertrand-rep3/training-dean/dataset_43/cv_seed=57\n",
      "/mnt/storage2/olek/bertrand-rep3/training-dean/dataset_43/cv_seed=58\n",
      "/mnt/storage2/olek/bertrand-rep3/training-dean/dataset_43/cv_seed=59\n",
      "/mnt/storage2/olek/bertrand-rep3/training-dean/dataset_43/cv_seed=60\n",
      "/mnt/storage2/olek/bertrand-rep3/training-dean/dataset_43/cv_seed=61\n",
      "/mnt/storage2/olek/bertrand-rep3/training-dean/dataset_43/cv_seed=62\n",
      "dataset_44\n",
      "baseline\n",
      "/mnt/storage2/olek/bertrand-rep3/training-nomlm/dataset_44/cv_seed=42\n",
      "/mnt/storage2/olek/bertrand-rep3/training-nomlm/dataset_44/cv_seed=43\n",
      "/mnt/storage2/olek/bertrand-rep3/training-nomlm/dataset_44/cv_seed=44\n",
      "/mnt/storage2/olek/bertrand-rep3/training-nomlm/dataset_44/cv_seed=45\n",
      "/mnt/storage2/olek/bertrand-rep3/training-nomlm/dataset_44/cv_seed=46\n",
      "/mnt/storage2/olek/bertrand-rep3/training-nomlm/dataset_44/cv_seed=47\n",
      "/mnt/storage2/olek/bertrand-rep3/training-nomlm/dataset_44/cv_seed=48\n",
      "/mnt/storage2/olek/bertrand-rep3/training-nomlm/dataset_44/cv_seed=49\n",
      "/mnt/storage2/olek/bertrand-rep3/training-nomlm/dataset_44/cv_seed=50\n",
      "/mnt/storage2/olek/bertrand-rep3/training-nomlm/dataset_44/cv_seed=51\n",
      "/mnt/storage2/olek/bertrand-rep3/training-nomlm/dataset_44/cv_seed=52\n",
      "/mnt/storage2/olek/bertrand-rep3/training-nomlm/dataset_44/cv_seed=53\n",
      "/mnt/storage2/olek/bertrand-rep3/training-nomlm/dataset_44/cv_seed=54\n",
      "/mnt/storage2/olek/bertrand-rep3/training-nomlm/dataset_44/cv_seed=55\n",
      "/mnt/storage2/olek/bertrand-rep3/training-nomlm/dataset_44/cv_seed=56\n",
      "/mnt/storage2/olek/bertrand-rep3/training-nomlm/dataset_44/cv_seed=57\n",
      "/mnt/storage2/olek/bertrand-rep3/training-nomlm/dataset_44/cv_seed=58\n",
      "/mnt/storage2/olek/bertrand-rep3/training-nomlm/dataset_44/cv_seed=59\n",
      "/mnt/storage2/olek/bertrand-rep3/training-nomlm/dataset_44/cv_seed=60\n",
      "/mnt/storage2/olek/bertrand-rep3/training-nomlm/dataset_44/cv_seed=61\n",
      "/mnt/storage2/olek/bertrand-rep3/training-nomlm/dataset_44/cv_seed=62\n",
      "pretrained\n",
      "/mnt/storage2/olek/bertrand-rep3/training-dean/dataset_44/cv_seed=42\n",
      "/mnt/storage2/olek/bertrand-rep3/training-dean/dataset_44/cv_seed=43\n",
      "/mnt/storage2/olek/bertrand-rep3/training-dean/dataset_44/cv_seed=44\n",
      "/mnt/storage2/olek/bertrand-rep3/training-dean/dataset_44/cv_seed=45\n",
      "/mnt/storage2/olek/bertrand-rep3/training-dean/dataset_44/cv_seed=46\n",
      "/mnt/storage2/olek/bertrand-rep3/training-dean/dataset_44/cv_seed=47\n",
      "/mnt/storage2/olek/bertrand-rep3/training-dean/dataset_44/cv_seed=48\n",
      "/mnt/storage2/olek/bertrand-rep3/training-dean/dataset_44/cv_seed=49\n",
      "/mnt/storage2/olek/bertrand-rep3/training-dean/dataset_44/cv_seed=50\n",
      "/mnt/storage2/olek/bertrand-rep3/training-dean/dataset_44/cv_seed=51\n",
      "/mnt/storage2/olek/bertrand-rep3/training-dean/dataset_44/cv_seed=52\n",
      "/mnt/storage2/olek/bertrand-rep3/training-dean/dataset_44/cv_seed=53\n",
      "/mnt/storage2/olek/bertrand-rep3/training-dean/dataset_44/cv_seed=54\n",
      "/mnt/storage2/olek/bertrand-rep3/training-dean/dataset_44/cv_seed=55\n",
      "/mnt/storage2/olek/bertrand-rep3/training-dean/dataset_44/cv_seed=56\n",
      "/mnt/storage2/olek/bertrand-rep3/training-dean/dataset_44/cv_seed=57\n",
      "/mnt/storage2/olek/bertrand-rep3/training-dean/dataset_44/cv_seed=58\n",
      "/mnt/storage2/olek/bertrand-rep3/training-dean/dataset_44/cv_seed=59\n",
      "/mnt/storage2/olek/bertrand-rep3/training-dean/dataset_44/cv_seed=60\n",
      "/mnt/storage2/olek/bertrand-rep3/training-dean/dataset_44/cv_seed=61\n",
      "/mnt/storage2/olek/bertrand-rep3/training-dean/dataset_44/cv_seed=62\n"
     ]
    }
   ],
   "source": [
    "for dataset_fn in sorted(glob(os.path.join(datasets_dir, \"*.csv.gz\"))):\n",
    "    dataset_name = os.path.basename(dataset_fn).replace(\".csv.gz\", \"\")\n",
    "    dataset = pd.read_csv(dataset_fn, low_memory=False)\n",
    "    print(dataset_name)\n",
    "    for model_name, results_dir in results_dirs.items():\n",
    "        dataset_results_dir = os.path.join(results_dir, dataset_name)\n",
    "        print(model_name)\n",
    "        for model_dir in sorted(glob(os.path.join(dataset_results_dir, \"cv_seed=*\"))):\n",
    "            print(model_dir)\n",
    "            weighted_average_test = get_test_metric_per_epoch(model_dir, dataset)\n",
    "            bertrand_results_per_epoch[model_name].append(weighted_average_test)\n",
    "#             raise Exception()"
   ]
  },
  {
   "cell_type": "code",
   "execution_count": 14,
   "id": "animated-thesaurus",
   "metadata": {},
   "outputs": [],
   "source": [
    "# bertrand_peptide_results_list = []\n",
    "# bertrand_results_per_epoch = defaultdict(list)\n",
    "# for e in bertrand_results:\n",
    "#     cancer_rocs = e['cancer_res_flat'].copy()\n",
    "#     cancer_rocs.loc[:, 'set'] = 'cancer'\n",
    "#     cancer_rocs.loc[:, 'model'] = e['model']\n",
    "    \n",
    "#     test_rocs = e['pep_res_flat'].copy()\n",
    "#     test_rocs.loc[:, 'set'] = 'test'\n",
    "#     test_rocs.loc[:, 'model'] = e['model']\n",
    "    \n",
    "#     bertrand_results_per_epoch[e['model']].append(e['weighted_average'])\n",
    "    \n",
    "#     bertrand_peptide_results_list.append(cancer_rocs)\n",
    "#     bertrand_peptide_results_list.append(test_rocs)\n",
    "    "
   ]
  },
  {
   "cell_type": "code",
   "execution_count": 34,
   "id": "received-landscape",
   "metadata": {},
   "outputs": [],
   "source": [
    "bertrand_results_df = pd.concat([\n",
    "    pd.read_csv('/mnt/storage2/olek/bertrand-rep3/training-nomlm/results.csv').assign(model='baseline', mask=True),\n",
    "    pd.read_csv('/mnt/storage2/olek/bertrand-rep3/training-dean/results.csv').assign(model='pre-trained', mask=True),\n",
    "])"
   ]
  },
  {
   "cell_type": "code",
   "execution_count": 35,
   "id": "golden-corporation",
   "metadata": {},
   "outputs": [
    {
     "data": {
      "text/plain": [
       "(36648, 8)"
      ]
     },
     "execution_count": 35,
     "metadata": {},
     "output_type": "execute_result"
    }
   ],
   "source": [
    "bertrand_results_df.shape"
   ]
  },
  {
   "cell_type": "code",
   "execution_count": 36,
   "id": "rapid-ukraine",
   "metadata": {},
   "outputs": [
    {
     "data": {
      "text/html": [
       "<div>\n",
       "<style scoped>\n",
       "    .dataframe tbody tr th:only-of-type {\n",
       "        vertical-align: middle;\n",
       "    }\n",
       "\n",
       "    .dataframe tbody tr th {\n",
       "        vertical-align: top;\n",
       "    }\n",
       "\n",
       "    .dataframe thead th {\n",
       "        text-align: right;\n",
       "    }\n",
       "</style>\n",
       "<table border=\"1\" class=\"dataframe\">\n",
       "  <thead>\n",
       "    <tr style=\"text-align: right;\">\n",
       "      <th></th>\n",
       "      <th>rocs</th>\n",
       "      <th>n</th>\n",
       "      <th>peptide</th>\n",
       "      <th>cv_seed</th>\n",
       "      <th>dataset</th>\n",
       "      <th>subset</th>\n",
       "      <th>model</th>\n",
       "      <th>mask</th>\n",
       "    </tr>\n",
       "  </thead>\n",
       "  <tbody>\n",
       "    <tr>\n",
       "      <th>0</th>\n",
       "      <td>0.491092</td>\n",
       "      <td>48</td>\n",
       "      <td>CTELKLSDY</td>\n",
       "      <td>42</td>\n",
       "      <td>dataset_42</td>\n",
       "      <td>test</td>\n",
       "      <td>baseline</td>\n",
       "      <td>True</td>\n",
       "    </tr>\n",
       "    <tr>\n",
       "      <th>1</th>\n",
       "      <td>0.628261</td>\n",
       "      <td>30</td>\n",
       "      <td>FLRGRAYGL</td>\n",
       "      <td>42</td>\n",
       "      <td>dataset_42</td>\n",
       "      <td>test</td>\n",
       "      <td>baseline</td>\n",
       "      <td>True</td>\n",
       "    </tr>\n",
       "    <tr>\n",
       "      <th>2</th>\n",
       "      <td>0.507990</td>\n",
       "      <td>266</td>\n",
       "      <td>FRCPRRFCF</td>\n",
       "      <td>42</td>\n",
       "      <td>dataset_42</td>\n",
       "      <td>test</td>\n",
       "      <td>baseline</td>\n",
       "      <td>True</td>\n",
       "    </tr>\n",
       "    <tr>\n",
       "      <th>3</th>\n",
       "      <td>0.576105</td>\n",
       "      <td>28</td>\n",
       "      <td>GLNKIVRMY</td>\n",
       "      <td>42</td>\n",
       "      <td>dataset_42</td>\n",
       "      <td>test</td>\n",
       "      <td>baseline</td>\n",
       "      <td>True</td>\n",
       "    </tr>\n",
       "    <tr>\n",
       "      <th>4</th>\n",
       "      <td>0.513774</td>\n",
       "      <td>66</td>\n",
       "      <td>GPGHKARVL</td>\n",
       "      <td>42</td>\n",
       "      <td>dataset_42</td>\n",
       "      <td>test</td>\n",
       "      <td>baseline</td>\n",
       "      <td>True</td>\n",
       "    </tr>\n",
       "  </tbody>\n",
       "</table>\n",
       "</div>"
      ],
      "text/plain": [
       "       rocs    n    peptide  cv_seed     dataset subset     model  mask\n",
       "0  0.491092   48  CTELKLSDY       42  dataset_42   test  baseline  True\n",
       "1  0.628261   30  FLRGRAYGL       42  dataset_42   test  baseline  True\n",
       "2  0.507990  266  FRCPRRFCF       42  dataset_42   test  baseline  True\n",
       "3  0.576105   28  GLNKIVRMY       42  dataset_42   test  baseline  True\n",
       "4  0.513774   66  GPGHKARVL       42  dataset_42   test  baseline  True"
      ]
     },
     "execution_count": 36,
     "metadata": {},
     "output_type": "execute_result"
    }
   ],
   "source": [
    "bertrand_results_df.head()"
   ]
  },
  {
   "cell_type": "code",
   "execution_count": 37,
   "id": "wireless-element",
   "metadata": {},
   "outputs": [
    {
     "data": {
      "text/html": [
       "<div>\n",
       "<style scoped>\n",
       "    .dataframe tbody tr th:only-of-type {\n",
       "        vertical-align: middle;\n",
       "    }\n",
       "\n",
       "    .dataframe tbody tr th {\n",
       "        vertical-align: top;\n",
       "    }\n",
       "\n",
       "    .dataframe thead th {\n",
       "        text-align: right;\n",
       "    }\n",
       "</style>\n",
       "<table border=\"1\" class=\"dataframe\">\n",
       "  <thead>\n",
       "    <tr style=\"text-align: right;\">\n",
       "      <th></th>\n",
       "      <th>rocs</th>\n",
       "      <th>n</th>\n",
       "      <th>peptide</th>\n",
       "      <th>cv_seed</th>\n",
       "      <th>dataset</th>\n",
       "      <th>subset</th>\n",
       "      <th>model</th>\n",
       "      <th>mask</th>\n",
       "    </tr>\n",
       "  </thead>\n",
       "  <tbody>\n",
       "    <tr>\n",
       "      <th>0</th>\n",
       "      <td>0.491092</td>\n",
       "      <td>48</td>\n",
       "      <td>CTELKLSDY</td>\n",
       "      <td>42</td>\n",
       "      <td>dataset_42</td>\n",
       "      <td>test</td>\n",
       "      <td>baseline</td>\n",
       "      <td>True</td>\n",
       "    </tr>\n",
       "    <tr>\n",
       "      <th>1</th>\n",
       "      <td>0.628261</td>\n",
       "      <td>30</td>\n",
       "      <td>FLRGRAYGL</td>\n",
       "      <td>42</td>\n",
       "      <td>dataset_42</td>\n",
       "      <td>test</td>\n",
       "      <td>baseline</td>\n",
       "      <td>True</td>\n",
       "    </tr>\n",
       "  </tbody>\n",
       "</table>\n",
       "</div>"
      ],
      "text/plain": [
       "       rocs   n    peptide  cv_seed     dataset subset     model  mask\n",
       "0  0.491092  48  CTELKLSDY       42  dataset_42   test  baseline  True\n",
       "1  0.628261  30  FLRGRAYGL       42  dataset_42   test  baseline  True"
      ]
     },
     "execution_count": 37,
     "metadata": {},
     "output_type": "execute_result"
    }
   ],
   "source": [
    "bertrand_results_df.head(2)"
   ]
  },
  {
   "cell_type": "code",
   "execution_count": 38,
   "id": "recent-hughes",
   "metadata": {},
   "outputs": [],
   "source": [
    "results_df = bertrand_results_df#.query(\"dataset == 'dataset_42'\").reset_index(drop=True).copy()"
   ]
  },
  {
   "cell_type": "code",
   "execution_count": 39,
   "id": "corresponding-assurance",
   "metadata": {},
   "outputs": [],
   "source": [
    "results_df.loc[:, 'set'] = results_df['subset'].map({'test': 'Cross validation test set', 'cancer': 'Independent cancer set'})\n",
    "results_df.loc[:, 'mask'] = results_df['mask'].map({False: 'Basic filtering', True: 'Easy negatives filtering'})"
   ]
  },
  {
   "cell_type": "code",
   "execution_count": 40,
   "id": "binding-anderson",
   "metadata": {},
   "outputs": [
    {
     "data": {
      "text/html": [
       "<div>\n",
       "<style scoped>\n",
       "    .dataframe tbody tr th:only-of-type {\n",
       "        vertical-align: middle;\n",
       "    }\n",
       "\n",
       "    .dataframe tbody tr th {\n",
       "        vertical-align: top;\n",
       "    }\n",
       "\n",
       "    .dataframe thead th {\n",
       "        text-align: right;\n",
       "    }\n",
       "</style>\n",
       "<table border=\"1\" class=\"dataframe\">\n",
       "  <thead>\n",
       "    <tr style=\"text-align: right;\">\n",
       "      <th></th>\n",
       "      <th>rocs</th>\n",
       "      <th>n</th>\n",
       "      <th>peptide</th>\n",
       "      <th>cv_seed</th>\n",
       "      <th>dataset</th>\n",
       "      <th>subset</th>\n",
       "      <th>model</th>\n",
       "      <th>mask</th>\n",
       "      <th>set</th>\n",
       "    </tr>\n",
       "  </thead>\n",
       "  <tbody>\n",
       "    <tr>\n",
       "      <th>0</th>\n",
       "      <td>0.491092</td>\n",
       "      <td>48</td>\n",
       "      <td>CTELKLSDY</td>\n",
       "      <td>42</td>\n",
       "      <td>dataset_42</td>\n",
       "      <td>test</td>\n",
       "      <td>baseline</td>\n",
       "      <td>Easy negatives filtering</td>\n",
       "      <td>Cross validation test set</td>\n",
       "    </tr>\n",
       "    <tr>\n",
       "      <th>1</th>\n",
       "      <td>0.628261</td>\n",
       "      <td>30</td>\n",
       "      <td>FLRGRAYGL</td>\n",
       "      <td>42</td>\n",
       "      <td>dataset_42</td>\n",
       "      <td>test</td>\n",
       "      <td>baseline</td>\n",
       "      <td>Easy negatives filtering</td>\n",
       "      <td>Cross validation test set</td>\n",
       "    </tr>\n",
       "  </tbody>\n",
       "</table>\n",
       "</div>"
      ],
      "text/plain": [
       "       rocs   n    peptide  cv_seed     dataset subset     model  \\\n",
       "0  0.491092  48  CTELKLSDY       42  dataset_42   test  baseline   \n",
       "1  0.628261  30  FLRGRAYGL       42  dataset_42   test  baseline   \n",
       "\n",
       "                       mask                        set  \n",
       "0  Easy negatives filtering  Cross validation test set  \n",
       "1  Easy negatives filtering  Cross validation test set  "
      ]
     },
     "execution_count": 40,
     "metadata": {},
     "output_type": "execute_result"
    }
   ],
   "source": [
    "results_df.head(2)"
   ]
  },
  {
   "cell_type": "code",
   "execution_count": 41,
   "id": "optional-talent",
   "metadata": {},
   "outputs": [
    {
     "data": {
      "text/html": [
       "<div>\n",
       "<style scoped>\n",
       "    .dataframe tbody tr th:only-of-type {\n",
       "        vertical-align: middle;\n",
       "    }\n",
       "\n",
       "    .dataframe tbody tr th {\n",
       "        vertical-align: top;\n",
       "    }\n",
       "\n",
       "    .dataframe thead th {\n",
       "        text-align: right;\n",
       "    }\n",
       "</style>\n",
       "<table border=\"1\" class=\"dataframe\">\n",
       "  <thead>\n",
       "    <tr style=\"text-align: right;\">\n",
       "      <th></th>\n",
       "      <th>mask</th>\n",
       "      <th>Easy negatives filtering</th>\n",
       "    </tr>\n",
       "    <tr>\n",
       "      <th>model</th>\n",
       "      <th>subset</th>\n",
       "      <th></th>\n",
       "    </tr>\n",
       "  </thead>\n",
       "  <tbody>\n",
       "    <tr>\n",
       "      <th rowspan=\"2\" valign=\"top\">baseline</th>\n",
       "      <th>cancer</th>\n",
       "      <td>0.611081</td>\n",
       "    </tr>\n",
       "    <tr>\n",
       "      <th>test</th>\n",
       "      <td>0.584619</td>\n",
       "    </tr>\n",
       "    <tr>\n",
       "      <th rowspan=\"2\" valign=\"top\">pre-trained</th>\n",
       "      <th>cancer</th>\n",
       "      <td>0.685310</td>\n",
       "    </tr>\n",
       "    <tr>\n",
       "      <th>test</th>\n",
       "      <td>0.645296</td>\n",
       "    </tr>\n",
       "  </tbody>\n",
       "</table>\n",
       "</div>"
      ],
      "text/plain": [
       "mask                Easy negatives filtering\n",
       "model       subset                          \n",
       "baseline    cancer                  0.611081\n",
       "            test                    0.584619\n",
       "pre-trained cancer                  0.685310\n",
       "            test                    0.645296"
      ]
     },
     "execution_count": 41,
     "metadata": {},
     "output_type": "execute_result"
    }
   ],
   "source": [
    "results_df[results_df.n >= 5].groupby(['model', 'subset', 'mask']).rocs.agg('mean').unstack()"
   ]
  },
  {
   "cell_type": "code",
   "execution_count": 42,
   "id": "intended-trading",
   "metadata": {},
   "outputs": [],
   "source": [
    "results_df_agg = results_df[results_df.n >= 5].groupby(['model', \n",
    "                                                        'subset',\n",
    "                                                        'mask',\n",
    "                                                        'dataset', \n",
    "                                                        'cv_seed']).rocs.agg(['mean', 'std']).reset_index()"
   ]
  },
  {
   "cell_type": "code",
   "execution_count": 43,
   "id": "joint-geometry",
   "metadata": {},
   "outputs": [],
   "source": [
    "results_df_agg.rename(columns={'mean': 'roc', 'std': 'roc_std'}, inplace=True)"
   ]
  },
  {
   "cell_type": "code",
   "execution_count": 44,
   "id": "sweet-satisfaction",
   "metadata": {},
   "outputs": [],
   "source": [
    "# results_df_agg2 = results_df_agg.groupby(['model', 'subset', 'mask']).agg('mean').reset_index()"
   ]
  },
  {
   "cell_type": "code",
   "execution_count": 45,
   "id": "lovely-folder",
   "metadata": {},
   "outputs": [],
   "source": [
    "def plot_per_epoch(ax):\n",
    "    res_baseline = np.vstack(bertrand_results_per_epoch['baseline'])\n",
    "    average_average_auroc_baseline = res_baseline.mean(0)\n",
    "    std_average_auroc_baseline = res_baseline.std(0)\n",
    "    res_pretrained = np.vstack(bertrand_results_per_epoch['pretrained'])\n",
    "    average_average_auroc_pretrained = res_pretrained.mean(0)\n",
    "    std_average_auroc_pretrained = res_pretrained.std(0)\n",
    "\n",
    "    ax.plot(average_average_auroc_baseline)\n",
    "    ax.plot(np.arange(len(average_average_auroc_baseline)), \n",
    "                average_average_auroc_baseline, \n",
    "            color='#AB63FA')\n",
    "    ax.fill_between(np.arange(len(average_average_auroc_baseline)), \n",
    "                   average_average_auroc_baseline-std_average_auroc_baseline,\n",
    "                   average_average_auroc_baseline+std_average_auroc_baseline,\n",
    "                   alpha=0.3, color='#AB63FA')\n",
    "\n",
    "    ax.plot(np.arange(len(average_average_auroc_pretrained)), \n",
    "                average_average_auroc_pretrained, color='#65B020')\n",
    "    ax.fill_between(np.arange(len(average_average_auroc_pretrained)), \n",
    "                   average_average_auroc_pretrained-std_average_auroc_pretrained,\n",
    "                   average_average_auroc_pretrained+std_average_auroc_pretrained,\n",
    "                   alpha=0.3, color='#65B020')\n",
    "    ax.set_xlabel('Epoch', fontsize=12)\n",
    "    ax.set_ylabel('weighted AUROC', fontsize=12)"
   ]
  },
  {
   "cell_type": "code",
   "execution_count": 49,
   "id": "indonesian-desperate",
   "metadata": {},
   "outputs": [
    {
     "data": {
      "image/png": "[encoded data removed]",
      "text/plain": [
       "<Figure size 1400x600 with 3 Axes>"
      ]
     },
     "metadata": {},
     "output_type": "display_data"
    }
   ],
   "source": [
    "def errplot(x, y, yerr, **kwargs):\n",
    "    ax = plt.gca()\n",
    "    data = kwargs.pop(\"data\")\n",
    "    kwargs.pop('color')\n",
    "    # data.plot(x=x,\n",
    "    #           y=y,\n",
    "    #           yerr=yerr,\n",
    "    #           kind=\"bar\", \n",
    "    #           ax=ax,\n",
    "    #           capsize=5, color=['#EF553BCF', '#1F77B4CF', '#53A40DDF'], **kwargs)\n",
    "    sns.barplot(data=data, x=x, y=y, ax=ax, capsize=0.1, ci='sd', **kwargs,\n",
    "                order=['baseline', 'pre-trained'], \n",
    "                palette=['#AB63FA', '#65B020'])\n",
    "    # ax.set_ylim(0.5, 1.0)\n",
    "    auroc_mean = data.groupby('model')[y].agg('mean')\n",
    "    auroc_mean = auroc_mean.loc[['baseline', 'pre-trained']]\n",
    "    for i, roc in enumerate(auroc_mean):\n",
    "        # if roc - rocerr <= 0.5:\n",
    "        text  = '%.2f' % roc\n",
    "        # else:\n",
    "        #     text = '%.2f${}^\\mathbf{*}$' % roc\n",
    "        ax.text(i, 0.3,  text, color='white', fontweight='bold', fontsize=15, ha='center', va='center')\n",
    "    ax.hlines(0.5, -0.5, 1.5, color='red', linestyle='--')\n",
    "    # if data['mask'].iloc[0] == 'Easy negatives filtering':\n",
    "    #     ax.text(2.5, 1, data.dataset.iloc[0],  ha='center', va='center', size=14)\n",
    "        \n",
    "\n",
    "g = sns.FacetGrid(results_df_agg, col=\"subset\")\n",
    "g.map_dataframe(errplot, \"model\", \"roc\", \"roc_std\")\n",
    "\n",
    "g.set_titles(template=\"{col_name}\", size=14) # {row_name}\\n{col_name}\n",
    "[plt.setp(ax.get_xticklabels(), rotation=0, fontsize=16) for ax in g.axes.flat]\n",
    "[ax.set_xlabel('') for ax in g.axes.flat]\n",
    "g.axes[0, 0].set_ylabel('AUROC', fontsize=12)\n",
    "g.axes[0, 1].set_ylabel('AUROC', fontsize=12)\n",
    "\n",
    "\n",
    "\n",
    "# for ax, letter in zip(g.axes.flat, [\"A\",\"B\"]):\n",
    "#     ax.text(-0.4, 0.75 ,letter, fontweight=\"bold\", fontsize=20)\n",
    "\n",
    "\n",
    "g.fig.subplots_adjust(bottom=0.07, left=0.07, right=0.7)\n",
    "\n",
    "ax = g.fig.add_axes([0.07, -0.55, 0.65, 0.5], label='axis1')\n",
    "plot_per_epoch(ax)\n",
    "# ax.text(-0.1, 0.666, \"C\",fontweight=\"bold\", fontsize=20)\n",
    "\n",
    "\n",
    "g.fig.set_size_inches(14, 6)\n",
    "# from matplotlib.transforms import Bbox\n",
    "# g.figure.savefig('comparison.png', bbox_inches=\"tight\")\n",
    "\n",
    "plt.savefig('nlpbaseline2.svg',  bbox_inches=\"tight\")\n",
    "plt.savefig(\"nlpbaseline.png\", dpi=600, bbox_inchess=\"tight\")\n",
    "plt.show()"
   ]
  },
  {
   "cell_type": "code",
   "execution_count": null,
   "id": "center-waste",
   "metadata": {},
   "outputs": [],
   "source": []
  }
 ],
 "metadata": {
  "kernelspec": {
   "display_name": "bertrand",
   "language": "python",
   "name": "bertrand"
  },
  "language_info": {
   "codemirror_mode": {
    "name": "ipython",
    "version": 3
   },
   "file_extension": ".py",
   "mimetype": "text/x-python",
   "name": "python",
   "nbconvert_exporter": "python",
   "pygments_lexer": "ipython3",
   "version": "3.8.0"
  }
 },
 "nbformat": 4,
 "nbformat_minor": 5
}
