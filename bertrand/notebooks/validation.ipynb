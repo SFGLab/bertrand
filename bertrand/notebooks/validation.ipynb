{
 "cells": [
  {
   "cell_type": "code",
   "execution_count": 1,
   "id": "enclosed-precipitation",
   "metadata": {},
   "outputs": [],
   "source": [
    "import pandas as pd\n",
    "import numpy as np\n",
    "\n",
    "from matplotlib import pyplot as plt\n",
    "import seaborn as sns"
   ]
  },
  {
   "cell_type": "code",
   "execution_count": 2,
   "id": "nervous-threat",
   "metadata": {},
   "outputs": [
    {
     "data": {
      "text/plain": [
       "'/home/ardigen/Documents/doktor_trans/bertrand/notebooks'"
      ]
     },
     "execution_count": 2,
     "metadata": {},
     "output_type": "execute_result"
    }
   ],
   "source": [
    "%pwd"
   ]
  },
  {
   "cell_type": "code",
   "execution_count": 3,
   "id": "brown-emperor",
   "metadata": {},
   "outputs": [],
   "source": [
    "bertrand_results_mask = pd.read_csv('../../results/bertrand_with_outliers_filtering.csv')\n",
    "bertrand_results_nomask = pd.read_csv('../../results/bertrand_wo_outliers_filtering.csv')"
   ]
  },
  {
   "cell_type": "code",
   "execution_count": 91,
   "id": "naughty-vocabulary",
   "metadata": {},
   "outputs": [],
   "source": [
    "bertrand_results_mask['mask'] = True\n",
    "bertrand_results_nomask['mask'] = False"
   ]
  },
  {
   "cell_type": "code",
   "execution_count": 92,
   "id": "devoted-tooth",
   "metadata": {},
   "outputs": [],
   "source": [
    "bertrand_results_df = pd.concat([bertrand_results_mask, bertrand_results_nomask])"
   ]
  },
  {
   "cell_type": "code",
   "execution_count": 93,
   "id": "hungry-estimate",
   "metadata": {},
   "outputs": [
    {
     "data": {
      "text/html": [
       "<div>\n",
       "<style scoped>\n",
       "    .dataframe tbody tr th:only-of-type {\n",
       "        vertical-align: middle;\n",
       "    }\n",
       "\n",
       "    .dataframe tbody tr th {\n",
       "        vertical-align: top;\n",
       "    }\n",
       "\n",
       "    .dataframe thead th {\n",
       "        text-align: right;\n",
       "    }\n",
       "</style>\n",
       "<table border=\"1\" class=\"dataframe\">\n",
       "  <thead>\n",
       "    <tr style=\"text-align: right;\">\n",
       "      <th></th>\n",
       "      <th>rocs</th>\n",
       "      <th>n</th>\n",
       "      <th>peptide</th>\n",
       "      <th>cv_seed</th>\n",
       "      <th>dataset</th>\n",
       "      <th>subset</th>\n",
       "      <th>mask</th>\n",
       "    </tr>\n",
       "  </thead>\n",
       "  <tbody>\n",
       "    <tr>\n",
       "      <th>0</th>\n",
       "      <td>0.588435</td>\n",
       "      <td>48</td>\n",
       "      <td>CTELKLSDY</td>\n",
       "      <td>42</td>\n",
       "      <td>dataset_42</td>\n",
       "      <td>test</td>\n",
       "      <td>True</td>\n",
       "    </tr>\n",
       "    <tr>\n",
       "      <th>1</th>\n",
       "      <td>0.597031</td>\n",
       "      <td>176</td>\n",
       "      <td>EIYKRWII</td>\n",
       "      <td>42</td>\n",
       "      <td>dataset_42</td>\n",
       "      <td>test</td>\n",
       "      <td>True</td>\n",
       "    </tr>\n",
       "    <tr>\n",
       "      <th>2</th>\n",
       "      <td>0.616156</td>\n",
       "      <td>266</td>\n",
       "      <td>FRCPRRFCF</td>\n",
       "      <td>42</td>\n",
       "      <td>dataset_42</td>\n",
       "      <td>test</td>\n",
       "      <td>True</td>\n",
       "    </tr>\n",
       "    <tr>\n",
       "      <th>3</th>\n",
       "      <td>0.800000</td>\n",
       "      <td>2</td>\n",
       "      <td>GEIYKRWII</td>\n",
       "      <td>42</td>\n",
       "      <td>dataset_42</td>\n",
       "      <td>test</td>\n",
       "      <td>True</td>\n",
       "    </tr>\n",
       "    <tr>\n",
       "      <th>4</th>\n",
       "      <td>0.727876</td>\n",
       "      <td>156</td>\n",
       "      <td>IPSINVHHY</td>\n",
       "      <td>42</td>\n",
       "      <td>dataset_42</td>\n",
       "      <td>test</td>\n",
       "      <td>True</td>\n",
       "    </tr>\n",
       "  </tbody>\n",
       "</table>\n",
       "</div>"
      ],
      "text/plain": [
       "       rocs    n    peptide  cv_seed     dataset subset  mask\n",
       "0  0.588435   48  CTELKLSDY       42  dataset_42   test  True\n",
       "1  0.597031  176   EIYKRWII       42  dataset_42   test  True\n",
       "2  0.616156  266  FRCPRRFCF       42  dataset_42   test  True\n",
       "3  0.800000    2  GEIYKRWII       42  dataset_42   test  True\n",
       "4  0.727876  156  IPSINVHHY       42  dataset_42   test  True"
      ]
     },
     "execution_count": 93,
     "metadata": {},
     "output_type": "execute_result"
    }
   ],
   "source": [
    "bertrand_results_df.head()"
   ]
  },
  {
   "cell_type": "code",
   "execution_count": 94,
   "id": "anticipated-imaging",
   "metadata": {},
   "outputs": [],
   "source": [
    "nettcr_results_df = pd.read_csv('../../results/nettcr.csv')\n",
    "ergo_results_df = pd.read_csv('../../results/ergo.csv')"
   ]
  },
  {
   "cell_type": "code",
   "execution_count": 95,
   "id": "computational-bookmark",
   "metadata": {},
   "outputs": [],
   "source": [
    "nettcr_results_df = nettcr_results_df.rename(columns={'ds_seed': 'dataset', 'set': 'subset' })\n",
    "nettcr_results_df.dataset = 'dataset_' + nettcr_results_df.dataset.astype(str)\n",
    "nettcr_results_df.n = nettcr_results_df.n.astype(int)"
   ]
  },
  {
   "cell_type": "code",
   "execution_count": 96,
   "id": "geological-agriculture",
   "metadata": {},
   "outputs": [],
   "source": [
    "ergo_results_df = ergo_results_df.rename(columns={'ds_seed': 'dataset', 'set': 'subset' })\n",
    "ergo_results_df.dataset = 'dataset_' + ergo_results_df.dataset.astype(str)\n",
    "ergo_results_df.n = ergo_results_df.n.astype(int)"
   ]
  },
  {
   "cell_type": "code",
   "execution_count": 97,
   "id": "collectible-series",
   "metadata": {},
   "outputs": [
    {
     "data": {
      "text/html": [
       "<div>\n",
       "<style scoped>\n",
       "    .dataframe tbody tr th:only-of-type {\n",
       "        vertical-align: middle;\n",
       "    }\n",
       "\n",
       "    .dataframe tbody tr th {\n",
       "        vertical-align: top;\n",
       "    }\n",
       "\n",
       "    .dataframe thead th {\n",
       "        text-align: right;\n",
       "    }\n",
       "</style>\n",
       "<table border=\"1\" class=\"dataframe\">\n",
       "  <thead>\n",
       "    <tr style=\"text-align: right;\">\n",
       "      <th></th>\n",
       "      <th>rocs</th>\n",
       "      <th>n</th>\n",
       "      <th>peptide</th>\n",
       "      <th>cv_seed</th>\n",
       "      <th>dataset</th>\n",
       "      <th>mask</th>\n",
       "      <th>subset</th>\n",
       "    </tr>\n",
       "  </thead>\n",
       "  <tbody>\n",
       "    <tr>\n",
       "      <th>0</th>\n",
       "      <td>0.471301</td>\n",
       "      <td>244</td>\n",
       "      <td>CTELKLSDY</td>\n",
       "      <td>42</td>\n",
       "      <td>dataset_42</td>\n",
       "      <td>False</td>\n",
       "      <td>test</td>\n",
       "    </tr>\n",
       "    <tr>\n",
       "      <th>1</th>\n",
       "      <td>0.526488</td>\n",
       "      <td>886</td>\n",
       "      <td>EIYKRWII</td>\n",
       "      <td>42</td>\n",
       "      <td>dataset_42</td>\n",
       "      <td>False</td>\n",
       "      <td>test</td>\n",
       "    </tr>\n",
       "    <tr>\n",
       "      <th>2</th>\n",
       "      <td>0.590462</td>\n",
       "      <td>1330</td>\n",
       "      <td>FRCPRRFCF</td>\n",
       "      <td>42</td>\n",
       "      <td>dataset_42</td>\n",
       "      <td>False</td>\n",
       "      <td>test</td>\n",
       "    </tr>\n",
       "    <tr>\n",
       "      <th>3</th>\n",
       "      <td>0.600000</td>\n",
       "      <td>12</td>\n",
       "      <td>GEIYKRWII</td>\n",
       "      <td>42</td>\n",
       "      <td>dataset_42</td>\n",
       "      <td>False</td>\n",
       "      <td>test</td>\n",
       "    </tr>\n",
       "    <tr>\n",
       "      <th>4</th>\n",
       "      <td>0.656535</td>\n",
       "      <td>783</td>\n",
       "      <td>IPSINVHHY</td>\n",
       "      <td>42</td>\n",
       "      <td>dataset_42</td>\n",
       "      <td>False</td>\n",
       "      <td>test</td>\n",
       "    </tr>\n",
       "  </tbody>\n",
       "</table>\n",
       "</div>"
      ],
      "text/plain": [
       "       rocs     n    peptide  cv_seed     dataset   mask subset\n",
       "0  0.471301   244  CTELKLSDY       42  dataset_42  False   test\n",
       "1  0.526488   886   EIYKRWII       42  dataset_42  False   test\n",
       "2  0.590462  1330  FRCPRRFCF       42  dataset_42  False   test\n",
       "3  0.600000    12  GEIYKRWII       42  dataset_42  False   test\n",
       "4  0.656535   783  IPSINVHHY       42  dataset_42  False   test"
      ]
     },
     "execution_count": 97,
     "metadata": {},
     "output_type": "execute_result"
    }
   ],
   "source": [
    "ergo_results_df.head()"
   ]
  },
  {
   "cell_type": "code",
   "execution_count": 98,
   "id": "lesser-links",
   "metadata": {},
   "outputs": [],
   "source": [
    "for dataset in ['dataset_42', 'dataset_43', 'dataset_44']:\n",
    "    for cv_seed in range(42, 63):\n",
    "        for mask in [True, False]:\n",
    "            for subset in ['test', 'cancer']:\n",
    "                r1 = bertrand_results_df[\n",
    "                    (bertrand_results_df.dataset == dataset) & \n",
    "                    (bertrand_results_df.cv_seed == cv_seed) & \n",
    "                    (bertrand_results_df['mask'] == mask)  & \n",
    "                    (bertrand_results_df['subset'] == subset)\n",
    "                ]\n",
    "\n",
    "                r2 = nettcr_results_df[\n",
    "                    (nettcr_results_df.dataset == dataset) & \n",
    "                    (nettcr_results_df.cv_seed == cv_seed) & \n",
    "                    (nettcr_results_df['mask'] == mask)  & \n",
    "                    (nettcr_results_df['subset'] == subset)\n",
    "                ]\n",
    "                r3 = ergo_results_df[\n",
    "                    (ergo_results_df.dataset == dataset) & \n",
    "                    (ergo_results_df.cv_seed == cv_seed) & \n",
    "                    (ergo_results_df['mask'] == mask)  & \n",
    "                    (ergo_results_df['subset'] == subset)\n",
    "                ]\n",
    "            if len(r1) != len(r2) or len(r1) != len(r3) or (np.unique(r1.peptide) != np.unique(r2.peptide)).all() or (np.unique(r1.peptide) != np.unique(r3.peptide)).all():\n",
    "                raise Exception()"
   ]
  },
  {
   "cell_type": "code",
   "execution_count": 99,
   "id": "consolidated-screw",
   "metadata": {},
   "outputs": [],
   "source": [
    "bertrand_results_df.loc[:, 'model'] = 'BERTrand' \n",
    "ergo_results_df.loc[:, 'model'] = 'ERGO' \n",
    "nettcr_results_df.loc[:, 'model'] = 'NetTCR2.0' "
   ]
  },
  {
   "cell_type": "code",
   "execution_count": 100,
   "id": "warming-portland",
   "metadata": {},
   "outputs": [],
   "source": [
    "results_df = pd.concat([bertrand_results_df, ergo_results_df, nettcr_results_df])"
   ]
  },
  {
   "cell_type": "code",
   "execution_count": 101,
   "id": "isolated-stretch",
   "metadata": {},
   "outputs": [],
   "source": [
    "results_df.loc[:, 'subset'] = results_df['subset'].map({'test': 'Cross validation test set', 'cancer': 'Independent cancer set'})\n",
    "results_df.loc[:, 'mask'] = results_df['mask'].map({False: 'Basic filtering', True: 'Easy negatives filtering'})"
   ]
  },
  {
   "cell_type": "code",
   "execution_count": 102,
   "id": "virgin-rally",
   "metadata": {},
   "outputs": [
    {
     "data": {
      "text/html": [
       "<div>\n",
       "<style scoped>\n",
       "    .dataframe tbody tr th:only-of-type {\n",
       "        vertical-align: middle;\n",
       "    }\n",
       "\n",
       "    .dataframe tbody tr th {\n",
       "        vertical-align: top;\n",
       "    }\n",
       "\n",
       "    .dataframe thead th {\n",
       "        text-align: right;\n",
       "    }\n",
       "</style>\n",
       "<table border=\"1\" class=\"dataframe\">\n",
       "  <thead>\n",
       "    <tr style=\"text-align: right;\">\n",
       "      <th></th>\n",
       "      <th>rocs</th>\n",
       "      <th>n</th>\n",
       "      <th>peptide</th>\n",
       "      <th>cv_seed</th>\n",
       "      <th>dataset</th>\n",
       "      <th>subset</th>\n",
       "      <th>mask</th>\n",
       "      <th>model</th>\n",
       "    </tr>\n",
       "  </thead>\n",
       "  <tbody>\n",
       "    <tr>\n",
       "      <th>0</th>\n",
       "      <td>0.588435</td>\n",
       "      <td>48</td>\n",
       "      <td>CTELKLSDY</td>\n",
       "      <td>42</td>\n",
       "      <td>dataset_42</td>\n",
       "      <td>Cross validation test set</td>\n",
       "      <td>Easy negatives filtering</td>\n",
       "      <td>BERTrand</td>\n",
       "    </tr>\n",
       "    <tr>\n",
       "      <th>1</th>\n",
       "      <td>0.597031</td>\n",
       "      <td>176</td>\n",
       "      <td>EIYKRWII</td>\n",
       "      <td>42</td>\n",
       "      <td>dataset_42</td>\n",
       "      <td>Cross validation test set</td>\n",
       "      <td>Easy negatives filtering</td>\n",
       "      <td>BERTrand</td>\n",
       "    </tr>\n",
       "  </tbody>\n",
       "</table>\n",
       "</div>"
      ],
      "text/plain": [
       "       rocs    n    peptide  cv_seed     dataset                     subset  \\\n",
       "0  0.588435   48  CTELKLSDY       42  dataset_42  Cross validation test set   \n",
       "1  0.597031  176   EIYKRWII       42  dataset_42  Cross validation test set   \n",
       "\n",
       "                       mask     model  \n",
       "0  Easy negatives filtering  BERTrand  \n",
       "1  Easy negatives filtering  BERTrand  "
      ]
     },
     "execution_count": 102,
     "metadata": {},
     "output_type": "execute_result"
    }
   ],
   "source": [
    "results_df.head(2)"
   ]
  },
  {
   "cell_type": "code",
   "execution_count": 103,
   "id": "sunrise-bandwidth",
   "metadata": {},
   "outputs": [
    {
     "data": {
      "text/html": [
       "<div>\n",
       "<style scoped>\n",
       "    .dataframe tbody tr th:only-of-type {\n",
       "        vertical-align: middle;\n",
       "    }\n",
       "\n",
       "    .dataframe tbody tr th {\n",
       "        vertical-align: top;\n",
       "    }\n",
       "\n",
       "    .dataframe thead th {\n",
       "        text-align: right;\n",
       "    }\n",
       "</style>\n",
       "<table border=\"1\" class=\"dataframe\">\n",
       "  <thead>\n",
       "    <tr style=\"text-align: right;\">\n",
       "      <th></th>\n",
       "      <th>mask</th>\n",
       "      <th>Basic filtering</th>\n",
       "      <th>Easy negatives filtering</th>\n",
       "    </tr>\n",
       "    <tr>\n",
       "      <th>model</th>\n",
       "      <th>subset</th>\n",
       "      <th></th>\n",
       "      <th></th>\n",
       "    </tr>\n",
       "  </thead>\n",
       "  <tbody>\n",
       "    <tr>\n",
       "      <th rowspan=\"2\" valign=\"top\">BERTrand</th>\n",
       "      <th>Cross validation test set</th>\n",
       "      <td>0.681255</td>\n",
       "      <td>0.681255</td>\n",
       "    </tr>\n",
       "    <tr>\n",
       "      <th>Independent cancer set</th>\n",
       "      <td>0.719264</td>\n",
       "      <td>0.719264</td>\n",
       "    </tr>\n",
       "    <tr>\n",
       "      <th rowspan=\"2\" valign=\"top\">ERGO</th>\n",
       "      <th>Cross validation test set</th>\n",
       "      <td>0.654468</td>\n",
       "      <td>0.577079</td>\n",
       "    </tr>\n",
       "    <tr>\n",
       "      <th>Independent cancer set</th>\n",
       "      <td>0.668119</td>\n",
       "      <td>0.586522</td>\n",
       "    </tr>\n",
       "    <tr>\n",
       "      <th rowspan=\"2\" valign=\"top\">NetTCR2.0</th>\n",
       "      <th>Cross validation test set</th>\n",
       "      <td>0.629726</td>\n",
       "      <td>0.569234</td>\n",
       "    </tr>\n",
       "    <tr>\n",
       "      <th>Independent cancer set</th>\n",
       "      <td>0.645300</td>\n",
       "      <td>0.578768</td>\n",
       "    </tr>\n",
       "  </tbody>\n",
       "</table>\n",
       "</div>"
      ],
      "text/plain": [
       "mask                                 Basic filtering  Easy negatives filtering\n",
       "model     subset                                                              \n",
       "BERTrand  Cross validation test set         0.681255                  0.681255\n",
       "          Independent cancer set            0.719264                  0.719264\n",
       "ERGO      Cross validation test set         0.654468                  0.577079\n",
       "          Independent cancer set            0.668119                  0.586522\n",
       "NetTCR2.0 Cross validation test set         0.629726                  0.569234\n",
       "          Independent cancer set            0.645300                  0.578768"
      ]
     },
     "execution_count": 103,
     "metadata": {},
     "output_type": "execute_result"
    }
   ],
   "source": [
    "results_df[results_df.n >= 5].groupby(['model', 'subset', 'mask']).rocs.agg('mean').unstack()"
   ]
  },
  {
   "cell_type": "code",
   "execution_count": 107,
   "id": "brown-jurisdiction",
   "metadata": {},
   "outputs": [],
   "source": [
    "results_df_agg = results_df[results_df.n >= 5].groupby(['model', \n",
    "                                                        'subset',\n",
    "                                                        'mask',\n",
    "                                                        'dataset', \n",
    "                                                        'cv_seed']).rocs.agg(['mean', 'std']).reset_index()"
   ]
  },
  {
   "cell_type": "code",
   "execution_count": 108,
   "id": "earlier-pledge",
   "metadata": {},
   "outputs": [],
   "source": [
    "results_df_agg.rename(columns={'mean': 'roc', 'std': 'roc_std'}, inplace=True)"
   ]
  },
  {
   "cell_type": "code",
   "execution_count": 1,
   "id": "equipped-scott",
   "metadata": {},
   "outputs": [
    {
     "ename": "NameError",
     "evalue": "name 'bertrand_results_df' is not defined",
     "output_type": "error",
     "traceback": [
      "\u001b[0;31m---------------------------------------------------------------------------\u001b[0m",
      "\u001b[0;31mNameError\u001b[0m                                 Traceback (most recent call last)",
      "Input \u001b[0;32mIn [1]\u001b[0m, in \u001b[0;36m<cell line: 2>\u001b[0;34m()\u001b[0m\n\u001b[1;32m      1\u001b[0m \u001b[38;5;66;03m# Data for cancer peptides plot\u001b[39;00m\n\u001b[0;32m----> 2\u001b[0m pep_res_df \u001b[38;5;241m=\u001b[39m \u001b[43mbertrand_results_df\u001b[49m[(bertrand_results_df[\u001b[38;5;124m'\u001b[39m\u001b[38;5;124mmask\u001b[39m\u001b[38;5;124m'\u001b[39m] \u001b[38;5;241m==\u001b[39m \u001b[38;5;28;01mTrue\u001b[39;00m) \u001b[38;5;241m&\u001b[39m\n\u001b[1;32m      3\u001b[0m                                  (bertrand_results_df[\u001b[38;5;124m'\u001b[39m\u001b[38;5;124msubset\u001b[39m\u001b[38;5;124m'\u001b[39m] \u001b[38;5;241m==\u001b[39m \u001b[38;5;124m'\u001b[39m\u001b[38;5;124mcancer\u001b[39m\u001b[38;5;124m'\u001b[39m) \u001b[38;5;241m&\u001b[39m \n\u001b[1;32m      4\u001b[0m                                  (bertrand_results_df[\u001b[38;5;124m'\u001b[39m\u001b[38;5;124mn\u001b[39m\u001b[38;5;124m'\u001b[39m] \u001b[38;5;241m>\u001b[39m\u001b[38;5;241m=\u001b[39m \u001b[38;5;241m5\u001b[39m)\n\u001b[1;32m      5\u001b[0m                                 ]\u001b[38;5;241m.\u001b[39mcopy()\n\u001b[1;32m      6\u001b[0m \u001b[38;5;66;03m# Extract info about peptide clusters\u001b[39;00m\n\u001b[1;32m      7\u001b[0m df_1 \u001b[38;5;241m=\u001b[39m pd\u001b[38;5;241m.\u001b[39mread_csv(\u001b[38;5;124m'\u001b[39m\u001b[38;5;124m../../results/negative_decoys/datasets/dataset_42.csv.gz\u001b[39m\u001b[38;5;124m'\u001b[39m)\n",
      "\u001b[0;31mNameError\u001b[0m: name 'bertrand_results_df' is not defined"
     ]
    }
   ],
   "source": [
    "# Data for cancer peptides plot\n",
    "pep_res_df = bertrand_results_df[(bertrand_results_df['mask'] == True) &\n",
    "                                 (bertrand_results_df['subset'] == 'cancer') & \n",
    "                                 (bertrand_results_df['n'] >= 5)\n",
    "                                ].copy()\n",
    "# Extract info about peptide clusters\n",
    "df_1 = pd.read_csv('../../results/negative_decoys/datasets/dataset_42.csv.gz')\n",
    "pep_to_cluster = df_1.groupby('peptide_seq').peptide_cluster.agg('first')\n",
    "pep_res_df.loc[:, 'peptide_cluster'] = pep_to_cluster.loc[pep_res_df.peptide].values\n",
    "n_by_cluster = pep_res_df.groupby('peptide').agg('first').groupby('peptide_cluster').n.sum()\n",
    "pep_res_df.loc[:, 'peptide_cluster_n'] = n_by_cluster.loc[pep_res_df.peptide_cluster].values\n",
    "pep_res_df.sort_values(['peptide_cluster_n', 'n'], ascending=[False, False], inplace=True)\n",
    "pep_res_df.loc[:, 'Peptide'] = pep_res_df.peptide + ' (n=' + pep_res_df.n.astype(str) + ')'# + pep_res_df.peptide_cluster\n",
    "pep_res_df.loc[:, 'AUROC'] = pep_res_df.rocs\n",
    "peptide_order = pep_res_df.groupby('peptide').n.agg('first').sort_values(ascending=False)\n",
    "\n",
    "N = 30\n",
    "pep_res_df_head = pep_res_df[pep_res_df.peptide.isin(peptide_order.head(N).index)]\n",
    "\n",
    "pep_res_mean = pep_res_df_head.groupby('Peptide', sort=False).agg({\n",
    "    'AUROC': ['mean', 'std'],\n",
    "    'peptide_cluster': 'first',\n",
    "})\n",
    "\n",
    "cancer_means = pep_res_mean.AUROC['mean']\n",
    "cancer_stds = pep_res_mean.AUROC['std']\n",
    "total_mean_std = pep_res_df.groupby(['cv_seed', 'dataset']).rocs.agg(['mean', 'std']).mean(axis=0)\n",
    "cancer_means.loc['TOTAL'] = total_mean_std['mean']\n",
    "cancer_stds.loc['TOTAL'] = total_mean_std['std']"
   ]
  },
  {
   "cell_type": "code",
   "execution_count": 85,
   "id": "floating-writer",
   "metadata": {},
   "outputs": [],
   "source": [
    "def plot_peptides(ax):\n",
    "    \"\"\"\n",
    "    plots per-peptide vertical barplot - subplot E\n",
    "    \"\"\"\n",
    "    ax.barh(cancer_means.index[-1], cancer_means.iloc[-1],  xerr=cancer_stds.iloc[-1], capsize=5, color='#53A40D',height=0.75)\n",
    "    ax.barh(cancer_means.index[::-1][1:], cancer_means[::-1][1:],  xerr=cancer_stds[::-1][1:], capsize=3, color='#1F77B4', height=0.75)\n",
    "    ax.vlines(0.5, -1, N+1, color='red', linestyle='--')\n",
    "    ax.set_xlim(0.2, 1.0)"
   ]
  },
  {
   "cell_type": "code",
   "execution_count": null,
   "id": "presidential-haiti",
   "metadata": {},
   "outputs": [],
   "source": [
    "def plot_benchmarks(x, y, yerr, **kwargs):\n",
    "    \"\"\"\n",
    "    plots 1 barplot - subplots A, B, C, D\n",
    "    \"\"\"\n",
    "    ax = plt.gca()\n",
    "    data = kwargs.pop(\"data\")\n",
    "    kwargs.pop('color')\n",
    "    sns.barplot(data=data, x=x, y=y, ax=ax, capsize=0.1, ci='sd', **kwargs,\n",
    "                order=['NetTCR2.0', 'ERGO', 'BERTrand'], \n",
    "                palette=['#EF553B', '#1F77B4', '#53A40D'])\n",
    "    auroc_mean = data.groupby('model')[y].agg('mean')\n",
    "    auroc_mean = auroc_mean.loc[['NetTCR2.0', 'ERGO', 'BERTrand']]\n",
    "    for i, roc in enumerate(auroc_mean):\n",
    "        text  = '%.2f' % roc\n",
    "        ax.text(i, 0.3,  text, color='white', fontweight='bold', fontsize=15, ha='center', va='center')\n",
    "    ax.hlines(0.5, -0.5, 2.5, color='red', linestyle='--')"
   ]
  },
  {
   "cell_type": "code",
   "execution_count": 86,
   "id": "korean-understanding",
   "metadata": {},
   "outputs": [
    {
     "data": {
      "image/png": "[encoded data removed]",
      "text/plain": [
       "<Figure size 1008x720 with 7 Axes>"
      ]
     },
     "metadata": {
      "needs_background": "light"
     },
     "output_type": "display_data"
    }
   ],
   "source": [
    "\n",
    "        \n",
    "\n",
    "g = sns.FacetGrid(results_df_agg, col=\"mask\", row=\"dataset\", col_order=['Easy negatives filtering', 'Basic filtering'], )\n",
    "g.map_dataframe(errplot, \"model\", \"roc\", \"roc_std\")\n",
    "\n",
    "g.set_titles(template=\"{row_name}\\n{col_name}\", size=14) # {row_name}\\n{col_name}\n",
    "[plt.setp(ax.get_xticklabels(), rotation=0, fontsize=16) for ax in g.axes.flat]\n",
    "[ax.set_xlabel('') for ax in g.axes.flat]\n",
    "g.axes[0, 0].set_ylabel('AUROC', fontsize=12)\n",
    "g.axes[1, 0].set_ylabel('AUROC', fontsize=12)\n",
    "\n",
    "\n",
    "\n",
    "for ax, letter in zip(g.axes.flat, [\"A\",\"B\", \"C\",\"D\"]):\n",
    "    ax.text(-0.4, 0.75 ,letter, fontweight=\"bold\", fontsize=20)\n",
    "\n",
    "\n",
    "g.figure.subplots_adjust(bottom=0.07, left=0.07, right=0.7)\n",
    "\n",
    "\n",
    "\n",
    "# g.figure.subplots_adjust()\n",
    "ax = g.figure.add_axes([0.85, 0.07, 0.3, 0.85], label='axis1')\n",
    "ax.text(-0.1, 33.1, \"E\",fontweight=\"bold\", fontsize=20)\n",
    "\n",
    "plot_barh(ax)\n",
    "ax.set_title('Results for different\\ncancer peptides', fontsize=14)\n",
    "g.figure.set_size_inches(14, 10)\n",
    "# from matplotlib.transforms import Bbox\n",
    "# g.figure.savefig('comparison.png', bbox_inches=\"tight\")\n",
    "\n",
    "plt.savefig('comparison.eps', format='eps', bbox_inches=\"tight\")\n"
   ]
  },
  {
   "cell_type": "code",
   "execution_count": null,
   "id": "occupational-weekend",
   "metadata": {},
   "outputs": [],
   "source": []
  },
  {
   "cell_type": "code",
   "execution_count": null,
   "id": "according-annex",
   "metadata": {},
   "outputs": [],
   "source": []
  }
 ],
 "metadata": {
  "kernelspec": {
   "display_name": "Python 3 (ipykernel)",
   "language": "python",
   "name": "python3"
  },
  "language_info": {
   "codemirror_mode": {
    "name": "ipython",
    "version": 3
   },
   "file_extension": ".py",
   "mimetype": "text/x-python",
   "name": "python",
   "nbconvert_exporter": "python",
   "pygments_lexer": "ipython3",
   "version": "3.10.4"
  }
 },
 "nbformat": 4,
 "nbformat_minor": 5
}
