{
 "cells": [
  {
   "cell_type": "code",
   "execution_count": 110,
   "id": "legislative-appearance",
   "metadata": {},
   "outputs": [],
   "source": [
    "%load_ext autoreload\n",
    "%autoreload 2"
   ]
  },
  {
   "cell_type": "code",
   "execution_count": 1,
   "id": "cooperative-premises",
   "metadata": {},
   "outputs": [],
   "source": [
    "import pandas as pd\n",
    "import numpy as np\n",
    "\n",
    "from matplotlib import pyplot as plt\n",
    "import seaborn as sns\n",
    "from collections import defaultdict"
   ]
  },
  {
   "cell_type": "code",
   "execution_count": 2,
   "id": "southeast-calculator",
   "metadata": {},
   "outputs": [],
   "source": [
    "import sys\n",
    "import os\n",
    "from glob import glob"
   ]
  },
  {
   "cell_type": "code",
   "execution_count": 3,
   "id": "leading-shore",
   "metadata": {},
   "outputs": [],
   "source": [
    "sys.path.append('../../')"
   ]
  },
  {
   "cell_type": "code",
   "execution_count": 111,
   "id": "billion-briefing",
   "metadata": {},
   "outputs": [],
   "source": [
    "from bertrand.training.evaluate import get_epochs_to_step, PeptideTCRDataset, metrics_per_epoch, aggregate_metrics_per_epoch"
   ]
  },
  {
   "cell_type": "code",
   "execution_count": 138,
   "id": "spoken-classification",
   "metadata": {},
   "outputs": [],
   "source": [
    "from bertrand.training.metrics import mean_auroc_per_peptide_cluster_probs\n",
    "from typing import List, Tuple\n",
    "import torch\n",
    "def metrics_per_epoch2(\n",
    "    pred_list: List[Tuple[np.ndarray, np.ndarray]],\n",
    "    val_dataset: PeptideTCRDataset,\n",
    "    subset: str,\n",
    "    peptide_col: str = \"peptide_seq\",\n",
    ") -> pd.DataFrame:\n",
    "    \"\"\"\n",
    "    Computes AUROC for every peptide for every epoch\n",
    "    :param pred_list: list of predictions for every epoch\n",
    "    :param val_dataset: dataset to evaluate on\n",
    "    :param subset: subset of the dataset (can be `val` or `test`)\n",
    "    :param peptide_col: name of the column for peptide group (can be `peptide_seq` or `peptide_cluster`)\n",
    "    :return: dataframe of AUROC values of shape (n_epochs, n_peptides)\n",
    "    \"\"\"\n",
    "    rocs_list = []\n",
    "    n = None\n",
    "    for i, (predictions, labels) in enumerate(pred_list):\n",
    "#         print(predictions.shape, labels.shape, (val_dataset.examples.split == subset).shape)\n",
    "        epoch_results_val = mean_auroc_per_peptide_cluster_probs(\n",
    "            labels, \n",
    "            predictions,\n",
    "            val_dataset.examples[peptide_col],\n",
    "            val_dataset.examples.split == subset,\n",
    "            agg=False,\n",
    "        )\n",
    "#         print(epoch_results_val.head())\n",
    "        epoch_results_val = epoch_results_val[(epoch_results_val.n >= 5) & (epoch_results_val.nn >= 5)]\n",
    "        n = epoch_results_val.set_index(\"peptide\").n\n",
    "        epoch_results_val = epoch_results_val.set_index(\"peptide\").rocs\n",
    "        epoch_results_val.name = i\n",
    "        rocs_list.append(epoch_results_val)\n",
    "\n",
    "    results_val = pd.concat(rocs_list, axis=1)\n",
    "    results_val[\"n\"] = n\n",
    "    results_val = (\n",
    "        results_val.reset_index()\n",
    "        .sort_values(by=\"n\", ascending=False)\n",
    "        .set_index([\"peptide\", \"n\"])\n",
    "    )\n",
    "    return results_val"
   ]
  },
  {
   "cell_type": "code",
   "execution_count": null,
   "id": "professional-converter",
   "metadata": {},
   "outputs": [],
   "source": []
  },
  {
   "cell_type": "code",
   "execution_count": null,
   "id": "british-blood",
   "metadata": {},
   "outputs": [],
   "source": []
  },
  {
   "cell_type": "code",
   "execution_count": 180,
   "id": "thick-visiting",
   "metadata": {},
   "outputs": [],
   "source": [
    "p = [0, 20, 40, 60, 80, 100]"
   ]
  },
  {
   "cell_type": "code",
   "execution_count": 181,
   "id": "asian-debate",
   "metadata": {},
   "outputs": [],
   "source": [
    "def get_test_metric_per_epoch(model_dir, dataset):\n",
    "    cv_seed = int(os.path.split(model_dir)[-1].replace(\"cv_seed=\", \"\"))\n",
    "    epochs_to_step = get_epochs_to_step(model_dir)\n",
    "\n",
    "    val_test_dataset = PeptideTCRDataset(dataset, cv_seed, \"val+test\")\n",
    "    # cancer_dataset = PeptideTCRDataset(dataset, cv_seed, \"cancer\")\n",
    "\n",
    "    pred_fn = os.path.join(model_dir, \"predictions.pkl\")\n",
    "    pred_list = pd.read_pickle(pred_fn)\n",
    "\n",
    "    rocs_val = metrics_per_epoch(pred_list, val_test_dataset, subset=\"val\")\n",
    "    weighted_average_val, average_val, std_val = aggregate_metrics_per_epoch(rocs_val)\n",
    "    best_epoch = weighted_average_val.idxmax()\n",
    "    \n",
    "    rocs_test = metrics_per_epoch(pred_list, val_test_dataset, subset=\"test\")\n",
    "    weighted_average_test, average_test, std_test = aggregate_metrics_per_epoch(rocs_test)\n",
    "    \n",
    "    results = []\n",
    "    t1 = 0\n",
    "    t2 = 100\n",
    "    results.append({\n",
    "            \"score\": average_test.iloc[best_epoch], \n",
    "            \"t1\": t1,\n",
    "            \"t2\": t2,\n",
    "            \"percentile\": f\"0-100\",\n",
    "            \n",
    "        })\n",
    "    \n",
    "    \n",
    "\n",
    "    ds = val_test_dataset.examples\n",
    "    avg_dist = ds.loc[ds.y == 0, 'avg_pos_dist']\n",
    "    \n",
    "    thresholds = np.percentile(avg_dist, p)\n",
    "    # avg_dist.hist(bins=20)\n",
    "    # plt.show()\n",
    "    \n",
    "    \n",
    "    def score_subset(mask1):\n",
    "        dataset_1 = ds[mask1]\n",
    "        val_test_dataset.examples = dataset_1.reset_index(drop=True)\n",
    "        pred_list_1 = []\n",
    "        for p in pred_list:\n",
    "            probs = torch.nn.functional.softmax(torch.tensor(p.predictions), 1).numpy()[:, 1]\n",
    "            pred_list_1.append((probs[mask1], p.label_ids[mask1]))\n",
    "\n",
    "        rocs_test = metrics_per_epoch2(pred_list_1, val_test_dataset, subset=\"test\")\n",
    "#         print(rocs_test.head())\n",
    "#         raise Exception()\n",
    "        weighted_average_test, average_test, std_test = aggregate_metrics_per_epoch(\n",
    "            rocs_test\n",
    "        )\n",
    "        return average_test.iloc[best_epoch]\n",
    "    \n",
    "    \n",
    "    \n",
    "    for i in range(len(thresholds)-1):\n",
    "        t1 = thresholds[i]\n",
    "        t2 = thresholds[i+1]\n",
    "#         print(t1, t2)\n",
    "        mask_neg = (ds.y == 0) & (ds.avg_pos_dist >= t1) & (ds.avg_pos_dist < t2)\n",
    "#         print(mask_neg.sum())\n",
    "\n",
    "#         closest_pos_CDR3b = ds.loc[mask_neg, 'closest_pos_CDR3b']\n",
    "#         mask_pos = (ds.y == 1) & ds.CDR3b.isin(closest_pos_CDR3b)\n",
    "        mask1 = mask_neg | (ds.y==1)\n",
    "#         mask2 = mask_neg | mask_pos\n",
    "#         mask3 = mask_neg | ((ds.y==1) & (~mask_pos))\n",
    "#         r = {\n",
    "#             \"rocs1\": score_subset(mask1),\n",
    "#             \"rocs2\": score_subset(mask2),\n",
    "#             \"rocs3\": score_subset(mask3),\n",
    "#         }\n",
    "        r = {\n",
    "            \"score\": score_subset(mask1), \n",
    "            \"t1\": t1,\n",
    "            \"t2\": t2,\n",
    "            \"percentile\": f\"{p[i]}-{p[i+1]}\",\n",
    "            \n",
    "        }\n",
    "        results.append(r)\n",
    "    return pd.DataFrame(results)"
   ]
  },
  {
   "cell_type": "code",
   "execution_count": 98,
   "id": "appointed-terry",
   "metadata": {},
   "outputs": [],
   "source": [
    "bertrand_results_per_epoch = defaultdict(list)"
   ]
  },
  {
   "cell_type": "code",
   "execution_count": 99,
   "id": "adapted-alpha",
   "metadata": {},
   "outputs": [],
   "source": [
    "results_dirs = {\n",
    "#     'baseline': '/mnt/storage2/olek/bertrand-rep3/training-nomlm/',\n",
    "    'pretrained': '/mnt/storage2/olek/bertrand-rep3/training-dean/'\n",
    "}"
   ]
  },
  {
   "cell_type": "code",
   "execution_count": 100,
   "id": "illegal-schema",
   "metadata": {},
   "outputs": [],
   "source": [
    "datasets_dir = '../../results/negative_decoys/datasets/'\n"
   ]
  },
  {
   "cell_type": "code",
   "execution_count": 101,
   "id": "italian-hybrid",
   "metadata": {},
   "outputs": [
    {
     "name": "stdout",
     "output_type": "stream",
     "text": [
      "bertrand-gdrive       bertrand-paper  bertrand-rep2  encodings\n",
      "bertrand-outputs.zip  bertrand-rep1   bertrand-rep3\n"
     ]
    }
   ],
   "source": [
    "!ls /mnt/storage2/olek"
   ]
  },
  {
   "cell_type": "code",
   "execution_count": 145,
   "id": "dental-holiday",
   "metadata": {
    "scrolled": true
   },
   "outputs": [
    {
     "name": "stdout",
     "output_type": "stream",
     "text": [
      "dataset_42\n",
      "pretrained\n",
      "/mnt/storage2/olek/bertrand-rep3/training-dean/dataset_42/cv_seed=42\n",
      "/mnt/storage2/olek/bertrand-rep3/training-dean/dataset_42/cv_seed=43\n",
      "/mnt/storage2/olek/bertrand-rep3/training-dean/dataset_42/cv_seed=44\n",
      "/mnt/storage2/olek/bertrand-rep3/training-dean/dataset_42/cv_seed=45\n",
      "dataset_43\n",
      "pretrained\n",
      "/mnt/storage2/olek/bertrand-rep3/training-dean/dataset_43/cv_seed=42\n",
      "/mnt/storage2/olek/bertrand-rep3/training-dean/dataset_43/cv_seed=43\n",
      "/mnt/storage2/olek/bertrand-rep3/training-dean/dataset_43/cv_seed=44\n",
      "/mnt/storage2/olek/bertrand-rep3/training-dean/dataset_43/cv_seed=45\n",
      "dataset_44\n",
      "pretrained\n",
      "/mnt/storage2/olek/bertrand-rep3/training-dean/dataset_44/cv_seed=42\n",
      "/mnt/storage2/olek/bertrand-rep3/training-dean/dataset_44/cv_seed=43\n",
      "/mnt/storage2/olek/bertrand-rep3/training-dean/dataset_44/cv_seed=44\n",
      "/mnt/storage2/olek/bertrand-rep3/training-dean/dataset_44/cv_seed=45\n"
     ]
    }
   ],
   "source": [
    "results_list = []\n",
    "for dataset_fn in sorted(glob(os.path.join(datasets_dir, \"*.csv.gz\"))):\n",
    "    dataset_name = os.path.basename(dataset_fn).replace(\".csv.gz\", \"\")\n",
    "    dataset = pd.read_csv(dataset_fn, low_memory=False)\n",
    "    print(dataset_name)\n",
    "    for model_name, results_dir in results_dirs.items():\n",
    "        dataset_results_dir = os.path.join(results_dir, dataset_name)\n",
    "        print(model_name)\n",
    "        for model_dir in sorted(glob(os.path.join(dataset_results_dir, \"cv_seed=*\"))):\n",
    "            print(model_dir)\n",
    "            cv_seed = int(os.path.split(model_dir)[-1].replace('cv_seed=', ''))\n",
    "            if cv_seed == 45:\n",
    "                break\n",
    "            results = get_test_metric_per_epoch(model_dir, dataset)\n",
    "            results['dataset'] = dataset_name\n",
    "            results['cv_seed'] = cv_seed\n",
    "            results_list.append(results)\n",
    "#             raise Exception()\n",
    "        break"
   ]
  },
  {
   "cell_type": "code",
   "execution_count": 146,
   "id": "dietary-prior",
   "metadata": {},
   "outputs": [],
   "source": [
    "results_df = pd.concat(results_list)"
   ]
  },
  {
   "cell_type": "code",
   "execution_count": 148,
   "id": "inside-stuart",
   "metadata": {},
   "outputs": [
    {
     "data": {
      "text/html": [
       "<div>\n",
       "<style scoped>\n",
       "    .dataframe tbody tr th:only-of-type {\n",
       "        vertical-align: middle;\n",
       "    }\n",
       "\n",
       "    .dataframe tbody tr th {\n",
       "        vertical-align: top;\n",
       "    }\n",
       "\n",
       "    .dataframe thead th {\n",
       "        text-align: right;\n",
       "    }\n",
       "</style>\n",
       "<table border=\"1\" class=\"dataframe\">\n",
       "  <thead>\n",
       "    <tr style=\"text-align: right;\">\n",
       "      <th></th>\n",
       "      <th>score</th>\n",
       "      <th>t1</th>\n",
       "      <th>t2</th>\n",
       "      <th>percentile</th>\n",
       "      <th>dataset</th>\n",
       "      <th>cv_seed</th>\n",
       "    </tr>\n",
       "  </thead>\n",
       "  <tbody>\n",
       "    <tr>\n",
       "      <th>2</th>\n",
       "      <td>0.593559</td>\n",
       "      <td>8.067278</td>\n",
       "      <td>8.568516</td>\n",
       "      <td>20-40</td>\n",
       "      <td>dataset_42</td>\n",
       "      <td>44</td>\n",
       "    </tr>\n",
       "  </tbody>\n",
       "</table>\n",
       "</div>"
      ],
      "text/plain": [
       "      score        t1        t2 percentile     dataset  cv_seed\n",
       "2  0.593559  8.067278  8.568516      20-40  dataset_42       44"
      ]
     },
     "execution_count": 148,
     "metadata": {},
     "output_type": "execute_result"
    }
   ],
   "source": [
    "results_df.sample()"
   ]
  },
  {
   "cell_type": "code",
   "execution_count": 149,
   "id": "sacred-traffic",
   "metadata": {},
   "outputs": [
    {
     "data": {
      "text/plain": [
       "0     0-100\n",
       "1      0-20\n",
       "2     20-40\n",
       "3     40-60\n",
       "4     60-80\n",
       "5    80-100\n",
       "Name: percentile, dtype: object"
      ]
     },
     "execution_count": 149,
     "metadata": {},
     "output_type": "execute_result"
    }
   ],
   "source": []
  },
  {
   "cell_type": "code",
   "execution_count": 155,
   "id": "active-likelihood",
   "metadata": {},
   "outputs": [],
   "source": [
    "# results_df"
   ]
  },
  {
   "cell_type": "code",
   "execution_count": 172,
   "id": "partial-certification",
   "metadata": {},
   "outputs": [
    {
     "data": {
      "text/html": [
       "<svg  width=\"330\" height=\"55\"><rect x=\"0\" y=\"0\" width=\"55\" height=\"55\" style=\"fill:#53a40d;stroke-width:2;stroke:rgb(255,255,255)\"/><rect x=\"55\" y=\"0\" width=\"55\" height=\"55\" style=\"fill:#5c9d24;stroke-width:2;stroke:rgb(255,255,255)\"/><rect x=\"110\" y=\"0\" width=\"55\" height=\"55\" style=\"fill:#65963b;stroke-width:2;stroke:rgb(255,255,255)\"/><rect x=\"165\" y=\"0\" width=\"55\" height=\"55\" style=\"fill:#6e8e52;stroke-width:2;stroke:rgb(255,255,255)\"/><rect x=\"220\" y=\"0\" width=\"55\" height=\"55\" style=\"fill:#778769;stroke-width:2;stroke:rgb(255,255,255)\"/><rect x=\"275\" y=\"0\" width=\"55\" height=\"55\" style=\"fill:#808080;stroke-width:2;stroke:rgb(255,255,255)\"/></svg>"
      ],
      "text/plain": [
       "[(0.3254901960784314, 0.6431372549019608, 0.050980392156862744),\n",
       " (0.3607843137254902, 0.6149019607843138, 0.1411764705882353),\n",
       " (0.39607843137254906, 0.5866666666666667, 0.23137254901960785),\n",
       " (0.43137254901960786, 0.5584313725490196, 0.32156862745098036),\n",
       " (0.4666666666666667, 0.5301960784313725, 0.411764705882353),\n",
       " (0.5019607843137255, 0.5019607843137255, 0.5019607843137255)]"
      ]
     },
     "execution_count": 172,
     "metadata": {},
     "output_type": "execute_result"
    }
   ],
   "source": []
  },
  {
   "cell_type": "code",
   "execution_count": 185,
   "id": "impaired-north",
   "metadata": {},
   "outputs": [
    {
     "data": {
      "text/plain": [
       "(0.0, 0.4455144594483986)"
      ]
     },
     "execution_count": 185,
     "metadata": {},
     "output_type": "execute_result"
    }
   ],
   "source": [
    "ax.get_ylim()"
   ]
  },
  {
   "cell_type": "code",
   "execution_count": 217,
   "id": "timely-midwest",
   "metadata": {},
   "outputs": [
    {
     "data": {
      "image/png": "[encoded data removed]",
      "text/plain": [
       "<Figure size 1400x600 with 2 Axes>"
      ]
     },
     "metadata": {},
     "output_type": "display_data"
    }
   ],
   "source": [
    "fig, axs = plt.subplots(ncols=2)\n",
    "ax = axs[0]\n",
    "\n",
    "sns.kdeplot(avg_dist, ax=axs[0])\n",
    "for i in range(len(p)):\n",
    "    t = np.percentile(avg_dist, p[i])\n",
    "    ymax = ax.get_ylim()[1]\n",
    "    ax.axvline(t, ymin=0, ymax=1, label=f'{p[i]}', color=plt.get_cmap('Greens')(1-i/10))\n",
    "ax.legend(title='percentile', loc='upper right', fontsize=15)\n",
    "ax.set_xlabel('Average distance to positive TCRs', fontsize=15)\n",
    "ax.set_ylabel('Density', fontsize=15)\n",
    "\n",
    "ax = axs[1]\n",
    "data = results_df\n",
    "x = \"percentile\"\n",
    "y = \"score\"\n",
    "x_order = list(results_df.percentile.drop_duplicates())\n",
    "\n",
    "sns.barplot(\n",
    "    data=data,\n",
    "    x=x,\n",
    "    y=y,\n",
    "    ax=ax,\n",
    "    capsize=0.1,\n",
    "    ci=\"sd\",\n",
    "    order=x_order,\n",
    "    palette=sns.color_palette(\"blend:#53A40D,grey\")\n",
    ")\n",
    "ax.set_xlabel('Percentile', fontsize=15)\n",
    "ax.set_ylabel('AUROC', fontsize=15)\n",
    "auroc_mean = data.groupby(x)[y].agg(\"mean\")\n",
    "auroc_mean = auroc_mean.reindex(x_order)\n",
    "for i, roc in enumerate(auroc_mean):\n",
    "    if np.isnan(roc):\n",
    "        continue\n",
    "    text = \"%.2f\" % roc\n",
    "    ax.text(\n",
    "            i, 0.3, text, color=\"white\", fontweight=\"bold\", fontsize=15, ha=\"center\", va=\"center\"\n",
    "        )\n",
    "    ax.hlines(0.5, -0.5, 5.5, color=\"red\", linestyle=\"--\")\n",
    "\n",
    "fig.set_size_inches(14, 6)\n",
    "fig.savefig('/home/ardigen/Desktop/doktorat/thesis/distance_auc.png', dpi=600)\n",
    "plt.show()"
   ]
  },
  {
   "cell_type": "code",
   "execution_count": null,
   "id": "saved-harmony",
   "metadata": {},
   "outputs": [],
   "source": []
  }
 ],
 "metadata": {
  "kernelspec": {
   "display_name": "doktor_trans",
   "language": "python",
   "name": "doktor_trans"
  },
  "language_info": {
   "codemirror_mode": {
    "name": "ipython",
    "version": 3
   },
   "file_extension": ".py",
   "mimetype": "text/x-python",
   "name": "python",
   "nbconvert_exporter": "python",
   "pygments_lexer": "ipython3",
   "version": "3.8.0"
  }
 },
 "nbformat": 4,
 "nbformat_minor": 5
}
